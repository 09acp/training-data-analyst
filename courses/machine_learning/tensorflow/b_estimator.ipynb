{
 "cells": [
  {
   "cell_type": "markdown",
   "metadata": {},
   "source": [
    "<h1> Machine Learning using tf.estimator </h1>\n",
    "\n",
    "In this notebook, we will create a machine learning model using tf.estimator and evaluate its performance.  The dataset is rather small (7700 samples), so we can do it all in-memory.  We will also simply pass the raw data in as-is. "
   ]
  },
  {
   "cell_type": "code",
   "execution_count": 1,
   "metadata": {},
   "outputs": [
    {
     "name": "stderr",
     "output_type": "stream",
     "text": [
      "/usr/local/envs/py3env/lib/python3.5/site-packages/h5py/__init__.py:36: FutureWarning: Conversion of the second argument of issubdtype from `float` to `np.floating` is deprecated. In future, it will be treated as `np.float64 == np.dtype(float).type`.\n",
      "  from ._conv import register_converters as _register_converters\n"
     ]
    },
    {
     "name": "stdout",
     "output_type": "stream",
     "text": [
      "1.8.0\n"
     ]
    }
   ],
   "source": [
    "import datalab.bigquery as bq\n",
    "import tensorflow as tf\n",
    "import pandas as pd\n",
    "import numpy as np\n",
    "import shutil\n",
    "\n",
    "print(tf.__version__)"
   ]
  },
  {
   "cell_type": "markdown",
   "metadata": {},
   "source": [
    "Read data created in the previous chapter."
   ]
  },
  {
   "cell_type": "code",
   "execution_count": 2,
   "metadata": {},
   "outputs": [],
   "source": [
    "# In CSV, label is the first column, after the features, followed by the key\n",
    "CSV_COLUMNS = ['fare_amount', 'pickuplon','pickuplat','dropofflon','dropofflat','passengers', 'key']\n",
    "FEATURES = CSV_COLUMNS[1:len(CSV_COLUMNS) - 1]\n",
    "LABEL = CSV_COLUMNS[0]\n",
    "\n",
    "df_train = pd.read_csv('./taxi-train.csv', header = None, names = CSV_COLUMNS)\n",
    "df_valid = pd.read_csv('./taxi-valid.csv', header = None, names = CSV_COLUMNS)"
   ]
  },
  {
   "cell_type": "markdown",
   "metadata": {},
   "source": [
    "<h2> Input function to read from Pandas Dataframe into tf.constant </h2>"
   ]
  },
  {
   "cell_type": "code",
   "execution_count": 3,
   "metadata": {},
   "outputs": [],
   "source": [
    "def make_input_fn(df, num_epochs):\n",
    "  return tf.estimator.inputs.pandas_input_fn(\n",
    "    x = df,\n",
    "    y = df[LABEL],\n",
    "    batch_size = 128,\n",
    "    num_epochs = num_epochs,\n",
    "    shuffle = True,\n",
    "    queue_capacity = 1000,\n",
    "    num_threads = 1\n",
    "  )"
   ]
  },
  {
   "cell_type": "markdown",
   "metadata": {},
   "source": [
    "### Create feature columns for estimator"
   ]
  },
  {
   "cell_type": "code",
   "execution_count": 4,
   "metadata": {},
   "outputs": [],
   "source": [
    "def make_feature_cols():\n",
    "  input_columns = [tf.feature_column.numeric_column(k) for k in FEATURES]\n",
    "  return input_columns"
   ]
  },
  {
   "cell_type": "markdown",
   "metadata": {},
   "source": [
    "<h3> Linear Regression with tf.Estimator framework </h3>"
   ]
  },
  {
   "cell_type": "code",
   "execution_count": 5,
   "metadata": {},
   "outputs": [
    {
     "name": "stdout",
     "output_type": "stream",
     "text": [
      "INFO:tensorflow:Using default config.\n",
      "INFO:tensorflow:Using config: {'_task_type': 'worker', '_save_checkpoints_secs': 600, '_train_distribute': None, '_keep_checkpoint_max': 5, '_keep_checkpoint_every_n_hours': 10000, '_num_ps_replicas': 0, '_global_id_in_cluster': 0, '_service': None, '_is_chief': True, '_task_id': 0, '_log_step_count_steps': 100, '_num_worker_replicas': 1, '_master': '', '_save_checkpoints_steps': None, '_model_dir': 'taxi_trained', '_evaluation_master': '', '_cluster_spec': <tensorflow.python.training.server_lib.ClusterSpec object at 0x7fc030d98cf8>, '_save_summary_steps': 100, '_session_config': None, '_tf_random_seed': None}\n",
      "INFO:tensorflow:Calling model_fn.\n",
      "INFO:tensorflow:Done calling model_fn.\n",
      "INFO:tensorflow:Create CheckpointSaverHook.\n",
      "INFO:tensorflow:Graph was finalized.\n",
      "INFO:tensorflow:Running local_init_op.\n",
      "INFO:tensorflow:Done running local_init_op.\n",
      "INFO:tensorflow:Saving checkpoints for 1 into taxi_trained/model.ckpt.\n",
      "INFO:tensorflow:step = 1, loss = 32400.918\n",
      "INFO:tensorflow:global_step/sec: 303.308\n",
      "INFO:tensorflow:step = 101, loss = 8000.502 (0.334 sec)\n",
      "INFO:tensorflow:global_step/sec: 376.811\n",
      "INFO:tensorflow:step = 201, loss = 3508.9067 (0.265 sec)\n",
      "INFO:tensorflow:global_step/sec: 386.946\n",
      "INFO:tensorflow:step = 301, loss = 14262.44 (0.258 sec)\n",
      "INFO:tensorflow:global_step/sec: 365.409\n",
      "INFO:tensorflow:step = 401, loss = 12081.6045 (0.274 sec)\n",
      "INFO:tensorflow:global_step/sec: 375.104\n",
      "INFO:tensorflow:step = 501, loss = 14173.471 (0.266 sec)\n",
      "INFO:tensorflow:global_step/sec: 371.413\n",
      "INFO:tensorflow:step = 601, loss = 13481.604 (0.270 sec)\n",
      "INFO:tensorflow:Saving checkpoints for 608 into taxi_trained/model.ckpt.\n",
      "INFO:tensorflow:Loss for final step: 94.63597.\n"
     ]
    },
    {
     "data": {
      "text/plain": [
       "<tensorflow.python.estimator.canned.linear.LinearRegressor at 0x7fc0527d80f0>"
      ]
     },
     "execution_count": 5,
     "metadata": {},
     "output_type": "execute_result"
    }
   ],
   "source": [
    "tf.logging.set_verbosity(tf.logging.INFO)\n",
    "\n",
    "OUTDIR = 'taxi_trained'\n",
    "shutil.rmtree(OUTDIR, ignore_errors = True) # start fresh each time\n",
    "\n",
    "model = tf.estimator.LinearRegressor(\n",
    "      feature_columns = make_feature_cols(), model_dir = OUTDIR)\n",
    "\n",
    "model.train(input_fn = make_input_fn(df_train, num_epochs = 10))"
   ]
  },
  {
   "cell_type": "markdown",
   "metadata": {},
   "source": [
    "Evaluate on the validation data (we should defer using the test data to after we have selected a final model)."
   ]
  },
  {
   "cell_type": "code",
   "execution_count": 6,
   "metadata": {},
   "outputs": [
    {
     "name": "stdout",
     "output_type": "stream",
     "text": [
      "INFO:tensorflow:Calling model_fn.\n",
      "INFO:tensorflow:Done calling model_fn.\n",
      "INFO:tensorflow:Starting evaluation at 2018-09-14-13:06:08\n",
      "INFO:tensorflow:Graph was finalized.\n",
      "INFO:tensorflow:Restoring parameters from taxi_trained/model.ckpt-608\n",
      "INFO:tensorflow:Running local_init_op.\n",
      "INFO:tensorflow:Done running local_init_op.\n",
      "INFO:tensorflow:Finished evaluation at 2018-09-14-13:06:08\n",
      "INFO:tensorflow:Saving dict for global step 608: average_loss = 109.877235, global_step = 608, loss = 13067.542\n",
      "RMSE on validation dataset = 10.482234001159668\n"
     ]
    }
   ],
   "source": [
    "def print_rmse(model, name, df):\n",
    "  metrics = model.evaluate(input_fn = make_input_fn(df, 1))\n",
    "  print('RMSE on {} dataset = {}'.format(name, np.sqrt(metrics['average_loss'])))\n",
    "print_rmse(model, 'validation', df_valid)"
   ]
  },
  {
   "cell_type": "markdown",
   "metadata": {},
   "source": [
    "This is nowhere near our benchmark (RMSE of $6 or so on this data), but it serves to demonstrate what TensorFlow code looks like.  Let's use this model for prediction."
   ]
  },
  {
   "cell_type": "code",
   "execution_count": 7,
   "metadata": {},
   "outputs": [
    {
     "name": "stdout",
     "output_type": "stream",
     "text": [
      "INFO:tensorflow:Using default config.\n",
      "INFO:tensorflow:Using config: {'_task_type': 'worker', '_save_checkpoints_secs': 600, '_train_distribute': None, '_keep_checkpoint_max': 5, '_keep_checkpoint_every_n_hours': 10000, '_num_ps_replicas': 0, '_global_id_in_cluster': 0, '_service': None, '_is_chief': True, '_task_id': 0, '_log_step_count_steps': 100, '_num_worker_replicas': 1, '_master': '', '_save_checkpoints_steps': None, '_model_dir': 'taxi_trained', '_evaluation_master': '', '_cluster_spec': <tensorflow.python.training.server_lib.ClusterSpec object at 0x7fbffc7d4a20>, '_save_summary_steps': 100, '_session_config': None, '_tf_random_seed': None}\n",
      "INFO:tensorflow:Calling model_fn.\n",
      "INFO:tensorflow:Done calling model_fn.\n",
      "INFO:tensorflow:Graph was finalized.\n",
      "INFO:tensorflow:Restoring parameters from taxi_trained/model.ckpt-608\n",
      "INFO:tensorflow:Running local_init_op.\n",
      "INFO:tensorflow:Done running local_init_op.\n",
      "[10.659606, 10.594632, 10.594856, 10.597364, 10.590588]\n"
     ]
    }
   ],
   "source": [
    "import itertools\n",
    "# Read saved model and use it for prediction\n",
    "model = tf.estimator.LinearRegressor(\n",
    "      feature_columns = make_feature_cols(), model_dir = OUTDIR)\n",
    "preds_iter = model.predict(input_fn = make_input_fn(df_valid, 1))\n",
    "print([pred['predictions'][0] for pred in list(itertools.islice(preds_iter, 5))])"
   ]
  },
  {
   "cell_type": "markdown",
   "metadata": {},
   "source": [
    "This explains why the RMSE was so high -- the model essentially predicts the same amount for every trip.  Would a more complex model help? Let's try using a deep neural network.  The code to do this is quite straightforward as well."
   ]
  },
  {
   "cell_type": "markdown",
   "metadata": {},
   "source": [
    "<h3> Deep Neural Network regression </h3>"
   ]
  },
  {
   "cell_type": "code",
   "execution_count": 8,
   "metadata": {},
   "outputs": [
    {
     "name": "stdout",
     "output_type": "stream",
     "text": [
      "INFO:tensorflow:Using default config.\n",
      "INFO:tensorflow:Using config: {'_task_type': 'worker', '_save_checkpoints_secs': 600, '_train_distribute': None, '_keep_checkpoint_max': 5, '_keep_checkpoint_every_n_hours': 10000, '_num_ps_replicas': 0, '_global_id_in_cluster': 0, '_service': None, '_is_chief': True, '_task_id': 0, '_log_step_count_steps': 100, '_num_worker_replicas': 1, '_master': '', '_save_checkpoints_steps': None, '_model_dir': 'taxi_trained', '_evaluation_master': '', '_cluster_spec': <tensorflow.python.training.server_lib.ClusterSpec object at 0x7fbffc641b38>, '_save_summary_steps': 100, '_session_config': None, '_tf_random_seed': None}\n",
      "INFO:tensorflow:Calling model_fn.\n",
      "INFO:tensorflow:Done calling model_fn.\n",
      "INFO:tensorflow:Create CheckpointSaverHook.\n",
      "INFO:tensorflow:Graph was finalized.\n",
      "INFO:tensorflow:Running local_init_op.\n",
      "INFO:tensorflow:Done running local_init_op.\n",
      "INFO:tensorflow:Saving checkpoints for 1 into taxi_trained/model.ckpt.\n",
      "INFO:tensorflow:step = 1, loss = 228030.19\n",
      "INFO:tensorflow:global_step/sec: 252.627\n",
      "INFO:tensorflow:step = 101, loss = 29712.207 (0.397 sec)\n",
      "INFO:tensorflow:global_step/sec: 304.172\n",
      "INFO:tensorflow:step = 201, loss = 26736.69 (0.329 sec)\n",
      "INFO:tensorflow:global_step/sec: 287.943\n",
      "INFO:tensorflow:step = 301, loss = 14436.529 (0.347 sec)\n",
      "INFO:tensorflow:global_step/sec: 334.613\n",
      "INFO:tensorflow:step = 401, loss = 19249.91 (0.300 sec)\n",
      "INFO:tensorflow:global_step/sec: 306.389\n",
      "INFO:tensorflow:step = 501, loss = 15882.191 (0.325 sec)\n",
      "INFO:tensorflow:global_step/sec: 292.96\n",
      "INFO:tensorflow:step = 601, loss = 27915.605 (0.342 sec)\n",
      "INFO:tensorflow:global_step/sec: 312.835\n",
      "INFO:tensorflow:step = 701, loss = 17278.102 (0.319 sec)\n",
      "INFO:tensorflow:global_step/sec: 336.223\n",
      "INFO:tensorflow:step = 801, loss = 23698.414 (0.298 sec)\n",
      "INFO:tensorflow:global_step/sec: 336.304\n",
      "INFO:tensorflow:step = 901, loss = 17592.156 (0.299 sec)\n",
      "INFO:tensorflow:global_step/sec: 321.434\n",
      "INFO:tensorflow:step = 1001, loss = 15081.668 (0.309 sec)\n",
      "INFO:tensorflow:global_step/sec: 331.081\n",
      "INFO:tensorflow:step = 1101, loss = 18003.69 (0.303 sec)\n",
      "INFO:tensorflow:global_step/sec: 340.752\n",
      "INFO:tensorflow:step = 1201, loss = 29070.652 (0.293 sec)\n",
      "INFO:tensorflow:global_step/sec: 300.537\n",
      "INFO:tensorflow:step = 1301, loss = 22005.605 (0.335 sec)\n",
      "INFO:tensorflow:global_step/sec: 360.127\n",
      "INFO:tensorflow:step = 1401, loss = 13715.374 (0.276 sec)\n",
      "INFO:tensorflow:global_step/sec: 304.437\n",
      "INFO:tensorflow:step = 1501, loss = 22781.984 (0.327 sec)\n",
      "INFO:tensorflow:global_step/sec: 320.229\n",
      "INFO:tensorflow:step = 1601, loss = 19082.61 (0.315 sec)\n",
      "INFO:tensorflow:global_step/sec: 360.141\n",
      "INFO:tensorflow:step = 1701, loss = 16273.189 (0.275 sec)\n",
      "INFO:tensorflow:global_step/sec: 320.762\n",
      "INFO:tensorflow:step = 1801, loss = 14347.625 (0.312 sec)\n",
      "INFO:tensorflow:global_step/sec: 312.135\n",
      "INFO:tensorflow:step = 1901, loss = 18054.271 (0.321 sec)\n",
      "INFO:tensorflow:global_step/sec: 358.043\n",
      "INFO:tensorflow:step = 2001, loss = 10629.086 (0.281 sec)\n",
      "INFO:tensorflow:global_step/sec: 376.97\n",
      "INFO:tensorflow:step = 2101, loss = 25445.969 (0.266 sec)\n",
      "INFO:tensorflow:global_step/sec: 377.893\n",
      "INFO:tensorflow:step = 2201, loss = 17345.549 (0.264 sec)\n",
      "INFO:tensorflow:global_step/sec: 404.425\n",
      "INFO:tensorflow:step = 2301, loss = 20316.186 (0.247 sec)\n",
      "INFO:tensorflow:global_step/sec: 386.258\n",
      "INFO:tensorflow:step = 2401, loss = 17554.271 (0.257 sec)\n",
      "INFO:tensorflow:global_step/sec: 337.252\n",
      "INFO:tensorflow:step = 2501, loss = 13316.6455 (0.299 sec)\n",
      "INFO:tensorflow:global_step/sec: 357.002\n",
      "INFO:tensorflow:step = 2601, loss = 23055.617 (0.280 sec)\n",
      "INFO:tensorflow:global_step/sec: 354.006\n",
      "INFO:tensorflow:step = 2701, loss = 17491.664 (0.281 sec)\n",
      "INFO:tensorflow:global_step/sec: 372.092\n",
      "INFO:tensorflow:step = 2801, loss = 12616.213 (0.268 sec)\n",
      "INFO:tensorflow:global_step/sec: 411.712\n",
      "INFO:tensorflow:step = 2901, loss = 14062.112 (0.244 sec)\n",
      "INFO:tensorflow:global_step/sec: 391.962\n",
      "INFO:tensorflow:step = 3001, loss = 11575.332 (0.255 sec)\n",
      "INFO:tensorflow:global_step/sec: 385.476\n",
      "INFO:tensorflow:step = 3101, loss = 18015.223 (0.258 sec)\n",
      "INFO:tensorflow:global_step/sec: 369.351\n",
      "INFO:tensorflow:step = 3201, loss = 13725.506 (0.273 sec)\n",
      "INFO:tensorflow:global_step/sec: 308.257\n",
      "INFO:tensorflow:step = 3301, loss = 15632.429 (0.322 sec)\n",
      "INFO:tensorflow:global_step/sec: 282.325\n",
      "INFO:tensorflow:step = 3401, loss = 17956.656 (0.354 sec)\n",
      "INFO:tensorflow:global_step/sec: 333.373\n",
      "INFO:tensorflow:step = 3501, loss = 18690.71 (0.300 sec)\n",
      "INFO:tensorflow:global_step/sec: 342.12\n",
      "INFO:tensorflow:step = 3601, loss = 22649.812 (0.292 sec)\n",
      "INFO:tensorflow:global_step/sec: 390.321\n",
      "INFO:tensorflow:step = 3701, loss = 15786.719 (0.258 sec)\n",
      "INFO:tensorflow:global_step/sec: 375.226\n",
      "INFO:tensorflow:step = 3801, loss = 30127.94 (0.266 sec)\n",
      "INFO:tensorflow:global_step/sec: 330.477\n",
      "INFO:tensorflow:step = 3901, loss = 9237.709 (0.301 sec)\n",
      "INFO:tensorflow:global_step/sec: 318.165\n",
      "INFO:tensorflow:step = 4001, loss = 20069.867 (0.314 sec)\n",
      "INFO:tensorflow:global_step/sec: 301.567\n",
      "INFO:tensorflow:step = 4101, loss = 16686.512 (0.333 sec)\n",
      "INFO:tensorflow:global_step/sec: 299.047\n",
      "INFO:tensorflow:step = 4201, loss = 15039.994 (0.334 sec)\n",
      "INFO:tensorflow:global_step/sec: 371.467\n",
      "INFO:tensorflow:step = 4301, loss = 15092.978 (0.271 sec)\n",
      "INFO:tensorflow:global_step/sec: 413.267\n",
      "INFO:tensorflow:step = 4401, loss = 20545.2 (0.243 sec)\n",
      "INFO:tensorflow:global_step/sec: 381.987\n",
      "INFO:tensorflow:step = 4501, loss = 11730.301 (0.262 sec)\n",
      "INFO:tensorflow:global_step/sec: 322.032\n",
      "INFO:tensorflow:step = 4601, loss = 15460.829 (0.308 sec)\n",
      "INFO:tensorflow:global_step/sec: 296.516\n",
      "INFO:tensorflow:step = 4701, loss = 15551.844 (0.337 sec)\n",
      "INFO:tensorflow:global_step/sec: 373.05\n",
      "INFO:tensorflow:step = 4801, loss = 12870.283 (0.270 sec)\n",
      "INFO:tensorflow:global_step/sec: 333.026\n",
      "INFO:tensorflow:step = 4901, loss = 14096.023 (0.298 sec)\n",
      "INFO:tensorflow:global_step/sec: 314.035\n",
      "INFO:tensorflow:step = 5001, loss = 18043.762 (0.319 sec)\n",
      "INFO:tensorflow:global_step/sec: 321.76\n",
      "INFO:tensorflow:step = 5101, loss = 5866.1426 (0.310 sec)\n",
      "INFO:tensorflow:global_step/sec: 350.391\n",
      "INFO:tensorflow:step = 5201, loss = 19602.754 (0.286 sec)\n",
      "INFO:tensorflow:global_step/sec: 324.745\n",
      "INFO:tensorflow:step = 5301, loss = 10544.328 (0.308 sec)\n",
      "INFO:tensorflow:global_step/sec: 338.449\n",
      "INFO:tensorflow:step = 5401, loss = 14956.737 (0.298 sec)\n",
      "INFO:tensorflow:global_step/sec: 349.939\n",
      "INFO:tensorflow:step = 5501, loss = 22675.46 (0.283 sec)\n",
      "INFO:tensorflow:global_step/sec: 356.535\n",
      "INFO:tensorflow:step = 5601, loss = 18271.338 (0.282 sec)\n",
      "INFO:tensorflow:global_step/sec: 323.621\n",
      "INFO:tensorflow:step = 5701, loss = 3321.9446 (0.309 sec)\n",
      "INFO:tensorflow:global_step/sec: 299.596\n",
      "INFO:tensorflow:step = 5801, loss = 12918.406 (0.332 sec)\n",
      "INFO:tensorflow:global_step/sec: 280.722\n",
      "INFO:tensorflow:step = 5901, loss = 13517.723 (0.356 sec)\n",
      "INFO:tensorflow:global_step/sec: 311.605\n",
      "INFO:tensorflow:step = 6001, loss = 10133.707 (0.321 sec)\n",
      "INFO:tensorflow:Saving checkpoints for 6071 into taxi_trained/model.ckpt.\n",
      "INFO:tensorflow:Loss for final step: 3087.3606.\n",
      "INFO:tensorflow:Calling model_fn.\n",
      "INFO:tensorflow:Done calling model_fn.\n",
      "INFO:tensorflow:Starting evaluation at 2018-09-14-13:06:28\n",
      "INFO:tensorflow:Graph was finalized.\n",
      "INFO:tensorflow:Restoring parameters from taxi_trained/model.ckpt-6071\n",
      "INFO:tensorflow:Running local_init_op.\n",
      "INFO:tensorflow:Done running local_init_op.\n",
      "INFO:tensorflow:Finished evaluation at 2018-09-14-13:06:28\n",
      "INFO:tensorflow:Saving dict for global step 6071: average_loss = 137.13013, global_step = 6071, loss = 16308.69\n",
      "RMSE on validation dataset = 11.710257530212402\n"
     ]
    }
   ],
   "source": [
    "tf.logging.set_verbosity(tf.logging.INFO)\n",
    "shutil.rmtree(OUTDIR, ignore_errors = True) # start fresh each time\n",
    "model = tf.estimator.DNNRegressor(hidden_units = [32, 8, 2],\n",
    "      feature_columns = make_feature_cols(), model_dir = OUTDIR)\n",
    "model.train(input_fn = make_input_fn(df_train, num_epochs = 100));\n",
    "print_rmse(model, 'validation', df_valid)"
   ]
  },
  {
   "cell_type": "markdown",
   "metadata": {},
   "source": [
    "We are not beating our benchmark with either model ... what's up?  Well, we may be using TensorFlow for Machine Learning, but we are not yet using it well.  That's what the rest of this course is about!\n",
    "\n",
    "But, for the record, let's say we had to choose between the two models. We'd choose the one with the lower validation error. Finally, we'd measure the RMSE on the test data with this chosen model."
   ]
  },
  {
   "cell_type": "markdown",
   "metadata": {},
   "source": [
    "<h2> Benchmark dataset </h2>\n",
    "\n",
    "Let's do this on the benchmark dataset."
   ]
  },
  {
   "cell_type": "code",
   "execution_count": 9,
   "metadata": {},
   "outputs": [],
   "source": [
    "import datalab.bigquery as bq\n",
    "import numpy as np\n",
    "import pandas as pd\n",
    "\n",
    "def create_query(phase, EVERY_N):\n",
    "  \"\"\"\n",
    "  phase: 1 = train 2 = valid\n",
    "  \"\"\"\n",
    "  base_query = \"\"\"\n",
    "SELECT\n",
    "  (tolls_amount + fare_amount) AS fare_amount,\n",
    "  CONCAT(STRING(pickup_datetime), STRING(pickup_longitude), STRING(pickup_latitude), STRING(dropoff_latitude), STRING(dropoff_longitude)) AS key,\n",
    "  DAYOFWEEK(pickup_datetime)*1.0 AS dayofweek,\n",
    "  HOUR(pickup_datetime)*1.0 AS hourofday,\n",
    "  pickup_longitude AS pickuplon,\n",
    "  pickup_latitude AS pickuplat,\n",
    "  dropoff_longitude AS dropofflon,\n",
    "  dropoff_latitude AS dropofflat,\n",
    "  passenger_count*1.0 AS passengers,\n",
    "FROM\n",
    "  [nyc-tlc:yellow.trips]\n",
    "WHERE\n",
    "  trip_distance > 0\n",
    "  AND fare_amount >= 2.5\n",
    "  AND pickup_longitude > -78\n",
    "  AND pickup_longitude < -70\n",
    "  AND dropoff_longitude > -78\n",
    "  AND dropoff_longitude < -70\n",
    "  AND pickup_latitude > 37\n",
    "  AND pickup_latitude < 45\n",
    "  AND dropoff_latitude > 37\n",
    "  AND dropoff_latitude < 45\n",
    "  AND passenger_count > 0\n",
    "  \"\"\"\n",
    "\n",
    "  if EVERY_N == None:\n",
    "    if phase < 2:\n",
    "      # Training\n",
    "      query = \"{0} AND ABS(HASH(pickup_datetime)) % 4 < 2\".format(base_query)\n",
    "    else:\n",
    "      # Validation\n",
    "      query = \"{0} AND ABS(HASH(pickup_datetime)) % 4 == {1}\".format(base_query, phase)\n",
    "  else:\n",
    "    query = \"{0} AND ABS(HASH(pickup_datetime)) % {1} == {2}\".format(base_query, EVERY_N, phase)\n",
    "    \n",
    "  return query\n",
    "\n",
    "query = create_query(2, 100000)\n",
    "df = bq.Query(query).to_dataframe()"
   ]
  },
  {
   "cell_type": "code",
   "execution_count": 10,
   "metadata": {},
   "outputs": [
    {
     "name": "stdout",
     "output_type": "stream",
     "text": [
      "INFO:tensorflow:Calling model_fn.\n",
      "INFO:tensorflow:Done calling model_fn.\n",
      "INFO:tensorflow:Starting evaluation at 2018-09-14-13:06:37\n",
      "INFO:tensorflow:Graph was finalized.\n",
      "INFO:tensorflow:Restoring parameters from taxi_trained/model.ckpt-6071\n",
      "INFO:tensorflow:Running local_init_op.\n",
      "INFO:tensorflow:Done running local_init_op.\n",
      "INFO:tensorflow:Finished evaluation at 2018-09-14-13:06:38\n",
      "INFO:tensorflow:Saving dict for global step 6071: average_loss = 113.45603, global_step = 6071, loss = 14420.553\n",
      "RMSE on benchmark dataset = 10.65157413482666\n"
     ]
    }
   ],
   "source": [
    "print_rmse(model, 'benchmark', df)"
   ]
  },
  {
   "cell_type": "markdown",
   "metadata": {},
   "source": [
    "RMSE on benchmark dataset is <b>9.41</b> (your results will vary because of random seeds).\n",
    "\n",
    "This is not only way more than our original benchmark of 6.00, but it doesn't even beat our distance-based rule's RMSE of 8.02.\n",
    "\n",
    "Fear not -- you have learned how to write a TensorFlow model, but not to do all the things that you will have to do to your ML model performant. We will do this in the next chapters. In this chapter though, we will get our TensorFlow model ready for these improvements.\n",
    "\n",
    "In a software sense, the rest of the labs in this chapter will be about refactoring the code so that we can improve it."
   ]
  },
  {
   "cell_type": "markdown",
   "metadata": {},
   "source": [
    "Copyright 2017 Google Inc. Licensed under the Apache License, Version 2.0 (the \"License\"); you may not use this file except in compliance with the License. You may obtain a copy of the License at http://www.apache.org/licenses/LICENSE-2.0 Unless required by applicable law or agreed to in writing, software distributed under the License is distributed on an \"AS IS\" BASIS, WITHOUT WARRANTIES OR CONDITIONS OF ANY KIND, either express or implied. See the License for the specific language governing permissions and limitations under the License"
   ]
  }
 ],
 "metadata": {
  "kernelspec": {
   "display_name": "Python 3",
   "language": "python",
   "name": "python3"
  },
  "language_info": {
   "codemirror_mode": {
    "name": "ipython",
    "version": 3
   },
   "file_extension": ".py",
   "mimetype": "text/x-python",
   "name": "python",
   "nbconvert_exporter": "python",
   "pygments_lexer": "ipython3",
   "version": "3.5.5"
  }
 },
 "nbformat": 4,
 "nbformat_minor": 1
}
