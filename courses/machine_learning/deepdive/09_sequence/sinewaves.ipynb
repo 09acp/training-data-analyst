{
 "cells": [
  {
   "cell_type": "markdown",
   "metadata": {},
   "source": [
    "<h1> Time series prediction, end-to-end </h1>\n",
    "\n",
    "This notebook illustrates several models to find the next value of a time-series:\n",
    "<ol>\n",
    "<li> DNN\n",
    "<li> CNN \n",
    "<li> LSTM\n",
    "</ol>\n",
    "\n",
    "<p>"
   ]
  },
  {
   "cell_type": "code",
   "execution_count": 1,
   "metadata": {
    "collapsed": false
   },
   "outputs": [
    {
     "data": {
      "text/html": [
       "\n",
       "          <script src=\"/static/components/requirejs/require.js\"></script>\n",
       "          <script>\n",
       "            requirejs.config({\n",
       "              paths: {\n",
       "                base: '/static/base',\n",
       "              },\n",
       "            });\n",
       "          </script>\n",
       "          "
      ],
      "text/plain": [
       "<IPython.core.display.HTML object>"
      ]
     },
     "metadata": {},
     "output_type": "display_data"
    }
   ],
   "source": [
    "# change these to try this notebook out\n",
    "BUCKET = 'cloud-training-demos-ml'\n",
    "PROJECT = 'cloud-training-demos'\n",
    "REGION = 'us-central1'"
   ]
  },
  {
   "cell_type": "code",
   "execution_count": 2,
   "metadata": {
    "collapsed": false
   },
   "outputs": [
    {
     "data": {
      "text/html": [
       "\n",
       "          <script src=\"/static/components/requirejs/require.js\"></script>\n",
       "          <script>\n",
       "            requirejs.config({\n",
       "              paths: {\n",
       "                base: '/static/base',\n",
       "              },\n",
       "            });\n",
       "          </script>\n",
       "          "
      ],
      "text/plain": [
       "<IPython.core.display.HTML object>"
      ]
     },
     "metadata": {},
     "output_type": "display_data"
    }
   ],
   "source": [
    "import os\n",
    "os.environ['BUCKET'] = BUCKET\n",
    "os.environ['PROJECT'] = PROJECT\n",
    "os.environ['REGION'] = REGION"
   ]
  },
  {
   "cell_type": "code",
   "execution_count": 4,
   "metadata": {
    "collapsed": false
   },
   "outputs": [
    {
     "data": {
      "text/html": [
       "\n",
       "          <script src=\"/static/components/requirejs/require.js\"></script>\n",
       "          <script>\n",
       "            requirejs.config({\n",
       "              paths: {\n",
       "                base: '/static/base',\n",
       "              },\n",
       "            });\n",
       "          </script>\n",
       "          "
      ],
      "text/plain": [
       "<IPython.core.display.HTML object>"
      ]
     },
     "metadata": {},
     "output_type": "display_data"
    }
   ],
   "source": [
    "%%datalab project set -p $PROJECT"
   ]
  },
  {
   "cell_type": "markdown",
   "metadata": {},
   "source": [
    "<h3> Simulate some time-series data </h3>\n",
    "\n",
    "Essentially a set of sinusoids with random amplitudes and frequencies."
   ]
  },
  {
   "cell_type": "code",
   "execution_count": 5,
   "metadata": {
    "collapsed": false
   },
   "outputs": [
    {
     "data": {
      "text/html": [
       "\n",
       "          <script src=\"/static/components/requirejs/require.js\"></script>\n",
       "          <script>\n",
       "            requirejs.config({\n",
       "              paths: {\n",
       "                base: '/static/base',\n",
       "              },\n",
       "            });\n",
       "          </script>\n",
       "          "
      ],
      "text/plain": [
       "<IPython.core.display.HTML object>"
      ]
     },
     "metadata": {},
     "output_type": "display_data"
    },
    {
     "name": "stdout",
     "output_type": "stream",
     "text": [
      "1.2.1\n"
     ]
    }
   ],
   "source": [
    "import tensorflow as tf\n",
    "print tf.__version__"
   ]
  },
  {
   "cell_type": "code",
   "execution_count": 6,
   "metadata": {
    "collapsed": false
   },
   "outputs": [
    {
     "data": {
      "text/html": [
       "\n",
       "          <script src=\"/static/components/requirejs/require.js\"></script>\n",
       "          <script>\n",
       "            requirejs.config({\n",
       "              paths: {\n",
       "                base: '/static/base',\n",
       "              },\n",
       "            });\n",
       "          </script>\n",
       "          "
      ],
      "text/plain": [
       "<IPython.core.display.HTML object>"
      ]
     },
     "metadata": {},
     "output_type": "display_data"
    },
    {
     "data": {
      "image/png": "[encoded data removed]",
      "text/plain": [
       "<matplotlib.figure.Figure at 0x7efebd8d9950>"
      ]
     },
     "metadata": {},
     "output_type": "display_data"
    }
   ],
   "source": [
    "import numpy as np\n",
    "import seaborn as sns\n",
    "\n",
    "def create_time_series(SEQ_LEN):\n",
    "  freq = (np.random.random()*0.5) + 0.1  # 0.1 to 0.6\n",
    "  ampl = np.random.random() + 0.5  # 0.5 to 1.5\n",
    "  x = np.sin(np.arange(0,SEQ_LEN) * freq) * ampl\n",
    "  return x\n",
    "\n",
    "for i in xrange(0, 5):\n",
    "  sns.tsplot( create_time_series(10) );  # 5 series"
   ]
  },
  {
   "cell_type": "code",
   "execution_count": 8,
   "metadata": {
    "collapsed": false
   },
   "outputs": [
    {
     "data": {
      "text/html": [
       "\n",
       "          <script src=\"/static/components/requirejs/require.js\"></script>\n",
       "          <script>\n",
       "            requirejs.config({\n",
       "              paths: {\n",
       "                base: '/static/base',\n",
       "              },\n",
       "            });\n",
       "          </script>\n",
       "          "
      ],
      "text/plain": [
       "<IPython.core.display.HTML object>"
      ]
     },
     "metadata": {},
     "output_type": "display_data"
    }
   ],
   "source": [
    "def to_csv(filename, SEQ_LEN, N):\n",
    "  with open(filename, 'w') as ofp:\n",
    "    for lineno in xrange(0, N):\n",
    "      seq = create_time_series(SEQ_LEN)\n",
    "      line = \",\".join(map(str, seq))\n",
    "      ofp.write(line + '\\n')\n",
    "\n",
    "import os\n",
    "try:\n",
    "  os.makedirs('data/sines/')\n",
    "except OSError:\n",
    "  pass\n",
    "to_csv('data/sines/train.csv', 10, 1000)  # 1000 sequences\n",
    "to_csv('data/sines/valid.csv', 10, 50)"
   ]
  },
  {
   "cell_type": "code",
   "execution_count": 9,
   "metadata": {
    "collapsed": false
   },
   "outputs": [
    {
     "data": {
      "text/html": [
       "\n",
       "          <script src=\"/static/components/requirejs/require.js\"></script>\n",
       "          <script>\n",
       "            requirejs.config({\n",
       "              paths: {\n",
       "                base: '/static/base',\n",
       "              },\n",
       "            });\n",
       "          </script>\n",
       "          "
      ],
      "text/plain": [
       "<IPython.core.display.HTML object>"
      ]
     },
     "metadata": {},
     "output_type": "display_data"
    },
    {
     "name": "stdout",
     "output_type": "stream",
     "text": [
      "==> data/sines/train.csv <==\r\n",
      "0.0,0.366561055622,0.683968192006,0.909658773246,1.0133688735,0.981191511078,0.817441501877,0.544076865184,0.197754368182,-0.175085954687\r\n",
      "0.0,0.400129408923,0.735970772421,0.953565085353,1.01795187553,0.918786237523,0.672000929338,0.317246485898,-0.0884793583982,-0.479989389297\r\n",
      "0.0,0.527407197106,0.94761983921,1.17523046994,1.16397764196,0.916148472119,0.482113789111,-0.0499096459792,-0.571789036164,-0.977453343159\r\n",
      "0.0,0.592390161835,1.03814472988,1.22692513002,1.11200214922,0.721822916791,0.15296932608,-0.453749086512,-0.948150024877,-1.20785337564\r\n",
      "0.0,0.387359825459,0.747617671651,1.05556777371,1.28966412524,1.43352796402,1.47709372695,1.41731329616,1.25836926335,1.01138229102\r\n",
      "\r\n",
      "==> data/sines/valid.csv <==\r\n",
      "0.0,0.425822935686,0.784810732684,1.02061837717,1.09623462502,0.999791110328,0.746425147557,0.375903850781,-0.0536175230097,-0.474723345908\r\n",
      "0.0,0.12117231325,0.241132949203,0.358682346878,0.472645056764,0.58188149487,0.685299338138,0.781864447254,0.870611207654,0.950652185306\r\n",
      "0.0,0.229960425446,0.449515403414,0.648730321083,0.818590930201,0.951411231569,1.04118125774,1.08383901723,1.07745429497,1.02231599238\r\n",
      "0.0,0.77226609512,1.3209376719,1.48715762434,1.22280022163,0.604404970683,-0.188983898594,-0.927656182427,-1.3977437924,-1.46314207054\r\n",
      "0.0,0.426552872686,0.765699988205,0.947946068665,0.935946724486,0.732160764016,0.378346354449,-0.0529957233156,-0.473478347025,-0.796939625728\r\n"
     ]
    }
   ],
   "source": [
    "!head -5 data/sines/*.csv"
   ]
  },
  {
   "cell_type": "markdown",
   "metadata": {},
   "source": [
    "<h3> Train model locally </h3>\n",
    "\n",
    "Make sure the code works as intended."
   ]
  },
  {
   "cell_type": "code",
   "execution_count": null,
   "metadata": {
    "collapsed": false
   },
   "outputs": [],
   "source": [
    "%bash\n",
    "# run module as-is\n",
    "DATADIR=$(pwd)/data/sines\n",
    "OUTDIR=$(pwd)/trained/sines\n",
    "echo $DATADIR $OUTDIR\n",
    "rm -rf $OUTDIR\n",
    "export PYTHONPATH=${PYTHONPATH}:${PWD}/sinemodel\n",
    "python -m trainer.task \\\n",
    "   --train_data_paths=\"${DATADIR}/train.csv*\" \\\n",
    "   --eval_data_paths=\"${DATADIR}/valid.csv*\"  \\\n",
    "   --output_dir=${OUTDIR} \\\n",
    "   --job-dir=./tmp \\\n",
    "   --model=lstm --train_steps=100 --sequence_length=10"
   ]
  },
  {
   "cell_type": "markdown",
   "metadata": {},
   "source": [
    "Try out online prediction.  This is how the REST API will work after you train on Cloud ML Engine"
   ]
  },
  {
   "cell_type": "code",
   "execution_count": null,
   "metadata": {
    "collapsed": false
   },
   "outputs": [],
   "source": [
    "%writefile data/sines/test.json\n",
    "{\"rawdata\": [0.0,0.0581188760455,0.115564075062,0.171669728857,0.225785496393,0.277284102128,0.325568606994,0.370079327735,0.410300324399]}"
   ]
  },
  {
   "cell_type": "code",
   "execution_count": null,
   "metadata": {
    "collapsed": false
   },
   "outputs": [],
   "source": [
    "%bash\n",
    "OUTDIR=$(pwd)/trained/sines\n",
    "MODEL_DIR=$OUTDIR/export/Servo/$(ls $OUTDIR/export/Servo/)\n",
    "echo $MODEL_DIR\n",
    "gcloud ml-engine local predict --model-dir=$MODEL_DIR --json-instances=data/sines/test.json"
   ]
  },
  {
   "cell_type": "markdown",
   "metadata": {},
   "source": [
    "<h3> Cloud ML Engine </h3>\n",
    "\n",
    "Now to train on Cloud ML Engine with more data."
   ]
  },
  {
   "cell_type": "code",
   "execution_count": 27,
   "metadata": {
    "collapsed": false
   },
   "outputs": [
    {
     "data": {
      "text/html": [
       "\n",
       "          <script src=\"/static/components/requirejs/require.js\"></script>\n",
       "          <script>\n",
       "            requirejs.config({\n",
       "              paths: {\n",
       "                base: '/static/base',\n",
       "              },\n",
       "            });\n",
       "          </script>\n",
       "          "
      ],
      "text/plain": [
       "<IPython.core.display.HTML object>"
      ]
     },
     "metadata": {},
     "output_type": "display_data"
    }
   ],
   "source": [
    "import shutil\n",
    "shutil.rmtree('data/sines', ignore_errors=True)\n",
    "os.makedirs('data/sines/')\n",
    "for i in xrange(0,10):\n",
    "  to_csv('data/sines/train-{}.csv'.format(i), 10, 1000)  # 1000 sequences\n",
    "  to_csv('data/sines/valid-{}.csv'.format(i), 10, 50)"
   ]
  },
  {
   "cell_type": "code",
   "execution_count": null,
   "metadata": {
    "collapsed": false
   },
   "outputs": [],
   "source": [
    "%bash\n",
    "gsutil -m rm -rf gs://${BUCKET}/sines/*\n",
    "gsutil -m cp data/sines/*.csv gs://${BUCKET}/sines"
   ]
  },
  {
   "cell_type": "code",
   "execution_count": null,
   "metadata": {
    "collapsed": false
   },
   "outputs": [],
   "source": [
    "%bash\n",
    "MODEL=lstm  # CHANGE AS NEEDED\n",
    "OUTDIR=gs://${BUCKET}/sinewaves/$MODEL\n",
    "JOBNAME=sines_${MODEL}_$(date -u +%y%m%d_%H%M%S)\n",
    "REGION=us-central1\n",
    "gsutil -m rm -rf $OUTDIR\n",
    "gcloud ml-engine jobs submit training $JOBNAME \\\n",
    "   --region=$REGION \\\n",
    "   --module-name=trainer.task \\\n",
    "   --package-path=${PWD}/sinemodel/trainer \\\n",
    "   --job-dir=$OUTDIR \\\n",
    "   --staging-bucket=gs://$BUCKET \\\n",
    "   --scale-tier=BASIC_GPU \\\n",
    "   --runtime-version=1.2 \\\n",
    "   -- \\\n",
    "   --train_data_paths=\"gs://${BUCKET}/sines/train*.csv\" \\\n",
    "   --eval_data_paths=\"gs://${BUCKET}/sines/valid*.csv\"  \\\n",
    "   --output_dir=$OUTDIR \\\n",
    "   --train_steps=10000 --sequence_length=10 --model=$MODEL"
   ]
  },
  {
   "cell_type": "markdown",
   "metadata": {},
   "source": [
    "## Results\n",
    "\n",
    "When I ran it, these were the RMSEs that I got for different models:\n",
    "\n",
    "| Model | Sequence length | # of steps | Minutes | RMSE |\n",
    "| --- | ----| --- | --- | --- | \n",
    "| lstm | 10 | 10000 | 15 min | 0.057 |\n",
    "\n"
   ]
  },
  {
   "cell_type": "markdown",
   "metadata": {},
   "source": [
    "Copyright 2017 Google Inc. Licensed under the Apache License, Version 2.0 (the \"License\"); you may not use this file except in compliance with the License. You may obtain a copy of the License at http://www.apache.org/licenses/LICENSE-2.0 Unless required by applicable law or agreed to in writing, software distributed under the License is distributed on an \"AS IS\" BASIS, WITHOUT WARRANTIES OR CONDITIONS OF ANY KIND, either express or implied. See the License for the specific language governing permissions and limitations under the License"
   ]
  },
  {
   "cell_type": "code",
   "execution_count": null,
   "metadata": {
    "collapsed": true
   },
   "outputs": [],
   "source": []
  }
 ],
 "metadata": {
  "kernelspec": {
   "display_name": "Python 2",
   "language": "python",
   "name": "python2"
  },
  "language_info": {
   "codemirror_mode": {
    "name": "ipython",
    "version": 2
   },
   "file_extension": ".py",
   "mimetype": "text/x-python",
   "name": "python",
   "nbconvert_exporter": "python",
   "pygments_lexer": "ipython2",
   "version": "2.7.12"
  }
 },
 "nbformat": 4,
 "nbformat_minor": 2
}
