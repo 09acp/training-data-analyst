{
 "cells": [
  {
   "cell_type": "markdown",
   "metadata": {},
   "source": [
    "# Time-series prediction (temperature from weather stations)\n",
    "\n",
    "This notebook illustrates:\n",
    "\n",
    "* Predicting the \"next\" value of a long time-series\n",
    "* Using a LSTM model on numeric data\n",
    "* Serving a LSTM model\n",
    "\n",
    "<b>Note:</b>\n",
    "See [(Time series prediction with RNNs and TensorFlow)](../05_artandscience/d_customestimator.ipynb) for a very similar example, except that it works with multiple short sequences."
   ]
  },
  {
   "cell_type": "code",
   "execution_count": 1,
   "metadata": {
    "collapsed": false
   },
   "outputs": [
    {
     "data": {
      "text/html": [
       "\n",
       "          <script src=\"/static/components/requirejs/require.js\"></script>\n",
       "          <script>\n",
       "            requirejs.config({\n",
       "              paths: {\n",
       "                base: '/static/base',\n",
       "              },\n",
       "            });\n",
       "          </script>\n",
       "          "
      ],
      "text/plain": [
       "<IPython.core.display.HTML object>"
      ]
     },
     "metadata": {},
     "output_type": "display_data"
    }
   ],
   "source": [
    "# change these to try this notebook out\n",
    "BUCKET = 'cloud-training-demos-ml'\n",
    "PROJECT = 'cloud-training-demos'\n",
    "REGION = 'us-central1'"
   ]
  },
  {
   "cell_type": "code",
   "execution_count": 2,
   "metadata": {
    "collapsed": false
   },
   "outputs": [
    {
     "data": {
      "text/html": [
       "\n",
       "          <script src=\"/static/components/requirejs/require.js\"></script>\n",
       "          <script>\n",
       "            requirejs.config({\n",
       "              paths: {\n",
       "                base: '/static/base',\n",
       "              },\n",
       "            });\n",
       "          </script>\n",
       "          "
      ],
      "text/plain": [
       "<IPython.core.display.HTML object>"
      ]
     },
     "metadata": {},
     "output_type": "display_data"
    }
   ],
   "source": [
    "import os\n",
    "os.environ['BUCKET'] = BUCKET\n",
    "os.environ['PROJECT'] = PROJECT\n",
    "os.environ['REGION'] = REGION"
   ]
  },
  {
   "cell_type": "code",
   "execution_count": 3,
   "metadata": {
    "collapsed": false
   },
   "outputs": [
    {
     "data": {
      "text/html": [
       "\n",
       "          <script src=\"/static/components/requirejs/require.js\"></script>\n",
       "          <script>\n",
       "            requirejs.config({\n",
       "              paths: {\n",
       "                base: '/static/base',\n",
       "              },\n",
       "            });\n",
       "          </script>\n",
       "          "
      ],
      "text/plain": [
       "<IPython.core.display.HTML object>"
      ]
     },
     "metadata": {},
     "output_type": "display_data"
    }
   ],
   "source": [
    "%%datalab project set -p $PROJECT"
   ]
  },
  {
   "cell_type": "markdown",
   "metadata": {},
   "source": [
    "# Data exploration and cleanup\n",
    "\n",
    "The data are temperature data from US weather stations. This is a public dataset from NOAA."
   ]
  },
  {
   "cell_type": "code",
   "execution_count": 4,
   "metadata": {
    "collapsed": false
   },
   "outputs": [
    {
     "data": {
      "text/html": [
       "\n",
       "          <script src=\"/static/components/requirejs/require.js\"></script>\n",
       "          <script>\n",
       "            requirejs.config({\n",
       "              paths: {\n",
       "                base: '/static/base',\n",
       "              },\n",
       "            });\n",
       "          </script>\n",
       "          "
      ],
      "text/plain": [
       "<IPython.core.display.HTML object>"
      ]
     },
     "metadata": {},
     "output_type": "display_data"
    }
   ],
   "source": [
    "import numpy as np\n",
    "import seaborn as sns\n",
    "import pandas as pd\n",
    "import tensorflow as tf\n",
    "import google.datalab.bigquery as bq\n",
    "from __future__ import print_function"
   ]
  },
  {
   "cell_type": "code",
   "execution_count": 5,
   "metadata": {
    "collapsed": false
   },
   "outputs": [
    {
     "data": {
      "text/html": [
       "\n",
       "          <script src=\"/static/components/requirejs/require.js\"></script>\n",
       "          <script>\n",
       "            requirejs.config({\n",
       "              paths: {\n",
       "                base: '/static/base',\n",
       "              },\n",
       "            });\n",
       "          </script>\n",
       "          "
      ],
      "text/plain": [
       "<IPython.core.display.HTML object>"
      ]
     },
     "metadata": {},
     "output_type": "display_data"
    },
    {
     "data": {
      "text/html": [
       "<div>\n",
       "<table border=\"1\" class=\"dataframe\">\n",
       "  <thead>\n",
       "    <tr style=\"text-align: right;\">\n",
       "      <th></th>\n",
       "      <th>stationid</th>\n",
       "      <th>date</th>\n",
       "      <th>tmin</th>\n",
       "      <th>tmax</th>\n",
       "      <th>is_train</th>\n",
       "    </tr>\n",
       "  </thead>\n",
       "  <tbody>\n",
       "    <tr>\n",
       "      <th>0</th>\n",
       "      <td>USW00003013</td>\n",
       "      <td>2016-01-01</td>\n",
       "      <td>-16.0</td>\n",
       "      <td>3.9</td>\n",
       "      <td>False</td>\n",
       "    </tr>\n",
       "    <tr>\n",
       "      <th>1</th>\n",
       "      <td>USW00003013</td>\n",
       "      <td>2016-01-02</td>\n",
       "      <td>-14.9</td>\n",
       "      <td>11.1</td>\n",
       "      <td>False</td>\n",
       "    </tr>\n",
       "    <tr>\n",
       "      <th>2</th>\n",
       "      <td>USW00003013</td>\n",
       "      <td>2016-01-03</td>\n",
       "      <td>-9.9</td>\n",
       "      <td>10.6</td>\n",
       "      <td>False</td>\n",
       "    </tr>\n",
       "    <tr>\n",
       "      <th>3</th>\n",
       "      <td>USW00003013</td>\n",
       "      <td>2016-01-04</td>\n",
       "      <td>-11.6</td>\n",
       "      <td>13.9</td>\n",
       "      <td>False</td>\n",
       "    </tr>\n",
       "    <tr>\n",
       "      <th>4</th>\n",
       "      <td>USW00003013</td>\n",
       "      <td>2016-01-05</td>\n",
       "      <td>-6.0</td>\n",
       "      <td>12.8</td>\n",
       "      <td>False</td>\n",
       "    </tr>\n",
       "  </tbody>\n",
       "</table>\n",
       "</div>"
      ],
      "text/plain": [
       "     stationid        date  tmin  tmax is_train\n",
       "0  USW00003013  2016-01-01 -16.0   3.9    False\n",
       "1  USW00003013  2016-01-02 -14.9  11.1    False\n",
       "2  USW00003013  2016-01-03  -9.9  10.6    False\n",
       "3  USW00003013  2016-01-04 -11.6  13.9    False\n",
       "4  USW00003013  2016-01-05  -6.0  12.8    False"
      ]
     },
     "execution_count": 5,
     "metadata": {},
     "output_type": "execute_result"
    }
   ],
   "source": [
    "query=\"\"\"\n",
    "SELECT\n",
    "  stationid, date,\n",
    "  MAX(tmin) AS tmin,\n",
    "  MAX(tmax) AS tmax,\n",
    "  IF (MOD(ABS(FARM_FINGERPRINT(stationid)), 10) < 7, True, False) AS is_train\n",
    "FROM (\n",
    "  SELECT\n",
    "    wx.id as stationid,\n",
    "    wx.date as date,\n",
    "    CONCAT(wx.id, \" \", CAST(wx.date AS STRING)) AS recordid,\n",
    "    IF (wx.element = 'TMIN', wx.value/10, NULL) AS tmin,\n",
    "    IF (wx.element = 'TMAX', wx.value/10, NULL) AS tmax\n",
    "  FROM\n",
    "    `bigquery-public-data.ghcn_d.ghcnd_2016` AS wx\n",
    "  WHERE STARTS_WITH(id, 'USW000')\n",
    ")\n",
    "GROUP BY\n",
    "  stationid, date\n",
    "ORDER BY\n",
    "  stationid, date\n",
    "\"\"\"\n",
    "df = bq.Query(query).execute().result().to_dataframe()\n",
    "df.head()"
   ]
  },
  {
   "cell_type": "code",
   "execution_count": 6,
   "metadata": {
    "collapsed": false
   },
   "outputs": [
    {
     "data": {
      "text/html": [
       "\n",
       "          <script src=\"/static/components/requirejs/require.js\"></script>\n",
       "          <script>\n",
       "            requirejs.config({\n",
       "              paths: {\n",
       "                base: '/static/base',\n",
       "              },\n",
       "            });\n",
       "          </script>\n",
       "          "
      ],
      "text/plain": [
       "<IPython.core.display.HTML object>"
      ]
     },
     "metadata": {},
     "output_type": "display_data"
    },
    {
     "data": {
      "text/html": [
       "<div>\n",
       "<table border=\"1\" class=\"dataframe\">\n",
       "  <thead>\n",
       "    <tr style=\"text-align: right;\">\n",
       "      <th></th>\n",
       "      <th>tmin</th>\n",
       "      <th>tmax</th>\n",
       "    </tr>\n",
       "  </thead>\n",
       "  <tbody>\n",
       "    <tr>\n",
       "      <th>count</th>\n",
       "      <td>408241.000000</td>\n",
       "      <td>408271.000000</td>\n",
       "    </tr>\n",
       "    <tr>\n",
       "      <th>mean</th>\n",
       "      <td>7.679339</td>\n",
       "      <td>19.674030</td>\n",
       "    </tr>\n",
       "    <tr>\n",
       "      <th>std</th>\n",
       "      <td>10.608869</td>\n",
       "      <td>11.435323</td>\n",
       "    </tr>\n",
       "    <tr>\n",
       "      <th>min</th>\n",
       "      <td>-57.700000</td>\n",
       "      <td>-35.500000</td>\n",
       "    </tr>\n",
       "    <tr>\n",
       "      <th>25%</th>\n",
       "      <td>0.400000</td>\n",
       "      <td>12.200000</td>\n",
       "    </tr>\n",
       "    <tr>\n",
       "      <th>50%</th>\n",
       "      <td>8.300000</td>\n",
       "      <td>21.700000</td>\n",
       "    </tr>\n",
       "    <tr>\n",
       "      <th>75%</th>\n",
       "      <td>15.800000</td>\n",
       "      <td>28.900000</td>\n",
       "    </tr>\n",
       "    <tr>\n",
       "      <th>max</th>\n",
       "      <td>37.600000</td>\n",
       "      <td>51.700000</td>\n",
       "    </tr>\n",
       "  </tbody>\n",
       "</table>\n",
       "</div>"
      ],
      "text/plain": [
       "                tmin           tmax\n",
       "count  408241.000000  408271.000000\n",
       "mean        7.679339      19.674030\n",
       "std        10.608869      11.435323\n",
       "min       -57.700000     -35.500000\n",
       "25%         0.400000      12.200000\n",
       "50%         8.300000      21.700000\n",
       "75%        15.800000      28.900000\n",
       "max        37.600000      51.700000"
      ]
     },
     "execution_count": 6,
     "metadata": {},
     "output_type": "execute_result"
    }
   ],
   "source": [
    "df.describe()"
   ]
  },
  {
   "cell_type": "markdown",
   "metadata": {},
   "source": [
    "Unfortunately, there are missing observations on some days."
   ]
  },
  {
   "cell_type": "code",
   "execution_count": 7,
   "metadata": {
    "collapsed": false
   },
   "outputs": [
    {
     "data": {
      "text/html": [
       "\n",
       "          <script src=\"/static/components/requirejs/require.js\"></script>\n",
       "          <script>\n",
       "            requirejs.config({\n",
       "              paths: {\n",
       "                base: '/static/base',\n",
       "              },\n",
       "            });\n",
       "          </script>\n",
       "          "
      ],
      "text/plain": [
       "<IPython.core.display.HTML object>"
      ]
     },
     "metadata": {},
     "output_type": "display_data"
    },
    {
     "data": {
      "text/plain": [
       "stationid        0\n",
       "date             0\n",
       "tmin         11316\n",
       "tmax         11286\n",
       "is_train         0\n",
       "dtype: int64"
      ]
     },
     "execution_count": 7,
     "metadata": {},
     "output_type": "execute_result"
    }
   ],
   "source": [
    "df.isnull().sum()"
   ]
  },
  {
   "cell_type": "markdown",
   "metadata": {},
   "source": [
    "One way to fix this is to do a pivot table and then replace the nulls by filling it with nearest valid neighbor"
   ]
  },
  {
   "cell_type": "code",
   "execution_count": 8,
   "metadata": {
    "collapsed": false
   },
   "outputs": [
    {
     "data": {
      "text/html": [
       "\n",
       "          <script src=\"/static/components/requirejs/require.js\"></script>\n",
       "          <script>\n",
       "            requirejs.config({\n",
       "              paths: {\n",
       "                base: '/static/base',\n",
       "              },\n",
       "            });\n",
       "          </script>\n",
       "          "
      ],
      "text/plain": [
       "<IPython.core.display.HTML object>"
      ]
     },
     "metadata": {},
     "output_type": "display_data"
    }
   ],
   "source": [
    "def cleanup_nulls(df, variablename):\n",
    "  df2 = df.pivot_table(variablename, 'date', 'stationid', fill_value=np.nan)\n",
    "  print('Before: {} null values'.format(df2.isnull().sum().sum()))\n",
    "  df2.fillna(method='ffill', inplace=True)\n",
    "  df2.fillna(method='bfill', inplace=True)\n",
    "  df2.dropna(axis=1, inplace=True)\n",
    "  print('After: {} null values'.format(df2.isnull().sum().sum()))\n",
    "  return df2"
   ]
  },
  {
   "cell_type": "code",
   "execution_count": 9,
   "metadata": {
    "collapsed": false
   },
   "outputs": [
    {
     "data": {
      "text/html": [
       "\n",
       "          <script src=\"/static/components/requirejs/require.js\"></script>\n",
       "          <script>\n",
       "            requirejs.config({\n",
       "              paths: {\n",
       "                base: '/static/base',\n",
       "              },\n",
       "            });\n",
       "          </script>\n",
       "          "
      ],
      "text/plain": [
       "<IPython.core.display.HTML object>"
      ]
     },
     "metadata": {},
     "output_type": "display_data"
    },
    {
     "name": "stdout",
     "output_type": "stream",
     "text": [
      "Before: 14986 null values\n",
      "After: 0 null values\n"
     ]
    }
   ],
   "source": [
    "traindf = cleanup_nulls(df[df['is_train']], 'tmin')"
   ]
  },
  {
   "cell_type": "code",
   "execution_count": 10,
   "metadata": {
    "collapsed": false
   },
   "outputs": [
    {
     "data": {
      "text/html": [
       "\n",
       "          <script src=\"/static/components/requirejs/require.js\"></script>\n",
       "          <script>\n",
       "            requirejs.config({\n",
       "              paths: {\n",
       "                base: '/static/base',\n",
       "              },\n",
       "            });\n",
       "          </script>\n",
       "          "
      ],
      "text/plain": [
       "<IPython.core.display.HTML object>"
      ]
     },
     "metadata": {},
     "output_type": "display_data"
    },
    {
     "data": {
      "text/html": [
       "<div>\n",
       "<table border=\"1\" class=\"dataframe\">\n",
       "  <thead>\n",
       "    <tr style=\"text-align: right;\">\n",
       "      <th>stationid</th>\n",
       "      <th>USW00003016</th>\n",
       "      <th>USW00003017</th>\n",
       "      <th>USW00003024</th>\n",
       "      <th>USW00003026</th>\n",
       "      <th>USW00003028</th>\n",
       "      <th>USW00003029</th>\n",
       "      <th>USW00003030</th>\n",
       "      <th>USW00003031</th>\n",
       "      <th>USW00003032</th>\n",
       "      <th>USW00003048</th>\n",
       "      <th>...</th>\n",
       "      <th>USW00094990</th>\n",
       "      <th>USW00094991</th>\n",
       "      <th>USW00094992</th>\n",
       "      <th>USW00094993</th>\n",
       "      <th>USW00094994</th>\n",
       "      <th>USW00094995</th>\n",
       "      <th>USW00094996</th>\n",
       "      <th>USW00096404</th>\n",
       "      <th>USW00096407</th>\n",
       "      <th>USW00096408</th>\n",
       "    </tr>\n",
       "    <tr>\n",
       "      <th>date</th>\n",
       "      <th></th>\n",
       "      <th></th>\n",
       "      <th></th>\n",
       "      <th></th>\n",
       "      <th></th>\n",
       "      <th></th>\n",
       "      <th></th>\n",
       "      <th></th>\n",
       "      <th></th>\n",
       "      <th></th>\n",
       "      <th></th>\n",
       "      <th></th>\n",
       "      <th></th>\n",
       "      <th></th>\n",
       "      <th></th>\n",
       "      <th></th>\n",
       "      <th></th>\n",
       "      <th></th>\n",
       "      <th></th>\n",
       "      <th></th>\n",
       "      <th></th>\n",
       "    </tr>\n",
       "  </thead>\n",
       "  <tbody>\n",
       "    <tr>\n",
       "      <th>2016-01-01</th>\n",
       "      <td>-22.1</td>\n",
       "      <td>-14.3</td>\n",
       "      <td>-6.6</td>\n",
       "      <td>-14.3</td>\n",
       "      <td>-14.9</td>\n",
       "      <td>-12.7</td>\n",
       "      <td>-9.9</td>\n",
       "      <td>-1.0</td>\n",
       "      <td>4.4</td>\n",
       "      <td>-3.2</td>\n",
       "      <td>...</td>\n",
       "      <td>-7.7</td>\n",
       "      <td>-9.3</td>\n",
       "      <td>-8.2</td>\n",
       "      <td>-8.2</td>\n",
       "      <td>-7.1</td>\n",
       "      <td>-8.9</td>\n",
       "      <td>-9.3</td>\n",
       "      <td>-17.4</td>\n",
       "      <td>-3.0</td>\n",
       "      <td>-7.0</td>\n",
       "    </tr>\n",
       "    <tr>\n",
       "      <th>2016-01-02</th>\n",
       "      <td>-21.0</td>\n",
       "      <td>-8.8</td>\n",
       "      <td>-4.9</td>\n",
       "      <td>-12.7</td>\n",
       "      <td>-10.5</td>\n",
       "      <td>-13.8</td>\n",
       "      <td>-8.2</td>\n",
       "      <td>0.6</td>\n",
       "      <td>3.9</td>\n",
       "      <td>-7.8</td>\n",
       "      <td>...</td>\n",
       "      <td>-6.6</td>\n",
       "      <td>-9.9</td>\n",
       "      <td>-4.9</td>\n",
       "      <td>-8.2</td>\n",
       "      <td>-10.5</td>\n",
       "      <td>-10.2</td>\n",
       "      <td>-7.9</td>\n",
       "      <td>-19.5</td>\n",
       "      <td>-3.0</td>\n",
       "      <td>-7.0</td>\n",
       "    </tr>\n",
       "    <tr>\n",
       "      <th>2016-01-03</th>\n",
       "      <td>-17.1</td>\n",
       "      <td>-9.3</td>\n",
       "      <td>-3.8</td>\n",
       "      <td>-10.5</td>\n",
       "      <td>-8.8</td>\n",
       "      <td>-13.2</td>\n",
       "      <td>-5.5</td>\n",
       "      <td>-1.0</td>\n",
       "      <td>2.2</td>\n",
       "      <td>-10.0</td>\n",
       "      <td>...</td>\n",
       "      <td>-11.0</td>\n",
       "      <td>-7.1</td>\n",
       "      <td>-7.1</td>\n",
       "      <td>-13.2</td>\n",
       "      <td>-10.5</td>\n",
       "      <td>-9.5</td>\n",
       "      <td>-9.5</td>\n",
       "      <td>-16.0</td>\n",
       "      <td>-3.0</td>\n",
       "      <td>-7.0</td>\n",
       "    </tr>\n",
       "    <tr>\n",
       "      <th>2016-01-04</th>\n",
       "      <td>-14.3</td>\n",
       "      <td>-7.7</td>\n",
       "      <td>-5.5</td>\n",
       "      <td>-8.2</td>\n",
       "      <td>-9.3</td>\n",
       "      <td>-7.1</td>\n",
       "      <td>-9.3</td>\n",
       "      <td>-2.1</td>\n",
       "      <td>1.1</td>\n",
       "      <td>-7.9</td>\n",
       "      <td>...</td>\n",
       "      <td>-8.8</td>\n",
       "      <td>-7.1</td>\n",
       "      <td>-9.9</td>\n",
       "      <td>-16.6</td>\n",
       "      <td>-13.2</td>\n",
       "      <td>-8.6</td>\n",
       "      <td>-9.5</td>\n",
       "      <td>-24.0</td>\n",
       "      <td>-3.2</td>\n",
       "      <td>-7.0</td>\n",
       "    </tr>\n",
       "    <tr>\n",
       "      <th>2016-01-05</th>\n",
       "      <td>-11.0</td>\n",
       "      <td>-4.9</td>\n",
       "      <td>-2.1</td>\n",
       "      <td>-7.1</td>\n",
       "      <td>-6.6</td>\n",
       "      <td>-2.7</td>\n",
       "      <td>-3.2</td>\n",
       "      <td>1.1</td>\n",
       "      <td>5.6</td>\n",
       "      <td>-1.1</td>\n",
       "      <td>...</td>\n",
       "      <td>-6.0</td>\n",
       "      <td>-7.7</td>\n",
       "      <td>-2.1</td>\n",
       "      <td>-6.6</td>\n",
       "      <td>-16.0</td>\n",
       "      <td>-7.5</td>\n",
       "      <td>-6.3</td>\n",
       "      <td>-28.0</td>\n",
       "      <td>-3.2</td>\n",
       "      <td>-7.0</td>\n",
       "    </tr>\n",
       "  </tbody>\n",
       "</table>\n",
       "<p>5 rows × 797 columns</p>\n",
       "</div>"
      ],
      "text/plain": [
       "stationid   USW00003016  USW00003017  USW00003024  USW00003026  USW00003028  \\\n",
       "date                                                                          \n",
       "2016-01-01        -22.1        -14.3         -6.6        -14.3        -14.9   \n",
       "2016-01-02        -21.0         -8.8         -4.9        -12.7        -10.5   \n",
       "2016-01-03        -17.1         -9.3         -3.8        -10.5         -8.8   \n",
       "2016-01-04        -14.3         -7.7         -5.5         -8.2         -9.3   \n",
       "2016-01-05        -11.0         -4.9         -2.1         -7.1         -6.6   \n",
       "\n",
       "stationid   USW00003029  USW00003030  USW00003031  USW00003032  USW00003048  \\\n",
       "date                                                                          \n",
       "2016-01-01        -12.7         -9.9         -1.0          4.4         -3.2   \n",
       "2016-01-02        -13.8         -8.2          0.6          3.9         -7.8   \n",
       "2016-01-03        -13.2         -5.5         -1.0          2.2        -10.0   \n",
       "2016-01-04         -7.1         -9.3         -2.1          1.1         -7.9   \n",
       "2016-01-05         -2.7         -3.2          1.1          5.6         -1.1   \n",
       "\n",
       "stationid      ...       USW00094990  USW00094991  USW00094992  USW00094993  \\\n",
       "date           ...                                                            \n",
       "2016-01-01     ...              -7.7         -9.3         -8.2         -8.2   \n",
       "2016-01-02     ...              -6.6         -9.9         -4.9         -8.2   \n",
       "2016-01-03     ...             -11.0         -7.1         -7.1        -13.2   \n",
       "2016-01-04     ...              -8.8         -7.1         -9.9        -16.6   \n",
       "2016-01-05     ...              -6.0         -7.7         -2.1         -6.6   \n",
       "\n",
       "stationid   USW00094994  USW00094995  USW00094996  USW00096404  USW00096407  \\\n",
       "date                                                                          \n",
       "2016-01-01         -7.1         -8.9         -9.3        -17.4         -3.0   \n",
       "2016-01-02        -10.5        -10.2         -7.9        -19.5         -3.0   \n",
       "2016-01-03        -10.5         -9.5         -9.5        -16.0         -3.0   \n",
       "2016-01-04        -13.2         -8.6         -9.5        -24.0         -3.2   \n",
       "2016-01-05        -16.0         -7.5         -6.3        -28.0         -3.2   \n",
       "\n",
       "stationid   USW00096408  \n",
       "date                     \n",
       "2016-01-01         -7.0  \n",
       "2016-01-02         -7.0  \n",
       "2016-01-03         -7.0  \n",
       "2016-01-04         -7.0  \n",
       "2016-01-05         -7.0  \n",
       "\n",
       "[5 rows x 797 columns]"
      ]
     },
     "execution_count": 10,
     "metadata": {},
     "output_type": "execute_result"
    }
   ],
   "source": [
    "traindf.head()"
   ]
  },
  {
   "cell_type": "code",
   "execution_count": 11,
   "metadata": {
    "collapsed": false
   },
   "outputs": [
    {
     "data": {
      "text/html": [
       "\n",
       "          <script src=\"/static/components/requirejs/require.js\"></script>\n",
       "          <script>\n",
       "            requirejs.config({\n",
       "              paths: {\n",
       "                base: '/static/base',\n",
       "              },\n",
       "            });\n",
       "          </script>\n",
       "          "
      ],
      "text/plain": [
       "<IPython.core.display.HTML object>"
      ]
     },
     "metadata": {},
     "output_type": "display_data"
    },
    {
     "name": "stdout",
     "output_type": "stream",
     "text": [
      "366 values in the sequence\n"
     ]
    },
    {
     "data": {
      "image/png": "[encoded data removed]",
      "text/plain": [
       "<matplotlib.figure.Figure at 0x7f186f2ea510>"
      ]
     },
     "metadata": {},
     "output_type": "display_data"
    }
   ],
   "source": [
    "seq = traindf.iloc[:,0]\n",
    "print('{} values in the sequence'.format(len(seq)))\n",
    "ax = sns.tsplot(seq)\n",
    "ax.set(xlabel='day-number', ylabel='temperature');"
   ]
  },
  {
   "cell_type": "code",
   "execution_count": 12,
   "metadata": {
    "collapsed": false
   },
   "outputs": [
    {
     "data": {
      "text/html": [
       "\n",
       "          <script src=\"/static/components/requirejs/require.js\"></script>\n",
       "          <script>\n",
       "            requirejs.config({\n",
       "              paths: {\n",
       "                base: '/static/base',\n",
       "              },\n",
       "            });\n",
       "          </script>\n",
       "          "
      ],
      "text/plain": [
       "<IPython.core.display.HTML object>"
      ]
     },
     "metadata": {},
     "output_type": "display_data"
    },
    {
     "data": {
      "text/plain": [
       "u'date,-22.1,-21.0,-17.1,-14.3,-11.0,-3.8,-1.6,-8.8,-6.0,-14.3,-18.2,-19.9,-17.7,-18.2,-8.8,-10.5,-11.0,-10.5,-6.0,-9.3,-13.2,-14.9,-14.9,-7.7,-12.1,-17.7,-16.0,-13.8,-8.2,-1.0,-3.8,-7.1,-9.3,-17.7,-21.6,-16.0,-18.2,-15.5,-14.3,-12.7,-11.6,-11.6,-9.9,-7.7,-8.2,-6.0,-5.5,-4.9,-1.0,-6.0,-6.0,-5.5,-4.3,-6.0,-9.9,-7.1,-6.6,-4.3,-2.7,-3.2,-2.7, 0.0,-2.7,-1.0,-1.0, 2.2,-1.6,-3.8,-5.5,-4.9,-2.7, 3.9,-0.5, 4.4,-1.6,-3.8,-4.3,-2.1,-7.1,-8.2,-2.1, 1.7,-0.5,-2.7,-2.1,-7.1,-8.2,-3.8,-3.2,-4.3,-3.2,-5.5,-4.9,-3.8,-1.0,-1.6,-4.3,-1.6, 0.6, 3.9, 2.8, 1.7, 3.3, 2.8, 3.9, 0.6, 2.8, 2.2, 0.6,-2.1, 4.4, 1.1, 2.2, 8.3, 6.1, 2.2, 1.7, 3.3, 3.3, 4.4, 3.3, 1.7, 4.4, 0.6, 2.8, 4.4, 8.3, 5.0, 1.7, 6.7, 6.7, 0.6, 0.6, 2.2, 4.4, 9.4, 5.6, 3.3, 4.4, 5.6,10.6,10.6, 7.2, 1.7, 2.8, 7.2, 3.3, 6.1, 2.2, 3.3, 4.4, 3.3, 5.0, 6.7, 8.3, 8.9,10.0,10.0, 8.9,10.6,10.0,10.6,11.7,10.0, 9.4, 5.6, 8.3,11.7, 8.3, 8.3,10.0,12.2,13.9,15.6,17.2,13.3,12.8, 9.4, 8.9,11.7,16.7,13.9,15.0,15.0,14.4,11.7,16.7,12.2,10.6,11.1,10.6,12.2,12.8, 7.8, 9.4,10.0,10.6,12.2,12.8,17.8,17.8,14.4,15.0,13.9,13.9,17.8,12.8,18.3,12.2,11.7,12.2,13.3,15.0,12.8,12.8,13.3,17.8,16.1,15.6,11.7,15.0,13.9,13.9,12.8, 8.9, 8.3, 7.8, 9.4,12.8,12.2,12.8,10.0,10.6, 7.8,12.8,10.0,10.6, 8.3, 8.3, 8.9,10.6,10.0, 8.3,11.7,13.3,15.0,13.3,12.8, 9.4, 6.1, 6.7, 5.6, 6.7, 3.9, 5.6, 9.4, 7.2,10.0, 5.6, 3.9, 3.9, 3.3, 5.6, 7.8,13.9,11.1, 6.1, 6.1, 3.3, 3.3, 4.4, 6.1,10.6, 9.4, 6.1, 7.2, 2.8, 1.7,-0.5, 1.1,-2.1,-1.6, 1.7, 1.7, 6.1, 3.9, 2.8, 2.2, 7.2,10.0, 7.2, 3.9,-0.5,-3.8,-3.8,-1.6, 1.1, 1.1, 5.0, 2.8, 2.2, 3.9, 7.8, 7.2, 7.2, 4.4, 1.7,-1.6,-0.5, 4.4, 3.3, 0.0,-1.6,-2.1,-2.7,-2.7,-1.6,-2.1,-3.2,-3.8,-0.5,-3.2,-8.8,-9.3,-0.5, 5.0,-1.6,-4.9,-4.3,-8.8,-8.8,-1.0,-3.2,-8.2,-11.0,-7.1,-6.0,-8.8,-12.1,-4.9,-8.8,-13.2,-15.5,-5.5,-6.6,-3.2,-3.2,-5.5,-2.1,-2.1,-1.0,-13.2,-13.8,-16.6,-12.7,-7.7,-3.2,-1.6,-6.6,-2.7,-9.9,-13.8,-6.0,-9.9,-11.0,-9.3'"
      ]
     },
     "execution_count": 12,
     "metadata": {},
     "output_type": "execute_result"
    }
   ],
   "source": [
    "seq.to_string(index=False).replace('\\n', ',')"
   ]
  },
  {
   "cell_type": "code",
   "execution_count": 13,
   "metadata": {
    "collapsed": false
   },
   "outputs": [
    {
     "data": {
      "text/html": [
       "\n",
       "          <script src=\"/static/components/requirejs/require.js\"></script>\n",
       "          <script>\n",
       "            requirejs.config({\n",
       "              paths: {\n",
       "                base: '/static/base',\n",
       "              },\n",
       "            });\n",
       "          </script>\n",
       "          "
      ],
      "text/plain": [
       "<IPython.core.display.HTML object>"
      ]
     },
     "metadata": {},
     "output_type": "display_data"
    },
    {
     "name": "stdout",
     "output_type": "stream",
     "text": [
      "Before: 14986 null values\n",
      "After: 0 null values\n",
      "Writing 797 sequences to train.csv\n",
      "0...10...20...30...40...50...60...70...80...90...100...110...120...130...140...150...160...170...180...190...200...210...220...230...240...250...260...270...280...290...300...310...320...330...340...350...360...370...380...390...400...410...420...430...440...450...460...470...480...490...500...510...520...530...540...550...560...570...580...590...600...610...620...630...640...650...660...670...680...690...700...710...720...730...740...750...760...770...780...790...Done\n",
      "Before: 6457 null values\n",
      "After: 0 null values\n",
      "Writing 353 sequences to eval.csv\n",
      "0...10...20...30...40...50...60...70...80...90...100...110...120...130...140...150...160...170...180...190...200...210...220...230...240...250...260...270...280...290...300...310...320...330...340...350...Done\n"
     ]
    }
   ],
   "source": [
    "# Save the data to disk in such a way that each time series is on a single line\n",
    "def to_csv(indf, filename):\n",
    "  df = cleanup_nulls(indf, 'tmin')\n",
    "  print('Writing {} sequences to {}'.format(len(df.columns), filename))\n",
    "  with open(filename, 'w') as ofp:\n",
    "    for i in xrange(0, len(df.columns)):\n",
    "      if i%10 == 0:\n",
    "        print('{}'.format(i), end='...')\n",
    "      seq = traindf.iloc[:,i]\n",
    "      line = seq.to_string(index=False, header=False).replace('\\n', ',')\n",
    "      ofp.write(line + '\\n')\n",
    "    print('Done')\n",
    "to_csv(df[df['is_train']], 'train.csv')\n",
    "to_csv(df[~df['is_train']], 'eval.csv')"
   ]
  },
  {
   "cell_type": "code",
   "execution_count": 14,
   "metadata": {
    "collapsed": false
   },
   "outputs": [
    {
     "data": {
      "text/html": [
       "\n",
       "          <script src=\"/static/components/requirejs/require.js\"></script>\n",
       "          <script>\n",
       "            requirejs.config({\n",
       "              paths: {\n",
       "                base: '/static/base',\n",
       "              },\n",
       "            });\n",
       "          </script>\n",
       "          "
      ],
      "text/plain": [
       "<IPython.core.display.HTML object>"
      ]
     },
     "metadata": {},
     "output_type": "display_data"
    },
    {
     "name": "stdout",
     "output_type": "stream",
     "text": [
      "-rw-r--r-- 1 root root  650585 Nov 25 05:51 eval.csv\n",
      "-rw-r--r-- 1 root root 1473277 Nov 25 05:51 train.csv\n",
      "      1     366    1869\n",
      "    353   36319  650585 eval.csv\n",
      "    797   90815 1473277 train.csv\n",
      "   1150  127134 2123862 total\n"
     ]
    }
   ],
   "source": [
    "%bash\n",
    "ls -l *.csv\n",
    "head -1 eval.csv | tr ',' ' ' | wc\n",
    "wc *.csv"
   ]
  },
  {
   "cell_type": "markdown",
   "metadata": {},
   "source": [
    "Our CSV file sequences consist of 366 numbers. For training, each instance's 0~364 numbers are inputs, and 1~365 are truth. However, we will set up the placeholder input for the model to have a variable number of inputs, so that given 0~(N-1) inputs, the model will predict the Nth value. Consequently, we'll train it that way as well."
   ]
  },
  {
   "cell_type": "markdown",
   "metadata": {},
   "source": [
    "# Model\n"
   ]
  },
  {
   "cell_type": "markdown",
   "metadata": {},
   "source": [
    "We will use TensorFlow's [Estimator](https://www.tensorflow.org/api_docs/python/tf/contrib/learn/Estimator) to build our model. Estimators help construct the training/evaluation/prediction graph. They reuse the common graph, and fork only when needed (i.e. input_fn). They also handle model export. Models exported can be deployed to Google Cloud ML Engine for online prediction."
   ]
  },
  {
   "cell_type": "code",
   "execution_count": 15,
   "metadata": {
    "collapsed": false
   },
   "outputs": [
    {
     "data": {
      "text/html": [
       "\n",
       "          <script src=\"/static/components/requirejs/require.js\"></script>\n",
       "          <script>\n",
       "            requirejs.config({\n",
       "              paths: {\n",
       "                base: '/static/base',\n",
       "              },\n",
       "            });\n",
       "          </script>\n",
       "          "
      ],
      "text/plain": [
       "<IPython.core.display.HTML object>"
      ]
     },
     "metadata": {},
     "output_type": "display_data"
    }
   ],
   "source": [
    "import tensorflow as tf\n",
    "import shutil\n",
    "import tensorflow.contrib.learn as tflearn\n",
    "import tensorflow.contrib.layers as tflayers\n",
    "from tensorflow.contrib.learn.python.learn import learn_runner\n",
    "from tensorflow.contrib.learn.python.learn.utils import saved_model_export_utils\n",
    "import tensorflow.contrib.rnn as rnn\n",
    "\n",
    "# tf.decode_csv requires DEFAULTS to infer data types and default values.\n",
    "SEQ_LEN = 366\n",
    "DEFAULTS = [[0.0] for x in xrange(0, SEQ_LEN)]\n",
    "\n",
    "# The Estimator API requires named features.\n",
    "TIMESERIES_FEATURE_NAME = 'rawdata'\n",
    "\n",
    "# Training batch size.\n",
    "BATCH_SIZE = 25"
   ]
  },
  {
   "cell_type": "markdown",
   "metadata": {},
   "source": [
    "## Input\n",
    "\n",
    "Our CSV file structure is quite simple -- a bunch of floating point numbers (note the type of DEFAULTS). We ask for the data to be read BATCH_SIZE sequences at a time."
   ]
  },
  {
   "cell_type": "code",
   "execution_count": 16,
   "metadata": {
    "collapsed": false
   },
   "outputs": [
    {
     "data": {
      "text/html": [
       "\n",
       "          <script src=\"/static/components/requirejs/require.js\"></script>\n",
       "          <script>\n",
       "            requirejs.config({\n",
       "              paths: {\n",
       "                base: '/static/base',\n",
       "              },\n",
       "            });\n",
       "          </script>\n",
       "          "
      ],
      "text/plain": [
       "<IPython.core.display.HTML object>"
      ]
     },
     "metadata": {},
     "output_type": "display_data"
    }
   ],
   "source": [
    "def create_input_fn(filename, mode):  \n",
    "  \"\"\"Creates an input_fn for estimator in training or evaluation.\"\"\"\n",
    "  \n",
    "  def _input_fn():\n",
    "    \"\"\"Returns named features and labels, as required by Estimator.\"\"\"    \n",
    "    # could be a path to one file or a file pattern.\n",
    "    input_file_names = tf.train.match_filenames_once(filename)\n",
    "    \n",
    "    filename_queue = tf.train.string_input_producer(\n",
    "        input_file_names, num_epochs=None, shuffle=True)\n",
    "    reader = tf.TextLineReader()\n",
    "    _, value = reader.read_up_to(filename_queue, num_records=BATCH_SIZE)\n",
    "\n",
    "    # parse the csv values\n",
    "    batch_data = tf.decode_csv(value, record_defaults=DEFAULTS)\n",
    "    batch_data = tf.transpose(batch_data) # [BATCH_SIZE, SEQ_LEN]\n",
    "\n",
    "    # Get x and y. They are both of shape [BATCH_SIZE, SEQ_LEN - 1]\n",
    "    batch_len = tf.shape(batch_data)[0]\n",
    "    x = tf.slice(batch_data, [0, 0], [batch_len, SEQ_LEN-1])\n",
    "    y = tf.slice(batch_data, [0, 1], [batch_len, SEQ_LEN-1])\n",
    "    \n",
    "    return {TIMESERIES_FEATURE_NAME: x}, y   # dict of features, target\n",
    "\n",
    "  return _input_fn"
   ]
  },
  {
   "cell_type": "markdown",
   "metadata": {},
   "source": [
    "## Inference Graph\n",
    "\n",
    "Following Estimator's requirements, we will create a model_fn representing the inference model. Note that this function defines the graph that will be used in training, evaluation and prediction.\n",
    "\n",
    "To supply a model function to the Estimator API, you need to return a ModelFnOps. The rest of the function creates the necessary objects."
   ]
  },
  {
   "cell_type": "code",
   "execution_count": 17,
   "metadata": {
    "collapsed": false
   },
   "outputs": [
    {
     "data": {
      "text/html": [
       "\n",
       "          <script src=\"/static/components/requirejs/require.js\"></script>\n",
       "          <script>\n",
       "            requirejs.config({\n",
       "              paths: {\n",
       "                base: '/static/base',\n",
       "              },\n",
       "            });\n",
       "          </script>\n",
       "          "
      ],
      "text/plain": [
       "<IPython.core.display.HTML object>"
      ]
     },
     "metadata": {},
     "output_type": "display_data"
    }
   ],
   "source": [
    "#  Think of the size of each LSTM unit as the number of features that you want it to extract\n",
    "#  and the number of LSTM units as the complexity with which these features are combined.\n",
    "LSTM_SIZE = [10, 20]\n",
    "DNN_SIZE  = [50, 25]\n",
    "  \n",
    "# scale the temperatures to make the optimization easier; tmin values are -58 to 38, scale it to be 0 to 1\n",
    "def scale_temperature(t):\n",
    "  return (t + 58) / (38+58)\n",
    "\n",
    "def unscale_temperature(sc):\n",
    "  return (sc*(38+58)) - 58\n",
    "\n",
    "def model_fn(features, targets, mode):\n",
    "  \"\"\"Define the inference model.\"\"\"\n",
    "  \n",
    "  # scale the input values to lie between 0-1. this will help optimization\n",
    "  input_seq = scale_temperature(features[TIMESERIES_FEATURE_NAME])\n",
    "  \n",
    "  #lat = features['latitude']\n",
    "\n",
    "  # RNN requires input tensor rank > 2. Adding one dimension.\n",
    "  input_seq = tf.expand_dims(input_seq, axis=-1)\n",
    "  \n",
    "  # LSTM output will be [BATCH_SIZE, SEQ_LEN - 1, lstm_output_size]\n",
    "  lstm_layer = [tf.nn.rnn_cell.LSTMCell(size) for size in LSTM_SIZE]\n",
    "  lstm_cell = tf.nn.rnn_cell.MultiRNNCell(lstm_layer)\n",
    "  lstm_outputs, _ = tf.nn.dynamic_rnn(cell=lstm_cell,\n",
    "                                      inputs=input_seq,\n",
    "                                      dtype=tf.float32)\n",
    "  \n",
    "  # Reshape to [BATCH_SIZE * (SEQ_LEN - 1), lstm_output] so it is 2-D and can\n",
    "  # be fed to next layer.\n",
    "  lstm_outputs = tf.reshape(lstm_outputs, [-1, lstm_cell.output_size])\n",
    "  \n",
    "  #extras = [lstm_outputs, lat, lon]\n",
    "  \n",
    "  # Add hidden layers on top of LSTM layer to add some \"nonlinear\" to the model.\n",
    "  prev_layer = [lstm_outputs]\n",
    "  for h in DNN_SIZE:\n",
    "    hidden1 = tf.contrib.layers.fully_connected(inputs=prev_layer[-1], num_outputs=h)\n",
    "    prev_layer.append(hidden1)\n",
    "    \n",
    "  uniform_initializer = tf.random_uniform_initializer(minval=-0.08, maxval=0.08)\n",
    "  predictions = tf.contrib.layers.fully_connected(inputs=prev_layer[-1],\n",
    "                                                  num_outputs=1,\n",
    "                                                  activation_fn=None,\n",
    "                                                  weights_initializer=uniform_initializer,\n",
    "                                                  biases_initializer=uniform_initializer)\n",
    "\n",
    "  # predictions are all we need when mode is not train/eval.\n",
    "  # but remember to unscale the values\n",
    "  predictions_dict = {\"predicted_temperature\": unscale_temperature(predictions)}\n",
    "\n",
    "  # If train/evaluation, we'll need to compute loss.\n",
    "  # If train, we will also need to create an optimizer.\n",
    "  loss, train_op, eval_metric_ops = None, None, None\n",
    "  if mode == tf.contrib.learn.ModeKeys.TRAIN or mode == tf.contrib.learn.ModeKeys.EVAL:\n",
    "    # scale the temperature so that we match the 0-1 scale of predictions\n",
    "    # it's better to do this rather than unscale the predictions because the\n",
    "    # learning rate and optimizers are all set up for small numbers\n",
    "    targets = scale_temperature(targets)\n",
    "      \n",
    "    # Note: The reshape below is needed because Estimator needs to know\n",
    "    # loss shape. Without reshaping below, loss's shape would be unknown.\n",
    "    targets = tf.reshape(targets, [tf.size(targets)])\n",
    "    predictions = tf.reshape(predictions, [tf.size(predictions)])\n",
    "    loss = tf.losses.mean_squared_error(targets, predictions)\n",
    "    eval_metric_ops = {\n",
    "      \"rmse_scaled\": tf.metrics.root_mean_squared_error(targets, predictions)\n",
    "    }\n",
    "\n",
    "    if mode == tf.contrib.learn.ModeKeys.TRAIN:\n",
    "      train_op = tf.contrib.layers.optimize_loss(\n",
    "          loss=loss,\n",
    "          global_step=tf.contrib.framework.get_global_step(),\n",
    "          learning_rate=0.01,\n",
    "          optimizer=\"Adagrad\")\n",
    "  \n",
    "  # return ModelFnOps as Estimator requires.\n",
    "  return tflearn.ModelFnOps(\n",
    "      mode=mode,\n",
    "      predictions=predictions_dict,\n",
    "      loss=loss,\n",
    "      train_op=train_op,\n",
    "      eval_metric_ops=eval_metric_ops)"
   ]
  },
  {
   "cell_type": "markdown",
   "metadata": {},
   "source": [
    "## Training\n",
    "\n",
    "Distributed training is launched off using an Experiment.  The key line here is that we use tflearn.Estimator rather than, say tflearn.DNNRegressor.  This allows us to provide a model_fn, which will be our RNN defined above.  Note also that we specify a serving_input_fn -- this is how we parse the input data provided to us at prediction time using gcloud or Cloud ML Online Prediction."
   ]
  },
  {
   "cell_type": "code",
   "execution_count": null,
   "metadata": {
    "collapsed": false
   },
   "outputs": [],
   "source": [
    "def get_train():\n",
    "  return create_input_fn('train.csv', mode=tf.contrib.learn.ModeKeys.TRAIN)\n",
    "\n",
    "\n",
    "def get_eval():\n",
    "  return create_input_fn('eval.csv', mode=tf.contrib.learn.ModeKeys.EVAL)\n",
    "\n",
    "\n",
    "def serving_input_fn():\n",
    "  feature_placeholders = {\n",
    "      TIMESERIES_FEATURE_NAME: tf.placeholder(tf.float32, [None, None])\n",
    "  }\n",
    "  return tflearn.utils.input_fn_utils.InputFnOps(\n",
    "      feature_placeholders,\n",
    "      None,\n",
    "      feature_placeholders\n",
    "  )\n",
    "\n",
    "\n",
    "def experiment_fn(output_dir):\n",
    "    \"\"\"An experiment_fn required for Estimator API to run training.\"\"\"\n",
    "\n",
    "    estimator = tflearn.Estimator(model_fn=model_fn,\n",
    "                                  model_dir=output_dir,\n",
    "                                  config=tf.contrib.learn.RunConfig(save_checkpoints_steps=500))\n",
    "    return tflearn.Experiment(\n",
    "        estimator,\n",
    "        train_input_fn=get_train(),\n",
    "        eval_input_fn=get_eval(),\n",
    "        export_strategies=[saved_model_export_utils.make_export_strategy(\n",
    "            serving_input_fn,\n",
    "            default_output_alternative_key=None,\n",
    "            exports_to_keep=1\n",
    "        )],\n",
    "        train_steps=1000\n",
    "    )\n",
    "\n",
    "\n",
    "shutil.rmtree('training', ignore_errors=True) # start fresh each time.\n",
    "learn_runner.run(experiment_fn, 'training')"
   ]
  },
  {
   "cell_type": "markdown",
   "metadata": {},
   "source": [
    "## Model Summary\n",
    "\n",
    "We can plot model's training summary events using Datalab's ML library."
   ]
  },
  {
   "cell_type": "code",
   "execution_count": 19,
   "metadata": {
    "collapsed": false
   },
   "outputs": [
    {
     "data": {
      "text/html": [
       "\n",
       "          <script src=\"/static/components/requirejs/require.js\"></script>\n",
       "          <script>\n",
       "            requirejs.config({\n",
       "              paths: {\n",
       "                base: '/static/base',\n",
       "              },\n",
       "            });\n",
       "          </script>\n",
       "          "
      ],
      "text/plain": [
       "<IPython.core.display.HTML object>"
      ]
     },
     "metadata": {},
     "output_type": "display_data"
    },
    {
     "data": {
      "image/png": "[encoded data removed]",
      "text/plain": [
       "<matplotlib.figure.Figure at 0x7f185912c4d0>"
      ]
     },
     "metadata": {},
     "output_type": "display_data"
    }
   ],
   "source": [
    "from google.datalab.ml import Summary\n",
    "\n",
    "summary = Summary('./training')\n",
    "summary.plot(['OptimizeLoss/loss', 'loss'])"
   ]
  },
  {
   "cell_type": "markdown",
   "metadata": {},
   "source": [
    "# Prediction\n",
    "\n",
    "Let's pull up a curve and see how we do at predicting the last few values of the series. A week's forecast is reasonable."
   ]
  },
  {
   "cell_type": "code",
   "execution_count": 20,
   "metadata": {
    "collapsed": false
   },
   "outputs": [
    {
     "data": {
      "text/html": [
       "\n",
       "          <script src=\"/static/components/requirejs/require.js\"></script>\n",
       "          <script>\n",
       "            requirejs.config({\n",
       "              paths: {\n",
       "                base: '/static/base',\n",
       "              },\n",
       "            });\n",
       "          </script>\n",
       "          "
      ],
      "text/plain": [
       "<IPython.core.display.HTML object>"
      ]
     },
     "metadata": {},
     "output_type": "display_data"
    },
    {
     "name": "stdout",
     "output_type": "stream",
     "text": [
      "285 inputs; expecting 7 outputs\n"
     ]
    },
    {
     "data": {
      "image/png": "[encoded data removed]",
      "text/plain": [
       "<matplotlib.figure.Figure at 0x7f1858f1c510>"
      ]
     },
     "metadata": {},
     "output_type": "display_data"
    }
   ],
   "source": [
    "def get_one_series(filename, dayno):\n",
    "  with open(filename) as fp:\n",
    "    fields = fp.readline().strip().split(',')\n",
    "    prediction_data = map(float, fields)\n",
    "  \n",
    "    # Upto dayno as input; upto dayno+7 as prediction\n",
    "    prediction_x = list(prediction_data[:dayno])\n",
    "    prediction_y = list(prediction_data[dayno:(dayno+7)])\n",
    "\n",
    "    sns.tsplot(prediction_x, color='blue')\n",
    "    y_truth_curve = [np.nan] * (len(prediction_x)-1) + [prediction_x[-1]] + prediction_y\n",
    "    sns.tsplot(y_truth_curve, color='green')\n",
    "    return prediction_x, prediction_y, y_truth_curve\n",
    "\n",
    "prediction_x, prediction_y, y_truth_curve = get_one_series('eval.csv', 285)\n",
    "print('{} inputs; expecting {} outputs'.format(len(prediction_x), len(prediction_y)))"
   ]
  },
  {
   "cell_type": "markdown",
   "metadata": {},
   "source": [
    "First prediction we will do is just sending x, and for each value in x it will return a predicted value which is for the very next time step. And then we can compare the predicted values with the truth (x+1)."
   ]
  },
  {
   "cell_type": "code",
   "execution_count": 21,
   "metadata": {
    "collapsed": false
   },
   "outputs": [
    {
     "data": {
      "text/html": [
       "\n",
       "          <script src=\"/static/components/requirejs/require.js\"></script>\n",
       "          <script>\n",
       "            requirejs.config({\n",
       "              paths: {\n",
       "                base: '/static/base',\n",
       "              },\n",
       "            });\n",
       "          </script>\n",
       "          "
      ],
      "text/plain": [
       "<IPython.core.display.HTML object>"
      ]
     },
     "metadata": {},
     "output_type": "display_data"
    },
    {
     "name": "stdout",
     "output_type": "stream",
     "text": [
      "INFO:tensorflow:Using default config.\n",
      "INFO:tensorflow:Using config: {'_save_checkpoints_secs': 600, '_num_ps_replicas': 0, '_keep_checkpoint_max': 5, '_task_type': None, '_is_chief': True, '_cluster_spec': <tensorflow.python.training.server_lib.ClusterSpec object at 0x7f1859006ed0>, '_model_dir': 'training', '_save_checkpoints_steps': None, '_keep_checkpoint_every_n_hours': 10000, '_session_config': None, '_tf_random_seed': None, '_environment': 'local', '_num_worker_replicas': 0, '_task_id': 0, '_save_summary_steps': 100, '_tf_config': gpu_options {\n",
      "  per_process_gpu_memory_fraction: 1.0\n",
      "}\n",
      ", '_evaluation_master': '', '_master': ''}\n",
      "INFO:tensorflow:Restoring parameters from training/model.ckpt-1000\n"
     ]
    },
    {
     "data": {
      "image/png": "[encoded data removed]",
      "text/plain": [
       "<matplotlib.figure.Figure at 0x7f186ed56d10>"
      ]
     },
     "metadata": {},
     "output_type": "display_data"
    }
   ],
   "source": [
    "# Load model.\n",
    "estimator = tflearn.Estimator(model_fn=model_fn, model_dir='training')\n",
    "\n",
    "# Feed Prediction data.\n",
    "predict_input_fn = lambda: {TIMESERIES_FEATURE_NAME: tf.constant([prediction_x])}\n",
    "\n",
    "predicted = list(estimator.predict(input_fn=predict_input_fn))\n",
    "predicted = [p['predicted_temperature'] for p in predicted]\n",
    "\n",
    "# Plot prediction source.\n",
    "sns.tsplot(prediction_x, color='green')\n",
    "\n",
    "# Plot predicted values.\n",
    "sns.tsplot([prediction_x[0]] + predicted, color='red');"
   ]
  },
  {
   "cell_type": "markdown",
   "metadata": {},
   "source": [
    "This time, let's send in x, and predict next n values.\n",
    "The way we do this is to invoke the prediction on x, take the prediction, append it to x and make another prediction.\n",
    "Repeat n times and we've created n predictions."
   ]
  },
  {
   "cell_type": "code",
   "execution_count": 22,
   "metadata": {
    "collapsed": false
   },
   "outputs": [
    {
     "data": {
      "text/html": [
       "\n",
       "          <script src=\"/static/components/requirejs/require.js\"></script>\n",
       "          <script>\n",
       "            requirejs.config({\n",
       "              paths: {\n",
       "                base: '/static/base',\n",
       "              },\n",
       "            });\n",
       "          </script>\n",
       "          "
      ],
      "text/plain": [
       "<IPython.core.display.HTML object>"
      ]
     },
     "metadata": {},
     "output_type": "display_data"
    },
    {
     "name": "stdout",
     "output_type": "stream",
     "text": [
      "INFO:tensorflow:Using default config.\n",
      "INFO:tensorflow:Using config: {'_save_checkpoints_secs': 600, '_num_ps_replicas': 0, '_keep_checkpoint_max': 5, '_task_type': None, '_is_chief': True, '_cluster_spec': <tensorflow.python.training.server_lib.ClusterSpec object at 0x7f186e908e90>, '_model_dir': 'training', '_save_checkpoints_steps': None, '_keep_checkpoint_every_n_hours': 10000, '_session_config': None, '_tf_random_seed': None, '_environment': 'local', '_num_worker_replicas': 0, '_task_id': 0, '_save_summary_steps': 100, '_tf_config': gpu_options {\n",
      "  per_process_gpu_memory_fraction: 1.0\n",
      "}\n",
      ", '_evaluation_master': '', '_master': ''}\n",
      "INFO:tensorflow:Restoring parameters from training/model.ckpt-1000\n",
      "INFO:tensorflow:Restoring parameters from training/model.ckpt-1000\n",
      "INFO:tensorflow:Restoring parameters from training/model.ckpt-1000\n",
      "INFO:tensorflow:Restoring parameters from training/model.ckpt-1000\n",
      "INFO:tensorflow:Restoring parameters from training/model.ckpt-1000\n",
      "INFO:tensorflow:Restoring parameters from training/model.ckpt-1000\n",
      "INFO:tensorflow:Restoring parameters from training/model.ckpt-1000\n"
     ]
    },
    {
     "data": {
      "text/plain": [
       "<matplotlib.axes._subplots.AxesSubplot at 0x7f186bbbe090>"
      ]
     },
     "execution_count": 22,
     "metadata": {},
     "output_type": "execute_result"
    },
    {
     "data": {
      "image/png": "[encoded data removed]",
      "text/plain": [
       "<matplotlib.figure.Figure at 0x7f1859006fd0>"
      ]
     },
     "metadata": {},
     "output_type": "display_data"
    }
   ],
   "source": [
    "estimator = tflearn.Estimator(model_fn=model_fn, model_dir='training')\n",
    "\n",
    "# Prediction data starts with x.\n",
    "x_total = list(prediction_x)\n",
    "\n",
    "# Make n predictions.\n",
    "for i in range(len(prediction_y)):\n",
    "  predict_input_fn = lambda: {TIMESERIES_FEATURE_NAME: tf.constant([x_total])}\n",
    "  p = list(estimator.predict(input_fn=predict_input_fn))\n",
    "  # For each step, append the tail element of last predicted values.  \n",
    "  x_total.append(p[-1]['predicted_temperature'])\n",
    "\n",
    "# The first len(prediction_x) elements are prediction source. So remove them.\n",
    "y_predicted = x_total[len(prediction_x):]\n",
    "\n",
    "# Zero out prediction source (making them nan), add the last value of prediction source\n",
    "# so the first edge in the curve is plotted, and add predicted values.\n",
    "y_predicted_curve = [np.nan] * (len(prediction_x)-1) + [prediction_x[-1]] + y_predicted\n",
    "\n",
    "# Plot prediction source.\n",
    "sns.tsplot(prediction_x, color='blue')\n",
    "\n",
    "# Plot truth curve.\n",
    "sns.tsplot(y_truth_curve, color='green')\n",
    "\n",
    "# Plot predicted curve.\n",
    "sns.tsplot(y_predicted_curve, color='red')"
   ]
  },
  {
   "cell_type": "code",
   "execution_count": null,
   "metadata": {
    "collapsed": true
   },
   "outputs": [],
   "source": []
  }
 ],
 "metadata": {
  "kernelspec": {
   "display_name": "Python 2",
   "language": "python",
   "name": "python2"
  },
  "language_info": {
   "codemirror_mode": {
    "name": "ipython",
    "version": 2
   },
   "file_extension": ".py",
   "mimetype": "text/x-python",
   "name": "python",
   "nbconvert_exporter": "python",
   "pygments_lexer": "ipython2",
   "version": "2.7.12"
  }
 },
 "nbformat": 4,
 "nbformat_minor": 2
}
