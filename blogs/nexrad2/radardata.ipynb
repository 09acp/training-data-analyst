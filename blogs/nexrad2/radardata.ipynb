{
 "cells": [
  {
   "cell_type": "markdown",
   "metadata": {},
   "source": [
    "<h1> Reading NEXRAD Level II data from Google Cloud public datasets </h1>\n",
    "\n",
    "This notebook demonstrates how to use PyART to visualize data from the Google Cloud public dataset."
   ]
  },
  {
   "cell_type": "code",
   "execution_count": 34,
   "metadata": {
    "collapsed": false
   },
   "outputs": [
    {
     "name": "stdout",
     "output_type": "stream",
     "text": [
      "KAMA20160503_000609_V06.gz\n",
      "KAMA20160503_001555_V06.gz\n",
      "KAMA20160503_002539_V06.gz\n",
      "KAMA20160503_003524_V06.gz\n",
      "KAMA20160503_004509_V06.gz\n",
      "KAMA20160503_005454_V06.gz\n",
      "KAMA20160503_000609_V06.gz\n",
      "KAMA20160503_001555_V06.gz\n",
      "KAMA20160503_002539_V06.gz\n",
      "KAMA20160503_003524_V06.gz\n",
      "KAMA20160503_004509_V06.gz\n",
      "KAMA20160503_005454_V06.gz\n"
     ]
    },
    {
     "name": "stderr",
     "output_type": "stream",
     "text": [
      "mkdir: cannot create directory 'data': File exists\n",
      "Copying gs://gcp-public-data-nexrad-l2/2016/05/03/KAMA/NWS_NEXRAD_NXL2DP_KAMA_20160503000000_20160503005959.tar...\n",
      "/ [0 files][    0.0 B/ 14.8 MiB]                                                \r",
      "-\r",
      "- [0 files][  2.8 MiB/ 14.8 MiB]                                                \r",
      "\\\r",
      "|\r",
      "| [0 files][  8.0 MiB/ 14.8 MiB]                                                \r",
      "/\r",
      "/ [0 files][ 12.6 MiB/ 14.8 MiB]                                                \r",
      "-\r",
      "- [1 files][ 14.8 MiB/ 14.8 MiB]                                                \r\n",
      "Operation completed over 1 objects/14.8 MiB.                                     \n"
     ]
    }
   ],
   "source": [
    "%bash\n",
    "mkdir data\n",
    "cd data\n",
    "gsutil cp gs://gcp-public-data-nexrad-l2/2016/05/03/KAMA/NWS_NEXRAD_NXL2DP_KAMA_20160503000000_20160503005959.tar temp.tar\n",
    "tar xvf temp.tar\n",
    "rm *.tar\n",
    "ls"
   ]
  },
  {
   "cell_type": "code",
   "execution_count": null,
   "metadata": {
    "collapsed": true
   },
   "outputs": [],
   "source": [
    "# plotting example from \n",
    "# http://arm-doe.github.io/pyart/dev/auto_examples/plotting/plot_nexrad_multiple_moments.html\n",
    "# by Jonathan J. Helmus (jhelmus@anl.gov)\n",
    "def plot_data(filename):\n",
    "  import matplotlib.pyplot as plt\n",
    "  import pyart\n",
    "  radar = pyart.io.read_nexrad_archive(filename)\n",
    "  display = pyart.graph.RadarDisplay(radar)\n",
    "  fig = plt.figure(figsize=(10, 10))\n",
    "\n",
    "  ax = fig.add_subplot(221)\n",
    "  display.plot('velocity', 1, ax=ax, title='Doppler Velocity',\n",
    "             colorbar_label='',\n",
    "             axislabels=('', 'North South distance from radar (km)'))\n",
    "  display.set_limits((-300, 300), (-300, 300), ax=ax)\n",
    "  ax = fig.add_subplot(222)\n",
    "  display.plot('differential_reflectivity', 0, ax=ax,\n",
    "             title='Differential Reflectivity', colorbar_label='',\n",
    "             axislabels=('', ''))\n",
    "  display.set_limits((-300, 300), (-300, 300), ax=ax)\n",
    "\n",
    "  ax = fig.add_subplot(223)\n",
    "  display.plot('differential_phase', 0, ax=ax,\n",
    "             title='Differential Phase', colorbar_label='')\n",
    "  display.set_limits((-300, 300), (-300, 300), ax=ax)\n",
    "\n",
    "  ax = fig.add_subplot(224)\n",
    "  display.plot('cross_correlation_ratio', 0, ax=ax,\n",
    "             title='Correlation Coefficient', colorbar_label='',\n",
    "             axislabels=('East West distance from radar (km)', ''))\n",
    "  display.set_limits((-300, 300), (-300, 300), ax=ax)\n",
    "\n",
    "  plt.show()"
   ]
  }
 ],
 "metadata": {
  "kernelspec": {
   "display_name": "Python 2",
   "language": "python",
   "name": "python2"
  },
  "language_info": {
   "codemirror_mode": {
    "name": "ipython",
    "version": 2
   },
   "file_extension": ".py",
   "mimetype": "text/x-python",
   "name": "python",
   "nbconvert_exporter": "python",
   "pygments_lexer": "ipython2",
   "version": "2.7.9"
  }
 },
 "nbformat": 4,
 "nbformat_minor": 2
}
