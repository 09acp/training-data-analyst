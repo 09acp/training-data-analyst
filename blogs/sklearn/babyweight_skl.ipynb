{
 "cells": [
  {
   "cell_type": "markdown",
   "metadata": {
    "deletable": true,
    "editable": true
   },
   "source": [
    "<h1> Structured data prediction using Cloud ML Engine with scikit-learn </h1>\n",
    "\n",
    "This notebook illustrates:\n",
    "<ol>\n",
    "<li> Creating datasets for Machine Learning using BigQuery\n",
    "<li> Creating a model using scitkit learn \n",
    "<li> Training on Cloud ML Engine\n",
    "<li> Deploying model\n",
    "<li> Predicting with model\n",
    "</ol>"
   ]
  },
  {
   "cell_type": "code",
   "execution_count": 57,
   "metadata": {
    "collapsed": true,
    "deletable": true,
    "editable": true
   },
   "outputs": [],
   "source": [
    "# change these to try this notebook out\n",
    "BUCKET = 'cloud-training-demos-ml'\n",
    "PROJECT = 'cloud-training-demos'\n",
    "REGION = 'us-central1'"
   ]
  },
  {
   "cell_type": "code",
   "execution_count": 79,
   "metadata": {
    "collapsed": true,
    "deletable": true,
    "editable": true
   },
   "outputs": [],
   "source": [
    "import os\n",
    "os.environ['BUCKET'] = BUCKET\n",
    "os.environ['PROJECT'] = PROJECT\n",
    "os.environ['REGION'] = REGION"
   ]
  },
  {
   "cell_type": "code",
   "execution_count": 3,
   "metadata": {
    "collapsed": false,
    "deletable": true,
    "editable": true
   },
   "outputs": [
    {
     "name": "stderr",
     "output_type": "stream",
     "text": [
      "Updated property [core/project].\n",
      "Updated property [compute/region].\n"
     ]
    }
   ],
   "source": [
    "%bash\n",
    "gcloud config set project $PROJECT\n",
    "gcloud config set compute/region $REGION"
   ]
  },
  {
   "cell_type": "code",
   "execution_count": 4,
   "metadata": {
    "collapsed": false,
    "deletable": true,
    "editable": true
   },
   "outputs": [],
   "source": [
    "%%bash\n",
    "if ! gsutil ls | grep -q gs://${BUCKET}/; then\n",
    "  gsutil mb -l ${REGION} gs://${BUCKET}\n",
    "fi"
   ]
  },
  {
   "cell_type": "markdown",
   "metadata": {
    "deletable": true,
    "editable": true
   },
   "source": [
    "## Exploring dataset\n",
    "\n",
    "Please see [this notebook](../babyweight/babyweight.ipynb) for more context on this problem and how the features were chosen."
   ]
  },
  {
   "cell_type": "code",
   "execution_count": 76,
   "metadata": {
    "collapsed": false
   },
   "outputs": [],
   "source": [
    "#%writefile babyweight/trainer/model.py\n",
    "\n",
    "# Copyright 2018 Google Inc. All Rights Reserved.\n",
    "#\n",
    "# Licensed under the Apache License, Version 2.0 (the \"License\");\n",
    "# you may not use this file except in compliance with the License.\n",
    "# You may obtain a copy of the License at\n",
    "#\n",
    "#     http://www.apache.org/licenses/LICENSE-2.0\n",
    "#\n",
    "# Unless required by applicable law or agreed to in writing, software\n",
    "# distributed under the License is distributed on an \"AS IS\" BASIS,\n",
    "# WITHOUT WARRANTIES OR CONDITIONS OF ANY KIND, either express or implied.\n",
    "# See the License for the specific language governing permissions and\n",
    "# limitations under the License."
   ]
  },
  {
   "cell_type": "markdown",
   "metadata": {
    "deletable": true,
    "editable": true
   },
   "source": [
    "<h2> Creating a ML dataset using BigQuery </h2>\n",
    "\n",
    "We can use BigQuery to create the training and evaluation datasets. Because of the masking (ultrasound vs. no ultrasound), the query itself is a little complex."
   ]
  },
  {
   "cell_type": "code",
   "execution_count": 24,
   "metadata": {
    "collapsed": false,
    "deletable": true,
    "editable": true
   },
   "outputs": [],
   "source": [
    "#%writefile -a babyweight/trainer/model.py\n",
    "def create_queries():\n",
    "  query_all = \"\"\"\n",
    "  WITH with_ultrasound AS (\n",
    "    SELECT\n",
    "      weight_pounds AS label,\n",
    "      CAST(is_male AS STRING) AS is_male,\n",
    "      mother_age,\n",
    "      CAST(plurality AS STRING) AS plurality,\n",
    "      gestation_weeks,\n",
    "      ABS(FARM_FINGERPRINT(CONCAT(CAST(YEAR AS STRING), CAST(month AS STRING)))) AS hashmonth\n",
    "    FROM\n",
    "      publicdata.samples.natality\n",
    "    WHERE\n",
    "      year > 2000\n",
    "      AND gestation_weeks > 0\n",
    "      AND mother_age > 0\n",
    "      AND plurality > 0\n",
    "      AND weight_pounds > 0\n",
    "  ),\n",
    "\n",
    "  without_ultrasound AS (\n",
    "    SELECT\n",
    "      weight_pounds AS label,\n",
    "      'Unknown' AS is_male,\n",
    "      mother_age,\n",
    "      IF(plurality > 1, 'Multiple', 'Single') AS plurality,\n",
    "      gestation_weeks,\n",
    "      ABS(FARM_FINGERPRINT(CONCAT(CAST(YEAR AS STRING), CAST(month AS STRING)))) AS hashmonth\n",
    "    FROM\n",
    "      publicdata.samples.natality\n",
    "    WHERE\n",
    "      year > 2000\n",
    "      AND gestation_weeks > 0\n",
    "      AND mother_age > 0\n",
    "      AND plurality > 0\n",
    "      AND weight_pounds > 0\n",
    "  ),\n",
    "\n",
    "  preprocessed AS (\n",
    "    SELECT * from with_ultrasound\n",
    "    UNION ALL\n",
    "    SELECT * from without_ultrasound\n",
    "  )\n",
    "\n",
    "  SELECT\n",
    "      label,\n",
    "      is_male,\n",
    "      mother_age,\n",
    "      plurality,\n",
    "      gestation_weeks\n",
    "  FROM\n",
    "      preprocessed\n",
    "  \"\"\"\n",
    "\n",
    "  train_query = \"{} WHERE MOD(hashmonth, 4) < 3\".format(query_all)\n",
    "  eval_query  = \"{} WHERE MOD(hashmonth, 4) = 3\".format(query_all)\n",
    "  return train_query, eval_query"
   ]
  },
  {
   "cell_type": "code",
   "execution_count": 23,
   "metadata": {
    "collapsed": false
   },
   "outputs": [
    {
     "name": "stdout",
     "output_type": "stream",
     "text": [
      "\n",
      "  WITH with_ultrasound AS (\n",
      "    SELECT\n",
      "      weight_pounds AS label,\n",
      "      CAST(is_male AS STRING) AS is_male,\n",
      "      mother_age,\n",
      "      CAST(plurality AS STRING) AS plurality,\n",
      "      gestation_weeks,\n",
      "      ABS(FARM_FINGERPRINT(CONCAT(CAST(YEAR AS STRING), CAST(month AS STRING)))) AS hashmonth\n",
      "    FROM\n",
      "      publicdata.samples.natality\n",
      "    WHERE\n",
      "      year > 2000\n",
      "      AND gestation_weeks > 0\n",
      "      AND mother_age > 0\n",
      "      AND plurality > 0\n",
      "      AND weight_pounds > 0\n",
      "  ),\n",
      "\n",
      "  without_ultrasound AS (\n",
      "    SELECT\n",
      "      weight_pounds AS label,\n",
      "      'Unknown' AS is_male,\n",
      "      mother_age,\n",
      "      IF(plurality > 1, 'Multiple', 'Single') AS plurality,\n",
      "      gestation_weeks,\n",
      "      ABS(FARM_FINGERPRINT(CONCAT(CAST(YEAR AS STRING), CAST(month AS STRING)))) AS hashmonth\n",
      "    FROM\n",
      "      publicdata.samples.natality\n",
      "    WHERE\n",
      "      year > 2000\n",
      "      AND gestation_weeks > 0\n",
      "      AND mother_age > 0\n",
      "      AND plurality > 0\n",
      "      AND weight_pounds > 0\n",
      "  ),\n",
      "\n",
      "  preprocessed AS (\n",
      "    SELECT * from with_ultrasound\n",
      "    UNION ALL\n",
      "    SELECT * from without_ultrasound\n",
      "  )\n",
      "\n",
      "  SELECT\n",
      "      label,\n",
      "      is_male,\n",
      "      mother_age,\n",
      "      plurality,\n",
      "      gestation_weeks\n",
      "  FROM\n",
      "      preprocessed\n",
      "   WHERE MOD(hashmonth, 4) < 3\n"
     ]
    }
   ],
   "source": [
    "print create_queries()[0]"
   ]
  },
  {
   "cell_type": "code",
   "execution_count": 25,
   "metadata": {
    "collapsed": true
   },
   "outputs": [],
   "source": [
    "#%writefile -a babyweight/trainer/model.py\n",
    "def create_dataframes(frac = None):\n",
    "  # small dataset for testing\n",
    "  if frac > 0 and frac < 1:\n",
    "    sample = \" AND RAND() < {}\".format(frac)\n",
    "  else:\n",
    "    sample = \"\"\n",
    "\n",
    "  train_query, eval_query = create_queries()\n",
    "  train_query = \"{} {}\".format(train_query, sample)\n",
    "  eval_query =  \"{} {}\".format(eval_query, sample)\n",
    "  \n",
    "  import google.datalab.bigquery as bq\n",
    "  train_df = bq.Query(train_query).execute().result().to_dataframe()\n",
    "  eval_df  = bq.Query(eval_query).execute().result().to_dataframe()\n",
    "  return train_df, eval_df"
   ]
  },
  {
   "cell_type": "code",
   "execution_count": 20,
   "metadata": {
    "collapsed": false,
    "deletable": true,
    "editable": true
   },
   "outputs": [
    {
     "data": {
      "text/html": [
       "<div>\n",
       "<style scoped>\n",
       "    .dataframe tbody tr th:only-of-type {\n",
       "        vertical-align: middle;\n",
       "    }\n",
       "\n",
       "    .dataframe tbody tr th {\n",
       "        vertical-align: top;\n",
       "    }\n",
       "\n",
       "    .dataframe thead th {\n",
       "        text-align: right;\n",
       "    }\n",
       "</style>\n",
       "<table border=\"1\" class=\"dataframe\">\n",
       "  <thead>\n",
       "    <tr style=\"text-align: right;\">\n",
       "      <th></th>\n",
       "      <th>label</th>\n",
       "      <th>mother_age</th>\n",
       "      <th>gestation_weeks</th>\n",
       "    </tr>\n",
       "  </thead>\n",
       "  <tbody>\n",
       "    <tr>\n",
       "      <th>count</th>\n",
       "      <td>53092.000000</td>\n",
       "      <td>53092.000000</td>\n",
       "      <td>53092.000000</td>\n",
       "    </tr>\n",
       "    <tr>\n",
       "      <th>mean</th>\n",
       "      <td>7.227666</td>\n",
       "      <td>27.369905</td>\n",
       "      <td>38.615592</td>\n",
       "    </tr>\n",
       "    <tr>\n",
       "      <th>std</th>\n",
       "      <td>1.312254</td>\n",
       "      <td>6.206432</td>\n",
       "      <td>2.537291</td>\n",
       "    </tr>\n",
       "    <tr>\n",
       "      <th>min</th>\n",
       "      <td>0.500449</td>\n",
       "      <td>12.000000</td>\n",
       "      <td>17.000000</td>\n",
       "    </tr>\n",
       "    <tr>\n",
       "      <th>25%</th>\n",
       "      <td>6.563162</td>\n",
       "      <td>22.000000</td>\n",
       "      <td>38.000000</td>\n",
       "    </tr>\n",
       "    <tr>\n",
       "      <th>50%</th>\n",
       "      <td>7.312733</td>\n",
       "      <td>27.000000</td>\n",
       "      <td>39.000000</td>\n",
       "    </tr>\n",
       "    <tr>\n",
       "      <th>75%</th>\n",
       "      <td>8.046873</td>\n",
       "      <td>32.000000</td>\n",
       "      <td>40.000000</td>\n",
       "    </tr>\n",
       "    <tr>\n",
       "      <th>max</th>\n",
       "      <td>13.776687</td>\n",
       "      <td>50.000000</td>\n",
       "      <td>47.000000</td>\n",
       "    </tr>\n",
       "  </tbody>\n",
       "</table>\n",
       "</div>"
      ],
      "text/plain": [
       "              label    mother_age  gestation_weeks\n",
       "count  53092.000000  53092.000000     53092.000000\n",
       "mean       7.227666     27.369905        38.615592\n",
       "std        1.312254      6.206432         2.537291\n",
       "min        0.500449     12.000000        17.000000\n",
       "25%        6.563162     22.000000        38.000000\n",
       "50%        7.312733     27.000000        39.000000\n",
       "75%        8.046873     32.000000        40.000000\n",
       "max       13.776687     50.000000        47.000000"
      ]
     },
     "execution_count": 20,
     "metadata": {},
     "output_type": "execute_result"
    }
   ],
   "source": [
    "train_df, eval_df = create_dataframes(0.001)\n",
    "train_df.describe()"
   ]
  },
  {
   "cell_type": "code",
   "execution_count": 21,
   "metadata": {
    "collapsed": false
   },
   "outputs": [
    {
     "data": {
      "text/html": [
       "<div>\n",
       "<style scoped>\n",
       "    .dataframe tbody tr th:only-of-type {\n",
       "        vertical-align: middle;\n",
       "    }\n",
       "\n",
       "    .dataframe tbody tr th {\n",
       "        vertical-align: top;\n",
       "    }\n",
       "\n",
       "    .dataframe thead th {\n",
       "        text-align: right;\n",
       "    }\n",
       "</style>\n",
       "<table border=\"1\" class=\"dataframe\">\n",
       "  <thead>\n",
       "    <tr style=\"text-align: right;\">\n",
       "      <th></th>\n",
       "      <th>label</th>\n",
       "      <th>is_male</th>\n",
       "      <th>mother_age</th>\n",
       "      <th>plurality</th>\n",
       "      <th>gestation_weeks</th>\n",
       "    </tr>\n",
       "  </thead>\n",
       "  <tbody>\n",
       "    <tr>\n",
       "      <th>0</th>\n",
       "      <td>0.873031</td>\n",
       "      <td>false</td>\n",
       "      <td>23</td>\n",
       "      <td>1</td>\n",
       "      <td>17</td>\n",
       "    </tr>\n",
       "    <tr>\n",
       "      <th>1</th>\n",
       "      <td>0.813506</td>\n",
       "      <td>Unknown</td>\n",
       "      <td>19</td>\n",
       "      <td>Single</td>\n",
       "      <td>19</td>\n",
       "    </tr>\n",
       "    <tr>\n",
       "      <th>2</th>\n",
       "      <td>0.619499</td>\n",
       "      <td>false</td>\n",
       "      <td>19</td>\n",
       "      <td>2</td>\n",
       "      <td>19</td>\n",
       "    </tr>\n",
       "    <tr>\n",
       "      <th>3</th>\n",
       "      <td>0.500449</td>\n",
       "      <td>Unknown</td>\n",
       "      <td>30</td>\n",
       "      <td>Single</td>\n",
       "      <td>19</td>\n",
       "    </tr>\n",
       "    <tr>\n",
       "      <th>4</th>\n",
       "      <td>0.626113</td>\n",
       "      <td>true</td>\n",
       "      <td>18</td>\n",
       "      <td>1</td>\n",
       "      <td>20</td>\n",
       "    </tr>\n",
       "  </tbody>\n",
       "</table>\n",
       "</div>"
      ],
      "text/plain": [
       "      label  is_male  mother_age plurality  gestation_weeks\n",
       "0  0.873031    false          23         1               17\n",
       "1  0.813506  Unknown          19    Single               19\n",
       "2  0.619499    false          19         2               19\n",
       "3  0.500449  Unknown          30    Single               19\n",
       "4  0.626113     true          18         1               20"
      ]
     },
     "execution_count": 21,
     "metadata": {},
     "output_type": "execute_result"
    }
   ],
   "source": [
    "eval_df.head()"
   ]
  },
  {
   "cell_type": "markdown",
   "metadata": {
    "deletable": true,
    "editable": true
   },
   "source": [
    "<h2> Creating a scikit-learn model using random forests </h2>\n",
    "\n",
    "Let's train the model locally"
   ]
  },
  {
   "cell_type": "code",
   "execution_count": 90,
   "metadata": {
    "collapsed": false
   },
   "outputs": [],
   "source": [
    "#%writefile -a babyweight/trainer/model.py\n",
    "def input_fn(indf):\n",
    "  import copy\n",
    "  import pandas as pd\n",
    "  df = copy.deepcopy(indf)\n",
    "\n",
    "  # one-hot encode the categorical columns\n",
    "  df[\"plurality\"] = df[\"plurality\"].astype(pd.api.types.CategoricalDtype(\n",
    "                    categories=[\"Single\",\"Multiple\",\"1\",\"2\",\"3\",\"4\",\"5\"]))\n",
    "  df[\"is_male\"] = df[\"is_male\"].astype(pd.api.types.CategoricalDtype(\n",
    "                  categories=[\"Unknown\",\"0\",\"1\"]))\n",
    "  # features, label\n",
    "  label = df['label']\n",
    "  del df['label']\n",
    "  features = pd.get_dummies(df)\n",
    "  return features, label"
   ]
  },
  {
   "cell_type": "code",
   "execution_count": 91,
   "metadata": {
    "collapsed": false
   },
   "outputs": [
    {
     "name": "stdout",
     "output_type": "stream",
     "text": [
      "   mother_age  gestation_weeks  is_male_Unknown  is_male_0  is_male_1  \\\n",
      "0          23               17                1          0          0   \n",
      "1          35               17                0          0          0   \n",
      "2          37               17                1          0          0   \n",
      "3          20               18                1          0          0   \n",
      "4          26               18                0          0          0   \n",
      "\n",
      "   plurality_Single  plurality_Multiple  plurality_1  plurality_2  \\\n",
      "0                 1                   0            0            0   \n",
      "1                 0                   0            1            0   \n",
      "2                 0                   1            0            0   \n",
      "3                 1                   0            0            0   \n",
      "4                 0                   0            1            0   \n",
      "\n",
      "   plurality_3  plurality_4  plurality_5  \n",
      "0            0            0            0  \n",
      "1            0            0            0  \n",
      "2            0            0            0  \n",
      "3            0            0            0  \n",
      "4            0            0            0  \n",
      "0    1.322774\n",
      "1    0.500449\n",
      "2    1.563077\n",
      "3    1.926840\n",
      "4    0.848780\n",
      "Name: label, dtype: float64\n"
     ]
    }
   ],
   "source": [
    "train_x, train_y = input_fn(train_df)\n",
    "print(train_x[:5])\n",
    "print(train_y[:5])"
   ]
  },
  {
   "cell_type": "code",
   "execution_count": 48,
   "metadata": {
    "collapsed": false
   },
   "outputs": [
    {
     "data": {
      "text/plain": [
       "RandomForestRegressor(bootstrap=True, criterion='mse', max_depth=5,\n",
       "           max_features='auto', max_leaf_nodes=None,\n",
       "           min_impurity_decrease=0.0, min_impurity_split=None,\n",
       "           min_samples_leaf=1, min_samples_split=2,\n",
       "           min_weight_fraction_leaf=0.0, n_estimators=100, n_jobs=1,\n",
       "           oob_score=False, random_state=0, verbose=0, warm_start=False)"
      ]
     },
     "execution_count": 48,
     "metadata": {},
     "output_type": "execute_result"
    }
   ],
   "source": [
    "from sklearn.ensemble import RandomForestRegressor\n",
    "estimator = RandomForestRegressor(max_depth=5, n_estimators=100, random_state=0)\n",
    "estimator.fit(train_x, train_y)"
   ]
  },
  {
   "cell_type": "code",
   "execution_count": 49,
   "metadata": {
    "collapsed": false
   },
   "outputs": [
    {
     "name": "stdout",
     "output_type": "stream",
     "text": [
      "[5.25707439 6.27823851 5.21946407 6.27823851 5.25707439]\n",
      "1000    5.187477\n",
      "1001    3.937456\n",
      "1002    5.749656\n",
      "1003    7.813183\n",
      "1004    4.874421\n",
      "Name: label, dtype: float64\n",
      "0.3806785037567018\n"
     ]
    },
    {
     "name": "stderr",
     "output_type": "stream",
     "text": [
      "/usr/local/envs/py2env/lib/python2.7/site-packages/ipykernel/__main__.py:9: FutureWarning: specifying 'categories' or 'ordered' in .astype() is deprecated; pass a CategoricalDtype instead\n",
      "/usr/local/envs/py2env/lib/python2.7/site-packages/ipykernel/__main__.py:11: FutureWarning: specifying 'categories' or 'ordered' in .astype() is deprecated; pass a CategoricalDtype instead\n"
     ]
    }
   ],
   "source": [
    "#print(estimator.feature_importances_)\n",
    "eval_x, eval_y = input_fn(eval_df)\n",
    "print(estimator.predict(eval_x)[1000:1005])\n",
    "print(eval_y[1000:1005])\n",
    "print(estimator.score(eval_x, eval_y))"
   ]
  },
  {
   "cell_type": "code",
   "execution_count": 52,
   "metadata": {
    "collapsed": false
   },
   "outputs": [],
   "source": [
    "#%writefile -a babyweight/trainer/model.py\n",
    "def train_and_evaluate(frac=0.001):\n",
    "  # get data\n",
    "  train_df, eval_df = create_dataframes(frac)\n",
    "  train_x, train_y = input_fn(train_df)\n",
    "  # train\n",
    "  from sklearn.ensemble import RandomForestRegressor\n",
    "  estimator = RandomForestRegressor(max_depth=5, n_estimators=100, random_state=0)\n",
    "  estimator.fit(train_x, train_y)\n",
    "  # evaluate\n",
    "  eval_x, eval_y = input_fn(eval_df)\n",
    "  print(\"Eval score={}\".format(estimator.score(eval_x, eval_y)))\n",
    "  return estimator"
   ]
  },
  {
   "cell_type": "code",
   "execution_count": 72,
   "metadata": {
    "collapsed": false
   },
   "outputs": [],
   "source": [
    "#%writefile -a babyweight/trainer/model.py\n",
    "def save_model(estimator, gcspath, name):\n",
    "  from sklearn.externals import joblib\n",
    "  import os, subprocess, datetime\n",
    "  model = '{}.joblib'.format(name)\n",
    "  joblib.dump(estimator, model)\n",
    "  model_path = os.path.join(gcspath, datetime.datetime.now().strftime(\n",
    "    'export_%Y%m%d_%H%M%S'), model)\n",
    "  subprocess.check_call(['gsutil', 'cp', model, model_path])\n",
    "  return model_path"
   ]
  },
  {
   "cell_type": "code",
   "execution_count": 69,
   "metadata": {
    "collapsed": false
   },
   "outputs": [],
   "source": [
    "saved = save_model(estimator, 'gs://{}/babyweight/sklearn'.format(BUCKET), 'babyweight')"
   ]
  },
  {
   "cell_type": "code",
   "execution_count": 70,
   "metadata": {
    "collapsed": false
   },
   "outputs": [
    {
     "name": "stdout",
     "output_type": "stream",
     "text": [
      "gs://cloud-training-demos-ml/babyweight/sklearn/export_20180524_233356/babyweight.joblib\n"
     ]
    }
   ],
   "source": [
    "print saved"
   ]
  },
  {
   "cell_type": "markdown",
   "metadata": {},
   "source": [
    "## Packaging up as a Python package\n",
    "\n",
    "Note the %writefile in the cells above. I uncommented those and ran the cells to write out a model.py\n",
    "The following cell writes out a task.py"
   ]
  },
  {
   "cell_type": "code",
   "execution_count": 83,
   "metadata": {
    "collapsed": false
   },
   "outputs": [
    {
     "name": "stdout",
     "output_type": "stream",
     "text": [
      "Overwriting trainer/task.py\n"
     ]
    }
   ],
   "source": [
    "%writefile babyweight/trainer/task.py\n",
    "# Copyright 2018 Google Inc. All Rights Reserved.\n",
    "#\n",
    "# Licensed under the Apache License, Version 2.0 (the \"License\");\n",
    "# you may not use this file except in compliance with the License.\n",
    "# You may obtain a copy of the License at\n",
    "#\n",
    "#     http://www.apache.org/licenses/LICENSE-2.0\n",
    "#\n",
    "# Unless required by applicable law or agreed to in writing, software\n",
    "# distributed under the License is distributed on an \"AS IS\" BASIS,\n",
    "# WITHOUT WARRANTIES OR CONDITIONS OF ANY KIND, either express or implied.\n",
    "# See the License for the specific language governing permissions and\n",
    "# limitations under the License.\n",
    "import argparse\n",
    "import os\n",
    "\n",
    "import model\n",
    "\n",
    "if __name__ == '__main__':\n",
    "    parser = argparse.ArgumentParser()\n",
    "    parser.add_argument(\n",
    "        '--bucket',\n",
    "        help = 'GCS path to output.',\n",
    "        required = True\n",
    "    )\n",
    "    parser.add_argument(\n",
    "        '--frac',\n",
    "        help = 'Fraction of input to process',\n",
    "        type = float,\n",
    "        required = True\n",
    "    )\n",
    "    parser.add_argument(\n",
    "        '--job-dir',\n",
    "        help = 'this model ignores this field, but it is required by gcloud',\n",
    "        default = 'junk'\n",
    "    )\n",
    "    \n",
    "    args = parser.parse_args()\n",
    "    arguments = args.__dict__\n",
    "    estimator = model.train_and_evaluate(arguments['frac'])\n",
    "    loc = model.save_model(estimator, \n",
    "                           'gs://{}/babyweight/sklearn'.format(arguments['bucket']), 'babyweight')\n",
    "    print(\"Saved model to {}\".format(loc))\n",
    "\n",
    "# done"
   ]
  },
  {
   "cell_type": "code",
   "execution_count": 89,
   "metadata": {
    "collapsed": false
   },
   "outputs": [
    {
     "name": "stdout",
     "output_type": "stream",
     "text": [
      "Overwriting trainer/setup.py\n"
     ]
    }
   ],
   "source": [
    "%writefile babyweight/trainer/setup.py\n",
    "# Copyright 2018 Google Inc. All Rights Reserved.\n",
    "#\n",
    "# Licensed under the Apache License, Version 2.0 (the \"License\");\n",
    "# you may not use this file except in compliance with the License.\n",
    "# You may obtain a copy of the License at\n",
    "#\n",
    "#     http://www.apache.org/licenses/LICENSE-2.0\n",
    "#\n",
    "# Unless required by applicable law or agreed to in writing, software\n",
    "# distributed under the License is distributed on an \"AS IS\" BASIS,\n",
    "# WITHOUT WARRANTIES OR CONDITIONS OF ANY KIND, either express or implied.\n",
    "# See the License for the specific language governing permissions and\n",
    "# limitations under the License.\n",
    "from setuptools import setup\n",
    "\n",
    "setup(name='babyweight',\n",
    "      version='1.0',\n",
    "      description='Natality, with sklearn',\n",
    "      url='http://github.com/GoogleCloudPlatform/training-data-analyst',\n",
    "      author='Google',\n",
    "      author_email='nobody@google.com',\n",
    "      license='Apache2',\n",
    "      packages=['babyweight'],\n",
    "      install_requires=[\n",
    "          'pydatalab',\n",
    "      ],\n",
    "      zip_safe=False)"
   ]
  },
  {
   "cell_type": "markdown",
   "metadata": {},
   "source": [
    "Try out the package on a subset of the data"
   ]
  },
  {
   "cell_type": "code",
   "execution_count": null,
   "metadata": {
    "collapsed": false
   },
   "outputs": [],
   "source": [
    "%bash\n",
    "export PYTHONPATH=${PYTHONPATH}:${PWD}/babyweight\n",
    "python -m trainer.task \\\n",
    "   --bucket=${BUCKET} --frac=0.001 --job-dir=./tmp"
   ]
  },
  {
   "cell_type": "markdown",
   "metadata": {
    "deletable": true,
    "editable": true
   },
   "source": [
    "<h2> Training on Cloud ML Engine </h2>\n",
    "\n",
    "Submit the code to the ML Engine service"
   ]
  },
  {
   "cell_type": "code",
   "execution_count": 93,
   "metadata": {
    "collapsed": false,
    "deletable": true,
    "editable": true
   },
   "outputs": [
    {
     "name": "stdout",
     "output_type": "stream",
     "text": [
      "jobId: babyweight_skl_20180525_044903\n",
      "state: QUEUED\n"
     ]
    },
    {
     "name": "stderr",
     "output_type": "stream",
     "text": [
      "Job [babyweight_skl_20180525_044903] submitted successfully.\n",
      "Your job is still active. You may view the status of your job with the command\n",
      "\n",
      "  $ gcloud ml-engine jobs describe babyweight_skl_20180525_044903\n",
      "\n",
      "or continue streaming the logs with the command\n",
      "\n",
      "  $ gcloud ml-engine jobs stream-logs babyweight_skl_20180525_044903\n"
     ]
    }
   ],
   "source": [
    "%bash\n",
    "\n",
    "RUNTIME_VERSION=\"1.8\"\n",
    "PYTHON_VERSION=\"2.7\"\n",
    "JOB_NAME=\"babyweight_skl_$(date +\"%Y%m%d_%H%M%S\")\"\n",
    "JOB_DIR=\"gs://$BUCKET/scikit_learn_job_dir\"\n",
    "\n",
    "gcloud ml-engine jobs submit training $JOB_NAME \\\n",
    "  --job-dir $JOB_DIR \\\n",
    "  --package-path $(pwd)/babyweight/trainer \\\n",
    "  --module-name trainer.task \\\n",
    "  --region us-central1 \\\n",
    "  --runtime-version=$RUNTIME_VERSION \\\n",
    "  --python-version=$PYTHON_VERSION \\\n",
    "  -- \\\n",
    "  --bucket=${BUCKET} --frac=1.0"
   ]
  },
  {
   "cell_type": "markdown",
   "metadata": {},
   "source": [
    "The training finished with a score of ..."
   ]
  },
  {
   "cell_type": "markdown",
   "metadata": {
    "deletable": true,
    "editable": true
   },
   "source": [
    "<h2> Deploying the trained model </h2>\n",
    "<p>\n",
    "Deploying the trained model to act as a REST web service is a simple gcloud call."
   ]
  },
  {
   "cell_type": "code",
   "execution_count": null,
   "metadata": {
    "collapsed": false,
    "deletable": true,
    "editable": true
   },
   "outputs": [],
   "source": [
    "%bash\n",
    "gsutil ls gs://${BUCKET}/babyweight/sklearn/"
   ]
  },
  {
   "cell_type": "code",
   "execution_count": null,
   "metadata": {
    "collapsed": false,
    "deletable": true,
    "editable": true
   },
   "outputs": [],
   "source": [
    "%bash\n",
    "MODEL_NAME=\"babyweight\"\n",
    "MODEL_VERSION=\"skl\"\n",
    "MODEL_LOCATION=$(gsutil ls gs://${BUCKET}/babyweight/trained_model/export/exporter/ | tail -1)\n",
    "echo \"Deleting and deploying $MODEL_NAME $MODEL_VERSION from $MODEL_LOCATION ... this will take a few minutes\"\n",
    "#gcloud ml-engine versions delete ${MODEL_VERSION} --model ${MODEL_NAME}\n",
    "#gcloud ml-engine models delete ${MODEL_NAME}\n",
    "#gcloud ml-engine models create ${MODEL_NAME} --regions $REGION\n",
    "gcloud beta ml-engine versions create ${MODEL_VERSION} --model ${MODEL_NAME} --origin ${MODEL_LOCATION} \\\n",
    "    --runtime-version 1.8  --python-version=2.7"
   ]
  },
  {
   "cell_type": "markdown",
   "metadata": {
    "deletable": true,
    "editable": true
   },
   "source": [
    "<h2> Using the model to predict </h2>\n",
    "<p>\n",
    "Send a JSON request to the endpoint of the service to make it predict a baby's weight ... I am going to try out how well the model would have predicted the weights of our two kids and a couple of variations while we are at it ..."
   ]
  },
  {
   "cell_type": "code",
   "execution_count": 120,
   "metadata": {
    "collapsed": false,
    "deletable": true,
    "editable": true
   },
   "outputs": [
    {
     "name": "stdout",
     "output_type": "stream",
     "text": [
      "[2018-01-06 23:55:02,342] {discovery.py:863} INFO - URL being requested: POST https://ml.googleapis.com/v1/projects/cloud-training-demos/models/babyweight/versions/soln:predict?alt=json\n",
      "[2018-01-06 23:55:02,343] {client.py:614} INFO - Attempting refresh to obtain initial access_token\n",
      "[2018-01-06 23:55:02,344] {client.py:903} INFO - Refreshing access_token\n",
      "response={u'predictions': [{u'predictions': [7.649534225463867]}, {u'predictions': [7.198207855224609]}, {u'predictions': [6.499455451965332]}, {u'predictions': [6.16628360748291]}]}\n"
     ]
    },
    {
     "name": "stderr",
     "output_type": "stream",
     "text": [
      "/usr/local/lib/python2.7/dist-packages/simplejson/encoder.py:291: DeprecationWarning: Interpreting naive datetime as local 2018-01-06 23:55:02.315700. Please add timezone info to timestamps.\n",
      "  chunks = self.iterencode(o, _one_shot=True)\n"
     ]
    }
   ],
   "source": [
    "from googleapiclient import discovery\n",
    "from oauth2client.client import GoogleCredentials\n",
    "import json\n",
    "\n",
    "credentials = GoogleCredentials.get_application_default()\n",
    "api = discovery.build('ml', 'v1', credentials=credentials)\n",
    "\n",
    "request_data = {'instances':\n",
    "  [\n",
    "    {\n",
    "      'is_male': 'True',\n",
    "      'mother_age': 26.0,\n",
    "      'plurality': 'Single(1)',\n",
    "      'gestation_weeks': 39\n",
    "    },\n",
    "    {\n",
    "      'is_male': 'False',\n",
    "      'mother_age': 29.0,\n",
    "      'plurality': 'Single(1)',\n",
    "      'gestation_weeks': 38\n",
    "    },\n",
    "    {\n",
    "      'is_male': 'True',\n",
    "      'mother_age': 26.0,\n",
    "      'plurality': 'Triplets(3)',\n",
    "      'gestation_weeks': 39\n",
    "    },\n",
    "    {\n",
    "      'is_male': 'Unknown',\n",
    "      'mother_age': 29.0,\n",
    "      'plurality': 'Multiple(2+)',\n",
    "      'gestation_weeks': 38\n",
    "    },\n",
    "  ]\n",
    "}\n",
    "\n",
    "parent = 'projects/%s/models/%s/versions/%s' % (PROJECT, 'babyweight', 'soln')\n",
    "response = api.projects().predict(body=request_data, name=parent).execute()\n",
    "print \"response={0}\".format(response)"
   ]
  },
  {
   "cell_type": "markdown",
   "metadata": {
    "deletable": true,
    "editable": true
   },
   "source": [
    "The four predictions are 7.6, 7.2, 6.5, and 6.2 pounds."
   ]
  },
  {
   "cell_type": "markdown",
   "metadata": {
    "deletable": true,
    "editable": true
   },
   "source": [
    "Copyright 2018 Google Inc. Licensed under the Apache License, Version 2.0 (the \"License\"); you may not use this file except in compliance with the License. You may obtain a copy of the License at http://www.apache.org/licenses/LICENSE-2.0 Unless required by applicable law or agreed to in writing, software distributed under the License is distributed on an \"AS IS\" BASIS, WITHOUT WARRANTIES OR CONDITIONS OF ANY KIND, either express or implied. See the License for the specific language governing permissions and limitations under the License"
   ]
  },
  {
   "cell_type": "code",
   "execution_count": null,
   "metadata": {
    "collapsed": true,
    "deletable": true,
    "editable": true
   },
   "outputs": [],
   "source": []
  }
 ],
 "metadata": {
  "kernelspec": {
   "display_name": "Python 2",
   "language": "python",
   "name": "python2"
  },
  "language_info": {
   "codemirror_mode": {
    "name": "ipython",
    "version": 2
   },
   "file_extension": ".py",
   "mimetype": "text/x-python",
   "name": "python",
   "nbconvert_exporter": "python",
   "pygments_lexer": "ipython2",
   "version": "2.7.15"
  }
 },
 "nbformat": 4,
 "nbformat_minor": 2
}
