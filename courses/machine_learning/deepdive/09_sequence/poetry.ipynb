{
 "cells": [
  {
   "cell_type": "markdown",
   "metadata": {},
   "source": [
    "## Text generation using tensor2tensor on Cloud ML Engine\n",
    "\n",
    "This notebook illustrates using the <a href=\"https://github.com/tensorflow/tensor2tensor\">tensor2tensor</a> library to do from-scratch, distributed training of a poetry model. Then, the trained model is used to complete new poems.\n",
    "<p/>\n",
    "### Install tensor2tensor, and specify Google Cloud Platform project and bucket"
   ]
  },
  {
   "cell_type": "markdown",
   "metadata": {},
   "source": [
    "Install the necessary packages. tensor2tensor will give us the Transformer model. Project Gutenberg gives us access to historical poems."
   ]
  },
  {
   "cell_type": "code",
   "execution_count": null,
   "metadata": {
    "collapsed": false
   },
   "outputs": [],
   "source": [
    "%bash\n",
    "pip install tensor2tensor gutenberg"
   ]
  },
  {
   "cell_type": "code",
   "execution_count": 34,
   "metadata": {
    "collapsed": true
   },
   "outputs": [],
   "source": [
    "import os\n",
    "PROJECT = 'cloud-training-demos' # REPLACE WITH YOUR PROJECT ID\n",
    "BUCKET = 'cloud-training-demos-ml' # REPLACE WITH YOUR BUCKET NAME\n",
    "REGION = 'us-central1' # REPLACE WITH YOUR BUCKET REGION e.g. us-central1\n",
    "\n",
    "# this is what this notebook is demonstrating\n",
    "PROBLEM= 'poetry_line_problem'\n",
    "\n",
    "# for bash\n",
    "os.environ['PROJECT'] = PROJECT\n",
    "os.environ['BUCKET'] = BUCKET\n",
    "os.environ['REGION'] = REGION\n",
    "os.environ['PROBLEM'] = PROBLEM"
   ]
  },
  {
   "cell_type": "code",
   "execution_count": null,
   "metadata": {
    "collapsed": false
   },
   "outputs": [],
   "source": [
    "! gcloud config set project $PROJECT"
   ]
  },
  {
   "cell_type": "markdown",
   "metadata": {},
   "source": [
    "### Download data\n",
    "\n",
    "We will get some <a href=\"https://www.gutenberg.org/wiki/Poetry_(Bookshelf)\">poetry anthologies</a> from Project Gutenberg."
   ]
  },
  {
   "cell_type": "code",
   "execution_count": 4,
   "metadata": {
    "collapsed": true
   },
   "outputs": [],
   "source": [
    "%bash\n",
    "rm -rf data/poetry\n",
    "mkdir -p data/poetry"
   ]
  },
  {
   "cell_type": "code",
   "execution_count": 26,
   "metadata": {
    "collapsed": false
   },
   "outputs": [],
   "source": [
    "from gutenberg.acquire import load_etext\n",
    "from gutenberg.cleanup import strip_headers\n",
    "import re\n",
    "\n",
    "books = [\n",
    "  # bookid, skip N lines\n",
    "  (19221, 223),\n",
    "  (15553, 522) \n",
    "]\n",
    "\n",
    "with open('data/poetry/raw.txt', 'w') as ofp:\n",
    "  for (id_nr, toskip) in books:\n",
    "    text = strip_headers(load_etext(id_nr)).strip()\n",
    "    lines = text.split('\\n')[toskip:]\n",
    "    # any line that is all upper case is a title or author name\n",
    "    for line in lines:\n",
    "      if len(line) > 0 and line.upper() != line:\n",
    "        cleaned = re.sub('[^a-z\\'\\-]+', ' ', line.strip().lower())\n",
    "        ofp.write(cleaned)\n",
    "        ofp.write('\\n')\n",
    "      else:\n",
    "        ofp.write('\\n')"
   ]
  },
  {
   "cell_type": "code",
   "execution_count": 14,
   "metadata": {
    "collapsed": false
   },
   "outputs": [
    {
     "name": "stdout",
     "output_type": "stream",
     "text": [
      "22544 data/poetry/raw.txt\r\n"
     ]
    }
   ],
   "source": [
    "!wc -l data/poetry/*.txt"
   ]
  },
  {
   "cell_type": "markdown",
   "metadata": {},
   "source": [
    "## Create training dataset\n",
    "\n",
    "We are going to train a machine learning model to write poetry given a starting point. We'll give it one line, and it is going to tell us the next line.  So, naturally, we will train it on real poetry. Our feature will be a line of a poem and the label will be next line of that poem.\n",
    "<p>\n",
    "Our training dataset will consist of two files.  The first file will consist of the input lines of poetry and the other file will consist of the corresponding output lines, one output line per input line."
   ]
  },
  {
   "cell_type": "code",
   "execution_count": 17,
   "metadata": {
    "collapsed": false
   },
   "outputs": [],
   "source": [
    "from random import random\n",
    "with open('data/poetry/raw.txt', 'r') as rawfp,\\\n",
    "  open('data/poetry/train_input.txt', 'w') as train_infp,\\\n",
    "  open('data/poetry/train_output.txt', 'w') as train_outfp,\\\n",
    "  open('data/poetry/test_input.txt', 'w') as test_infp,\\\n",
    "  open('data/poetry/test_output.txt', 'w') as test_outfp:\n",
    "    \n",
    "    for curr_line in rawfp:\n",
    "        curr_line = curr_line.strip()\n",
    "        # poems break at empty lines, so this ensures we train only\n",
    "        # on lines of the same poem\n",
    "        if len(prev_line) > 0 and len(curr_line) > 0:\n",
    "          if random() < 0.9:        \n",
    "            train_infp.write(prev_line + '\\n')\n",
    "            train_outfp.write(curr_line + '\\n')\n",
    "          else:        \n",
    "            test_infp.write(prev_line + '\\n')\n",
    "            test_outfp.write(curr_line + '\\n')\n",
    "        prev_line = curr_line      "
   ]
  },
  {
   "cell_type": "code",
   "execution_count": 18,
   "metadata": {
    "collapsed": false
   },
   "outputs": [
    {
     "name": "stdout",
     "output_type": "stream",
     "text": [
      "==> data/poetry/raw.txt <==\r\n",
      "\r\n",
      "\r\n",
      "\r\n",
      "spring the sweet spring is the year's pleasant king \r\n",
      "then blooms each thing then maids dance in a ring \r\n",
      "\r\n",
      "==> data/poetry/test_input.txt <==\r\n",
      "phoebus arise\r\n",
      "that she may thy career with roses spread\r\n",
      "your furious chiding stay\r\n",
      "when i have seen the hungry ocean gain\r\n",
      "when i have seen such interchange of state\r\n",
      "\r\n",
      "==> data/poetry/test_output.txt <==\r\n",
      "and paint the sable skies\r\n",
      "the nightingales thy coming eachwhere sing\r\n",
      "let zephyr only breathe\r\n",
      "advantage on the kingdom of the shore\r\n",
      "or state itself confounded to decay\r\n",
      "\r\n",
      "==> data/poetry/train_input.txt <==\r\n",
      "spring the sweet spring is the year's pleasant king\r\n",
      "then blooms each thing then maids dance in a ring\r\n",
      "cold doth not sting the pretty birds do sing\r\n",
      "the palm and may make country houses gay\r\n",
      "lambs frisk and play the shepherds pipe all day\r\n",
      "\r\n",
      "==> data/poetry/train_output.txt <==\r\n",
      "then blooms each thing then maids dance in a ring\r\n",
      "cold doth not sting the pretty birds do sing\r\n",
      "cuckoo jug-jug pu-we to-witta-woo\r\n",
      "lambs frisk and play the shepherds pipe all day\r\n",
      "and we hear aye birds tune their merry lay\r\n"
     ]
    }
   ],
   "source": [
    "!head -5 data/poetry/*.txt"
   ]
  },
  {
   "cell_type": "code",
   "execution_count": 19,
   "metadata": {
    "collapsed": false
   },
   "outputs": [
    {
     "name": "stdout",
     "output_type": "stream",
     "text": [
      "data/poetry/\n",
      "data/poetry/raw.txt\n",
      "data/poetry/test_input.txt\n",
      "data/poetry/test_output.txt\n",
      "data/poetry/train_input.txt\n",
      "data/poetry/train_output.txt\n"
     ]
    }
   ],
   "source": [
    "!tar cvfz poetrydata.tgz data/poetry"
   ]
  },
  {
   "cell_type": "markdown",
   "metadata": {},
   "source": [
    "### Set up problem\n",
    "The Problem in tensor2tensor is where you specify parameters like the size of your vocabulary and where to get the training data from."
   ]
  },
  {
   "cell_type": "code",
   "execution_count": 5,
   "metadata": {
    "collapsed": false
   },
   "outputs": [],
   "source": [
    "%bash\n",
    "rm -rf poetry\n",
    "mkdir -p poetry/trainer"
   ]
  },
  {
   "cell_type": "code",
   "execution_count": 35,
   "metadata": {
    "collapsed": false
   },
   "outputs": [
    {
     "name": "stdout",
     "output_type": "stream",
     "text": [
      "Overwriting poetry/trainer/problem.py\n"
     ]
    }
   ],
   "source": [
    "%writefile poetry/trainer/problem.py\n",
    "import os\n",
    "import tensorflow as tf\n",
    "from tensor2tensor.data_generators import generator_utils\n",
    "from tensor2tensor.data_generators import problem\n",
    "from tensor2tensor.data_generators import text_encoder\n",
    "from tensor2tensor.data_generators import translate\n",
    "from tensor2tensor.utils import registry\n",
    "\n",
    "TRAIN_DATASETS = [\n",
    "    [\n",
    "        \"{}/poetrydata.tgz\".format(os.getcwd()),\n",
    "        (\"data/poetry/train_input.txt\",\n",
    "         \"data/poetry/train_output.txt\")\n",
    "    ],\n",
    "]\n",
    "TEST_DATASETS = [\n",
    "    [\n",
    "        \"{}/poetrydata.tgz\".format(os.getcwd()),\n",
    "        (\"data/poetry/test_input.txt\",\n",
    "         \"data/poetry/test_output.txt\")\n",
    "    ],\n",
    "]\n",
    "\n",
    "@registry.register_problem\n",
    "class PoetryLineProblem(translate.TranslateProblem):\n",
    "  @property\n",
    "  def targeted_vocab_size(self):\n",
    "    return 2**12  # 4096\n",
    "\n",
    "  @property\n",
    "  def vocab_name(self):\n",
    "    return \"vocab.poetry_anthology\"\n",
    "  \n",
    "  def generator(self, data_dir, tmp_dir, train):\n",
    "    symbolizer_vocab = generator_utils.get_or_generate_vocab(\n",
    "        data_dir, tmp_dir, self.vocab_file, self.targeted_vocab_size, sources=TRAIN_DATASETS)\n",
    "    datasets = TRAIN_DATASETS if train else TEST_DATASETS\n",
    "    tag = \"train\" if train else \"dev\"\n",
    "    data_path = translate.compile_data(tmp_dir, datasets, \"wmt_ende_tok_%s\" % tag)\n",
    "    return translate.token_generator(data_path + \".lang1\", data_path + \".lang2\",\n",
    "                           symbolizer_vocab, text_encoder.EOS_ID)\n",
    "\n",
    "  @property\n",
    "  def input_space_id(self):\n",
    "    return problem.SpaceID.EN_TOK\n",
    "\n",
    "  @property\n",
    "  def target_space_id(self):\n",
    "    return problem.SpaceID.DE_TOK"
   ]
  },
  {
   "cell_type": "code",
   "execution_count": 31,
   "metadata": {
    "collapsed": false
   },
   "outputs": [
    {
     "name": "stdout",
     "output_type": "stream",
     "text": [
      "Overwriting poetry/trainer/__init__.py\n"
     ]
    }
   ],
   "source": [
    "%%writefile poetry/trainer/__init__.py\n",
    "from . import problem"
   ]
  },
  {
   "cell_type": "code",
   "execution_count": 32,
   "metadata": {
    "collapsed": false
   },
   "outputs": [
    {
     "name": "stdout",
     "output_type": "stream",
     "text": [
      "Overwriting poetry/setup.py\n"
     ]
    }
   ],
   "source": [
    "%%writefile poetry/setup.py\n",
    "from setuptools import find_packages\n",
    "from setuptools import setup\n",
    "\n",
    "REQUIRED_PACKAGES = [\n",
    "  'tensor2tensor'\n",
    "]\n",
    "\n",
    "setup(\n",
    "    name='poetry',\n",
    "    version='0.1',\n",
    "    author = 'Google',\n",
    "    author_email = 'training-feedback@cloud.google.com',\n",
    "    install_requires=REQUIRED_PACKAGES,\n",
    "    packages=find_packages(),\n",
    "    include_package_data=True,\n",
    "    description='Poetry Line Problem',\n",
    "    requires=[]\n",
    ")"
   ]
  },
  {
   "cell_type": "markdown",
   "metadata": {},
   "source": [
    "## Generate training data \n",
    "\n",
    "Our problem (translation) requires the creation of text sequences from the training dataset.  This is done using t2t-datagen and the Problem defined in the previous section. "
   ]
  },
  {
   "cell_type": "code",
   "execution_count": 36,
   "metadata": {
    "collapsed": false
   },
   "outputs": [
    {
     "name": "stdout",
     "output_type": "stream",
     "text": [
      "\r",
      "0% completed\r",
      "\r",
      "1% completed\r",
      "\r",
      "2% completed\r",
      "\r",
      "4% completed\r",
      "\r",
      "5% completed\r",
      "\r",
      "6% completed\r",
      "\r",
      "8% completed\r",
      "\r",
      "9% completed\r",
      "\r",
      "10% completed\r",
      "\r",
      "12% completed\r",
      "\r",
      "13% completed\r",
      "\r",
      "14% completed\r",
      "\r",
      "16% completed\r",
      "\r",
      "17% completed\r",
      "\r",
      "19% completed\r",
      "\r",
      "20% completed\r",
      "\r",
      "21% completed\r",
      "\r",
      "23% completed\r",
      "\r",
      "24% completed\r",
      "\r",
      "25% completed\r",
      "\r",
      "27% completed\r",
      "\r",
      "28% completed\r",
      "\r",
      "29% completed\r",
      "\r",
      "31% completed\r",
      "\r",
      "32% completed\r",
      "\r",
      "34% completed\r",
      "\r",
      "35% completed\r",
      "\r",
      "36% completed\r",
      "\r",
      "38% completed\r",
      "\r",
      "39% completed\r",
      "\r",
      "40% completed\r",
      "\r",
      "42% completed\r",
      "\r",
      "43% completed\r",
      "\r",
      "44% completed\r",
      "\r",
      "46% completed\r",
      "\r",
      "47% completed\r",
      "\r",
      "49% completed\r",
      "\r",
      "50% completed\r",
      "\r",
      "51% completed\r",
      "\r",
      "53% completed\r",
      "\r",
      "54% completed\r",
      "\r",
      "55% completed\r",
      "\r",
      "57% completed\r",
      "\r",
      "58% completed\r",
      "\r",
      "59% completed\r",
      "\r",
      "61% completed\r",
      "\r",
      "62% completed\r",
      "\r",
      "64% completed\r",
      "\r",
      "65% completed\r",
      "\r",
      "66% completed\r",
      "\r",
      "68% completed\r",
      "\r",
      "69% completed\r",
      "\r",
      "70% completed\r",
      "\r",
      "72% completed\r",
      "\r",
      "73% completed\r",
      "\r",
      "74% completed\r",
      "\r",
      "76% completed\r",
      "\r",
      "77% completed\r",
      "\r",
      "79% completed\r",
      "\r",
      "80% completed\r",
      "\r",
      "81% completed\r",
      "\r",
      "83% completed\r",
      "\r",
      "84% completed\r",
      "\r",
      "85% completed\r",
      "\r",
      "87% completed\r",
      "\r",
      "88% completed\r",
      "\r",
      "89% completed\r",
      "\r",
      "91% completed\r",
      "\r",
      "92% completed\r",
      "\r",
      "94% completed\r",
      "\r",
      "95% completed\r",
      "\r",
      "96% completed\r",
      "\r",
      "98% completed\r",
      "\r",
      "99% completed\r",
      "\r",
      "100% completed\r\n"
     ]
    },
    {
     "name": "stderr",
     "output_type": "stream",
     "text": [
      "INFO:tensorflow:Importing user module trainer from path ./poetry\n",
      "INFO:tensorflow:Generating problems:\n",
      "    poetry:\n",
      "      * poetry_line_problem\n",
      "INFO:tensorflow:Generating data for poetry_line_problem.\n",
      "INFO:tensorflow:Generating vocab file: ./t2t_data/vocab.poetry_anthology.4096\n",
      "INFO:tensorflow:Generating vocab from: [['/content/09_sequence/poetrydata.tgz', ('data/poetry/train_input.txt', 'data/poetry/train_output.txt')]]\n",
      "INFO:tensorflow:Downloading /content/09_sequence/poetrydata.tgz to ./t2t_data/tmp/poetrydata.tgz\n",
      "INFO:tensorflow:Successfully downloaded poetrydata.tgz, 601121 bytes.\n",
      "INFO:tensorflow:Reading file: data/poetry/train_input.txt\n",
      "INFO:tensorflow:Reading file: data/poetry/train_output.txt\n",
      "INFO:tensorflow:Trying min_count 500\n",
      "INFO:tensorflow:Iteration 0\n",
      "INFO:tensorflow:vocab_size = 475\n",
      "INFO:tensorflow:Iteration 1\n",
      "INFO:tensorflow:vocab_size = 302\n",
      "INFO:tensorflow:Iteration 2\n",
      "INFO:tensorflow:vocab_size = 313\n",
      "INFO:tensorflow:Iteration 3\n",
      "INFO:tensorflow:vocab_size = 313\n",
      "INFO:tensorflow:Trying min_count 250\n",
      "INFO:tensorflow:Iteration 0\n",
      "INFO:tensorflow:vocab_size = 828\n",
      "INFO:tensorflow:Iteration 1\n",
      "INFO:tensorflow:vocab_size = 469\n",
      "INFO:tensorflow:Iteration 2\n",
      "INFO:tensorflow:vocab_size = 495\n",
      "INFO:tensorflow:Iteration 3\n",
      "INFO:tensorflow:vocab_size = 495\n",
      "INFO:tensorflow:Trying min_count 125\n",
      "INFO:tensorflow:Iteration 0\n",
      "INFO:tensorflow:vocab_size = 1400\n",
      "INFO:tensorflow:Iteration 1\n",
      "INFO:tensorflow:vocab_size = 775\n",
      "INFO:tensorflow:Iteration 2\n",
      "INFO:tensorflow:vocab_size = 800\n",
      "INFO:tensorflow:Iteration 3\n",
      "INFO:tensorflow:vocab_size = 798\n",
      "INFO:tensorflow:Trying min_count 62\n",
      "INFO:tensorflow:Iteration 0\n",
      "INFO:tensorflow:vocab_size = 2442\n",
      "INFO:tensorflow:Iteration 1\n",
      "INFO:tensorflow:vocab_size = 1255\n",
      "INFO:tensorflow:Iteration 2\n",
      "INFO:tensorflow:vocab_size = 1306\n",
      "INFO:tensorflow:Iteration 3\n",
      "INFO:tensorflow:vocab_size = 1302\n",
      "INFO:tensorflow:Trying min_count 31\n",
      "INFO:tensorflow:Iteration 0\n",
      "INFO:tensorflow:vocab_size = 4133\n",
      "INFO:tensorflow:Iteration 1\n",
      "INFO:tensorflow:vocab_size = 2037\n",
      "INFO:tensorflow:Iteration 2\n",
      "INFO:tensorflow:vocab_size = 2104\n",
      "INFO:tensorflow:Iteration 3\n",
      "INFO:tensorflow:vocab_size = 2091\n",
      "INFO:tensorflow:Trying min_count 15\n",
      "INFO:tensorflow:Iteration 0\n",
      "INFO:tensorflow:vocab_size = 7041\n",
      "INFO:tensorflow:Iteration 1\n",
      "INFO:tensorflow:vocab_size = 3267\n",
      "INFO:tensorflow:Iteration 2\n",
      "INFO:tensorflow:vocab_size = 3338\n",
      "INFO:tensorflow:Iteration 3\n",
      "INFO:tensorflow:vocab_size = 3324\n",
      "INFO:tensorflow:Trying min_count 7\n",
      "INFO:tensorflow:Iteration 0\n",
      "INFO:tensorflow:vocab_size = 11803\n",
      "INFO:tensorflow:Iteration 1\n",
      "INFO:tensorflow:vocab_size = 5279\n",
      "INFO:tensorflow:Iteration 2\n",
      "INFO:tensorflow:vocab_size = 5401\n",
      "INFO:tensorflow:Iteration 3\n",
      "INFO:tensorflow:vocab_size = 5389\n",
      "INFO:tensorflow:Trying min_count 11\n",
      "INFO:tensorflow:Iteration 0\n",
      "INFO:tensorflow:vocab_size = 8728\n",
      "INFO:tensorflow:Iteration 1\n",
      "INFO:tensorflow:vocab_size = 4011\n",
      "INFO:tensorflow:Iteration 2\n",
      "INFO:tensorflow:vocab_size = 4111\n",
      "INFO:tensorflow:Iteration 3\n",
      "INFO:tensorflow:vocab_size = 4089\n",
      "INFO:tensorflow:Not downloading, file already found: ./t2t_data/tmp/poetrydata.tgz\n",
      "INFO:tensorflow:Found vocab file: ./t2t_data/vocab.poetry_anthology.4096\n",
      "INFO:tensorflow:Not downloading, file already found: ./t2t_data/tmp/poetrydata.tgz\n",
      "INFO:tensorflow:Shuffling data...\n"
     ]
    }
   ],
   "source": [
    "%bash\n",
    "DATA_DIR=./t2t_data\n",
    "TMP_DIR=$DATA_DIR/tmp\n",
    "rm -rf $DATA_DIR $TMP_DIR\n",
    "mkdir -p $DATA_DIR $TMP_DIR\n",
    "# Generate data\n",
    "t2t-datagen \\\n",
    "  --t2t_usr_dir=./poetry/trainer \\\n",
    "  --problem=$PROBLEM \\\n",
    "  --data_dir=$DATA_DIR \\\n",
    "  --tmp_dir=$TMP_DIR"
   ]
  },
  {
   "cell_type": "markdown",
   "metadata": {},
   "source": [
    "## Provide Cloud ML Engine access to data\n",
    "\n",
    "Copy the data to Google Cloud Storage, and then provide access to the data"
   ]
  },
  {
   "cell_type": "code",
   "execution_count": 37,
   "metadata": {
    "collapsed": false
   },
   "outputs": [
    {
     "name": "stderr",
     "output_type": "stream",
     "text": [
      "CommandException: 1 files/objects could not be removed.\n",
      "Copying file://./t2t_data/poetry_line_problem-dev-00000-of-00001 [Content-Type=application/octet-stream]...\n",
      "/ [0 files][    0.0 B/102.8 KiB]                                                \r",
      "Copying file://./t2t_data/poetry_line_problem-train-00000-of-00100 [Content-Type=application/octet-stream]...\n",
      "/ [0 files][    0.0 B/112.1 KiB]                                                \r",
      "Copying file://./t2t_data/poetry_line_problem-train-00002-of-00100 [Content-Type=application/octet-stream]...\n",
      "/ [0 files][    0.0 B/121.3 KiB]                                                \r",
      "Copying file://./t2t_data/poetry_line_problem-train-00003-of-00100 [Content-Type=application/octet-stream]...\n",
      "Copying file://./t2t_data/poetry_line_problem-train-00004-of-00100 [Content-Type=application/octet-stream]...\n",
      "/ [0 files][    0.0 B/130.6 KiB]                                                \r",
      "/ [0 files][    0.0 B/140.0 KiB]                                                \r",
      "Copying file://./t2t_data/poetry_line_problem-train-00015-of-00100 [Content-Type=application/octet-stream]...\n",
      "Copying file://./t2t_data/poetry_line_problem-train-00012-of-00100 [Content-Type=application/octet-stream]...\n",
      "Copying file://./t2t_data/poetry_line_problem-train-00009-of-00100 [Content-Type=application/octet-stream]...\n",
      "/ [0 files][    0.0 B/149.4 KiB]                                                \r",
      "Copying file://./t2t_data/poetry_line_problem-train-00014-of-00100 [Content-Type=application/octet-stream]...\n",
      "Copying file://./t2t_data/poetry_line_problem-train-00010-of-00100 [Content-Type=application/octet-stream]...\n",
      "/ [0 files][    0.0 B/158.8 KiB]                                                \r",
      "/ [0 files][    0.0 B/168.1 KiB]                                                \r",
      "/ [0 files][    0.0 B/177.5 KiB]                                                \r",
      "/ [0 files][    0.0 B/186.8 KiB]                                                \r",
      "Copying file://./t2t_data/poetry_line_problem-train-00005-of-00100 [Content-Type=application/octet-stream]...\n",
      "/ [0 files][    0.0 B/196.1 KiB]                                                \r",
      "Copying file://./t2t_data/poetry_line_problem-train-00006-of-00100 [Content-Type=application/octet-stream]...\n",
      "/ [0 files][    0.0 B/205.4 KiB]                                                \r",
      "Copying file://./t2t_data/poetry_line_problem-train-00007-of-00100 [Content-Type=application/octet-stream]...\n",
      "/ [0 files][    0.0 B/214.7 KiB]                                                \r",
      "Copying file://./t2t_data/poetry_line_problem-train-00001-of-00100 [Content-Type=application/octet-stream]...\n",
      "Copying file://./t2t_data/poetry_line_problem-train-00017-of-00100 [Content-Type=application/octet-stream]...\n",
      "Copying file://./t2t_data/poetry_line_problem-train-00018-of-00100 [Content-Type=application/octet-stream]...\n",
      "Copying file://./t2t_data/poetry_line_problem-train-00016-of-00100 [Content-Type=application/octet-stream]...\n",
      "/ [0 files][    0.0 B/223.9 KiB]                                                \r",
      "/ [0 files][    0.0 B/233.2 KiB]                                                \r",
      "/ [0 files][    0.0 B/242.5 KiB]                                                \r",
      "/ [0 files][    0.0 B/251.9 KiB]                                                \r",
      "Copying file://./t2t_data/poetry_line_problem-train-00013-of-00100 [Content-Type=application/octet-stream]...\n",
      "/ [0 files][    0.0 B/261.2 KiB]                                                \r",
      "Copying file://./t2t_data/poetry_line_problem-train-00008-of-00100 [Content-Type=application/octet-stream]...\n",
      "/ [0 files][    0.0 B/270.5 KiB]                                                \r",
      "Copying file://./t2t_data/poetry_line_problem-train-00011-of-00100 [Content-Type=application/octet-stream]...\n",
      "/ [0 files][    0.0 B/279.9 KiB]                                                \r",
      "Copying file://./t2t_data/poetry_line_problem-train-00019-of-00100 [Content-Type=application/octet-stream]...\n",
      "/ [1/102 files][279.9 KiB/  1.0 MiB]  26% Done                                  \r",
      "/ [2/102 files][279.9 KiB/  1.0 MiB]  26% Done                                  \r",
      "/ [2/102 files][279.9 KiB/  1.0 MiB]  26% Done                                  \r",
      "/ [3/102 files][279.9 KiB/  1.0 MiB]  26% Done                                  \r",
      "Copying file://./t2t_data/poetry_line_problem-train-00020-of-00100 [Content-Type=application/octet-stream]...\n",
      "Copying file://./t2t_data/poetry_line_problem-train-00021-of-00100 [Content-Type=application/octet-stream]...\n",
      "/ [3/102 files][279.9 KiB/  1.0 MiB]  26% Done                                  \r",
      "/ [3/102 files][279.9 KiB/  1.0 MiB]  26% Done                                  \r",
      "/ [4/102 files][279.9 KiB/  1.0 MiB]  26% Done                                  \r",
      "/ [5/102 files][279.9 KiB/  1.0 MiB]  26% Done                                  \r",
      "/ [6/102 files][279.9 KiB/  1.0 MiB]  26% Done                                  \r",
      "Copying file://./t2t_data/poetry_line_problem-train-00022-of-00100 [Content-Type=application/octet-stream]...\n",
      "Copying file://./t2t_data/poetry_line_problem-train-00023-of-00100 [Content-Type=application/octet-stream]...\n",
      "/ [6/102 files][279.9 KiB/  1.0 MiB]  26% Done                                  \r",
      "Copying file://./t2t_data/poetry_line_problem-train-00024-of-00100 [Content-Type=application/octet-stream]...\n",
      "/ [6/102 files][279.9 KiB/  1.0 MiB]  26% Done                                  \r",
      "/ [7/102 files][279.9 KiB/  1.0 MiB]  26% Done                                  \r",
      "/ [7/102 files][279.9 KiB/  1.0 MiB]  26% Done                                  \r",
      "Copying file://./t2t_data/poetry_line_problem-train-00025-of-00100 [Content-Type=application/octet-stream]...\n",
      "/ [7/102 files][279.9 KiB/  1.0 MiB]  26% Done                                  \r",
      "Copying file://./t2t_data/poetry_line_problem-train-00026-of-00100 [Content-Type=application/octet-stream]...\n",
      "/ [8/102 files][279.9 KiB/  1.0 MiB]  26% Done                                  \r",
      "/ [8/102 files][279.9 KiB/  1.0 MiB]  26% Done                                  \r",
      "/ [9/102 files][279.9 KiB/  1.0 MiB]  26% Done                                  \r",
      "Copying file://./t2t_data/poetry_line_problem-train-00027-of-00100 [Content-Type=application/octet-stream]...\n",
      "/ [9/102 files][279.9 KiB/  1.0 MiB]  26% Done                                  \r",
      "/ [10/102 files][279.9 KiB/  1.0 MiB]  26% Done                                 \r",
      "/ [11/102 files][279.9 KiB/  1.0 MiB]  26% Done                                 \r",
      "Copying file://./t2t_data/poetry_line_problem-train-00028-of-00100 [Content-Type=application/octet-stream]...\n",
      "Copying file://./t2t_data/poetry_line_problem-train-00029-of-00100 [Content-Type=application/octet-stream]...\n",
      "/ [11/102 files][279.9 KiB/  1.0 MiB]  26% Done                                 \r",
      "/ [11/102 files][279.9 KiB/  1.0 MiB]  26% Done                                 \r",
      "/ [12/102 files][279.9 KiB/  1.0 MiB]  26% Done                                 \r",
      "/ [13/102 files][279.9 KiB/  1.0 MiB]  26% Done                                 \r",
      "Copying file://./t2t_data/poetry_line_problem-train-00030-of-00100 [Content-Type=application/octet-stream]...\n",
      "Copying file://./t2t_data/poetry_line_problem-train-00031-of-00100 [Content-Type=application/octet-stream]...\n",
      "/ [13/102 files][279.9 KiB/  1.0 MiB]  26% Done                                 \r",
      "/ [13/102 files][279.9 KiB/  1.0 MiB]  26% Done                                 \r",
      "/ [14/102 files][279.9 KiB/  1.0 MiB]  26% Done                                 \r",
      "/ [15/102 files][289.2 KiB/  1.0 MiB]  27% Done                                 \r",
      "/ [16/102 files][289.2 KiB/  1.0 MiB]  27% Done                                 \r",
      "-\r",
      "- [17/102 files][298.6 KiB/  1.0 MiB]  28% Done                                 \r",
      "- [18/102 files][298.6 KiB/  1.0 MiB]  28% Done                                 \r",
      "- [19/102 files][298.6 KiB/  1.0 MiB]  28% Done                                 \r",
      "Copying file://./t2t_data/poetry_line_problem-train-00032-of-00100 [Content-Type=application/octet-stream]...\n",
      "Copying file://./t2t_data/poetry_line_problem-train-00033-of-00100 [Content-Type=application/octet-stream]...\n",
      "- [19/102 files][326.5 KiB/  1.0 MiB]  30% Done                                 \r",
      "- [19/102 files][326.5 KiB/  1.0 MiB]  30% Done                                 \r",
      "Copying file://./t2t_data/poetry_line_problem-train-00034-of-00100 [Content-Type=application/octet-stream]...\n",
      "- [19/102 files][326.5 KiB/  1.0 MiB]  30% Done                                 \r",
      "Copying file://./t2t_data/poetry_line_problem-train-00035-of-00100 [Content-Type=application/octet-stream]...\n",
      "- [19/102 files][326.5 KiB/  1.0 MiB]  30% Done                                 \r",
      "Copying file://./t2t_data/poetry_line_problem-train-00037-of-00100 [Content-Type=application/octet-stream]...\n",
      "Copying file://./t2t_data/poetry_line_problem-train-00036-of-00100 [Content-Type=application/octet-stream]...\n",
      "- [19/102 files][345.1 KiB/  1.0 MiB]  32% Done                                 \r",
      "- [19/102 files][345.1 KiB/  1.0 MiB]  32% Done                                 \r",
      "Copying file://./t2t_data/poetry_line_problem-train-00038-of-00100 [Content-Type=application/octet-stream]...\n",
      "Copying file://./t2t_data/poetry_line_problem-train-00039-of-00100 [Content-Type=application/octet-stream]...\n",
      "Copying file://./t2t_data/poetry_line_problem-train-00040-of-00100 [Content-Type=application/octet-stream]...\n",
      "Copying file://./t2t_data/poetry_line_problem-train-00041-of-00100 [Content-Type=application/octet-stream]...\n",
      "Copying file://./t2t_data/poetry_line_problem-train-00042-of-00100 [Content-Type=application/octet-stream]...\n",
      "- [20/102 files][382.2 KiB/  1.0 MiB]  36% Done                                 \r",
      "- [21/102 files][391.4 KiB/  1.0 MiB]  36% Done                                 \r",
      "- [22/102 files][400.6 KiB/  1.0 MiB]  37% Done                                 \r",
      "- [23/102 files][409.8 KiB/  1.0 MiB]  38% Done                                 \r",
      "- [23/102 files][409.8 KiB/  1.0 MiB]  38% Done                                 \r",
      "- [24/102 files][419.0 KiB/  1.0 MiB]  39% Done                                 \r",
      "- [24/102 files][428.2 KiB/  1.0 MiB]  40% Done                                 \r",
      "- [24/102 files][437.3 KiB/  1.0 MiB]  41% Done                                 \r",
      "- [24/102 files][455.5 KiB/  1.0 MiB]  43% Done                                 \r",
      "Copying file://./t2t_data/poetry_line_problem-train-00043-of-00100 [Content-Type=application/octet-stream]...\n",
      "- [24/102 files][455.5 KiB/  1.0 MiB]  43% Done                                 \r",
      "- [25/102 files][455.5 KiB/  1.0 MiB]  43% Done                                 \r",
      "- [26/102 files][455.5 KiB/  1.0 MiB]  43% Done                                 \r",
      "- [27/102 files][455.5 KiB/  1.0 MiB]  43% Done                                 \r",
      "- [27/102 files][455.5 KiB/  1.0 MiB]  43% Done                                 \r",
      "- [28/102 files][455.5 KiB/  1.0 MiB]  43% Done                                 \r",
      "Copying file://./t2t_data/poetry_line_problem-train-00044-of-00100 [Content-Type=application/octet-stream]...\n",
      "Copying file://./t2t_data/poetry_line_problem-train-00045-of-00100 [Content-Type=application/octet-stream]...\n",
      "- [28/102 files][455.5 KiB/  1.0 MiB]  43% Done                                 \r",
      "- [28/102 files][455.5 KiB/  1.0 MiB]  43% Done                                 \r",
      "- [29/102 files][455.5 KiB/  1.0 MiB]  43% Done                                 \r",
      "Copying file://./t2t_data/poetry_line_problem-train-00046-of-00100 [Content-Type=application/octet-stream]...\n",
      "- [29/102 files][455.5 KiB/  1.0 MiB]  43% Done                                 \r",
      "Copying file://./t2t_data/poetry_line_problem-train-00047-of-00100 [Content-Type=application/octet-stream]...\n",
      "- [29/102 files][455.5 KiB/  1.0 MiB]  43% Done                                 \r",
      "- [30/102 files][455.5 KiB/  1.0 MiB]  43% Done                                 \r",
      "Copying file://./t2t_data/poetry_line_problem-train-00048-of-00100 [Content-Type=application/octet-stream]...\n",
      "- [30/102 files][455.5 KiB/  1.0 MiB]  43% Done                                 \r",
      "Copying file://./t2t_data/poetry_line_problem-train-00049-of-00100 [Content-Type=application/octet-stream]...\n",
      "- [31/102 files][455.5 KiB/  1.0 MiB]  43% Done                                 \r",
      "- [31/102 files][455.5 KiB/  1.0 MiB]  43% Done                                 \r",
      "- [32/102 files][474.0 KiB/  1.0 MiB]  44% Done                                 \r",
      "Copying file://./t2t_data/poetry_line_problem-train-00050-of-00100 [Content-Type=application/octet-stream]...\n",
      "- [33/102 files][501.8 KiB/  1.0 MiB]  47% Done                                 \r",
      "- [33/102 files][501.8 KiB/  1.0 MiB]  47% Done                                 \r",
      "- [34/102 files][501.8 KiB/  1.0 MiB]  47% Done                                 \r",
      "Copying file://./t2t_data/poetry_line_problem-train-00051-of-00100 [Content-Type=application/octet-stream]...\n",
      "Copying file://./t2t_data/poetry_line_problem-train-00052-of-00100 [Content-Type=application/octet-stream]...\n",
      "- [34/102 files][538.8 KiB/  1.0 MiB]  50% Done                                 \r",
      "- [34/102 files][538.8 KiB/  1.0 MiB]  50% Done                                 \r",
      "- [35/102 files][548.1 KiB/  1.0 MiB]  51% Done                                 \r",
      "- [36/102 files][548.1 KiB/  1.0 MiB]  51% Done                                 \r",
      "- [37/102 files][548.1 KiB/  1.0 MiB]  51% Done                                 \r",
      "Copying file://./t2t_data/poetry_line_problem-train-00054-of-00100 [Content-Type=application/octet-stream]...\n",
      "Copying file://./t2t_data/poetry_line_problem-train-00053-of-00100 [Content-Type=application/octet-stream]...\n",
      "- [37/102 files][548.1 KiB/  1.0 MiB]  51% Done                                 \r",
      "- [37/102 files][548.1 KiB/  1.0 MiB]  51% Done                                 \r",
      "Copying file://./t2t_data/poetry_line_problem-train-00055-of-00100 [Content-Type=application/octet-stream]...\n",
      "- [37/102 files][548.1 KiB/  1.0 MiB]  51% Done                                 \r",
      "- [38/102 files][566.7 KiB/  1.0 MiB]  53% Done                                 \r",
      "- [39/102 files][566.7 KiB/  1.0 MiB]  53% Done                                 \r",
      "Copying file://./t2t_data/poetry_line_problem-train-00056-of-00100 [Content-Type=application/octet-stream]...\n",
      "- [39/102 files][566.7 KiB/  1.0 MiB]  53% Done                                 \r",
      "Copying file://./t2t_data/poetry_line_problem-train-00057-of-00100 [Content-Type=application/octet-stream]...\n",
      "- [39/102 files][566.7 KiB/  1.0 MiB]  53% Done                                 \r",
      "Copying file://./t2t_data/poetry_line_problem-train-00058-of-00100 [Content-Type=application/octet-stream]...\n",
      "Copying file://./t2t_data/poetry_line_problem-train-00060-of-00100 [Content-Type=application/octet-stream]...\n",
      "Copying file://./t2t_data/poetry_line_problem-train-00059-of-00100 [Content-Type=application/octet-stream]...\n",
      "- [40/102 files][566.7 KiB/  1.0 MiB]  53% Done                                 \r",
      "- [40/102 files][576.0 KiB/  1.0 MiB]  54% Done                                 \r",
      "- [41/102 files][576.0 KiB/  1.0 MiB]  54% Done                                 \r",
      "- [42/102 files][576.0 KiB/  1.0 MiB]  54% Done                                 \r",
      "- [42/102 files][576.0 KiB/  1.0 MiB]  54% Done                                 \r",
      "- [42/102 files][576.0 KiB/  1.0 MiB]  54% Done                                 \r",
      "- [43/102 files][576.0 KiB/  1.0 MiB]  54% Done                                 \r",
      "\\\r",
      "\\ [44/102 files][576.0 KiB/  1.0 MiB]  54% Done                                 \r",
      "Copying file://./t2t_data/poetry_line_problem-train-00061-of-00100 [Content-Type=application/octet-stream]...\n",
      "Copying file://./t2t_data/poetry_line_problem-train-00062-of-00100 [Content-Type=application/octet-stream]...\n",
      "\\ [44/102 files][594.5 KiB/  1.0 MiB]  56% Done                                 \r",
      "\\ [44/102 files][594.5 KiB/  1.0 MiB]  56% Done                                 \r",
      "\\ [45/102 files][594.5 KiB/  1.0 MiB]  56% Done                                 \r",
      "Copying file://./t2t_data/poetry_line_problem-train-00063-of-00100 [Content-Type=application/octet-stream]...\n",
      "\\ [46/102 files][640.8 KiB/  1.0 MiB]  60% Done                                 \r",
      "\\ [46/102 files][640.8 KiB/  1.0 MiB]  60% Done                                 \r",
      "\\ [47/102 files][640.8 KiB/  1.0 MiB]  60% Done                                 \r",
      "Copying file://./t2t_data/poetry_line_problem-train-00064-of-00100 [Content-Type=application/octet-stream]...\n",
      "\\ [48/102 files][640.8 KiB/  1.0 MiB]  60% Done                                 \r",
      "Copying file://./t2t_data/poetry_line_problem-train-00065-of-00100 [Content-Type=application/octet-stream]...\n",
      "\\ [48/102 files][640.8 KiB/  1.0 MiB]  60% Done                                 \r",
      "Copying file://./t2t_data/poetry_line_problem-train-00066-of-00100 [Content-Type=application/octet-stream]...\n",
      "\\ [48/102 files][640.8 KiB/  1.0 MiB]  60% Done                                 \r",
      "\\ [48/102 files][640.8 KiB/  1.0 MiB]  60% Done                                 \r",
      "\\ [49/102 files][640.8 KiB/  1.0 MiB]  60% Done                                 \r",
      "Copying file://./t2t_data/poetry_line_problem-train-00067-of-00100 [Content-Type=application/octet-stream]...\n",
      "\\ [49/102 files][640.8 KiB/  1.0 MiB]  60% Done                                 \r",
      "\\ [50/102 files][640.8 KiB/  1.0 MiB]  60% Done                                 \r",
      "\\ [51/102 files][640.8 KiB/  1.0 MiB]  60% Done                                 \r",
      "Copying file://./t2t_data/poetry_line_problem-train-00069-of-00100 [Content-Type=application/octet-stream]...\n",
      "Copying file://./t2t_data/poetry_line_problem-train-00068-of-00100 [Content-Type=application/octet-stream]...\n",
      "\\ [51/102 files][640.8 KiB/  1.0 MiB]  60% Done                                 \r",
      "\\ [51/102 files][640.8 KiB/  1.0 MiB]  60% Done                                 \r",
      "\\ [52/102 files][677.7 KiB/  1.0 MiB]  63% Done                                 \r",
      "Copying file://./t2t_data/poetry_line_problem-train-00070-of-00100 [Content-Type=application/octet-stream]...\n",
      "\\ [53/102 files][714.7 KiB/  1.0 MiB]  67% Done                                 \r",
      "\\ [53/102 files][714.7 KiB/  1.0 MiB]  67% Done                                 \r",
      "\\ [54/102 files][714.7 KiB/  1.0 MiB]  67% Done                                 \r",
      "Copying file://./t2t_data/poetry_line_problem-train-00071-of-00100 [Content-Type=application/octet-stream]...\n",
      "\\ [54/102 files][714.7 KiB/  1.0 MiB]  67% Done                                 \r",
      "Copying file://./t2t_data/poetry_line_problem-train-00072-of-00100 [Content-Type=application/octet-stream]...\n",
      "\\ [55/102 files][714.7 KiB/  1.0 MiB]  67% Done                                 \r",
      "\\ [55/102 files][714.7 KiB/  1.0 MiB]  67% Done                                 \r",
      "\\ [56/102 files][714.7 KiB/  1.0 MiB]  67% Done                                 \r",
      "\\ [57/102 files][714.7 KiB/  1.0 MiB]  67% Done                                 \r",
      "Copying file://./t2t_data/poetry_line_problem-train-00073-of-00100 [Content-Type=application/octet-stream]...\n",
      "\\ [57/102 files][714.7 KiB/  1.0 MiB]  67% Done                                 \r",
      "Copying file://./t2t_data/poetry_line_problem-train-00075-of-00100 [Content-Type=application/octet-stream]...\n",
      "\\ [58/102 files][733.1 KiB/  1.0 MiB]  69% Done                                 \r",
      "Copying file://./t2t_data/poetry_line_problem-train-00074-of-00100 [Content-Type=application/octet-stream]...\n",
      "\\ [58/102 files][733.1 KiB/  1.0 MiB]  69% Done                                 \r",
      "\\ [58/102 files][742.3 KiB/  1.0 MiB]  70% Done                                 \r",
      "Copying file://./t2t_data/poetry_line_problem-train-00076-of-00100 [Content-Type=application/octet-stream]...\n",
      "\\ [59/102 files][751.5 KiB/  1.0 MiB]  70% Done                                 \r",
      "\\ [59/102 files][751.5 KiB/  1.0 MiB]  70% Done                                 \r",
      "Copying file://./t2t_data/poetry_line_problem-train-00077-of-00100 [Content-Type=application/octet-stream]...\n",
      "\\ [59/102 files][751.5 KiB/  1.0 MiB]  70% Done                                 \r",
      "Copying file://./t2t_data/poetry_line_problem-train-00078-of-00100 [Content-Type=application/octet-stream]...\n",
      "\\ [60/102 files][751.5 KiB/  1.0 MiB]  70% Done                                 \r",
      "\\ [60/102 files][751.5 KiB/  1.0 MiB]  70% Done                                 \r",
      "\\ [61/102 files][769.9 KiB/  1.0 MiB]  72% Done                                 \r",
      "\\ [62/102 files][769.9 KiB/  1.0 MiB]  72% Done                                 \r",
      "\\ [63/102 files][769.9 KiB/  1.0 MiB]  72% Done                                 \r",
      "Copying file://./t2t_data/poetry_line_problem-train-00079-of-00100 [Content-Type=application/octet-stream]...\n",
      "\\ [63/102 files][769.9 KiB/  1.0 MiB]  72% Done                                 \r",
      "Copying file://./t2t_data/poetry_line_problem-train-00080-of-00100 [Content-Type=application/octet-stream]...\n",
      "\\ [64/102 files][779.1 KiB/  1.0 MiB]  73% Done                                 \r",
      "\\ [65/102 files][779.1 KiB/  1.0 MiB]  73% Done                                 \r",
      "\\ [65/102 files][779.1 KiB/  1.0 MiB]  73% Done                                 \r",
      "Copying file://./t2t_data/poetry_line_problem-train-00081-of-00100 [Content-Type=application/octet-stream]...\n",
      "\\ [65/102 files][807.0 KiB/  1.0 MiB]  76% Done                                 \r",
      "Copying file://./t2t_data/poetry_line_problem-train-00082-of-00100 [Content-Type=application/octet-stream]...\n",
      "\\ [66/102 files][807.0 KiB/  1.0 MiB]  76% Done                                 \r",
      "Copying file://./t2t_data/poetry_line_problem-train-00084-of-00100 [Content-Type=application/octet-stream]...\n",
      "\\ [66/102 files][807.0 KiB/  1.0 MiB]  76% Done                                 \r",
      "\\ [66/102 files][807.0 KiB/  1.0 MiB]  76% Done                                 \r",
      "\\ [67/102 files][807.0 KiB/  1.0 MiB]  76% Done                                 \r",
      "Copying file://./t2t_data/poetry_line_problem-train-00083-of-00100 [Content-Type=application/octet-stream]...\n",
      "\\ [67/102 files][816.2 KiB/  1.0 MiB]  77% Done                                 \r",
      "\\ [68/102 files][816.2 KiB/  1.0 MiB]  77% Done                                 \r",
      "Copying file://./t2t_data/poetry_line_problem-train-00085-of-00100 [Content-Type=application/octet-stream]...\n",
      "\\ [68/102 files][816.2 KiB/  1.0 MiB]  77% Done                                 \r",
      "Copying file://./t2t_data/poetry_line_problem-train-00086-of-00100 [Content-Type=application/octet-stream]...\n",
      "\\ [68/102 files][816.2 KiB/  1.0 MiB]  77% Done                                 \r",
      "\\ [69/102 files][816.2 KiB/  1.0 MiB]  77% Done                                 \r",
      "\\ [70/102 files][825.5 KiB/  1.0 MiB]  77% Done                                 \r",
      "Copying file://./t2t_data/poetry_line_problem-train-00087-of-00100 [Content-Type=application/octet-stream]...\n",
      "Copying file://./t2t_data/poetry_line_problem-train-00088-of-00100 [Content-Type=application/octet-stream]...\n",
      "\\ [70/102 files][834.8 KiB/  1.0 MiB]  78% Done                                 \r",
      "\\ [70/102 files][834.8 KiB/  1.0 MiB]  78% Done                                 \r",
      "\\ [71/102 files][834.8 KiB/  1.0 MiB]  78% Done                                 \r",
      "Copying file://./t2t_data/poetry_line_problem-train-00089-of-00100 [Content-Type=application/octet-stream]...\n",
      "\\ [71/102 files][834.8 KiB/  1.0 MiB]  78% Done                                 \r",
      "Copying file://./t2t_data/poetry_line_problem-train-00090-of-00100 [Content-Type=application/octet-stream]...\n",
      "\\ [72/102 files][834.8 KiB/  1.0 MiB]  78% Done                                 \r",
      "\\ [72/102 files][871.6 KiB/  1.0 MiB]  82% Done                                 \r",
      "\\ [73/102 files][871.6 KiB/  1.0 MiB]  82% Done                                 \r",
      "Copying file://./t2t_data/poetry_line_problem-train-00091-of-00100 [Content-Type=application/octet-stream]...\n",
      "\\ [73/102 files][871.6 KiB/  1.0 MiB]  82% Done                                 \r",
      "\\ [74/102 files][871.6 KiB/  1.0 MiB]  82% Done                                 \r",
      "\\ [75/102 files][890.1 KiB/  1.0 MiB]  84% Done                                 \r",
      "\\ [76/102 files][890.1 KiB/  1.0 MiB]  84% Done                                 \r",
      "|\r",
      "Copying file://./t2t_data/poetry_line_problem-train-00092-of-00100 [Content-Type=application/octet-stream]...\n",
      "Copying file://./t2t_data/poetry_line_problem-train-00094-of-00100 [Content-Type=application/octet-stream]...\n",
      "Copying file://./t2t_data/poetry_line_problem-train-00093-of-00100 [Content-Type=application/octet-stream]...\n",
      "| [76/102 files][927.2 KiB/  1.0 MiB]  87% Done                                 \r",
      "| [76/102 files][927.2 KiB/  1.0 MiB]  87% Done                                 \r",
      "| [76/102 files][927.2 KiB/  1.0 MiB]  87% Done                                 \r",
      "| [77/102 files][927.2 KiB/  1.0 MiB]  87% Done                                 \r",
      "Copying file://./t2t_data/poetry_line_problem-train-00095-of-00100 [Content-Type=application/octet-stream]...\n",
      "| [78/102 files][936.4 KiB/  1.0 MiB]  88% Done                                 \r",
      "| [78/102 files][936.4 KiB/  1.0 MiB]  88% Done                                 \r",
      "Copying file://./t2t_data/poetry_line_problem-train-00096-of-00100 [Content-Type=application/octet-stream]...\n",
      "| [78/102 files][936.4 KiB/  1.0 MiB]  88% Done                                 \r",
      "| [79/102 files][936.4 KiB/  1.0 MiB]  88% Done                                 \r",
      "| [80/102 files][936.4 KiB/  1.0 MiB]  88% Done                                 \r",
      "Copying file://./t2t_data/poetry_line_problem-train-00097-of-00100 [Content-Type=application/octet-stream]...\n",
      "Copying file://./t2t_data/poetry_line_problem-train-00098-of-00100 [Content-Type=application/octet-stream]...\n",
      "| [80/102 files][936.4 KiB/  1.0 MiB]  88% Done                                 \r",
      "| [80/102 files][936.4 KiB/  1.0 MiB]  88% Done                                 \r",
      "| [81/102 files][954.8 KiB/  1.0 MiB]  90% Done                                 \r",
      "| [82/102 files][954.8 KiB/  1.0 MiB]  90% Done                                 \r",
      "Copying file://./t2t_data/poetry_line_problem-train-00099-of-00100 [Content-Type=application/octet-stream]...\n",
      "Copying file://./t2t_data/vocab.poetry_anthology.4096 [Content-Type=application/octet-stream]...\n",
      "| [82/102 files][954.8 KiB/  1.0 MiB]  90% Done                                 \r",
      "| [83/102 files][954.8 KiB/  1.0 MiB]  90% Done                                 \r",
      "| [83/102 files][954.8 KiB/  1.0 MiB]  90% Done                                 \r",
      "| [84/102 files][954.8 KiB/  1.0 MiB]  90% Done                                 \r",
      "| [85/102 files][963.9 KiB/  1.0 MiB]  91% Done                                 \r",
      "| [86/102 files][973.0 KiB/  1.0 MiB]  91% Done                                 \r",
      "| [87/102 files][982.2 KiB/  1.0 MiB]  92% Done                                 \r",
      "| [88/102 files][ 1000 KiB/  1.0 MiB]  94% Done                                 \r",
      "| [89/102 files][ 1000 KiB/  1.0 MiB]  94% Done                                 \r",
      "| [90/102 files][ 1000 KiB/  1.0 MiB]  94% Done                                 \r",
      "| [91/102 files][ 1018 KiB/  1.0 MiB]  96% Done                                 \r",
      "| [92/102 files][ 1018 KiB/  1.0 MiB]  96% Done                                 \r",
      "| [93/102 files][  1.0 MiB/  1.0 MiB]  97% Done                                 \r",
      "| [94/102 files][  1.0 MiB/  1.0 MiB]  99% Done                                 \r",
      "| [95/102 files][  1.0 MiB/  1.0 MiB]  99% Done                                 \r",
      "| [96/102 files][  1.0 MiB/  1.0 MiB]  99% Done                                 \r",
      "| [97/102 files][  1.0 MiB/  1.0 MiB]  99% Done                                 \r",
      "| [98/102 files][  1.0 MiB/  1.0 MiB]  99% Done                                 \r",
      "| [99/102 files][  1.0 MiB/  1.0 MiB]  99% Done                                 \r",
      "| [100/102 files][  1.0 MiB/  1.0 MiB]  99% Done                                \r",
      "| [101/102 files][  1.0 MiB/  1.0 MiB]  99% Done                                \r",
      "| [102/102 files][  1.0 MiB/  1.0 MiB] 100% Done                                \r\n",
      "Operation completed over 102 objects/1.0 MiB.                                    \n"
     ]
    }
   ],
   "source": [
    "%bash\n",
    "DATA_DIR=./t2t_data\n",
    "gsutil -m rm -r gs://${BUCKET}/poetry/\n",
    "gsutil -m cp ${DATA_DIR}/${PROBLEM}* ${DATA_DIR}/vocab* gs://${BUCKET}/poetry/data"
   ]
  },
  {
   "cell_type": "code",
   "execution_count": null,
   "metadata": {
    "collapsed": false
   },
   "outputs": [],
   "source": [
    "%bash\n",
    "PROJECT_ID=$PROJECT\n",
    "AUTH_TOKEN=$(gcloud auth print-access-token)\n",
    "SVC_ACCOUNT=$(curl -X GET -H \"Content-Type: application/json\" \\\n",
    "    -H \"Authorization: Bearer $AUTH_TOKEN\" \\\n",
    "    https://ml.googleapis.com/v1/projects/${PROJECT_ID}:getConfig \\\n",
    "    | python -c \"import json; import sys; response = json.load(sys.stdin); \\\n",
    "    print response['serviceAccount']\")\n",
    "\n",
    "echo \"Authorizing the Cloud ML Service account $SVC_ACCOUNT to access files in $BUCKET\"\n",
    "gsutil -m defacl ch -u $SVC_ACCOUNT:R gs://$BUCKET\n",
    "gsutil -m acl ch -u $SVC_ACCOUNT:R -r gs://$BUCKET  # error message (if bucket is empty) can be ignored\n",
    "gsutil -m acl ch -u $SVC_ACCOUNT:W gs://$BUCKET"
   ]
  },
  {
   "cell_type": "markdown",
   "metadata": {},
   "source": [
    "## Train model as a Python package\n",
    "\n",
    "To submit the training job to Cloud Machine Learning Engine, we need a Python module with a main(). We'll use the t2t-trainer that is distributed with tensor2tensor as the main"
   ]
  },
  {
   "cell_type": "code",
   "execution_count": 38,
   "metadata": {
    "collapsed": false
   },
   "outputs": [
    {
     "name": "stderr",
     "output_type": "stream",
     "text": [
      "--2018-01-13 03:11:48--  https://raw.githubusercontent.com/tensorflow/tensor2tensor/master/tensor2tensor/bin/t2t-trainer\n",
      "Resolving raw.githubusercontent.com (raw.githubusercontent.com)... 151.101.52.133\n",
      "Connecting to raw.githubusercontent.com (raw.githubusercontent.com)|151.101.52.133|:443... connected.\n",
      "HTTP request sent, awaiting response... 200 OK\n",
      "Length: 304 [text/plain]\n",
      "Saving to: ‘t2t-trainer’\n",
      "\n",
      "     0K                                                       100% 15.2M=0s\n",
      "\n",
      "2018-01-13 03:11:49 (15.2 MB/s) - ‘t2t-trainer’ saved [304/304]\n",
      "\n"
     ]
    }
   ],
   "source": [
    "%bash\n",
    "wget https://raw.githubusercontent.com/tensorflow/tensor2tensor/master/tensor2tensor/bin/t2t-trainer\n",
    "mv t2t-trainer poetry/trainer/t2t-trainer.py"
   ]
  },
  {
   "cell_type": "code",
   "execution_count": 39,
   "metadata": {
    "collapsed": true
   },
   "outputs": [],
   "source": [
    "!touch poetry/__init__.py"
   ]
  },
  {
   "cell_type": "code",
   "execution_count": 40,
   "metadata": {
    "collapsed": false
   },
   "outputs": [
    {
     "name": "stdout",
     "output_type": "stream",
     "text": [
      "poetry\r\n",
      "poetry/__init__.py\r\n",
      "poetry/setup.py\r\n",
      "poetry/trainer\r\n",
      "poetry/trainer/__init__.py\r\n",
      "poetry/trainer/__init__.pyc\r\n",
      "poetry/trainer/problem.py\r\n",
      "poetry/trainer/problem.pyc\r\n",
      "poetry/trainer/t2t-trainer.py\r\n"
     ]
    }
   ],
   "source": [
    "!find poetry"
   ]
  },
  {
   "cell_type": "markdown",
   "metadata": {},
   "source": [
    "Let's test that the Python package works. Since we are running this locally, I'll try it out on a subset of the original data"
   ]
  },
  {
   "cell_type": "code",
   "execution_count": 41,
   "metadata": {
    "collapsed": false
   },
   "outputs": [
    {
     "name": "stderr",
     "output_type": "stream",
     "text": [
      "CommandException: 1 files/objects could not be removed.\n",
      "Copying gs://cloud-training-demos-ml/poetry/data/poetry_line_problem-train-00080-of-00100 [Content-Type=application/octet-stream]...\n",
      "Copying gs://cloud-training-demos-ml/poetry/data/poetry_line_problem-train-00081-of-00100 [Content-Type=application/octet-stream]...\n",
      "Copying gs://cloud-training-demos-ml/poetry/data/poetry_line_problem-train-00083-of-00100 [Content-Type=application/octet-stream]...\n",
      "Copying gs://cloud-training-demos-ml/poetry/data/poetry_line_problem-train-00086-of-00100 [Content-Type=application/octet-stream]...\n",
      "Copying gs://cloud-training-demos-ml/poetry/data/poetry_line_problem-train-00084-of-00100 [Content-Type=application/octet-stream]...\n",
      "Copying gs://cloud-training-demos-ml/poetry/data/poetry_line_problem-train-00082-of-00100 [Content-Type=application/octet-stream]...\n",
      "Copying gs://cloud-training-demos-ml/poetry/data/poetry_line_problem-train-00085-of-00100 [Content-Type=application/octet-stream]...\n",
      "Copying gs://cloud-training-demos-ml/poetry/data/poetry_line_problem-train-00087-of-00100 [Content-Type=application/octet-stream]...\n",
      "Copying gs://cloud-training-demos-ml/poetry/data/poetry_line_problem-train-00088-of-00100 [Content-Type=application/octet-stream]...\n",
      "/ [0 files][    0.0 B/  9.2 KiB]                                                \r",
      "/ [0 files][    0.0 B/ 18.4 KiB]                                                \r",
      "/ [0 files][    0.0 B/ 27.6 KiB]                                                \r",
      "/ [0 files][    0.0 B/ 36.9 KiB]                                                \r",
      "/ [0 files][    0.0 B/ 46.2 KiB]                                                \r",
      "/ [0 files][    0.0 B/ 55.4 KiB]                                                \r",
      "/ [0 files][    0.0 B/ 64.7 KiB]                                                \r",
      "/ [0 files][    0.0 B/ 74.0 KiB]                                                \r",
      "/ [0 files][    0.0 B/ 83.3 KiB]                                                \r",
      "Copying gs://cloud-training-demos-ml/poetry/data/poetry_line_problem-train-00089-of-00100 [Content-Type=application/octet-stream]...\n",
      "/ [0 files][    0.0 B/ 92.5 KiB]                                                \r",
      "Copying gs://cloud-training-demos-ml/poetry/data/poetry_line_problem-dev-00000-of-00001 [Content-Type=application/octet-stream]...\n",
      "Copying gs://cloud-training-demos-ml/poetry/data/vocab.poetry_anthology.4096 [Content-Type=application/octet-stream]...\n",
      "/ [0/12 files][    0.0 B/226.4 KiB]   0% Done                                   \r",
      "/ [0/12 files][    0.0 B/226.4 KiB]   0% Done                                   \r",
      "/ [1/12 files][  9.2 KiB/226.4 KiB]   4% Done                                   \r",
      "/ [2/12 files][ 18.5 KiB/226.4 KiB]   8% Done                                   \r",
      "/ [3/12 files][ 27.7 KiB/226.4 KiB]  12% Done                                   \r",
      "/ [4/12 files][ 36.9 KiB/226.4 KiB]  16% Done                                   \r",
      "/ [5/12 files][ 55.4 KiB/226.4 KiB]  24% Done                                   \r",
      "/ [6/12 files][ 55.4 KiB/226.4 KiB]  24% Done                                   \r",
      "/ [7/12 files][ 64.7 KiB/226.4 KiB]  28% Done                                   \r",
      "/ [8/12 files][ 74.0 KiB/226.4 KiB]  32% Done                                   \r",
      "/ [9/12 files][ 83.2 KiB/226.4 KiB]  36% Done                                   \r",
      "/ [10/12 files][ 92.5 KiB/226.4 KiB]  40% Done                                  \r",
      "/ [11/12 files][195.3 KiB/226.4 KiB]  86% Done                                  \r",
      "/ [12/12 files][226.4 KiB/226.4 KiB] 100% Done                                  \r\n",
      "Operation completed over 12 objects/226.4 KiB.                                   \n"
     ]
    }
   ],
   "source": [
    "%bash\n",
    "BASE=gs://${BUCKET}/poetry/data\n",
    "OUTDIR=gs://${BUCKET}/poetry/subset\n",
    "gsutil -m rm -r $OUTDIR\n",
    "gsutil -m cp \\\n",
    "    ${BASE}/${PROBLEM}-train-0008* \\\n",
    "    ${BASE}/${PROBLEM}-dev-00000*  \\\n",
    "    ${BASE}/vocab* \\\n",
    "    $OUTDIR"
   ]
  },
  {
   "cell_type": "code",
   "execution_count": null,
   "metadata": {
    "collapsed": false
   },
   "outputs": [],
   "source": [
    "%bash\n",
    "OUTDIR=./trained_model\n",
    "rm -rf $OUTDIR\n",
    "export PYTHONPATH=${PYTHONPATH}:${PWD}/poetry\n",
    "python -m trainer.t2t-trainer \\\n",
    "  --data_dir=gs://${BUCKET}/poetry/subset \\\n",
    "  --problems=$PROBLEM \\\n",
    "  --model=transformer \\\n",
    "  --hparams_set=transformer_base_single_gpu \\\n",
    "  --output_dir=$OUTDIR --job-dir=$OUTDIR"
   ]
  },
  {
   "cell_type": "markdown",
   "metadata": {},
   "source": [
    "## Train on Cloud ML Engine\n",
    "\n",
    "Once we have a working Python package, training on a Cloud ML Engine GPU is straightforward"
   ]
  },
  {
   "cell_type": "code",
   "execution_count": null,
   "metadata": {
    "collapsed": false
   },
   "outputs": [],
   "source": [
    "%bash\n",
    "OUTDIR=gs://${BUCKET}/poetry/model\n",
    "JOBNAME=t2t_$(date -u +%y%m%d_%H%M%S)\n",
    "echo $OUTDIR $REGION $JOBNAME\n",
    "gsutil -m rm -rf $OUTDIR\n",
    "gcloud ml-engine jobs submit training $JOBNAME \\\n",
    "   --region=$REGION \\\n",
    "   --staging-bucket=gs://$BUCKET \\\n",
    "   --scale-tier=BASIC_GPU \\\n",
    "   --module-name=trainer.t2t-trainer \\\n",
    "   --package-path=${PWD}/poetry/trainer \\\n",
    "   --job-dir=$OUTDIR \\\n",
    "   --runtime-version=1.4 \\\n",
    "   -- \\\n",
    "  --data_dir=gs://${BUCKET}/poetry/data \\\n",
    "  --problems=$PROBLEM \\\n",
    "  --model=transformer \\\n",
    "  --hparams_set=transformer_base_single_gpu \\\n",
    "  --output_dir=$OUTDIR \\\n",
    "  --train_steps=7500 --worker_gpu=1"
   ]
  },
  {
   "cell_type": "markdown",
   "metadata": {},
   "source": [
    "The job took about <b>75 minutes</b> for me and ended with these evaluation metrics:\n",
    "<pre>\n",
    "Saving dict for global step 8000: global_step = 8000, loss = 5.89262, metrics-poetry_line_problem/accuracy = 0.20752, metrics-poetry_line_problem/accuracy_per_sequence = 0.0172932, metrics-poetry_line_problem/accuracy_top5 = 0.316001, metrics-poetry_line_problem/approx_bleu_score = 0.0332547, metrics-poetry_line_problem/neg_log_perplexity = -6.6425, metrics-poetry_line_problem/rouge_2_fscore = 0.04097, metrics-poetry_line_problem/rouge_L_fscore = 0.202218\n",
    "</pre>\n",
    "Top-5 accuracy of 32% seems quite good actually considering that we are asking the NN to be rather creative."
   ]
  },
  {
   "cell_type": "markdown",
   "metadata": {},
   "source": [
    "## Batch-predict locally\n",
    "\n",
    "How will our poetry model do when faced with Rumi's spiritual couplets?"
   ]
  },
  {
   "cell_type": "code",
   "execution_count": 46,
   "metadata": {
    "collapsed": false
   },
   "outputs": [
    {
     "name": "stdout",
     "output_type": "stream",
     "text": [
      "Writing data/poetry/rumi.txt\n"
     ]
    }
   ],
   "source": [
    "%writefile data/poetry/rumi.txt\n",
    "Where did the handsome beloved go?\n",
    "I wonder, where did that tall, shapely cypress tree go?\n",
    "He spread his light among us like a candle.\n",
    "Where did he go? So strange, where did he go without me?\n",
    "All day long my heart trembles like a leaf.\n",
    "All alone at midnight, where did that beloved go?\n",
    "Go to the road, and ask any passing traveler — \n",
    "That soul-stirring companion, where did he go?\n",
    "Go to the garden, and ask the gardener — \n",
    "That tall, shapely rose stem, where did he go?\n",
    "Go to the rooftop, and ask the watchman — \n",
    "That unique sultan, where did he go?\n",
    "Like a madman, I search in the meadows!\n",
    "That deer in the meadows, where did he go?\n",
    "My tearful eyes overflow like a river — \n",
    "That pearl in the vast sea, where did he go?\n",
    "All night long, I implore both moon and Venus — \n",
    "That lovely face, like a moon, where did he go?\n",
    "If he is mine, why is he with others?\n",
    "Since he’s not here, to what “there” did he go?\n",
    "If his heart and soul are joined with God,\n",
    "And he left this realm of earth and water, where did he go?\n",
    "Tell me clearly, Shams of Tabriz,\n",
    "Of whom it is said, “The sun never dies” — where did he go?"
   ]
  },
  {
   "cell_type": "markdown",
   "metadata": {},
   "source": [
    "Let's write out the odd-numbered lines. We'll compare how close our model can get to the beauty of Rumi's second lines given his first."
   ]
  },
  {
   "cell_type": "code",
   "execution_count": 58,
   "metadata": {
    "collapsed": false
   },
   "outputs": [
    {
     "name": "stdout",
     "output_type": "stream",
     "text": [
      "where did the handsome beloved go\n",
      "he spread his light among us like a candle\n",
      "all day long my heart trembles like a leaf\n"
     ]
    }
   ],
   "source": [
    "%bash\n",
    "awk 'NR % 2 == 1' data/poetry/rumi.txt | tr '[:upper:]' '[:lower:]' | sed \"s/[^a-z\\'-\\ ]//g\" > data/poetry/rumi_leads.txt\n",
    "head -3 data/poetry/rumi_leads.txt"
   ]
  },
  {
   "cell_type": "code",
   "execution_count": null,
   "metadata": {
    "collapsed": false
   },
   "outputs": [],
   "source": [
    "%bash\n",
    "rm -rf fromcloud\n",
    "mkdir fromcloud\n",
    "gsutil -m cp -r gs://${BUCKET}/poetry ./fromcloud"
   ]
  },
  {
   "cell_type": "code",
   "execution_count": 59,
   "metadata": {
    "collapsed": false
   },
   "outputs": [
    {
     "ename": "SyntaxError",
     "evalue": "invalid syntax (<ipython-input-59-78c4b5f705b6>, line 2)",
     "output_type": "error",
     "traceback": [
      "\u001b[0;36m  File \u001b[0;32m\"<ipython-input-59-78c4b5f705b6>\"\u001b[0;36m, line \u001b[0;32m2\u001b[0m\n\u001b[0;31m    OUTDIR=gs://${BUCKET}/poetry/model\u001b[0m\n\u001b[0m             ^\u001b[0m\n\u001b[0;31mSyntaxError\u001b[0m\u001b[0;31m:\u001b[0m invalid syntax\n"
     ]
    }
   ],
   "source": [
    "# same as the above training job ...\n",
    "OUTDIR=gs://${BUCKET}/poetry/model\n",
    "DATADIR=gs://${BUCKET}/poetry/data\n",
    "MODEL=transformer\n",
    "HPARAMS=transformer_base_single_gpu\n",
    "\n",
    "# the file with the input lines\n",
    "DECODE_FILE=data/poetry/rumi_leads.txt\n",
    "\n",
    "BEAM_SIZE=4\n",
    "ALPHA=0.6\n",
    "\n",
    "t2t-decoder \\\n",
    "  --data_dir=$DATA_DIR \\\n",
    "  --problems=$PROBLEM \\\n",
    "  --model=$MODEL \\\n",
    "  --hparams_set=$HPARAMS \\\n",
    "  --output_dir=$TRAIN_DIR \\\n",
    "  --decode_hparams=\"beam_size=$BEAM_SIZE,alpha=$ALPHA\" \\\n",
    "  --decode_from_file=$DECODE_FILE\n",
    "\n",
    "cat $DECODE_FILE.$MODEL.$HPARAMS.beam$BEAM_SIZE.alpha$ALPHA.decodes"
   ]
  },
  {
   "cell_type": "markdown",
   "metadata": {},
   "source": [
    "Copyright 2018 Google Inc. Licensed under the Apache License, Version 2.0 (the \\\"License\\\"); you may not use this file except in compliance with the License. You may obtain a copy of the License at http://www.apache.org/licenses/LICENSE-2.0 Unless required by applicable law or agreed to in writing, software distributed under the License is distributed on an \\\"AS IS\\\" BASIS, WITHOUT WARRANTIES OR CONDITIONS OF ANY KIND, either express or implied. See the License for the specific language governing permissions and limitations under the License"
   ]
  }
 ],
 "metadata": {
  "kernelspec": {
   "display_name": "Python 2",
   "language": "python",
   "name": "python2"
  },
  "language_info": {
   "codemirror_mode": {
    "name": "ipython",
    "version": 2
   },
   "file_extension": ".py",
   "mimetype": "text/x-python",
   "name": "python",
   "nbconvert_exporter": "python",
   "pygments_lexer": "ipython2",
   "version": "2.7.12"
  }
 },
 "nbformat": 4,
 "nbformat_minor": 2
}
