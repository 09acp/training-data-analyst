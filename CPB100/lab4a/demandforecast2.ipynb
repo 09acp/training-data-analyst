{
  "nbformat": 4,
  "nbformat_minor": 0,
  "metadata": {
    "colab": {
      "name": "demandforecast.ipynb",
      "version": "0.3.2",
      "provenance": []
    },
    "kernelspec": {
      "display_name": "Python 2",
      "language": "python",
      "name": "python2"
    }
  },
  "cells": [
    {
      "metadata": {
        "id": "HQ-myWyg4tC5",
        "colab_type": "text"
      },
      "cell_type": "markdown",
      "source": [
        "<h1>Demand forecasting with BigQuery and TensorFlow</h1>\n",
        "\n",
        "In this notebook, we will develop a machine learning model to predict the demand for taxi cabs in New York.\n",
        "\n",
        "To develop the model, we will need to get historical data of taxicab usage. This data exists in BigQuery. Let's start by looking at the schema."
      ]
    },
    {
      "metadata": {
        "id": "WARtiPJ7_sAl",
        "colab_type": "text"
      },
      "cell_type": "markdown",
      "source": [
        "## Set up"
      ]
    },
    {
      "metadata": {
        "id": "yCniGV545Kao",
        "colab_type": "code",
        "colab": {}
      },
      "cell_type": "code",
      "source": [
        "PROJECT = 'cloud-training-demos'   # CHANGE this to your GCP project\n",
        "BUCKET  = PROJECT + '-ml'\n",
        "REGION  = 'us-central1'            # CHANGE this to the region you want to use"
      ],
      "execution_count": 0,
      "outputs": []
    },
    {
      "metadata": {
        "id": "gquS_kn6_Ng3",
        "colab_type": "code",
        "colab": {}
      },
      "cell_type": "code",
      "source": [
        "import os\n",
        "os.environ['PROJECT'] = PROJECT\n",
        "os.environ['BUCKET'] = BUCKET\n",
        "os.environ['REGION'] = REGION"
      ],
      "execution_count": 0,
      "outputs": []
    },
    {
      "metadata": {
        "id": "KwyfRc3w-rsB",
        "colab_type": "code",
        "colab": {
          "base_uri": "https://localhost:8080/",
          "height": 51
        },
        "outputId": "dd05c190-9e80-4cf5-b20c-416d29dc610e"
      },
      "cell_type": "code",
      "source": [
        "%%bash\n",
        "gcloud config set project ${PROJECT}\n",
        "gcloud config set compute/region ${REGION}"
      ],
      "execution_count": 5,
      "outputs": [
        {
          "output_type": "stream",
          "text": [
            "Updated property [core/project].\n",
            "Updated property [compute/region].\n"
          ],
          "name": "stderr"
        }
      ]
    },
    {
      "metadata": {
        "id": "mnQACTZz4yH1",
        "colab_type": "code",
        "colab": {}
      },
      "cell_type": "code",
      "source": [
        "def query_to_dataframe(query):\n",
        "  import pandas as pd\n",
        "  return pd.read_gbq(query, dialect='standard', project_id=PROJECT)\n",
        "\n",
        "from google.colab import auth\n",
        "auth.authenticate_user()"
      ],
      "execution_count": 0,
      "outputs": []
    },
    {
      "metadata": {
        "id": "hDKuxPH1_vs1",
        "colab_type": "text"
      },
      "cell_type": "markdown",
      "source": [
        "## Explore table"
      ]
    },
    {
      "metadata": {
        "id": "qFAHXVXn4tC8",
        "colab_type": "code",
        "colab": {}
      },
      "cell_type": "code",
      "source": [
        "import pandas as pd\n",
        "import numpy as np\n",
        "import shutil"
      ],
      "execution_count": 0,
      "outputs": []
    },
    {
      "metadata": {
        "id": "mIcHJhO74tC_",
        "colab_type": "code",
        "colab": {
          "base_uri": "https://localhost:8080/",
          "height": 549
        },
        "outputId": "b8752e8f-3b73-4e00-f82f-9a00905d41b2"
      },
      "cell_type": "code",
      "source": [
        "query_to_dataframe(\"\"\"\n",
        "SELECT * FROM `bigquery-public-data.new_york.tlc_yellow_trips_2015` LIMIT 10\n",
        "\"\"\")"
      ],
      "execution_count": 15,
      "outputs": [
        {
          "output_type": "execute_result",
          "data": {
            "text/html": [
              "<div>\n",
              "<style scoped>\n",
              "    .dataframe tbody tr th:only-of-type {\n",
              "        vertical-align: middle;\n",
              "    }\n",
              "\n",
              "    .dataframe tbody tr th {\n",
              "        vertical-align: top;\n",
              "    }\n",
              "\n",
              "    .dataframe thead th {\n",
              "        text-align: right;\n",
              "    }\n",
              "</style>\n",
              "<table border=\"1\" class=\"dataframe\">\n",
              "  <thead>\n",
              "    <tr style=\"text-align: right;\">\n",
              "      <th></th>\n",
              "      <th>vendor_id</th>\n",
              "      <th>pickup_datetime</th>\n",
              "      <th>dropoff_datetime</th>\n",
              "      <th>passenger_count</th>\n",
              "      <th>trip_distance</th>\n",
              "      <th>pickup_longitude</th>\n",
              "      <th>pickup_latitude</th>\n",
              "      <th>rate_code</th>\n",
              "      <th>store_and_fwd_flag</th>\n",
              "      <th>dropoff_longitude</th>\n",
              "      <th>dropoff_latitude</th>\n",
              "      <th>payment_type</th>\n",
              "      <th>fare_amount</th>\n",
              "      <th>extra</th>\n",
              "      <th>mta_tax</th>\n",
              "      <th>tip_amount</th>\n",
              "      <th>tolls_amount</th>\n",
              "      <th>imp_surcharge</th>\n",
              "      <th>total_amount</th>\n",
              "    </tr>\n",
              "  </thead>\n",
              "  <tbody>\n",
              "    <tr>\n",
              "      <th>0</th>\n",
              "      <td>1</td>\n",
              "      <td>2015-10-07 23:16:53</td>\n",
              "      <td>2015-10-07 23:36:52</td>\n",
              "      <td>1</td>\n",
              "      <td>9.40</td>\n",
              "      <td>-73.874489</td>\n",
              "      <td>40.774094</td>\n",
              "      <td>1</td>\n",
              "      <td>N</td>\n",
              "      <td>-73.948196</td>\n",
              "      <td>40.687302</td>\n",
              "      <td>1</td>\n",
              "      <td>27.5</td>\n",
              "      <td>0.5</td>\n",
              "      <td>0.5</td>\n",
              "      <td>5.75</td>\n",
              "      <td>0.00</td>\n",
              "      <td>0.3</td>\n",
              "      <td>34.55</td>\n",
              "    </tr>\n",
              "    <tr>\n",
              "      <th>1</th>\n",
              "      <td>1</td>\n",
              "      <td>2015-02-06 19:12:42</td>\n",
              "      <td>2015-02-06 19:47:05</td>\n",
              "      <td>1</td>\n",
              "      <td>6.10</td>\n",
              "      <td>-73.986008</td>\n",
              "      <td>40.731022</td>\n",
              "      <td>None</td>\n",
              "      <td>N</td>\n",
              "      <td>-73.958809</td>\n",
              "      <td>40.802311</td>\n",
              "      <td>1</td>\n",
              "      <td>26.0</td>\n",
              "      <td>1.0</td>\n",
              "      <td>0.5</td>\n",
              "      <td>5.56</td>\n",
              "      <td>0.00</td>\n",
              "      <td>0.3</td>\n",
              "      <td>33.36</td>\n",
              "    </tr>\n",
              "    <tr>\n",
              "      <th>2</th>\n",
              "      <td>1</td>\n",
              "      <td>2015-10-09 00:01:14</td>\n",
              "      <td>2015-10-09 00:28:41</td>\n",
              "      <td>1</td>\n",
              "      <td>8.10</td>\n",
              "      <td>-73.977791</td>\n",
              "      <td>40.752293</td>\n",
              "      <td>1</td>\n",
              "      <td>N</td>\n",
              "      <td>-73.941757</td>\n",
              "      <td>40.843338</td>\n",
              "      <td>1</td>\n",
              "      <td>28.0</td>\n",
              "      <td>0.5</td>\n",
              "      <td>0.5</td>\n",
              "      <td>5.86</td>\n",
              "      <td>0.00</td>\n",
              "      <td>0.3</td>\n",
              "      <td>35.16</td>\n",
              "    </tr>\n",
              "    <tr>\n",
              "      <th>3</th>\n",
              "      <td>1</td>\n",
              "      <td>2015-10-20 13:29:06</td>\n",
              "      <td>2015-10-20 14:16:11</td>\n",
              "      <td>1</td>\n",
              "      <td>9.00</td>\n",
              "      <td>-73.872757</td>\n",
              "      <td>40.773781</td>\n",
              "      <td>1</td>\n",
              "      <td>N</td>\n",
              "      <td>-73.988914</td>\n",
              "      <td>40.757988</td>\n",
              "      <td>1</td>\n",
              "      <td>39.5</td>\n",
              "      <td>0.0</td>\n",
              "      <td>0.5</td>\n",
              "      <td>9.15</td>\n",
              "      <td>5.54</td>\n",
              "      <td>0.3</td>\n",
              "      <td>54.99</td>\n",
              "    </tr>\n",
              "    <tr>\n",
              "      <th>4</th>\n",
              "      <td>2</td>\n",
              "      <td>2015-02-16 09:18:52</td>\n",
              "      <td>2015-02-16 09:51:23</td>\n",
              "      <td>2</td>\n",
              "      <td>6.54</td>\n",
              "      <td>-73.974396</td>\n",
              "      <td>40.788998</td>\n",
              "      <td>None</td>\n",
              "      <td>N</td>\n",
              "      <td>-74.011093</td>\n",
              "      <td>40.709705</td>\n",
              "      <td>1</td>\n",
              "      <td>26.5</td>\n",
              "      <td>0.0</td>\n",
              "      <td>0.5</td>\n",
              "      <td>5.46</td>\n",
              "      <td>0.00</td>\n",
              "      <td>0.3</td>\n",
              "      <td>32.76</td>\n",
              "    </tr>\n",
              "    <tr>\n",
              "      <th>5</th>\n",
              "      <td>2</td>\n",
              "      <td>2015-09-01 17:32:29</td>\n",
              "      <td>2015-09-01 18:11:14</td>\n",
              "      <td>2</td>\n",
              "      <td>9.96</td>\n",
              "      <td>-73.988892</td>\n",
              "      <td>40.736771</td>\n",
              "      <td>1</td>\n",
              "      <td>N</td>\n",
              "      <td>-73.862129</td>\n",
              "      <td>40.768661</td>\n",
              "      <td>1</td>\n",
              "      <td>35.5</td>\n",
              "      <td>1.0</td>\n",
              "      <td>0.5</td>\n",
              "      <td>8.57</td>\n",
              "      <td>5.54</td>\n",
              "      <td>0.3</td>\n",
              "      <td>51.41</td>\n",
              "    </tr>\n",
              "    <tr>\n",
              "      <th>6</th>\n",
              "      <td>2</td>\n",
              "      <td>2015-01-16 19:39:59</td>\n",
              "      <td>2015-01-16 20:20:51</td>\n",
              "      <td>4</td>\n",
              "      <td>14.70</td>\n",
              "      <td>-73.874481</td>\n",
              "      <td>40.774029</td>\n",
              "      <td>None</td>\n",
              "      <td>N</td>\n",
              "      <td>-74.004044</td>\n",
              "      <td>40.721130</td>\n",
              "      <td>1</td>\n",
              "      <td>44.5</td>\n",
              "      <td>1.0</td>\n",
              "      <td>0.5</td>\n",
              "      <td>10.17</td>\n",
              "      <td>5.33</td>\n",
              "      <td>0.3</td>\n",
              "      <td>61.80</td>\n",
              "    </tr>\n",
              "    <tr>\n",
              "      <th>7</th>\n",
              "      <td>2</td>\n",
              "      <td>2015-04-24 22:40:55</td>\n",
              "      <td>2015-04-24 23:01:58</td>\n",
              "      <td>5</td>\n",
              "      <td>8.44</td>\n",
              "      <td>-73.962463</td>\n",
              "      <td>40.776421</td>\n",
              "      <td>None</td>\n",
              "      <td>N</td>\n",
              "      <td>-73.965668</td>\n",
              "      <td>40.712856</td>\n",
              "      <td>1</td>\n",
              "      <td>26.5</td>\n",
              "      <td>0.5</td>\n",
              "      <td>0.5</td>\n",
              "      <td>5.56</td>\n",
              "      <td>0.00</td>\n",
              "      <td>0.3</td>\n",
              "      <td>33.36</td>\n",
              "    </tr>\n",
              "    <tr>\n",
              "      <th>8</th>\n",
              "      <td>2</td>\n",
              "      <td>2015-09-27 12:48:43</td>\n",
              "      <td>2015-09-27 13:14:59</td>\n",
              "      <td>5</td>\n",
              "      <td>6.78</td>\n",
              "      <td>-73.991890</td>\n",
              "      <td>40.754009</td>\n",
              "      <td>1</td>\n",
              "      <td>N</td>\n",
              "      <td>-73.949944</td>\n",
              "      <td>40.826931</td>\n",
              "      <td>1</td>\n",
              "      <td>24.5</td>\n",
              "      <td>0.0</td>\n",
              "      <td>0.5</td>\n",
              "      <td>5.06</td>\n",
              "      <td>0.00</td>\n",
              "      <td>0.3</td>\n",
              "      <td>30.36</td>\n",
              "    </tr>\n",
              "    <tr>\n",
              "      <th>9</th>\n",
              "      <td>2</td>\n",
              "      <td>2015-06-02 07:25:26</td>\n",
              "      <td>2015-06-02 07:55:31</td>\n",
              "      <td>6</td>\n",
              "      <td>9.01</td>\n",
              "      <td>-73.987022</td>\n",
              "      <td>40.779137</td>\n",
              "      <td>None</td>\n",
              "      <td>N</td>\n",
              "      <td>-73.984230</td>\n",
              "      <td>40.693729</td>\n",
              "      <td>1</td>\n",
              "      <td>29.0</td>\n",
              "      <td>0.0</td>\n",
              "      <td>0.5</td>\n",
              "      <td>8.94</td>\n",
              "      <td>0.00</td>\n",
              "      <td>0.3</td>\n",
              "      <td>38.74</td>\n",
              "    </tr>\n",
              "  </tbody>\n",
              "</table>\n",
              "</div>"
            ],
            "text/plain": [
              "  vendor_id     pickup_datetime    dropoff_datetime  passenger_count  \\\n",
              "0         1 2015-10-07 23:16:53 2015-10-07 23:36:52                1   \n",
              "1         1 2015-02-06 19:12:42 2015-02-06 19:47:05                1   \n",
              "2         1 2015-10-09 00:01:14 2015-10-09 00:28:41                1   \n",
              "3         1 2015-10-20 13:29:06 2015-10-20 14:16:11                1   \n",
              "4         2 2015-02-16 09:18:52 2015-02-16 09:51:23                2   \n",
              "5         2 2015-09-01 17:32:29 2015-09-01 18:11:14                2   \n",
              "6         2 2015-01-16 19:39:59 2015-01-16 20:20:51                4   \n",
              "7         2 2015-04-24 22:40:55 2015-04-24 23:01:58                5   \n",
              "8         2 2015-09-27 12:48:43 2015-09-27 13:14:59                5   \n",
              "9         2 2015-06-02 07:25:26 2015-06-02 07:55:31                6   \n",
              "\n",
              "   trip_distance  pickup_longitude  pickup_latitude rate_code  \\\n",
              "0           9.40        -73.874489        40.774094         1   \n",
              "1           6.10        -73.986008        40.731022      None   \n",
              "2           8.10        -73.977791        40.752293         1   \n",
              "3           9.00        -73.872757        40.773781         1   \n",
              "4           6.54        -73.974396        40.788998      None   \n",
              "5           9.96        -73.988892        40.736771         1   \n",
              "6          14.70        -73.874481        40.774029      None   \n",
              "7           8.44        -73.962463        40.776421      None   \n",
              "8           6.78        -73.991890        40.754009         1   \n",
              "9           9.01        -73.987022        40.779137      None   \n",
              "\n",
              "  store_and_fwd_flag  dropoff_longitude  dropoff_latitude payment_type  \\\n",
              "0                  N         -73.948196         40.687302            1   \n",
              "1                  N         -73.958809         40.802311            1   \n",
              "2                  N         -73.941757         40.843338            1   \n",
              "3                  N         -73.988914         40.757988            1   \n",
              "4                  N         -74.011093         40.709705            1   \n",
              "5                  N         -73.862129         40.768661            1   \n",
              "6                  N         -74.004044         40.721130            1   \n",
              "7                  N         -73.965668         40.712856            1   \n",
              "8                  N         -73.949944         40.826931            1   \n",
              "9                  N         -73.984230         40.693729            1   \n",
              "\n",
              "   fare_amount  extra  mta_tax  tip_amount  tolls_amount  imp_surcharge  \\\n",
              "0         27.5    0.5      0.5        5.75          0.00            0.3   \n",
              "1         26.0    1.0      0.5        5.56          0.00            0.3   \n",
              "2         28.0    0.5      0.5        5.86          0.00            0.3   \n",
              "3         39.5    0.0      0.5        9.15          5.54            0.3   \n",
              "4         26.5    0.0      0.5        5.46          0.00            0.3   \n",
              "5         35.5    1.0      0.5        8.57          5.54            0.3   \n",
              "6         44.5    1.0      0.5       10.17          5.33            0.3   \n",
              "7         26.5    0.5      0.5        5.56          0.00            0.3   \n",
              "8         24.5    0.0      0.5        5.06          0.00            0.3   \n",
              "9         29.0    0.0      0.5        8.94          0.00            0.3   \n",
              "\n",
              "   total_amount  \n",
              "0         34.55  \n",
              "1         33.36  \n",
              "2         35.16  \n",
              "3         54.99  \n",
              "4         32.76  \n",
              "5         51.41  \n",
              "6         61.80  \n",
              "7         33.36  \n",
              "8         30.36  \n",
              "9         38.74  "
            ]
          },
          "metadata": {
            "tags": []
          },
          "execution_count": 15
        }
      ]
    },
    {
      "metadata": {
        "id": "2Q5dUnpy4tDF",
        "colab_type": "text"
      },
      "cell_type": "markdown",
      "source": [
        "<h2> Analyzing taxicab demand </h2>\n",
        "\n",
        "Let's pull the number of trips for each day in the 2015 dataset using Standard SQL."
      ]
    },
    {
      "metadata": {
        "id": "yzO_Nrga4tDF",
        "colab_type": "code",
        "colab": {
          "base_uri": "https://localhost:8080/",
          "height": 204
        },
        "outputId": "b591de77-934f-41fc-9873-9f1fc154698c"
      },
      "cell_type": "code",
      "source": [
        "query_to_dataframe(\"\"\"\n",
        "SELECT \n",
        "  EXTRACT (DAYOFYEAR from pickup_datetime) AS daynumber\n",
        "FROM `bigquery-public-data.new_york.tlc_yellow_trips_2015` \n",
        "LIMIT 5\n",
        "\"\"\")"
      ],
      "execution_count": 21,
      "outputs": [
        {
          "output_type": "execute_result",
          "data": {
            "text/html": [
              "<div>\n",
              "<style scoped>\n",
              "    .dataframe tbody tr th:only-of-type {\n",
              "        vertical-align: middle;\n",
              "    }\n",
              "\n",
              "    .dataframe tbody tr th {\n",
              "        vertical-align: top;\n",
              "    }\n",
              "\n",
              "    .dataframe thead th {\n",
              "        text-align: right;\n",
              "    }\n",
              "</style>\n",
              "<table border=\"1\" class=\"dataframe\">\n",
              "  <thead>\n",
              "    <tr style=\"text-align: right;\">\n",
              "      <th></th>\n",
              "      <th>daynumber</th>\n",
              "    </tr>\n",
              "  </thead>\n",
              "  <tbody>\n",
              "    <tr>\n",
              "      <th>0</th>\n",
              "      <td>301</td>\n",
              "    </tr>\n",
              "    <tr>\n",
              "      <th>1</th>\n",
              "      <td>178</td>\n",
              "    </tr>\n",
              "    <tr>\n",
              "      <th>2</th>\n",
              "      <td>308</td>\n",
              "    </tr>\n",
              "    <tr>\n",
              "      <th>3</th>\n",
              "      <td>336</td>\n",
              "    </tr>\n",
              "    <tr>\n",
              "      <th>4</th>\n",
              "      <td>150</td>\n",
              "    </tr>\n",
              "  </tbody>\n",
              "</table>\n",
              "</div>"
            ],
            "text/plain": [
              "   daynumber\n",
              "0        301\n",
              "1        178\n",
              "2        308\n",
              "3        336\n",
              "4        150"
            ]
          },
          "metadata": {
            "tags": []
          },
          "execution_count": 21
        }
      ]
    },
    {
      "metadata": {
        "id": "Te0Z1Qy04tDJ",
        "colab_type": "text"
      },
      "cell_type": "markdown",
      "source": [
        "<h3> Modular queries and Pandas dataframe </h3>\n",
        "\n",
        "Let's use the total number of trips as our proxy for taxicab demand (other reasonable alternatives are total trip_distance or total fare_amount).  It is possible to predict multiple variables using Tensorflow, but for simplicity, we will stick to just predicting the number of trips.\n",
        "\n",
        "We will give our query a name 'taxiquery' and have it use an input variable '$YEAR'. We can then invoke the 'taxiquery' by giving it a YEAR.  The to_dataframe() converts the BigQuery result into a <a href='http://pandas.pydata.org/'>Pandas</a> dataframe."
      ]
    },
    {
      "metadata": {
        "id": "tAGdhtt44tDL",
        "colab_type": "code",
        "colab": {}
      },
      "cell_type": "code",
      "source": [
        "def taxiquery(year):\n",
        "  return \"\"\"\n",
        "WITH trips AS (\n",
        "  SELECT EXTRACT (DAYOFYEAR from pickup_datetime) AS daynumber \n",
        "  FROM `bigquery-public-data.new_york.tlc_yellow_trips_*`\n",
        "  where _TABLE_SUFFIX = '{}'\n",
        ")\n",
        "SELECT daynumber, COUNT(1) AS numtrips FROM trips\n",
        "GROUP BY daynumber ORDER BY daynumber\n",
        "\"\"\".format(year)"
      ],
      "execution_count": 0,
      "outputs": []
    },
    {
      "metadata": {
        "id": "RkiE2C-44tDN",
        "colab_type": "code",
        "colab": {
          "base_uri": "https://localhost:8080/",
          "height": 204
        },
        "outputId": "290857b6-6718-45c9-d216-1cba72a2c027"
      },
      "cell_type": "code",
      "source": [
        "trips = query_to_dataframe(taxiquery(2015))\n",
        "trips[:5]"
      ],
      "execution_count": 12,
      "outputs": [
        {
          "output_type": "execute_result",
          "data": {
            "text/html": [
              "<div>\n",
              "<style scoped>\n",
              "    .dataframe tbody tr th:only-of-type {\n",
              "        vertical-align: middle;\n",
              "    }\n",
              "\n",
              "    .dataframe tbody tr th {\n",
              "        vertical-align: top;\n",
              "    }\n",
              "\n",
              "    .dataframe thead th {\n",
              "        text-align: right;\n",
              "    }\n",
              "</style>\n",
              "<table border=\"1\" class=\"dataframe\">\n",
              "  <thead>\n",
              "    <tr style=\"text-align: right;\">\n",
              "      <th></th>\n",
              "      <th>daynumber</th>\n",
              "      <th>numtrips</th>\n",
              "    </tr>\n",
              "  </thead>\n",
              "  <tbody>\n",
              "    <tr>\n",
              "      <th>0</th>\n",
              "      <td>1</td>\n",
              "      <td>382014</td>\n",
              "    </tr>\n",
              "    <tr>\n",
              "      <th>1</th>\n",
              "      <td>2</td>\n",
              "      <td>345296</td>\n",
              "    </tr>\n",
              "    <tr>\n",
              "      <th>2</th>\n",
              "      <td>3</td>\n",
              "      <td>406769</td>\n",
              "    </tr>\n",
              "    <tr>\n",
              "      <th>3</th>\n",
              "      <td>4</td>\n",
              "      <td>328848</td>\n",
              "    </tr>\n",
              "    <tr>\n",
              "      <th>4</th>\n",
              "      <td>5</td>\n",
              "      <td>363454</td>\n",
              "    </tr>\n",
              "  </tbody>\n",
              "</table>\n",
              "</div>"
            ],
            "text/plain": [
              "   daynumber  numtrips\n",
              "0          1    382014\n",
              "1          2    345296\n",
              "2          3    406769\n",
              "3          4    328848\n",
              "4          5    363454"
            ]
          },
          "metadata": {
            "tags": []
          },
          "execution_count": 12
        }
      ]
    },
    {
      "metadata": {
        "id": "yelvUGm84tDR",
        "colab_type": "text"
      },
      "cell_type": "markdown",
      "source": [
        "<h3> Benchmark </h3>\n",
        "\n",
        "Often, a reasonable estimate of something is its historical average. We can therefore benchmark our machine learning model against the historical average."
      ]
    },
    {
      "metadata": {
        "id": "dPftNBGt4tDR",
        "colab_type": "code",
        "colab": {
          "base_uri": "https://localhost:8080/",
          "height": 34
        },
        "outputId": "f2e97ae0-1492-4e8a-8a75-f910ad2054ae"
      },
      "cell_type": "code",
      "source": [
        "avg = np.mean(trips['numtrips'])\n",
        "print 'Just using average={0} has RMSE of {1}'.format(avg, np.sqrt(np.mean((trips['numtrips'] - avg)**2)))"
      ],
      "execution_count": 29,
      "outputs": [
        {
          "output_type": "stream",
          "text": [
            "Just using average=400309.558904 has RMSE of 51613.6516905\n"
          ],
          "name": "stdout"
        }
      ]
    },
    {
      "metadata": {
        "id": "uU3p32Jy4tDW",
        "colab_type": "text"
      },
      "cell_type": "markdown",
      "source": [
        "The mean here is about 400,000 and the root-mean-square-error (RMSE) in this case is about 52,000. In other words, if we were to estimate that there are 400,000 taxi trips on any given day, that estimate is will be off on average by about 52,000 in either direction.\n",
        "  \n",
        "Let's see if we can do better than this -- our goal is to make predictions of taxicab demand whose RMSE is lower than 52,000.\n",
        "\n",
        "What kinds of things affect people's use of taxicabs?"
      ]
    },
    {
      "metadata": {
        "id": "mOqHD-Kc4tDW",
        "colab_type": "text"
      },
      "cell_type": "markdown",
      "source": [
        "<h2> Weather data </h2>\n",
        "\n",
        "We suspect that weather influences how often people use a taxi. Perhaps someone who'd normally walk to work would take a taxi if it is very cold or rainy.\n",
        "\n",
        "One of the advantages of using a global data warehouse like BigQuery is that you get to mash up unrelated datasets quite easily."
      ]
    },
    {
      "metadata": {
        "id": "BZWIjGr-4tDX",
        "colab_type": "code",
        "colab": {
          "base_uri": "https://localhost:8080/",
          "height": 80
        },
        "outputId": "35889b12-2345-49e8-d1f6-ac51f0cc1136"
      },
      "cell_type": "code",
      "source": [
        "query_to_dataframe(\"\"\"\n",
        "SELECT * FROM `bigquery-public-data.noaa_gsod.stations`\n",
        "WHERE state = 'NY' AND wban != '99999' AND name LIKE '%LA GUARDIA%'\n",
        "\"\"\")"
      ],
      "execution_count": 30,
      "outputs": [
        {
          "output_type": "execute_result",
          "data": {
            "text/html": [
              "<div>\n",
              "<style scoped>\n",
              "    .dataframe tbody tr th:only-of-type {\n",
              "        vertical-align: middle;\n",
              "    }\n",
              "\n",
              "    .dataframe tbody tr th {\n",
              "        vertical-align: top;\n",
              "    }\n",
              "\n",
              "    .dataframe thead th {\n",
              "        text-align: right;\n",
              "    }\n",
              "</style>\n",
              "<table border=\"1\" class=\"dataframe\">\n",
              "  <thead>\n",
              "    <tr style=\"text-align: right;\">\n",
              "      <th></th>\n",
              "      <th>usaf</th>\n",
              "      <th>wban</th>\n",
              "      <th>name</th>\n",
              "      <th>country</th>\n",
              "      <th>state</th>\n",
              "      <th>call</th>\n",
              "      <th>lat</th>\n",
              "      <th>lon</th>\n",
              "      <th>elev</th>\n",
              "      <th>begin</th>\n",
              "      <th>end</th>\n",
              "    </tr>\n",
              "  </thead>\n",
              "  <tbody>\n",
              "    <tr>\n",
              "      <th>0</th>\n",
              "      <td>725030</td>\n",
              "      <td>14732</td>\n",
              "      <td>LA GUARDIA AIRPORT</td>\n",
              "      <td>US</td>\n",
              "      <td>NY</td>\n",
              "      <td>KLGA</td>\n",
              "      <td>40.779</td>\n",
              "      <td>-73.88</td>\n",
              "      <td>+0003.4</td>\n",
              "      <td>19730101</td>\n",
              "      <td>20180822</td>\n",
              "    </tr>\n",
              "  </tbody>\n",
              "</table>\n",
              "</div>"
            ],
            "text/plain": [
              "     usaf   wban                name country state  call     lat    lon  \\\n",
              "0  725030  14732  LA GUARDIA AIRPORT      US    NY  KLGA  40.779 -73.88   \n",
              "\n",
              "      elev     begin       end  \n",
              "0  +0003.4  19730101  20180822  "
            ]
          },
          "metadata": {
            "tags": []
          },
          "execution_count": 30
        }
      ]
    },
    {
      "metadata": {
        "id": "AGzJwnSz4tDb",
        "colab_type": "text"
      },
      "cell_type": "markdown",
      "source": [
        "<h3> Variables </h3>\n",
        "\n",
        "Let's pull out the minimum and maximum daily temperature (in Fahrenheit) as well as the amount of rain (in inches) for La Guardia airport."
      ]
    },
    {
      "metadata": {
        "id": "4duZJun64tDb",
        "colab_type": "code",
        "colab": {}
      },
      "cell_type": "code",
      "source": [
        "def wxquery(year):\n",
        "  return \"\"\"\n",
        "SELECT EXTRACT (DAYOFYEAR FROM CAST(CONCAT('{0}','-',mo,'-',da) AS TIMESTAMP)) AS daynumber,\n",
        "       MIN(EXTRACT (DAYOFWEEK FROM CAST(CONCAT('{0}','-',mo,'-',da) AS TIMESTAMP))) dayofweek,\n",
        "       MIN(min) mintemp, MAX(max) maxtemp, MAX(IF(prcp=99.99,0,prcp)) rain\n",
        "FROM `bigquery-public-data.noaa_gsod.gsod*`\n",
        "WHERE stn='725030' AND _TABLE_SUFFIX = '{0}'\n",
        "GROUP BY 1 ORDER BY daynumber DESC\n",
        "\"\"\".format(year)"
      ],
      "execution_count": 0,
      "outputs": []
    },
    {
      "metadata": {
        "id": "YBCxKOQA4tDf",
        "colab_type": "code",
        "colab": {
          "base_uri": "https://localhost:8080/",
          "height": 204
        },
        "outputId": "e5960c45-9a7d-460e-f220-be6e9e896c8d"
      },
      "cell_type": "code",
      "source": [
        "weather = query_to_dataframe(wxquery(2015))\n",
        "weather[:5]"
      ],
      "execution_count": 11,
      "outputs": [
        {
          "output_type": "execute_result",
          "data": {
            "text/html": [
              "<div>\n",
              "<style scoped>\n",
              "    .dataframe tbody tr th:only-of-type {\n",
              "        vertical-align: middle;\n",
              "    }\n",
              "\n",
              "    .dataframe tbody tr th {\n",
              "        vertical-align: top;\n",
              "    }\n",
              "\n",
              "    .dataframe thead th {\n",
              "        text-align: right;\n",
              "    }\n",
              "</style>\n",
              "<table border=\"1\" class=\"dataframe\">\n",
              "  <thead>\n",
              "    <tr style=\"text-align: right;\">\n",
              "      <th></th>\n",
              "      <th>daynumber</th>\n",
              "      <th>dayofweek</th>\n",
              "      <th>mintemp</th>\n",
              "      <th>maxtemp</th>\n",
              "      <th>rain</th>\n",
              "    </tr>\n",
              "  </thead>\n",
              "  <tbody>\n",
              "    <tr>\n",
              "      <th>0</th>\n",
              "      <td>365</td>\n",
              "      <td>5</td>\n",
              "      <td>46.0</td>\n",
              "      <td>48.2</td>\n",
              "      <td>0.17</td>\n",
              "    </tr>\n",
              "    <tr>\n",
              "      <th>1</th>\n",
              "      <td>364</td>\n",
              "      <td>4</td>\n",
              "      <td>34.0</td>\n",
              "      <td>48.0</td>\n",
              "      <td>0.13</td>\n",
              "    </tr>\n",
              "    <tr>\n",
              "      <th>2</th>\n",
              "      <td>363</td>\n",
              "      <td>3</td>\n",
              "      <td>33.8</td>\n",
              "      <td>46.9</td>\n",
              "      <td>0.37</td>\n",
              "    </tr>\n",
              "    <tr>\n",
              "      <th>3</th>\n",
              "      <td>362</td>\n",
              "      <td>2</td>\n",
              "      <td>39.0</td>\n",
              "      <td>62.1</td>\n",
              "      <td>0.02</td>\n",
              "    </tr>\n",
              "    <tr>\n",
              "      <th>4</th>\n",
              "      <td>361</td>\n",
              "      <td>1</td>\n",
              "      <td>46.0</td>\n",
              "      <td>62.6</td>\n",
              "      <td>0.14</td>\n",
              "    </tr>\n",
              "  </tbody>\n",
              "</table>\n",
              "</div>"
            ],
            "text/plain": [
              "   daynumber  dayofweek  mintemp  maxtemp  rain\n",
              "0        365          5     46.0     48.2  0.17\n",
              "1        364          4     34.0     48.0  0.13\n",
              "2        363          3     33.8     46.9  0.37\n",
              "3        362          2     39.0     62.1  0.02\n",
              "4        361          1     46.0     62.6  0.14"
            ]
          },
          "metadata": {
            "tags": []
          },
          "execution_count": 11
        }
      ]
    },
    {
      "metadata": {
        "id": "TY5V9NqI4tDi",
        "colab_type": "text"
      },
      "cell_type": "markdown",
      "source": [
        "<h3> Merge datasets </h3>\n",
        "\n",
        "Let's use Pandas to merge (combine) the taxi cab and weather datasets day-by-day."
      ]
    },
    {
      "metadata": {
        "id": "QaQjs-kC4tDj",
        "colab_type": "code",
        "colab": {
          "base_uri": "https://localhost:8080/",
          "height": 204
        },
        "outputId": "da5c574f-bb81-4bcc-f1bf-53fd12662779"
      },
      "cell_type": "code",
      "source": [
        "data = pd.merge(weather, trips, on='daynumber')\n",
        "data[:5]"
      ],
      "execution_count": 13,
      "outputs": [
        {
          "output_type": "execute_result",
          "data": {
            "text/html": [
              "<div>\n",
              "<style scoped>\n",
              "    .dataframe tbody tr th:only-of-type {\n",
              "        vertical-align: middle;\n",
              "    }\n",
              "\n",
              "    .dataframe tbody tr th {\n",
              "        vertical-align: top;\n",
              "    }\n",
              "\n",
              "    .dataframe thead th {\n",
              "        text-align: right;\n",
              "    }\n",
              "</style>\n",
              "<table border=\"1\" class=\"dataframe\">\n",
              "  <thead>\n",
              "    <tr style=\"text-align: right;\">\n",
              "      <th></th>\n",
              "      <th>daynumber</th>\n",
              "      <th>dayofweek</th>\n",
              "      <th>mintemp</th>\n",
              "      <th>maxtemp</th>\n",
              "      <th>rain</th>\n",
              "      <th>numtrips</th>\n",
              "    </tr>\n",
              "  </thead>\n",
              "  <tbody>\n",
              "    <tr>\n",
              "      <th>0</th>\n",
              "      <td>365</td>\n",
              "      <td>5</td>\n",
              "      <td>46.0</td>\n",
              "      <td>48.2</td>\n",
              "      <td>0.17</td>\n",
              "      <td>339939</td>\n",
              "    </tr>\n",
              "    <tr>\n",
              "      <th>1</th>\n",
              "      <td>364</td>\n",
              "      <td>4</td>\n",
              "      <td>34.0</td>\n",
              "      <td>48.0</td>\n",
              "      <td>0.13</td>\n",
              "      <td>319649</td>\n",
              "    </tr>\n",
              "    <tr>\n",
              "      <th>2</th>\n",
              "      <td>363</td>\n",
              "      <td>3</td>\n",
              "      <td>33.8</td>\n",
              "      <td>46.9</td>\n",
              "      <td>0.37</td>\n",
              "      <td>311730</td>\n",
              "    </tr>\n",
              "    <tr>\n",
              "      <th>3</th>\n",
              "      <td>362</td>\n",
              "      <td>2</td>\n",
              "      <td>39.0</td>\n",
              "      <td>62.1</td>\n",
              "      <td>0.02</td>\n",
              "      <td>301398</td>\n",
              "    </tr>\n",
              "    <tr>\n",
              "      <th>4</th>\n",
              "      <td>361</td>\n",
              "      <td>1</td>\n",
              "      <td>46.0</td>\n",
              "      <td>62.6</td>\n",
              "      <td>0.14</td>\n",
              "      <td>268841</td>\n",
              "    </tr>\n",
              "  </tbody>\n",
              "</table>\n",
              "</div>"
            ],
            "text/plain": [
              "   daynumber  dayofweek  mintemp  maxtemp  rain  numtrips\n",
              "0        365          5     46.0     48.2  0.17    339939\n",
              "1        364          4     34.0     48.0  0.13    319649\n",
              "2        363          3     33.8     46.9  0.37    311730\n",
              "3        362          2     39.0     62.1  0.02    301398\n",
              "4        361          1     46.0     62.6  0.14    268841"
            ]
          },
          "metadata": {
            "tags": []
          },
          "execution_count": 13
        }
      ]
    },
    {
      "metadata": {
        "id": "oAMitygk4tDn",
        "colab_type": "text"
      },
      "cell_type": "markdown",
      "source": [
        "<h3> Exploratory analysis </h3>\n",
        "\n",
        "Is there a relationship between maximum temperature and the number of trips?"
      ]
    },
    {
      "metadata": {
        "id": "z7J3srTb4tDn",
        "colab_type": "code",
        "colab": {
          "base_uri": "https://localhost:8080/",
          "height": 361
        },
        "outputId": "0f3f64b1-60e2-4884-f846-4660eee966ea"
      },
      "cell_type": "code",
      "source": [
        "j = data.plot(kind='scatter', x='maxtemp', y='numtrips')"
      ],
      "execution_count": 14,
      "outputs": [
        {
          "output_type": "display_data",
          "data": {
            "image/png": "[encoded data removed]",
            "text/plain": [
              "<matplotlib.figure.Figure at 0x7fd1fb0366d0>"
            ]
          },
          "metadata": {
            "tags": []
          }
        }
      ]
    },
    {
      "metadata": {
        "id": "hZNA8Nsb4tDr",
        "colab_type": "text"
      },
      "cell_type": "markdown",
      "source": [
        "The scatterplot above doesn't look very promising. There appears to be a weak downward trend, but it's also quite noisy.\n",
        "\n",
        "Is there a relationship between the day of the week and the number of trips?"
      ]
    },
    {
      "metadata": {
        "id": "vI8DOdyP4tDs",
        "colab_type": "code",
        "colab": {
          "base_uri": "https://localhost:8080/",
          "height": 361
        },
        "outputId": "3de231f2-e9be-46cf-d931-69f3261a09f3"
      },
      "cell_type": "code",
      "source": [
        "j = data.plot(kind='scatter', x='dayofweek', y='numtrips')"
      ],
      "execution_count": 15,
      "outputs": [
        {
          "output_type": "display_data",
          "data": {
            "image/png": "[encoded data removed]",
            "text/plain": [
              "<matplotlib.figure.Figure at 0x7fd1fb036190>"
            ]
          },
          "metadata": {
            "tags": []
          }
        }
      ]
    },
    {
      "metadata": {
        "id": "uVHgXXjV4tDx",
        "colab_type": "text"
      },
      "cell_type": "markdown",
      "source": [
        "Hurrah, we seem to have found a predictor. It appears that people use taxis more later in the week. Perhaps New Yorkers make weekly resolutions to walk more and then lose their determination later in the week, or maybe it reflects tourism dynamics in New York City.\n",
        "\n",
        "Perhaps if we took out the <em>confounding</em> effect of the day of the week, maximum temperature will start to have an effect. Let's see if that's the case:"
      ]
    },
    {
      "metadata": {
        "id": "ig5IiuV44tDy",
        "colab_type": "code",
        "colab": {
          "base_uri": "https://localhost:8080/",
          "height": 361
        },
        "outputId": "0f4cba36-af84-4c3e-ecde-b9ae4704977b"
      },
      "cell_type": "code",
      "source": [
        "j = data[data['dayofweek'] == 7].plot(kind='scatter', x='maxtemp', y='numtrips')"
      ],
      "execution_count": 16,
      "outputs": [
        {
          "output_type": "display_data",
          "data": {
            "image/png": "[encoded data removed]",
            "text/plain": [
              "<matplotlib.figure.Figure at 0x7fd1f86ab4d0>"
            ]
          },
          "metadata": {
            "tags": []
          }
        }
      ]
    },
    {
      "metadata": {
        "id": "w6A7fMfo4tD3",
        "colab_type": "text"
      },
      "cell_type": "markdown",
      "source": [
        "Removing the confounding factor does seem to reflect an underlying trend around temperature. But ... the data are a little sparse, don't you think?  This is something that you have to keep in mind -- the more predictors you start to consider (here we are using two: day of week and maximum temperature), the more rows you will need so as to avoid <em> overfitting </em> the model."
      ]
    },
    {
      "metadata": {
        "id": "MKjLbUFi4tD3",
        "colab_type": "text"
      },
      "cell_type": "markdown",
      "source": [
        "<h3> Adding 2014 and 2016 data </h3>\n",
        "\n",
        "Let's add in 2014 and 2016 data to the Pandas dataframe.  Note how useful it was for us to modularize our queries around the YEAR."
      ]
    },
    {
      "metadata": {
        "id": "GBm0GZDV4tD5",
        "colab_type": "code",
        "colab": {
          "base_uri": "https://localhost:8080/",
          "height": 297
        },
        "outputId": "bc3ad268-4d3a-4a90-908c-789f5438f912"
      },
      "cell_type": "code",
      "source": [
        "data2 = data # 2015 data\n",
        "for year in [2014, 2016]:\n",
        "    weather = query_to_dataframe(wxquery(year))\n",
        "    trips = query_to_dataframe(taxiquery(year))\n",
        "    data_for_year = pd.merge(weather, trips, on='daynumber')\n",
        "    data2 = pd.concat([data2, data_for_year])\n",
        "data2.describe()"
      ],
      "execution_count": 18,
      "outputs": [
        {
          "output_type": "execute_result",
          "data": {
            "text/html": [
              "<div>\n",
              "<style scoped>\n",
              "    .dataframe tbody tr th:only-of-type {\n",
              "        vertical-align: middle;\n",
              "    }\n",
              "\n",
              "    .dataframe tbody tr th {\n",
              "        vertical-align: top;\n",
              "    }\n",
              "\n",
              "    .dataframe thead th {\n",
              "        text-align: right;\n",
              "    }\n",
              "</style>\n",
              "<table border=\"1\" class=\"dataframe\">\n",
              "  <thead>\n",
              "    <tr style=\"text-align: right;\">\n",
              "      <th></th>\n",
              "      <th>daynumber</th>\n",
              "      <th>dayofweek</th>\n",
              "      <th>mintemp</th>\n",
              "      <th>maxtemp</th>\n",
              "      <th>rain</th>\n",
              "      <th>numtrips</th>\n",
              "    </tr>\n",
              "  </thead>\n",
              "  <tbody>\n",
              "    <tr>\n",
              "      <th>count</th>\n",
              "      <td>1096.000000</td>\n",
              "      <td>1096.000000</td>\n",
              "      <td>1096.000000</td>\n",
              "      <td>1096.000000</td>\n",
              "      <td>1096.000000</td>\n",
              "      <td>1096.000000</td>\n",
              "    </tr>\n",
              "    <tr>\n",
              "      <th>mean</th>\n",
              "      <td>183.166971</td>\n",
              "      <td>4.005474</td>\n",
              "      <td>48.195073</td>\n",
              "      <td>66.151825</td>\n",
              "      <td>0.117272</td>\n",
              "      <td>403642.694343</td>\n",
              "    </tr>\n",
              "    <tr>\n",
              "      <th>std</th>\n",
              "      <td>105.510927</td>\n",
              "      <td>2.000449</td>\n",
              "      <td>18.031228</td>\n",
              "      <td>18.484065</td>\n",
              "      <td>0.320836</td>\n",
              "      <td>63767.524397</td>\n",
              "    </tr>\n",
              "    <tr>\n",
              "      <th>min</th>\n",
              "      <td>1.000000</td>\n",
              "      <td>1.000000</td>\n",
              "      <td>1.000000</td>\n",
              "      <td>21.000000</td>\n",
              "      <td>0.000000</td>\n",
              "      <td>78133.000000</td>\n",
              "    </tr>\n",
              "    <tr>\n",
              "      <th>25%</th>\n",
              "      <td>92.000000</td>\n",
              "      <td>2.000000</td>\n",
              "      <td>35.100000</td>\n",
              "      <td>51.950000</td>\n",
              "      <td>0.000000</td>\n",
              "      <td>363809.000000</td>\n",
              "    </tr>\n",
              "    <tr>\n",
              "      <th>50%</th>\n",
              "      <td>183.000000</td>\n",
              "      <td>4.000000</td>\n",
              "      <td>48.900000</td>\n",
              "      <td>68.000000</td>\n",
              "      <td>0.000000</td>\n",
              "      <td>402184.500000</td>\n",
              "    </tr>\n",
              "    <tr>\n",
              "      <th>75%</th>\n",
              "      <td>274.250000</td>\n",
              "      <td>6.000000</td>\n",
              "      <td>64.400000</td>\n",
              "      <td>82.900000</td>\n",
              "      <td>0.050000</td>\n",
              "      <td>447099.000000</td>\n",
              "    </tr>\n",
              "    <tr>\n",
              "      <th>max</th>\n",
              "      <td>366.000000</td>\n",
              "      <td>7.000000</td>\n",
              "      <td>82.000000</td>\n",
              "      <td>99.000000</td>\n",
              "      <td>4.880000</td>\n",
              "      <td>574530.000000</td>\n",
              "    </tr>\n",
              "  </tbody>\n",
              "</table>\n",
              "</div>"
            ],
            "text/plain": [
              "         daynumber    dayofweek      mintemp      maxtemp         rain  \\\n",
              "count  1096.000000  1096.000000  1096.000000  1096.000000  1096.000000   \n",
              "mean    183.166971     4.005474    48.195073    66.151825     0.117272   \n",
              "std     105.510927     2.000449    18.031228    18.484065     0.320836   \n",
              "min       1.000000     1.000000     1.000000    21.000000     0.000000   \n",
              "25%      92.000000     2.000000    35.100000    51.950000     0.000000   \n",
              "50%     183.000000     4.000000    48.900000    68.000000     0.000000   \n",
              "75%     274.250000     6.000000    64.400000    82.900000     0.050000   \n",
              "max     366.000000     7.000000    82.000000    99.000000     4.880000   \n",
              "\n",
              "            numtrips  \n",
              "count    1096.000000  \n",
              "mean   403642.694343  \n",
              "std     63767.524397  \n",
              "min     78133.000000  \n",
              "25%    363809.000000  \n",
              "50%    402184.500000  \n",
              "75%    447099.000000  \n",
              "max    574530.000000  "
            ]
          },
          "metadata": {
            "tags": []
          },
          "execution_count": 18
        }
      ]
    },
    {
      "metadata": {
        "id": "cJRIX8WY4tD-",
        "colab_type": "code",
        "colab": {
          "base_uri": "https://localhost:8080/",
          "height": 365
        },
        "outputId": "98b6f08a-f704-4535-a2c9-07a4d317035e"
      },
      "cell_type": "code",
      "source": [
        "j = data2[data2['dayofweek'] == 7].plot(kind='scatter', x='maxtemp', y='numtrips')"
      ],
      "execution_count": 19,
      "outputs": [
        {
          "output_type": "display_data",
          "data": {
            "image/png": "[encoded data removed]",
            "text/plain": [
              "<matplotlib.figure.Figure at 0x7fd1f86be090>"
            ]
          },
          "metadata": {
            "tags": []
          }
        }
      ]
    },
    {
      "metadata": {
        "id": "xA-bSk_T4tED",
        "colab_type": "text"
      },
      "cell_type": "markdown",
      "source": [
        "The data do seem a bit more robust.  If we had even more data, it would be better of course. But in this case, we only have 2014-2016 data for taxi trips, so that's what we will go with."
      ]
    },
    {
      "metadata": {
        "id": "kda1ooih4tED",
        "colab_type": "text"
      },
      "cell_type": "markdown",
      "source": [
        "<h2> Machine Learning with Tensorflow </h2>\n",
        "\n",
        "We'll use 80% of our dataset for training and 20% of the data for testing the model we have trained. Let's shuffle the rows of the Pandas dataframe so that this division is random.  The predictor (or input) columns will be every column in the database other than the number-of-trips (which is our target, or what we want to predict).\n",
        "\n",
        "The machine learning models that we will use -- linear regression and neural networks -- both require that the input variables are numeric in nature.\n",
        "\n",
        "The day of the week, however, is a categorical variable (i.e. Tuesday is not really greater than Monday). So, we should create separate columns for whether it is a Monday (with values 0 or 1), Tuesday, etc.\n",
        "\n",
        "Against that, we do have limited data (remember: the more columns you use as input features, the more rows you need to have in your training dataset), and it appears that there is a clear linear trend by day of the week. So, we will opt for simplicity here and use the data as-is.  Try uncommenting the code that creates separate columns for the days of the week and re-run the notebook if you are curious about the impact of this simplification."
      ]
    },
    {
      "metadata": {
        "id": "a76r4nm24tEE",
        "colab_type": "code",
        "colab": {
          "base_uri": "https://localhost:8080/",
          "height": 204
        },
        "outputId": "17aa7ebe-99c2-46a6-e234-5d4356e7b0a8"
      },
      "cell_type": "code",
      "source": [
        "import tensorflow as tf\n",
        "shuffled = data2.sample(frac=1, random_state=13)\n",
        "# It would be a good idea, if we had more data, to treat the days as categorical variables\n",
        "# with the small amount of data, we have though, the model tends to overfit\n",
        "#predictors = shuffled.iloc[:,2:5]\n",
        "#for day in xrange(1,8):\n",
        "#  matching = shuffled['dayofweek'] == day\n",
        "#  key = 'day_' + str(day)\n",
        "#  predictors[key] = pd.Series(matching, index=predictors.index, dtype=float)\n",
        "predictors = shuffled.iloc[:,1:5]\n",
        "predictors[:5]"
      ],
      "execution_count": 20,
      "outputs": [
        {
          "output_type": "execute_result",
          "data": {
            "text/html": [
              "<div>\n",
              "<style scoped>\n",
              "    .dataframe tbody tr th:only-of-type {\n",
              "        vertical-align: middle;\n",
              "    }\n",
              "\n",
              "    .dataframe tbody tr th {\n",
              "        vertical-align: top;\n",
              "    }\n",
              "\n",
              "    .dataframe thead th {\n",
              "        text-align: right;\n",
              "    }\n",
              "</style>\n",
              "<table border=\"1\" class=\"dataframe\">\n",
              "  <thead>\n",
              "    <tr style=\"text-align: right;\">\n",
              "      <th></th>\n",
              "      <th>dayofweek</th>\n",
              "      <th>mintemp</th>\n",
              "      <th>maxtemp</th>\n",
              "      <th>rain</th>\n",
              "    </tr>\n",
              "  </thead>\n",
              "  <tbody>\n",
              "    <tr>\n",
              "      <th>9</th>\n",
              "      <td>2</td>\n",
              "      <td>32.0</td>\n",
              "      <td>43.0</td>\n",
              "      <td>0.00</td>\n",
              "    </tr>\n",
              "    <tr>\n",
              "      <th>279</th>\n",
              "      <td>6</td>\n",
              "      <td>37.9</td>\n",
              "      <td>57.0</td>\n",
              "      <td>0.52</td>\n",
              "    </tr>\n",
              "    <tr>\n",
              "      <th>163</th>\n",
              "      <td>5</td>\n",
              "      <td>71.1</td>\n",
              "      <td>91.0</td>\n",
              "      <td>0.00</td>\n",
              "    </tr>\n",
              "    <tr>\n",
              "      <th>225</th>\n",
              "      <td>6</td>\n",
              "      <td>55.9</td>\n",
              "      <td>78.1</td>\n",
              "      <td>0.00</td>\n",
              "    </tr>\n",
              "    <tr>\n",
              "      <th>218</th>\n",
              "      <td>6</td>\n",
              "      <td>55.0</td>\n",
              "      <td>91.9</td>\n",
              "      <td>0.00</td>\n",
              "    </tr>\n",
              "  </tbody>\n",
              "</table>\n",
              "</div>"
            ],
            "text/plain": [
              "     dayofweek  mintemp  maxtemp  rain\n",
              "9            2     32.0     43.0  0.00\n",
              "279          6     37.9     57.0  0.52\n",
              "163          5     71.1     91.0  0.00\n",
              "225          6     55.9     78.1  0.00\n",
              "218          6     55.0     91.9  0.00"
            ]
          },
          "metadata": {
            "tags": []
          },
          "execution_count": 20
        }
      ]
    },
    {
      "metadata": {
        "id": "AebG4upT4tEH",
        "colab_type": "code",
        "colab": {
          "base_uri": "https://localhost:8080/",
          "height": 204
        },
        "outputId": "116759e5-896f-49a5-80bd-1d7b80e9aa03"
      },
      "cell_type": "code",
      "source": [
        "shuffled[:5]"
      ],
      "execution_count": 21,
      "outputs": [
        {
          "output_type": "execute_result",
          "data": {
            "text/html": [
              "<div>\n",
              "<style scoped>\n",
              "    .dataframe tbody tr th:only-of-type {\n",
              "        vertical-align: middle;\n",
              "    }\n",
              "\n",
              "    .dataframe tbody tr th {\n",
              "        vertical-align: top;\n",
              "    }\n",
              "\n",
              "    .dataframe thead th {\n",
              "        text-align: right;\n",
              "    }\n",
              "</style>\n",
              "<table border=\"1\" class=\"dataframe\">\n",
              "  <thead>\n",
              "    <tr style=\"text-align: right;\">\n",
              "      <th></th>\n",
              "      <th>daynumber</th>\n",
              "      <th>dayofweek</th>\n",
              "      <th>mintemp</th>\n",
              "      <th>maxtemp</th>\n",
              "      <th>rain</th>\n",
              "      <th>numtrips</th>\n",
              "    </tr>\n",
              "  </thead>\n",
              "  <tbody>\n",
              "    <tr>\n",
              "      <th>9</th>\n",
              "      <td>356</td>\n",
              "      <td>2</td>\n",
              "      <td>32.0</td>\n",
              "      <td>43.0</td>\n",
              "      <td>0.00</td>\n",
              "      <td>382112</td>\n",
              "    </tr>\n",
              "    <tr>\n",
              "      <th>279</th>\n",
              "      <td>86</td>\n",
              "      <td>6</td>\n",
              "      <td>37.9</td>\n",
              "      <td>57.0</td>\n",
              "      <td>0.52</td>\n",
              "      <td>465493</td>\n",
              "    </tr>\n",
              "    <tr>\n",
              "      <th>163</th>\n",
              "      <td>203</td>\n",
              "      <td>5</td>\n",
              "      <td>71.1</td>\n",
              "      <td>91.0</td>\n",
              "      <td>0.00</td>\n",
              "      <td>363728</td>\n",
              "    </tr>\n",
              "    <tr>\n",
              "      <th>225</th>\n",
              "      <td>141</td>\n",
              "      <td>6</td>\n",
              "      <td>55.9</td>\n",
              "      <td>78.1</td>\n",
              "      <td>0.00</td>\n",
              "      <td>414711</td>\n",
              "    </tr>\n",
              "    <tr>\n",
              "      <th>218</th>\n",
              "      <td>148</td>\n",
              "      <td>6</td>\n",
              "      <td>55.0</td>\n",
              "      <td>91.9</td>\n",
              "      <td>0.00</td>\n",
              "      <td>364951</td>\n",
              "    </tr>\n",
              "  </tbody>\n",
              "</table>\n",
              "</div>"
            ],
            "text/plain": [
              "     daynumber  dayofweek  mintemp  maxtemp  rain  numtrips\n",
              "9          356          2     32.0     43.0  0.00    382112\n",
              "279         86          6     37.9     57.0  0.52    465493\n",
              "163        203          5     71.1     91.0  0.00    363728\n",
              "225        141          6     55.9     78.1  0.00    414711\n",
              "218        148          6     55.0     91.9  0.00    364951"
            ]
          },
          "metadata": {
            "tags": []
          },
          "execution_count": 21
        }
      ]
    },
    {
      "metadata": {
        "id": "qLp_-TXL4tEK",
        "colab_type": "code",
        "colab": {
          "base_uri": "https://localhost:8080/",
          "height": 119
        },
        "outputId": "faea3a93-d4b6-4af4-8f5b-1e73e3e40431"
      },
      "cell_type": "code",
      "source": [
        "targets = shuffled.iloc[:,5]\n",
        "targets[:5]"
      ],
      "execution_count": 22,
      "outputs": [
        {
          "output_type": "execute_result",
          "data": {
            "text/plain": [
              "9      382112\n",
              "279    465493\n",
              "163    363728\n",
              "225    414711\n",
              "218    364951\n",
              "Name: numtrips, dtype: int64"
            ]
          },
          "metadata": {
            "tags": []
          },
          "execution_count": 22
        }
      ]
    },
    {
      "metadata": {
        "id": "kXRMhwPe4tEN",
        "colab_type": "text"
      },
      "cell_type": "markdown",
      "source": [
        "Let's update our benchmark based on the 80-20 split and the larger dataset."
      ]
    },
    {
      "metadata": {
        "id": "lRx7Zai14tEO",
        "colab_type": "code",
        "colab": {
          "base_uri": "https://localhost:8080/",
          "height": 34
        },
        "outputId": "e351af37-4cd2-4aab-a420-5681df812c03"
      },
      "cell_type": "code",
      "source": [
        "trainsize = int(len(shuffled['numtrips']) * 0.8)\n",
        "avg = np.mean(shuffled['numtrips'][:trainsize])\n",
        "rmse = np.sqrt(np.mean((targets[trainsize:] - avg)**2))\n",
        "print 'Just using average={0} has RMSE of {1}'.format(avg, rmse)"
      ],
      "execution_count": 23,
      "outputs": [
        {
          "output_type": "stream",
          "text": [
            "Just using average=402667.682648 has RMSE of 62394.1123208\n"
          ],
          "name": "stdout"
        }
      ]
    },
    {
      "metadata": {
        "id": "I5w_IZ1-4tER",
        "colab_type": "text"
      },
      "cell_type": "markdown",
      "source": [
        "<h2> Linear regression with tf.contrib.learn </h2>\n",
        "\n",
        "We scale the number of taxicab rides by 400,000 so that the model can keep its predicted values in the [0-1] range. The optimization goes a lot faster when the weights are small numbers.  We save the weights into ./trained_model_linear and display the root mean square error on the test dataset."
      ]
    },
    {
      "metadata": {
        "id": "AExtqVWV4tER",
        "colab_type": "code",
        "colab": {
          "base_uri": "https://localhost:8080/",
          "height": 785
        },
        "outputId": "d52b0137-08e7-471e-b071-181279f2f04b"
      },
      "cell_type": "code",
      "source": [
        "SCALE_NUM_TRIPS = 600000.0\n",
        "trainsize = int(len(shuffled['numtrips']) * 0.8)\n",
        "testsize = len(shuffled['numtrips']) - trainsize\n",
        "npredictors = len(predictors.columns)\n",
        "noutputs = 1\n",
        "tf.logging.set_verbosity(tf.logging.WARN) # change to INFO to get output every 100 steps ...\n",
        "shutil.rmtree('./trained_model_linear', ignore_errors=True) # so that we don't load weights from previous runs\n",
        "estimator = tf.contrib.learn.LinearRegressor(model_dir='./trained_model_linear',\n",
        "                                             feature_columns=tf.contrib.learn.infer_real_valued_columns_from_input(predictors.values))\n",
        "\n",
        "print \"starting to train ... this will take a while ... use verbosity=INFO to get more verbose output\"\n",
        "def input_fn(features, targets):\n",
        "  return tf.constant(features.values), tf.constant(targets.values.reshape(len(targets), noutputs)/SCALE_NUM_TRIPS)\n",
        "estimator.fit(input_fn=lambda: input_fn(predictors[:trainsize], targets[:trainsize]), steps=10000)\n",
        "\n",
        "pred = np.multiply(list(estimator.predict(predictors[trainsize:].values)), SCALE_NUM_TRIPS )\n",
        "rmse = np.sqrt(np.mean(np.power((targets[trainsize:].values - pred), 2)))\n",
        "print 'LinearRegression has RMSE of {0}'.format(rmse)\n"
      ],
      "execution_count": 24,
      "outputs": [
        {
          "output_type": "stream",
          "text": [
            "WARNING:tensorflow:From <ipython-input-24-b02a31102200>:9: infer_real_valued_columns_from_input (from tensorflow.contrib.learn.python.learn.estimators.estimator) is deprecated and will be removed in a future version.\n",
            "Instructions for updating:\n",
            "Please specify feature columns explicitly.\n",
            "WARNING:tensorflow:From /usr/local/lib/python2.7/dist-packages/tensorflow/contrib/learn/python/learn/estimators/estimator.py:142: setup_train_data_feeder (from tensorflow.contrib.learn.python.learn.learn_io.data_feeder) is deprecated and will be removed in a future version.\n",
            "Instructions for updating:\n",
            "Please use tensorflow/transform or tf.data.\n",
            "WARNING:tensorflow:From /usr/local/lib/python2.7/dist-packages/tensorflow/contrib/learn/python/learn/learn_io/data_feeder.py:100: extract_pandas_data (from tensorflow.contrib.learn.python.learn.learn_io.pandas_io) is deprecated and will be removed in a future version.\n",
            "Instructions for updating:\n",
            "Please access pandas data directly.\n",
            "WARNING:tensorflow:From /usr/local/lib/python2.7/dist-packages/tensorflow/contrib/learn/python/learn/learn_io/data_feeder.py:159: __init__ (from tensorflow.contrib.learn.python.learn.learn_io.data_feeder) is deprecated and will be removed in a future version.\n",
            "Instructions for updating:\n",
            "Please use tensorflow/transform or tf.data.\n",
            "WARNING:tensorflow:From /usr/local/lib/python2.7/dist-packages/tensorflow/contrib/learn/python/learn/learn_io/data_feeder.py:340: check_array (from tensorflow.contrib.learn.python.learn.learn_io.data_feeder) is deprecated and will be removed in a future version.\n",
            "Instructions for updating:\n",
            "Please convert numpy dtypes explicitly.\n",
            "WARNING:tensorflow:float64 is not supported by many models, consider casting to float32.\n",
            "WARNING:tensorflow:From /usr/local/lib/python2.7/dist-packages/tensorflow/contrib/learn/python/learn/estimators/estimator.py:182: infer_real_valued_columns_from_input_fn (from tensorflow.contrib.learn.python.learn.estimators.estimator) is deprecated and will be removed in a future version.\n",
            "Instructions for updating:\n",
            "Please specify feature columns explicitly.\n",
            "WARNING:tensorflow:From /usr/local/lib/python2.7/dist-packages/tensorflow/contrib/learn/python/learn/estimators/linear.py:740: regression_head (from tensorflow.contrib.learn.python.learn.estimators.head) is deprecated and will be removed in a future version.\n",
            "Instructions for updating:\n",
            "Please switch to tf.contrib.estimator.*_head.\n",
            "WARNING:tensorflow:From /usr/local/lib/python2.7/dist-packages/tensorflow/contrib/learn/python/learn/estimators/estimator.py:1179: __init__ (from tensorflow.contrib.learn.python.learn.estimators.estimator) is deprecated and will be removed in a future version.\n",
            "Instructions for updating:\n",
            "Please replace uses of any Estimator from tf.contrib.learn with an Estimator from tf.estimator.*\n",
            "WARNING:tensorflow:From /usr/local/lib/python2.7/dist-packages/tensorflow/contrib/learn/python/learn/estimators/estimator.py:427: __init__ (from tensorflow.contrib.learn.python.learn.estimators.run_config) is deprecated and will be removed in a future version.\n",
            "Instructions for updating:\n",
            "When switching to tf.estimator.Estimator, use tf.estimator.RunConfig instead.\n",
            "starting to train ... this will take a while ... use verbosity=INFO to get more verbose output\n",
            "WARNING:tensorflow:From /usr/local/lib/python2.7/dist-packages/tensorflow/contrib/learn/python/learn/estimators/head.py:678: __new__ (from tensorflow.contrib.learn.python.learn.estimators.model_fn) is deprecated and will be removed in a future version.\n",
            "Instructions for updating:\n",
            "When switching to tf.estimator.Estimator, use tf.estimator.EstimatorSpec. You can use the `estimator_spec` method to create an equivalent one.\n",
            "WARNING:tensorflow:From /usr/local/lib/python2.7/dist-packages/tensorflow/python/util/deprecation.py:519: calling predict (from tensorflow.contrib.learn.python.learn.estimators.linear) with outputs=None is deprecated and will be removed after 2017-03-01.\n",
            "Instructions for updating:\n",
            "Please switch to predict_scores, or set `outputs` argument.\n",
            "WARNING:tensorflow:From /usr/local/lib/python2.7/dist-packages/tensorflow/contrib/learn/python/learn/estimators/linear.py:845: calling predict (from tensorflow.contrib.learn.python.learn.estimators.estimator) with x is deprecated and will be removed after 2016-12-01.\n",
            "Instructions for updating:\n",
            "Estimator is decoupled from Scikit Learn interface by moving into\n",
            "separate class SKCompat. Arguments x, y and batch_size are only\n",
            "available in the SKCompat class, Estimator will only accept input_fn.\n",
            "Example conversion:\n",
            "  est = Estimator(...) -> est = SKCompat(Estimator(...))\n",
            "WARNING:tensorflow:float64 is not supported by many models, consider casting to float32.\n",
            "LinearRegression has RMSE of 56643.9547252\n"
          ],
          "name": "stdout"
        }
      ]
    },
    {
      "metadata": {
        "id": "2LU9IOP-4tEV",
        "colab_type": "text"
      },
      "cell_type": "markdown",
      "source": [
        "The RMSE here (57K) is lower than the benchmark (62K) indicates that we are doing about 10% better with the machine learning model than we would be if we were to just use the historical average (our benchmark)."
      ]
    },
    {
      "metadata": {
        "id": "5e5VzvZ44tEW",
        "colab_type": "text"
      },
      "cell_type": "markdown",
      "source": [
        "<h2> Neural network with tf.contrib.learn </h2>\n",
        "\n",
        "Let's make a more complex model with a few hidden nodes."
      ]
    },
    {
      "metadata": {
        "id": "kZ8C32Ge4tEX",
        "colab_type": "code",
        "colab": {
          "base_uri": "https://localhost:8080/",
          "height": 85
        },
        "outputId": "50d34f7c-ef5a-457e-f662-b226a348bb28"
      },
      "cell_type": "code",
      "source": [
        "SCALE_NUM_TRIPS = 600000.0\n",
        "trainsize = int(len(shuffled['numtrips']) * 0.8)\n",
        "testsize = len(shuffled['numtrips']) - trainsize\n",
        "npredictors = len(predictors.columns)\n",
        "noutputs = 1\n",
        "tf.logging.set_verbosity(tf.logging.WARN) # change to INFO to get output every 100 steps ...\n",
        "shutil.rmtree('./trained_model', ignore_errors=True) # so that we don't load weights from previous runs\n",
        "estimator = tf.contrib.learn.DNNRegressor(model_dir='./trained_model',\n",
        "                                          hidden_units=[5, 5],                             \n",
        "                                          feature_columns=tf.contrib.learn.infer_real_valued_columns_from_input(predictors.values))\n",
        "\n",
        "print \"starting to train ... this will take a while ... use verbosity=INFO to get more verbose output\"\n",
        "def input_fn(features, targets):\n",
        "  return tf.constant(features.values), tf.constant(targets.values.reshape(len(targets), noutputs)/SCALE_NUM_TRIPS)\n",
        "estimator.fit(input_fn=lambda: input_fn(predictors[:trainsize], targets[:trainsize]), steps=10000)\n",
        "\n",
        "pred = np.multiply(list(estimator.predict(predictors[trainsize:].values)), SCALE_NUM_TRIPS )\n",
        "rmse = np.sqrt(np.mean((targets[trainsize:].values - pred)**2))\n",
        "print 'Neural Network Regression has RMSE of {0}'.format(rmse)"
      ],
      "execution_count": 27,
      "outputs": [
        {
          "output_type": "stream",
          "text": [
            "WARNING:tensorflow:float64 is not supported by many models, consider casting to float32.\n",
            "starting to train ... this will take a while ... use verbosity=INFO to get more verbose output\n",
            "WARNING:tensorflow:float64 is not supported by many models, consider casting to float32.\n",
            "Neural Network Regression has RMSE of 56571.4407272\n"
          ],
          "name": "stdout"
        }
      ]
    },
    {
      "metadata": {
        "id": "iIk4-wI64tEa",
        "colab_type": "text"
      },
      "cell_type": "markdown",
      "source": [
        "Using a neural network results in similar performance to the linear model when I ran it -- it might be because there isn't enough data for the NN to do much better. (NN training is a non-convex optimization, and you will get different results each time you run the above code)."
      ]
    },
    {
      "metadata": {
        "id": "1LaXoWwv4tEa",
        "colab_type": "text"
      },
      "cell_type": "markdown",
      "source": [
        "<h2> Running a trained model </h2>\n",
        "\n",
        "So, we have trained a model, and saved it to a file. Let's use this model to predict taxicab demand given the expected weather for three days.\n",
        "\n",
        "Here we make a Dataframe out of those inputs, load up the saved model (note that we have to know the model equation -- it's not saved in the model file) and use it to predict the taxicab demand."
      ]
    },
    {
      "metadata": {
        "id": "eyDGekB74tEc",
        "colab_type": "code",
        "colab": {
          "base_uri": "https://localhost:8080/",
          "height": 68
        },
        "outputId": "72e7db4d-5b15-436b-868d-d4e231937e1c"
      },
      "cell_type": "code",
      "source": [
        "input = pd.DataFrame.from_dict(data = \n",
        "                               {'dayofweek' : [4, 5, 6],\n",
        "                                'mintemp' : [60, 40, 50],\n",
        "                                'maxtemp' : [70, 90, 60],\n",
        "                                'rain' : [0, 0.5, 0]})\n",
        "# read trained model from ./trained_model\n",
        "estimator = tf.contrib.learn.LinearRegressor(model_dir='./trained_model_linear',\n",
        "                                          feature_columns=tf.contrib.learn.infer_real_valued_columns_from_input(input.values))\n",
        "\n",
        "pred = np.multiply(list(estimator.predict(input.values)), SCALE_NUM_TRIPS )\n",
        "print pred"
      ],
      "execution_count": 26,
      "outputs": [
        {
          "output_type": "stream",
          "text": [
            "WARNING:tensorflow:float64 is not supported by many models, consider casting to float32.\n",
            "WARNING:tensorflow:float64 is not supported by many models, consider casting to float32.\n",
            "[354762.8  306764.72 387226.66]\n"
          ],
          "name": "stdout"
        }
      ]
    },
    {
      "metadata": {
        "id": "1HGtj44k4tEg",
        "colab_type": "text"
      },
      "cell_type": "markdown",
      "source": [
        "Looks like we should tell some of our taxi drivers to take the day off on Thursday (day=5). No wonder -- the forecast calls for extreme weather fluctuations on Thursday."
      ]
    },
    {
      "metadata": {
        "id": "8JF2YcOO4tEg",
        "colab_type": "text"
      },
      "cell_type": "markdown",
      "source": [
        "Copyright 2017 Google Inc. Licensed under the Apache License, Version 2.0 (the \"License\"); you may not use this file except in compliance with the License. You may obtain a copy of the License at http://www.apache.org/licenses/LICENSE-2.0 Unless required by applicable law or agreed to in writing, software distributed under the License is distributed on an \"AS IS\" BASIS, WITHOUT WARRANTIES OR CONDITIONS OF ANY KIND, either express or implied. See the License for the specific language governing permissions and limitations under the License"
      ]
    }
  ]
}