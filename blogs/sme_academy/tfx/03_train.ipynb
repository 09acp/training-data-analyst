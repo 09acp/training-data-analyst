{
 "cells": [
  {
   "cell_type": "markdown",
   "metadata": {
    "colab_type": "text",
    "id": "xfcSMZEIFA_l"
   },
   "source": [
    "# ML with TensorFlow Extended (TFX) -- Part 3\n",
    "The puprpose of this tutorial is to show how to do end-to-end ML with TFX libraries on Google Cloud Platform. This tutorial covers:\n",
    "1. Data analysis and schema generation with **TF Data Validation**.\n",
    "2. Data preprocessing with **TF Transform**.\n",
    "3. Model training with **TF Estimator**.\n",
    "4. Model evaluation with **TF Model Analysis**.\n",
    "\n",
    "This notebook has been tested in Jupyter on the Deep Learning VM.\n",
    "\n",
    "## 0. Setup Python and Cloud environment\n",
    "\n",
    "Install libraries we need."
   ]
  },
  {
   "cell_type": "code",
   "execution_count": null,
   "metadata": {
    "colab": {},
    "colab_type": "code",
    "id": "JkkjO6RyH5UP"
   },
   "outputs": [
    {
     "name": "stdout",
     "output_type": "stream",
     "text": [
      "Note: you may need to restart the kernel to use updated packages.\n"
     ]
    }
   ],
   "source": [
    "%pip install -q --upgrade tensorflow_data_validation tensorflow_model_analysis"
   ]
  },
  {
   "cell_type": "code",
   "execution_count": 1,
   "metadata": {},
   "outputs": [
    {
     "name": "stderr",
     "output_type": "stream",
     "text": [
      "/home/jupyter/.local/lib/python3.5/site-packages/apache_beam/__init__.py:84: UserWarning: Running the Apache Beam SDK on Python 3 is not yet fully supported. You may encounter buggy behavior or missing features.\n",
      "  'Running the Apache Beam SDK on Python 3 is not yet fully supported. '\n"
     ]
    },
    {
     "name": "stdout",
     "output_type": "stream",
     "text": [
      "tornado version: 6.0.2\n",
      "Python version: 3.5.3\n",
      "TF version: 1.13.1\n",
      "TFT version: 0.13.0\n",
      "TFDV version: 0.13.1\n",
      "Apache Beam version: 2.11.0\n"
     ]
    }
   ],
   "source": [
    "import apache_beam as beam\n",
    "import platform\n",
    "import tensorflow as tf\n",
    "import tensorflow_data_validation as tfdv\n",
    "import tensorflow_transform as tft\n",
    "import tornado\n",
    "\n",
    "print('tornado version: {}'.format(tornado.version))\n",
    "print('Python version: {}'.format(platform.python_version()))\n",
    "print('TF version: {}'.format(tf.__version__))\n",
    "print('TFT version: {}'.format(tft.__version__))\n",
    "print('TFDV version: {}'.format(tfdv.__version__))\n",
    "print('Apache Beam version: {}'.format(beam.__version__))"
   ]
  },
  {
   "cell_type": "code",
   "execution_count": 2,
   "metadata": {},
   "outputs": [],
   "source": [
    "PROJECT = 'cloud-training-demos'    # Replace with your PROJECT\n",
    "BUCKET = 'cloud-training-demos-ml'  # Replace with your BUCKET\n",
    "REGION = 'us-central1'              # Choose an available region for Cloud MLE\n",
    "\n",
    "import os\n",
    "\n",
    "os.environ['PROJECT'] = PROJECT\n",
    "os.environ['BUCKET'] = BUCKET\n",
    "os.environ['REGION'] = REGION"
   ]
  },
  {
   "cell_type": "code",
   "execution_count": 3,
   "metadata": {},
   "outputs": [
    {
     "name": "stderr",
     "output_type": "stream",
     "text": [
      "Updated property [core/project].\n",
      "Updated property [compute/region].\n",
      "Updated property [ml_engine/local_python].\n"
     ]
    }
   ],
   "source": [
    "%%bash\n",
    "gcloud config set project $PROJECT\n",
    "gcloud config set compute/region $REGION\n",
    "\n",
    "## ensure we predict locally with our current Python environment\n",
    "gcloud config set ml_engine/local_python `which python`"
   ]
  },
  {
   "cell_type": "markdown",
   "metadata": {},
   "source": [
    "<img valign=\"middle\" src=\"images/tfx.jpeg\">"
   ]
  },
  {
   "cell_type": "markdown",
   "metadata": {
    "colab_type": "text",
    "id": "l9u699PmHJXU"
   },
   "source": [
    "### UCI Adult Dataset: https://archive.ics.uci.edu/ml/datasets/adult\n",
    "Predict whether income exceeds $50K/yr based on census data. Also known as \"Census Income\" dataset."
   ]
  },
  {
   "cell_type": "code",
   "execution_count": 4,
   "metadata": {},
   "outputs": [],
   "source": [
    "DATA_DIR='gs://cloud-samples-data/ml-engine/census/data'"
   ]
  },
  {
   "cell_type": "code",
   "execution_count": 5,
   "metadata": {
    "colab": {
     "base_uri": "https://localhost:8080/",
     "height": 51
    },
    "colab_type": "code",
    "id": "ksuSTsysHfZV",
    "outputId": "87adfbf0-be77-4d81-9162-5a2f9feffd90"
   },
   "outputs": [
    {
     "name": "stdout",
     "output_type": "stream",
     "text": [
      "   3974304  2018-05-10T22:21:14Z  gs://cloud-samples-data/ml-engine/census/data/adult.data.csv\n",
      "TOTAL: 1 objects, 3974304 bytes (3.79 MiB)\n",
      "   1986465  2018-05-10T22:21:14Z  gs://cloud-samples-data/ml-engine/census/data/adult.test.csv\n",
      "TOTAL: 1 objects, 1986465 bytes (1.89 MiB)\n"
     ]
    }
   ],
   "source": [
    "import os\n",
    "\n",
    "TRAIN_DATA_FILE = os.path.join(DATA_DIR, 'adult.data.csv')\n",
    "EVAL_DATA_FILE = os.path.join(DATA_DIR, 'adult.test.csv')\n",
    "!gsutil ls -l $TRAIN_DATA_FILE\n",
    "!gsutil ls -l $EVAL_DATA_FILE"
   ]
  },
  {
   "cell_type": "code",
   "execution_count": 6,
   "metadata": {},
   "outputs": [],
   "source": [
    "HEADER = ['age', 'workclass', 'fnlwgt', 'education', 'education_num',\n",
    "               'marital_status', 'occupation', 'relationship', 'race', 'gender',\n",
    "               'capital_gain', 'capital_loss', 'hours_per_week',\n",
    "               'native_country', 'income_bracket']\n",
    "\n",
    "TARGET_FEATURE_NAME = 'income_bracket'\n",
    "TARGET_LABELS = [' <=50K', ' >50K']\n",
    "WEIGHT_COLUMN_NAME = 'fnlwgt'\n",
    "\n",
    "RAW_SCHEMA_LOCATION = 'raw_schema.pbtxt'"
   ]
  },
  {
   "cell_type": "markdown",
   "metadata": {
    "colab_type": "text",
    "id": "-qNjgoalG0Xu"
   },
   "source": [
    "## 3. Model Training\n",
    "For training the model, we use [TF Estimators](https://www.tensorflow.org/guide/estimators) APIs to train a premade DNNClassifier. We perform the following:\n",
    "1. Load the **transform schema**\n",
    "2. Use the transform schema to parse TFRecords in **input_fn**\n",
    "3. Use the transform schema to create **feature columns**\n",
    "4. Create a premade **DNNClassifier**\n",
    "5. **Train** the model\n",
    "6. Implement the **serving_input_fn** and apply the **transform logic**\n",
    "7. **Export** and test the saved model."
   ]
  },
  {
   "cell_type": "markdown",
   "metadata": {
    "colab_type": "text",
    "id": "U4eLEbV42XEz"
   },
   "source": [
    "### 3.1 Load transform output"
   ]
  },
  {
   "cell_type": "code",
   "execution_count": 7,
   "metadata": {},
   "outputs": [
    {
     "name": "stdout",
     "output_type": "stream",
     "text": [
      "gs://cloud-training-demos-ml/census/tfx/transform/\n",
      "gs://cloud-training-demos-ml/census/tfx/transform/transform_fn/\n",
      "gs://cloud-training-demos-ml/census/tfx/transform/transformed_metadata/\n",
      "gs://cloud-training-demos-ml/census/tfx/transformed/eval-00000-of-00003.tfrecords\n",
      "gs://cloud-training-demos-ml/census/tfx/transformed/eval-00001-of-00003.tfrecords\n",
      "gs://cloud-training-demos-ml/census/tfx/transformed/eval-00002-of-00003.tfrecords\n",
      "gs://cloud-training-demos-ml/census/tfx/transformed/train-00000-of-00004.tfrecords\n",
      "gs://cloud-training-demos-ml/census/tfx/transformed/train-00001-of-00004.tfrecords\n",
      "gs://cloud-training-demos-ml/census/tfx/transformed/train-00002-of-00004.tfrecords\n",
      "gs://cloud-training-demos-ml/census/tfx/transformed/train-00003-of-00004.tfrecords\n"
     ]
    }
   ],
   "source": [
    "PREPROC_OUTPUT_DIR = 'gs://{}/census/tfx'.format(BUCKET)  # from 02_transform.ipynb\n",
    "TRANSFORM_ARTIFACTS_DIR = os.path.join(PREPROC_OUTPUT_DIR,'transform')\n",
    "TRANSFORMED_DATA_DIR = os.path.join(PREPROC_OUTPUT_DIR,'transformed')\n",
    "!gsutil ls $TRANSFORM_ARTIFACTS_DIR\n",
    "!gsutil ls $TRANSFORMED_DATA_DIR"
   ]
  },
  {
   "cell_type": "code",
   "execution_count": 8,
   "metadata": {
    "colab": {},
    "colab_type": "code",
    "id": "HR_d4-kBG0hI"
   },
   "outputs": [],
   "source": [
    "transform_output = tft.TFTransformOutput(TRANSFORM_ARTIFACTS_DIR)"
   ]
  },
  {
   "cell_type": "markdown",
   "metadata": {
    "colab_type": "text",
    "id": "bxt31_6M3dbl"
   },
   "source": [
    "### 3.2 TFRecords Input Function"
   ]
  },
  {
   "cell_type": "code",
   "execution_count": 9,
   "metadata": {
    "colab": {},
    "colab_type": "code",
    "id": "EQqf9dGF3dEe"
   },
   "outputs": [],
   "source": [
    "def make_input_fn(tfrecords_files, \n",
    "  batch_size, num_epochs=1, shuffle=False):\n",
    "\n",
    "  def input_fn():\n",
    "    dataset = tf.data.experimental.make_batched_features_dataset(\n",
    "      file_pattern=tfrecords_files,\n",
    "      batch_size=batch_size,\n",
    "      features=transform_output.transformed_feature_spec(),\n",
    "      label_key=TARGET_FEATURE_NAME,\n",
    "      reader=tf.data.TFRecordDataset,\n",
    "      num_epochs=num_epochs,\n",
    "      shuffle=shuffle\n",
    "    )\n",
    "    return dataset\n",
    "\n",
    "  return input_fn"
   ]
  },
  {
   "cell_type": "code",
   "execution_count": 10,
   "metadata": {},
   "outputs": [
    {
     "data": {
      "text/plain": [
       "<DatasetV1Adapter shapes: ({education_num_scaled: (?, 1), native_country_integerized: (?, 1), capital_gain_scaled: (?, 1), relationship_integerized: (?, 1), hours_per_week_scaled: (?, 1), marital_status_integerized: (?, 1), age_scaled: (?, 1), capital_loss_scaled: (?, 1), gender_integerized: (?, 1), race_integerized: (?, 1), education_integerized: (?, 1), age_bucketized: (?, 1), workclass_integerized: (?, 1), occupation_integerized: (?, 1)}, (?, 1)), types: ({education_num_scaled: tf.float32, native_country_integerized: tf.int64, capital_gain_scaled: tf.float32, relationship_integerized: tf.int64, hours_per_week_scaled: tf.float32, marital_status_integerized: tf.int64, age_scaled: tf.float32, capital_loss_scaled: tf.float32, gender_integerized: tf.int64, race_integerized: tf.int64, education_integerized: tf.int64, age_bucketized: tf.int64, workclass_integerized: tf.int64, occupation_integerized: tf.int64}, tf.string)>"
      ]
     },
     "execution_count": 10,
     "metadata": {},
     "output_type": "execute_result"
    }
   ],
   "source": [
    "make_input_fn(TRANSFORMED_DATA_DIR+'/train*.tfrecords', 2, shuffle=False)()"
   ]
  },
  {
   "cell_type": "markdown",
   "metadata": {
    "colab_type": "text",
    "id": "vgQtTPiN4Td0"
   },
   "source": [
    "### 3.3 Create feature columns"
   ]
  },
  {
   "cell_type": "code",
   "execution_count": 11,
   "metadata": {
    "colab": {},
    "colab_type": "code",
    "id": "XzP3BUnU4bE5"
   },
   "outputs": [],
   "source": [
    "import math\n",
    "\n",
    "def create_feature_columns():\n",
    "\n",
    "  feature_columns = []\n",
    "  transformed_features = transform_output.transformed_metadata.schema._schema_proto.feature\n",
    "\n",
    "  for feature in transformed_features:\n",
    "\n",
    "    if feature.name in [TARGET_FEATURE_NAME, WEIGHT_COLUMN_NAME]:\n",
    "      continue\n",
    "\n",
    "    if hasattr(feature, 'int_domain') and feature.int_domain.is_categorical:\n",
    "      vocab_size = feature.int_domain.max + 1\n",
    "      feature_columns.append(\n",
    "        tf.feature_column.embedding_column(\n",
    "          tf.feature_column.categorical_column_with_identity(\n",
    "            feature.name, num_buckets=vocab_size),\n",
    "            dimension = int(math.sqrt(vocab_size))))\n",
    "    else:\n",
    "      feature_columns.append(\n",
    "        tf.feature_column.numeric_column(feature.name))\n",
    "\n",
    "  return feature_columns"
   ]
  },
  {
   "cell_type": "code",
   "execution_count": 12,
   "metadata": {
    "colab": {
     "base_uri": "https://localhost:8080/",
     "height": 275
    },
    "colab_type": "code",
    "id": "wAttQuXh-ZXR",
    "outputId": "4f998a45-7c41-460c-8d66-e59bf18a507b"
   },
   "outputs": [
    {
     "data": {
      "text/plain": [
       "[EmbeddingColumn(categorical_column=IdentityCategoricalColumn(key='age_bucketized', number_buckets=5, default_value=None), dimension=2, combiner='mean', initializer=<tensorflow.python.ops.init_ops.TruncatedNormal object at 0x7fa8db5b96a0>, ckpt_to_load_from=None, tensor_name_in_ckpt=None, max_norm=None, trainable=True),\n",
       " NumericColumn(key='age_scaled', shape=(1,), default_value=None, dtype=tf.float32, normalizer_fn=None),\n",
       " NumericColumn(key='capital_gain_scaled', shape=(1,), default_value=None, dtype=tf.float32, normalizer_fn=None),\n",
       " NumericColumn(key='capital_loss_scaled', shape=(1,), default_value=None, dtype=tf.float32, normalizer_fn=None),\n",
       " EmbeddingColumn(categorical_column=IdentityCategoricalColumn(key='education_integerized', number_buckets=16, default_value=None), dimension=4, combiner='mean', initializer=<tensorflow.python.ops.init_ops.TruncatedNormal object at 0x7fa89f1807f0>, ckpt_to_load_from=None, tensor_name_in_ckpt=None, max_norm=None, trainable=True),\n",
       " NumericColumn(key='education_num_scaled', shape=(1,), default_value=None, dtype=tf.float32, normalizer_fn=None),\n",
       " EmbeddingColumn(categorical_column=IdentityCategoricalColumn(key='gender_integerized', number_buckets=2, default_value=None), dimension=1, combiner='mean', initializer=<tensorflow.python.ops.init_ops.TruncatedNormal object at 0x7fa89f180898>, ckpt_to_load_from=None, tensor_name_in_ckpt=None, max_norm=None, trainable=True),\n",
       " NumericColumn(key='hours_per_week_scaled', shape=(1,), default_value=None, dtype=tf.float32, normalizer_fn=None),\n",
       " EmbeddingColumn(categorical_column=IdentityCategoricalColumn(key='marital_status_integerized', number_buckets=7, default_value=None), dimension=2, combiner='mean', initializer=<tensorflow.python.ops.init_ops.TruncatedNormal object at 0x7fa89f180860>, ckpt_to_load_from=None, tensor_name_in_ckpt=None, max_norm=None, trainable=True),\n",
       " EmbeddingColumn(categorical_column=IdentityCategoricalColumn(key='native_country_integerized', number_buckets=42, default_value=None), dimension=6, combiner='mean', initializer=<tensorflow.python.ops.init_ops.TruncatedNormal object at 0x7fa89f180ba8>, ckpt_to_load_from=None, tensor_name_in_ckpt=None, max_norm=None, trainable=True),\n",
       " EmbeddingColumn(categorical_column=IdentityCategoricalColumn(key='occupation_integerized', number_buckets=15, default_value=None), dimension=3, combiner='mean', initializer=<tensorflow.python.ops.init_ops.TruncatedNormal object at 0x7fa89f180c50>, ckpt_to_load_from=None, tensor_name_in_ckpt=None, max_norm=None, trainable=True),\n",
       " EmbeddingColumn(categorical_column=IdentityCategoricalColumn(key='race_integerized', number_buckets=5, default_value=None), dimension=2, combiner='mean', initializer=<tensorflow.python.ops.init_ops.TruncatedNormal object at 0x7fa89f180978>, ckpt_to_load_from=None, tensor_name_in_ckpt=None, max_norm=None, trainable=True),\n",
       " EmbeddingColumn(categorical_column=IdentityCategoricalColumn(key='relationship_integerized', number_buckets=6, default_value=None), dimension=2, combiner='mean', initializer=<tensorflow.python.ops.init_ops.TruncatedNormal object at 0x7fa89f180ac8>, ckpt_to_load_from=None, tensor_name_in_ckpt=None, max_norm=None, trainable=True),\n",
       " EmbeddingColumn(categorical_column=IdentityCategoricalColumn(key='workclass_integerized', number_buckets=9, default_value=None), dimension=3, combiner='mean', initializer=<tensorflow.python.ops.init_ops.TruncatedNormal object at 0x7fa89f180a20>, ckpt_to_load_from=None, tensor_name_in_ckpt=None, max_norm=None, trainable=True)]"
      ]
     },
     "execution_count": 12,
     "metadata": {},
     "output_type": "execute_result"
    }
   ],
   "source": [
    "create_feature_columns()"
   ]
  },
  {
   "cell_type": "markdown",
   "metadata": {
    "colab_type": "text",
    "id": "Cr4iLJtK4bgv"
   },
   "source": [
    "### 3.4 Instantiate and Estimator"
   ]
  },
  {
   "cell_type": "code",
   "execution_count": 13,
   "metadata": {
    "colab": {},
    "colab_type": "code",
    "id": "IKAGwUgP4Tkf"
   },
   "outputs": [],
   "source": [
    "def create_estimator(params, run_config):\n",
    "    \n",
    "  feature_columns = create_feature_columns()\n",
    "\n",
    "  estimator = tf.estimator.DNNClassifier(\n",
    "    #weight_column=WEIGHT_COLUMN_NAME,\n",
    "    label_vocabulary=TARGET_LABELS,\n",
    "    feature_columns=feature_columns,\n",
    "    hidden_units=params.hidden_units,\n",
    "    config=run_config\n",
    "  )\n",
    "\n",
    "  return estimator"
   ]
  },
  {
   "cell_type": "markdown",
   "metadata": {
    "colab_type": "text",
    "id": "iZIyscv84nXF"
   },
   "source": [
    "### 3.5 Implement train and evaluate experiment"
   ]
  },
  {
   "cell_type": "code",
   "execution_count": 14,
   "metadata": {
    "colab": {},
    "colab_type": "code",
    "id": "e3zLhoZj4nd4"
   },
   "outputs": [],
   "source": [
    "from datetime import datetime\n",
    "\n",
    "def run_experiment(estimator, params, run_config, resume=False):\n",
    "  \n",
    "  tf.logging.set_verbosity(tf.logging.INFO)\n",
    "\n",
    "  if not resume: \n",
    "    if tf.gfile.Exists(run_config.model_dir):\n",
    "      print(\"Removing previous artifacts...\")\n",
    "      tf.gfile.DeleteRecursively(run_config.model_dir)\n",
    "  else:\n",
    "    print(\"Resuming training...\")\n",
    "\n",
    "  train_spec = tf.estimator.TrainSpec(\n",
    "      input_fn = make_input_fn(\n",
    "          TRANSFORMED_DATA_DIR+'/train*.tfrecords',\n",
    "          batch_size=params.batch_size,\n",
    "          num_epochs=None,\n",
    "          shuffle=True\n",
    "      ),\n",
    "      max_steps=params.max_steps\n",
    "  )\n",
    "\n",
    "  eval_spec = tf.estimator.EvalSpec(\n",
    "      input_fn = make_input_fn(\n",
    "          TRANSFORMED_DATA_DIR+'/eval*.tfrecords',\n",
    "          batch_size=params.batch_size,     \n",
    "      ),\n",
    "      start_delay_secs=0,\n",
    "      throttle_secs=0,\n",
    "      steps=None\n",
    "  )\n",
    "  \n",
    "  time_start = datetime.utcnow() \n",
    "  print(\"Experiment started at {}\".format(time_start.strftime(\"%H:%M:%S\")))\n",
    "  print(\".......................................\")\n",
    "  \n",
    "  tf.estimator.train_and_evaluate(\n",
    "    estimator=estimator,\n",
    "    train_spec=train_spec, \n",
    "    eval_spec=eval_spec)\n",
    "\n",
    "  time_end = datetime.utcnow() \n",
    "  print(\".......................................\")\n",
    "  print(\"Experiment finished at {}\".format(time_end.strftime(\"%H:%M:%S\")))\n",
    "  print(\"\")\n",
    "  \n",
    "  time_elapsed = time_end - time_start\n",
    "  print(\"Experiment elapsed time: {} seconds\".format(time_elapsed.total_seconds()))"
   ]
  },
  {
   "cell_type": "markdown",
   "metadata": {
    "colab_type": "text",
    "id": "Q1VBm6Bo4ntU"
   },
   "source": [
    "### 3.5 Run experiment"
   ]
  },
  {
   "cell_type": "code",
   "execution_count": 15,
   "metadata": {
    "colab": {},
    "colab_type": "code",
    "id": "4mHEsbh94n0V"
   },
   "outputs": [],
   "source": [
    "MODELS_LOCATION = 'models/census'\n",
    "MODEL_NAME = 'dnn_classifier'\n",
    "model_dir = os.path.join(MODELS_LOCATION, MODEL_NAME)\n",
    "os.environ['MODEL_DIR'] = model_dir\n",
    "\n",
    "params = tf.contrib.training.HParams()\n",
    "params.hidden_units = [128, 64]\n",
    "params.dropout = 0.15\n",
    "params.batch_size =  128\n",
    "params.max_steps = 1000\n",
    "\n",
    "run_config = tf.estimator.RunConfig(\n",
    "    tf_random_seed=19831006,\n",
    "    save_checkpoints_steps=200, \n",
    "    keep_checkpoint_max=3, \n",
    "    model_dir=model_dir,\n",
    "    log_step_count_steps=10\n",
    ")"
   ]
  },
  {
   "cell_type": "code",
   "execution_count": 16,
   "metadata": {
    "colab": {
     "base_uri": "https://localhost:8080/",
     "height": 4950
    },
    "colab_type": "code",
    "id": "9yMxrzCE5tWw",
    "outputId": "25c1dead-69c2-4b14-e987-bf21b056559b"
   },
   "outputs": [
    {
     "name": "stdout",
     "output_type": "stream",
     "text": [
      "INFO:tensorflow:Using config: {'_service': None, '_model_dir': 'models/census/dnn_classifier', '_protocol': None, '_keep_checkpoint_max': 3, '_evaluation_master': '', '_train_distribute': None, '_global_id_in_cluster': 0, '_device_fn': None, '_keep_checkpoint_every_n_hours': 10000, '_is_chief': True, '_task_id': 0, '_num_worker_replicas': 1, '_log_step_count_steps': 10, '_session_config': allow_soft_placement: true\n",
      "graph_options {\n",
      "  rewrite_options {\n",
      "    meta_optimizer_iterations: ONE\n",
      "  }\n",
      "}\n",
      ", '_eval_distribute': None, '_save_checkpoints_secs': None, '_experimental_distribute': None, '_save_checkpoints_steps': 200, '_master': '', '_tf_random_seed': 19831006, '_save_summary_steps': 100, '_task_type': 'worker', '_num_ps_replicas': 0, '_cluster_spec': <tensorflow.python.training.server_lib.ClusterSpec object at 0x7fa89f189128>}\n",
      "Removing previous artifacts...\n",
      "Experiment started at 22:43:36\n",
      ".......................................\n",
      "INFO:tensorflow:Not using Distribute Coordinator.\n",
      "INFO:tensorflow:Running training and evaluation locally (non-distributed).\n",
      "INFO:tensorflow:Start train and evaluate loop. The evaluate will happen after every checkpoint. Checkpoint frequency is determined based on RunConfig arguments: save_checkpoints_steps 200 or save_checkpoints_secs None.\n",
      "WARNING:tensorflow:From /usr/local/lib/python3.5/dist-packages/tensorflow/python/framework/op_def_library.py:263: colocate_with (from tensorflow.python.framework.ops) is deprecated and will be removed in a future version.\n",
      "Instructions for updating:\n",
      "Colocations handled automatically by placer.\n",
      "INFO:tensorflow:Calling model_fn.\n",
      "WARNING:tensorflow:From /usr/local/lib/python3.5/dist-packages/tensorflow/python/feature_column/feature_column_v2.py:2997: IdentityCategoricalColumn._num_buckets (from tensorflow.python.feature_column.feature_column_v2) is deprecated and will be removed after 2018-11-30.\n",
      "Instructions for updating:\n",
      "The old _FeatureColumn APIs are being deprecated. Please use the new FeatureColumn APIs instead.\n",
      "WARNING:tensorflow:From /usr/local/lib/python3.5/dist-packages/tensorflow/python/feature_column/feature_column_v2.py:3828: to_int64 (from tensorflow.python.ops.math_ops) is deprecated and will be removed in a future version.\n",
      "Instructions for updating:\n",
      "Use tf.cast instead.\n",
      "WARNING:tensorflow:From /usr/local/lib/python3.5/dist-packages/tensorflow/python/feature_column/feature_column_v2.py:2703: to_float (from tensorflow.python.ops.math_ops) is deprecated and will be removed in a future version.\n",
      "Instructions for updating:\n",
      "Use tf.cast instead.\n",
      "WARNING:tensorflow:From /usr/local/lib/python3.5/dist-packages/tensorflow/python/ops/array_grad.py:425: to_int32 (from tensorflow.python.ops.math_ops) is deprecated and will be removed in a future version.\n",
      "Instructions for updating:\n",
      "Use tf.cast instead.\n",
      "INFO:tensorflow:Done calling model_fn.\n",
      "INFO:tensorflow:Create CheckpointSaverHook.\n",
      "INFO:tensorflow:Graph was finalized.\n",
      "INFO:tensorflow:Running local_init_op.\n",
      "INFO:tensorflow:Done running local_init_op.\n",
      "INFO:tensorflow:Saving checkpoints for 0 into models/census/dnn_classifier/model.ckpt.\n",
      "INFO:tensorflow:loss = 81.47591, step = 1\n",
      "INFO:tensorflow:global_step/sec: 3.65362\n",
      "INFO:tensorflow:loss = 50.049942, step = 11 (2.738 sec)\n",
      "INFO:tensorflow:global_step/sec: 151.139\n",
      "INFO:tensorflow:loss = 49.475548, step = 21 (0.066 sec)\n",
      "INFO:tensorflow:global_step/sec: 144.805\n",
      "INFO:tensorflow:loss = 66.09647, step = 31 (0.069 sec)\n",
      "INFO:tensorflow:global_step/sec: 155.404\n",
      "INFO:tensorflow:loss = 47.52478, step = 41 (0.064 sec)\n",
      "INFO:tensorflow:global_step/sec: 145.333\n",
      "INFO:tensorflow:loss = 40.950127, step = 51 (0.069 sec)\n",
      "INFO:tensorflow:global_step/sec: 141.895\n",
      "INFO:tensorflow:loss = 42.665024, step = 61 (0.070 sec)\n",
      "INFO:tensorflow:global_step/sec: 150.225\n",
      "INFO:tensorflow:loss = 38.32617, step = 71 (0.067 sec)\n",
      "INFO:tensorflow:global_step/sec: 151.444\n",
      "INFO:tensorflow:loss = 38.575108, step = 81 (0.066 sec)\n",
      "INFO:tensorflow:global_step/sec: 147.169\n",
      "INFO:tensorflow:loss = 41.4055, step = 91 (0.068 sec)\n",
      "INFO:tensorflow:global_step/sec: 154.164\n",
      "INFO:tensorflow:loss = 37.267807, step = 101 (0.068 sec)\n",
      "INFO:tensorflow:global_step/sec: 144.435\n",
      "INFO:tensorflow:loss = 42.84173, step = 111 (0.066 sec)\n",
      "INFO:tensorflow:global_step/sec: 147.041\n",
      "INFO:tensorflow:loss = 52.694817, step = 121 (0.068 sec)\n",
      "INFO:tensorflow:global_step/sec: 149.33\n",
      "INFO:tensorflow:loss = 43.304054, step = 131 (0.067 sec)\n",
      "INFO:tensorflow:global_step/sec: 145.917\n",
      "INFO:tensorflow:loss = 40.22686, step = 141 (0.068 sec)\n",
      "INFO:tensorflow:global_step/sec: 146.29\n",
      "INFO:tensorflow:loss = 41.03556, step = 151 (0.068 sec)\n",
      "INFO:tensorflow:global_step/sec: 137.045\n",
      "INFO:tensorflow:loss = 32.922737, step = 161 (0.073 sec)\n",
      "INFO:tensorflow:global_step/sec: 151.326\n",
      "INFO:tensorflow:loss = 34.876728, step = 171 (0.066 sec)\n",
      "INFO:tensorflow:global_step/sec: 149.932\n",
      "INFO:tensorflow:loss = 47.450016, step = 181 (0.067 sec)\n",
      "INFO:tensorflow:global_step/sec: 142.528\n",
      "INFO:tensorflow:loss = 34.654453, step = 191 (0.070 sec)\n",
      "INFO:tensorflow:Saving checkpoints for 200 into models/census/dnn_classifier/model.ckpt.\n",
      "INFO:tensorflow:Calling model_fn.\n",
      "WARNING:tensorflow:From /usr/local/lib/python3.5/dist-packages/tensorflow/python/ops/metrics_impl.py:2002: div (from tensorflow.python.ops.math_ops) is deprecated and will be removed in a future version.\n",
      "Instructions for updating:\n",
      "Deprecated in favor of operator or tf.math.divide.\n",
      "WARNING:tensorflow:Trapezoidal rule is known to produce incorrect PR-AUCs; please switch to \"careful_interpolation\" instead.\n",
      "WARNING:tensorflow:Trapezoidal rule is known to produce incorrect PR-AUCs; please switch to \"careful_interpolation\" instead.\n",
      "INFO:tensorflow:Done calling model_fn.\n",
      "INFO:tensorflow:Starting evaluation at 2019-03-31T22:43:48Z\n",
      "INFO:tensorflow:Graph was finalized.\n",
      "WARNING:tensorflow:From /usr/local/lib/python3.5/dist-packages/tensorflow/python/training/saver.py:1266: checkpoint_exists (from tensorflow.python.training.checkpoint_management) is deprecated and will be removed in a future version.\n",
      "Instructions for updating:\n",
      "Use standard file APIs to check for files with this prefix.\n",
      "INFO:tensorflow:Restoring parameters from models/census/dnn_classifier/model.ckpt-200\n",
      "INFO:tensorflow:Running local_init_op.\n",
      "INFO:tensorflow:Done running local_init_op.\n",
      "INFO:tensorflow:Finished evaluation at 2019-03-31-22:43:52\n",
      "INFO:tensorflow:Saving dict for global step 200: accuracy = 0.856432, accuracy_baseline = 0.7637916, auc = 0.9102283, auc_precision_recall = 0.77616715, average_loss = 0.30912527, global_step = 200, label/mean = 0.23620838, loss = 39.312042, precision = 0.7521739, prediction/mean = 0.2349874, recall = 0.58491546\n",
      "INFO:tensorflow:Saving 'checkpoint_path' summary for global step 200: models/census/dnn_classifier/model.ckpt-200\n",
      "INFO:tensorflow:global_step/sec: 1.55622\n",
      "INFO:tensorflow:loss = 45.894707, step = 201 (6.427 sec)\n",
      "INFO:tensorflow:global_step/sec: 76.1619\n",
      "INFO:tensorflow:loss = 31.333813, step = 211 (0.130 sec)\n",
      "INFO:tensorflow:global_step/sec: 175.401\n",
      "INFO:tensorflow:loss = 46.66281, step = 221 (0.057 sec)\n",
      "INFO:tensorflow:global_step/sec: 186.565\n",
      "INFO:tensorflow:loss = 47.979145, step = 231 (0.054 sec)\n",
      "INFO:tensorflow:global_step/sec: 174.865\n",
      "INFO:tensorflow:loss = 40.80034, step = 241 (0.057 sec)\n",
      "INFO:tensorflow:global_step/sec: 171.297\n",
      "INFO:tensorflow:loss = 46.17537, step = 251 (0.059 sec)\n",
      "INFO:tensorflow:global_step/sec: 159.268\n",
      "INFO:tensorflow:loss = 36.355125, step = 261 (0.063 sec)\n",
      "INFO:tensorflow:global_step/sec: 52.4151\n",
      "INFO:tensorflow:loss = 36.12558, step = 271 (0.191 sec)\n",
      "INFO:tensorflow:global_step/sec: 196.368\n",
      "INFO:tensorflow:loss = 33.30011, step = 281 (0.051 sec)\n",
      "INFO:tensorflow:global_step/sec: 196.636\n",
      "INFO:tensorflow:loss = 41.67354, step = 291 (0.051 sec)\n",
      "INFO:tensorflow:global_step/sec: 200.208\n",
      "INFO:tensorflow:loss = 50.261528, step = 301 (0.051 sec)\n",
      "INFO:tensorflow:global_step/sec: 196.73\n",
      "INFO:tensorflow:loss = 36.74286, step = 311 (0.050 sec)\n",
      "INFO:tensorflow:global_step/sec: 193.251\n",
      "INFO:tensorflow:loss = 36.87498, step = 321 (0.052 sec)\n",
      "INFO:tensorflow:global_step/sec: 188.673\n",
      "INFO:tensorflow:loss = 44.433693, step = 331 (0.053 sec)\n",
      "INFO:tensorflow:global_step/sec: 160.937\n",
      "INFO:tensorflow:loss = 35.52558, step = 341 (0.062 sec)\n",
      "INFO:tensorflow:global_step/sec: 100.233\n",
      "INFO:tensorflow:loss = 37.981003, step = 351 (0.099 sec)\n",
      "INFO:tensorflow:global_step/sec: 195.415\n",
      "INFO:tensorflow:loss = 35.118477, step = 361 (0.051 sec)\n",
      "INFO:tensorflow:global_step/sec: 191.525\n",
      "INFO:tensorflow:loss = 44.722076, step = 371 (0.052 sec)\n",
      "INFO:tensorflow:global_step/sec: 194.562\n",
      "INFO:tensorflow:loss = 42.63996, step = 381 (0.051 sec)\n",
      "INFO:tensorflow:global_step/sec: 189.644\n",
      "INFO:tensorflow:loss = 45.146088, step = 391 (0.053 sec)\n",
      "INFO:tensorflow:Saving checkpoints for 400 into models/census/dnn_classifier/model.ckpt.\n",
      "INFO:tensorflow:Calling model_fn.\n",
      "WARNING:tensorflow:Trapezoidal rule is known to produce incorrect PR-AUCs; please switch to \"careful_interpolation\" instead.\n",
      "WARNING:tensorflow:Trapezoidal rule is known to produce incorrect PR-AUCs; please switch to \"careful_interpolation\" instead.\n",
      "INFO:tensorflow:Done calling model_fn.\n",
      "INFO:tensorflow:Starting evaluation at 2019-03-31T22:43:56Z\n",
      "INFO:tensorflow:Graph was finalized.\n",
      "INFO:tensorflow:Restoring parameters from models/census/dnn_classifier/model.ckpt-400\n",
      "INFO:tensorflow:Running local_init_op.\n",
      "INFO:tensorflow:Done running local_init_op.\n",
      "INFO:tensorflow:Finished evaluation at 2019-03-31-22:44:00\n",
      "INFO:tensorflow:Saving dict for global step 400: accuracy = 0.8572306, accuracy_baseline = 0.7637916, auc = 0.91110516, auc_precision_recall = 0.7771489, average_loss = 0.309377, global_step = 400, label/mean = 0.23620838, loss = 39.344055, precision = 0.7265416, prediction/mean = 0.25078735, recall = 0.6343303\n",
      "INFO:tensorflow:Saving 'checkpoint_path' summary for global step 400: models/census/dnn_classifier/model.ckpt-400\n",
      "INFO:tensorflow:global_step/sec: 1.65713\n",
      "INFO:tensorflow:loss = 35.062378, step = 401 (6.038 sec)\n",
      "INFO:tensorflow:global_step/sec: 131.738\n",
      "INFO:tensorflow:loss = 34.695568, step = 411 (0.073 sec)\n",
      "INFO:tensorflow:global_step/sec: 79.7114\n",
      "INFO:tensorflow:loss = 39.884884, step = 421 (0.126 sec)\n",
      "INFO:tensorflow:global_step/sec: 56.4084\n",
      "INFO:tensorflow:loss = 30.621355, step = 431 (0.177 sec)\n",
      "INFO:tensorflow:global_step/sec: 60.3238\n",
      "INFO:tensorflow:loss = 45.97274, step = 441 (0.166 sec)\n",
      "INFO:tensorflow:global_step/sec: 137.596\n",
      "INFO:tensorflow:loss = 43.236687, step = 451 (0.073 sec)\n",
      "INFO:tensorflow:global_step/sec: 143.813\n",
      "INFO:tensorflow:loss = 29.381842, step = 461 (0.070 sec)\n",
      "INFO:tensorflow:global_step/sec: 141.169\n",
      "INFO:tensorflow:loss = 37.110565, step = 471 (0.071 sec)\n",
      "INFO:tensorflow:global_step/sec: 143.095\n",
      "INFO:tensorflow:loss = 26.690506, step = 481 (0.070 sec)\n",
      "INFO:tensorflow:global_step/sec: 143.137\n",
      "INFO:tensorflow:loss = 27.84355, step = 491 (0.070 sec)\n",
      "INFO:tensorflow:global_step/sec: 136.029\n",
      "INFO:tensorflow:loss = 32.576794, step = 501 (0.074 sec)\n",
      "INFO:tensorflow:global_step/sec: 141.491\n",
      "INFO:tensorflow:loss = 35.823494, step = 511 (0.071 sec)\n",
      "INFO:tensorflow:global_step/sec: 132.842\n",
      "INFO:tensorflow:loss = 40.278446, step = 521 (0.075 sec)\n",
      "INFO:tensorflow:global_step/sec: 144.512\n",
      "INFO:tensorflow:loss = 50.61734, step = 531 (0.069 sec)\n",
      "INFO:tensorflow:global_step/sec: 132.936\n",
      "INFO:tensorflow:loss = 40.79596, step = 541 (0.075 sec)\n",
      "INFO:tensorflow:global_step/sec: 135.298\n",
      "INFO:tensorflow:loss = 47.252304, step = 551 (0.074 sec)\n",
      "INFO:tensorflow:global_step/sec: 135.914\n",
      "INFO:tensorflow:loss = 40.94581, step = 561 (0.074 sec)\n",
      "INFO:tensorflow:global_step/sec: 133.816\n",
      "INFO:tensorflow:loss = 32.352467, step = 571 (0.075 sec)\n",
      "INFO:tensorflow:global_step/sec: 141.714\n",
      "INFO:tensorflow:loss = 39.615833, step = 581 (0.071 sec)\n",
      "INFO:tensorflow:global_step/sec: 136.694\n",
      "INFO:tensorflow:loss = 34.307087, step = 591 (0.072 sec)\n",
      "INFO:tensorflow:Saving checkpoints for 600 into models/census/dnn_classifier/model.ckpt.\n",
      "WARNING:tensorflow:From /usr/local/lib/python3.5/dist-packages/tensorflow/python/training/saver.py:966: remove_checkpoint (from tensorflow.python.training.checkpoint_management) is deprecated and will be removed in a future version.\n",
      "Instructions for updating:\n",
      "Use standard file APIs to delete files with this prefix.\n",
      "INFO:tensorflow:Calling model_fn.\n",
      "WARNING:tensorflow:Trapezoidal rule is known to produce incorrect PR-AUCs; please switch to \"careful_interpolation\" instead.\n",
      "WARNING:tensorflow:Trapezoidal rule is known to produce incorrect PR-AUCs; please switch to \"careful_interpolation\" instead.\n",
      "INFO:tensorflow:Done calling model_fn.\n",
      "INFO:tensorflow:Starting evaluation at 2019-03-31T22:44:04Z\n",
      "INFO:tensorflow:Graph was finalized.\n",
      "INFO:tensorflow:Restoring parameters from models/census/dnn_classifier/model.ckpt-600\n",
      "INFO:tensorflow:Running local_init_op.\n",
      "INFO:tensorflow:Done running local_init_op.\n",
      "INFO:tensorflow:Finished evaluation at 2019-03-31-22:44:07\n",
      "INFO:tensorflow:Saving dict for global step 600: accuracy = 0.85692346, accuracy_baseline = 0.7637916, auc = 0.9117207, auc_precision_recall = 0.78008795, average_loss = 0.30720446, global_step = 600, label/mean = 0.23620838, loss = 39.06777, precision = 0.73555005, prediction/mean = 0.23751797, recall = 0.6156047\n",
      "INFO:tensorflow:Saving 'checkpoint_path' summary for global step 600: models/census/dnn_classifier/model.ckpt-600\n",
      "INFO:tensorflow:global_step/sec: 1.66453\n",
      "INFO:tensorflow:loss = 49.765846, step = 601 (6.008 sec)\n",
      "INFO:tensorflow:global_step/sec: 131.831\n",
      "INFO:tensorflow:loss = 35.54488, step = 611 (0.075 sec)\n",
      "INFO:tensorflow:global_step/sec: 154.818\n",
      "INFO:tensorflow:loss = 44.129044, step = 621 (0.064 sec)\n",
      "INFO:tensorflow:global_step/sec: 107.261\n",
      "INFO:tensorflow:loss = 33.248634, step = 631 (0.093 sec)\n",
      "INFO:tensorflow:global_step/sec: 140.103\n",
      "INFO:tensorflow:loss = 38.763756, step = 641 (0.071 sec)\n",
      "INFO:tensorflow:global_step/sec: 132.958\n",
      "INFO:tensorflow:loss = 48.560257, step = 651 (0.075 sec)\n",
      "INFO:tensorflow:global_step/sec: 142.149\n",
      "INFO:tensorflow:loss = 41.35446, step = 661 (0.070 sec)\n",
      "INFO:tensorflow:global_step/sec: 137.646\n",
      "INFO:tensorflow:loss = 46.491047, step = 671 (0.073 sec)\n",
      "INFO:tensorflow:global_step/sec: 113.789\n",
      "INFO:tensorflow:loss = 33.756462, step = 681 (0.088 sec)\n",
      "INFO:tensorflow:global_step/sec: 131.032\n",
      "INFO:tensorflow:loss = 35.362297, step = 691 (0.076 sec)\n",
      "INFO:tensorflow:global_step/sec: 138.387\n",
      "INFO:tensorflow:loss = 32.581398, step = 701 (0.075 sec)\n",
      "INFO:tensorflow:global_step/sec: 124.28\n",
      "INFO:tensorflow:loss = 46.534378, step = 711 (0.078 sec)\n",
      "INFO:tensorflow:global_step/sec: 124.704\n",
      "INFO:tensorflow:loss = 39.397644, step = 721 (0.080 sec)\n",
      "INFO:tensorflow:global_step/sec: 132.035\n",
      "INFO:tensorflow:loss = 37.92726, step = 731 (0.076 sec)\n",
      "INFO:tensorflow:global_step/sec: 100.983\n",
      "INFO:tensorflow:loss = 35.889748, step = 741 (0.100 sec)\n",
      "INFO:tensorflow:global_step/sec: 123.479\n",
      "INFO:tensorflow:loss = 52.354965, step = 751 (0.081 sec)\n",
      "INFO:tensorflow:global_step/sec: 135.491\n",
      "INFO:tensorflow:loss = 43.388638, step = 761 (0.073 sec)\n",
      "INFO:tensorflow:global_step/sec: 129.311\n",
      "INFO:tensorflow:loss = 37.627007, step = 771 (0.077 sec)\n",
      "INFO:tensorflow:global_step/sec: 132.951\n",
      "INFO:tensorflow:loss = 37.906403, step = 781 (0.075 sec)\n",
      "INFO:tensorflow:global_step/sec: 125.042\n",
      "INFO:tensorflow:loss = 49.070915, step = 791 (0.080 sec)\n",
      "INFO:tensorflow:Saving checkpoints for 800 into models/census/dnn_classifier/model.ckpt.\n",
      "INFO:tensorflow:Calling model_fn.\n",
      "WARNING:tensorflow:Trapezoidal rule is known to produce incorrect PR-AUCs; please switch to \"careful_interpolation\" instead.\n",
      "WARNING:tensorflow:Trapezoidal rule is known to produce incorrect PR-AUCs; please switch to \"careful_interpolation\" instead.\n",
      "INFO:tensorflow:Done calling model_fn.\n",
      "INFO:tensorflow:Starting evaluation at 2019-03-31T22:44:11Z\n",
      "INFO:tensorflow:Graph was finalized.\n",
      "INFO:tensorflow:Restoring parameters from models/census/dnn_classifier/model.ckpt-800\n",
      "INFO:tensorflow:Running local_init_op.\n",
      "INFO:tensorflow:Done running local_init_op.\n",
      "INFO:tensorflow:Finished evaluation at 2019-03-31-22:44:15\n",
      "INFO:tensorflow:Saving dict for global step 800: accuracy = 0.858275, accuracy_baseline = 0.7637916, auc = 0.9121136, auc_precision_recall = 0.7821077, average_loss = 0.30590963, global_step = 800, label/mean = 0.23620838, loss = 38.903103, precision = 0.7532938, prediction/mean = 0.23174913, recall = 0.59479845\n",
      "INFO:tensorflow:Saving 'checkpoint_path' summary for global step 800: models/census/dnn_classifier/model.ckpt-800\n",
      "INFO:tensorflow:global_step/sec: 1.72147\n",
      "INFO:tensorflow:loss = 33.36959, step = 801 (5.809 sec)\n",
      "INFO:tensorflow:global_step/sec: 161.133\n",
      "INFO:tensorflow:loss = 36.654617, step = 811 (0.061 sec)\n",
      "INFO:tensorflow:global_step/sec: 177.639\n",
      "INFO:tensorflow:loss = 30.968777, step = 821 (0.059 sec)\n",
      "INFO:tensorflow:global_step/sec: 169.791\n",
      "INFO:tensorflow:loss = 40.422104, step = 831 (0.056 sec)\n",
      "INFO:tensorflow:global_step/sec: 211.884\n",
      "INFO:tensorflow:loss = 43.081017, step = 841 (0.053 sec)\n",
      "INFO:tensorflow:global_step/sec: 177.882\n",
      "INFO:tensorflow:loss = 39.075607, step = 851 (0.050 sec)\n",
      "INFO:tensorflow:global_step/sec: 163.225\n",
      "INFO:tensorflow:loss = 26.670116, step = 861 (0.061 sec)\n",
      "INFO:tensorflow:global_step/sec: 142.671\n",
      "INFO:tensorflow:loss = 53.176186, step = 871 (0.070 sec)\n",
      "INFO:tensorflow:global_step/sec: 147.742\n",
      "INFO:tensorflow:loss = 30.25842, step = 881 (0.068 sec)\n",
      "INFO:tensorflow:global_step/sec: 232.486\n",
      "INFO:tensorflow:loss = 34.240646, step = 891 (0.043 sec)\n",
      "INFO:tensorflow:global_step/sec: 229.97\n",
      "INFO:tensorflow:loss = 37.868195, step = 901 (0.044 sec)\n",
      "INFO:tensorflow:global_step/sec: 122.029\n",
      "INFO:tensorflow:loss = 30.463476, step = 911 (0.081 sec)\n",
      "INFO:tensorflow:global_step/sec: 173.361\n",
      "INFO:tensorflow:loss = 40.451324, step = 921 (0.057 sec)\n",
      "INFO:tensorflow:global_step/sec: 171.475\n",
      "INFO:tensorflow:loss = 45.158314, step = 931 (0.058 sec)\n",
      "INFO:tensorflow:global_step/sec: 174.612\n",
      "INFO:tensorflow:loss = 42.633904, step = 941 (0.058 sec)\n",
      "INFO:tensorflow:global_step/sec: 179.111\n",
      "INFO:tensorflow:loss = 45.89043, step = 951 (0.056 sec)\n",
      "INFO:tensorflow:global_step/sec: 188.494\n",
      "INFO:tensorflow:loss = 23.223661, step = 961 (0.053 sec)\n",
      "INFO:tensorflow:global_step/sec: 180.096\n",
      "INFO:tensorflow:loss = 32.7679, step = 971 (0.056 sec)\n",
      "INFO:tensorflow:global_step/sec: 178.988\n",
      "INFO:tensorflow:loss = 35.870785, step = 981 (0.056 sec)\n",
      "INFO:tensorflow:global_step/sec: 184.548\n",
      "INFO:tensorflow:loss = 44.4554, step = 991 (0.054 sec)\n",
      "INFO:tensorflow:Saving checkpoints for 1000 into models/census/dnn_classifier/model.ckpt.\n",
      "INFO:tensorflow:Calling model_fn.\n",
      "WARNING:tensorflow:Trapezoidal rule is known to produce incorrect PR-AUCs; please switch to \"careful_interpolation\" instead.\n",
      "WARNING:tensorflow:Trapezoidal rule is known to produce incorrect PR-AUCs; please switch to \"careful_interpolation\" instead.\n",
      "INFO:tensorflow:Done calling model_fn.\n",
      "INFO:tensorflow:Starting evaluation at 2019-03-31T22:44:18Z\n",
      "INFO:tensorflow:Graph was finalized.\n",
      "INFO:tensorflow:Restoring parameters from models/census/dnn_classifier/model.ckpt-1000\n",
      "INFO:tensorflow:Running local_init_op.\n",
      "INFO:tensorflow:Done running local_init_op.\n",
      "INFO:tensorflow:Finished evaluation at 2019-03-31-22:44:22\n",
      "INFO:tensorflow:Saving dict for global step 1000: accuracy = 0.8584593, accuracy_baseline = 0.7637916, auc = 0.9120247, auc_precision_recall = 0.78229094, average_loss = 0.3064089, global_step = 1000, label/mean = 0.23620838, loss = 38.966595, precision = 0.7419152, prediction/mean = 0.23063976, recall = 0.61456436\n",
      "INFO:tensorflow:Saving 'checkpoint_path' summary for global step 1000: models/census/dnn_classifier/model.ckpt-1000\n",
      "INFO:tensorflow:Loss for final step: 35.735634.\n",
      ".......................................\n",
      "Experiment finished at 22:44:22\n",
      "\n",
      "Experiment elapsed time: 46.145534 seconds\n"
     ]
    }
   ],
   "source": [
    "estimator = create_estimator(params, run_config)\n",
    "run_experiment(estimator, params, run_config)"
   ]
  },
  {
   "cell_type": "markdown",
   "metadata": {
    "colab_type": "text",
    "id": "pr-L_KM8LwmK"
   },
   "source": [
    "### 3.6 Export the model for serving"
   ]
  },
  {
   "cell_type": "code",
   "execution_count": 17,
   "metadata": {
    "colab": {},
    "colab_type": "code",
    "id": "oBdB7mkvL43C"
   },
   "outputs": [],
   "source": [
    "tf.logging.set_verbosity(tf.logging.ERROR)\n",
    "\n",
    "def make_serving_input_receiver_fn():\n",
    "  from tensorflow_transform.tf_metadata import schema_utils\n",
    "\n",
    "  source_raw_schema = tfdv.load_schema_text(RAW_SCHEMA_LOCATION)\n",
    "  raw_feature_spec = schema_utils.schema_as_feature_spec(source_raw_schema).feature_spec\n",
    "  raw_feature_spec.pop(TARGET_FEATURE_NAME)\n",
    "  if WEIGHT_COLUMN_NAME in raw_feature_spec:\n",
    "    raw_feature_spec.pop(WEIGHT_COLUMN_NAME)\n",
    "\n",
    "\n",
    "  # Create the interface for the serving function with the raw features\n",
    "  raw_features = tf.estimator.export.build_parsing_serving_input_receiver_fn(raw_feature_spec)().features\n",
    "\n",
    "  receiver_tensors = {feature: tf.placeholder(shape=[None], dtype=raw_features[feature].dtype) \n",
    "    for feature in raw_features\n",
    "  }\n",
    "\n",
    "  receiver_tensors_expanded = {tensor: tf.reshape(receiver_tensors[tensor], (-1, 1)) \n",
    "    for tensor in receiver_tensors\n",
    "  }\n",
    "\n",
    "  # Apply the transform function \n",
    "  transformed_features = transform_output.transform_raw_features(receiver_tensors_expanded)\n",
    "\n",
    "  return tf.estimator.export.ServingInputReceiver(\n",
    "    transformed_features, receiver_tensors)"
   ]
  },
  {
   "cell_type": "code",
   "execution_count": 20,
   "metadata": {
    "colab": {
     "base_uri": "https://localhost:8080/",
     "height": 751
    },
    "colab_type": "code",
    "id": "_KcSJ6kEMG57",
    "outputId": "d0bcdb14-82ef-4b22-9484-90170f1b7984"
   },
   "outputs": [
    {
     "data": {
      "text/plain": [
       "b'models/census/dnn_classifier/export/1554072293'"
      ]
     },
     "execution_count": 20,
     "metadata": {},
     "output_type": "execute_result"
    }
   ],
   "source": [
    "export_dir = os.path.join(model_dir, 'export')\n",
    "\n",
    "if tf.gfile.Exists(export_dir):\n",
    "    tf.gfile.DeleteRecursively(export_dir)\n",
    "        \n",
    "estimator.export_savedmodel(\n",
    "    export_dir_base=export_dir,\n",
    "    serving_input_receiver_fn=make_serving_input_receiver_fn\n",
    ")"
   ]
  },
  {
   "cell_type": "code",
   "execution_count": 21,
   "metadata": {
    "colab": {
     "base_uri": "https://localhost:8080/",
     "height": 1377
    },
    "colab_type": "code",
    "id": "XPFCTtSdQMd5",
    "outputId": "2ec32f67-47f5-4ef0-8a86-fe1797befdef"
   },
   "outputs": [
    {
     "name": "stdout",
     "output_type": "stream",
     "text": [
      "models/census/dnn_classifier/export/1554072293\n",
      "\n",
      "MetaGraphDef with tag-set: 'serve' contains the following SignatureDefs:\n",
      "\n",
      "signature_def['predict']:\n",
      "  The given SavedModel SignatureDef contains the following input(s):\n",
      "    inputs['age'] tensor_info:\n",
      "        dtype: DT_INT64\n",
      "        shape: (-1)\n",
      "        name: Placeholder_6:0\n",
      "    inputs['capital_gain'] tensor_info:\n",
      "        dtype: DT_INT64\n",
      "        shape: (-1)\n",
      "        name: Placeholder_8:0\n",
      "    inputs['capital_loss'] tensor_info:\n",
      "        dtype: DT_INT64\n",
      "        shape: (-1)\n",
      "        name: Placeholder_3:0\n",
      "    inputs['education'] tensor_info:\n",
      "        dtype: DT_STRING\n",
      "        shape: (-1)\n",
      "        name: Placeholder:0\n",
      "    inputs['education_num'] tensor_info:\n",
      "        dtype: DT_INT64\n",
      "        shape: (-1)\n",
      "        name: Placeholder_4:0\n",
      "    inputs['gender'] tensor_info:\n",
      "        dtype: DT_STRING\n",
      "        shape: (-1)\n",
      "        name: Placeholder_7:0\n",
      "    inputs['hours_per_week'] tensor_info:\n",
      "        dtype: DT_INT64\n",
      "        shape: (-1)\n",
      "        name: Placeholder_1:0\n",
      "    inputs['marital_status'] tensor_info:\n",
      "        dtype: DT_STRING\n",
      "        shape: (-1)\n",
      "        name: Placeholder_10:0\n",
      "    inputs['native_country'] tensor_info:\n",
      "        dtype: DT_STRING\n",
      "        shape: (-1)\n",
      "        name: Placeholder_2:0\n",
      "    inputs['occupation'] tensor_info:\n",
      "        dtype: DT_STRING\n",
      "        shape: (-1)\n",
      "        name: Placeholder_9:0\n",
      "    inputs['race'] tensor_info:\n",
      "        dtype: DT_STRING\n",
      "        shape: (-1)\n",
      "        name: Placeholder_12:0\n",
      "    inputs['relationship'] tensor_info:\n",
      "        dtype: DT_STRING\n",
      "        shape: (-1)\n",
      "        name: Placeholder_11:0\n",
      "    inputs['workclass'] tensor_info:\n",
      "        dtype: DT_STRING\n",
      "        shape: (-1)\n",
      "        name: Placeholder_5:0\n",
      "  The given SavedModel SignatureDef contains the following output(s):\n",
      "    outputs['class_ids'] tensor_info:\n",
      "        dtype: DT_INT64\n",
      "        shape: (-1, 1)\n",
      "        name: dnn/head/predictions/ExpandDims:0\n",
      "    outputs['classes'] tensor_info:\n",
      "        dtype: DT_STRING\n",
      "        shape: (-1, 1)\n",
      "        name: dnn/head/predictions/class_string_lookup_Lookup:0\n",
      "    outputs['logistic'] tensor_info:\n",
      "        dtype: DT_FLOAT\n",
      "        shape: (-1, 1)\n",
      "        name: dnn/head/predictions/logistic:0\n",
      "    outputs['logits'] tensor_info:\n",
      "        dtype: DT_FLOAT\n",
      "        shape: (-1, 1)\n",
      "        name: dnn/logits/BiasAdd:0\n",
      "    outputs['probabilities'] tensor_info:\n",
      "        dtype: DT_FLOAT\n",
      "        shape: (-1, 2)\n",
      "        name: dnn/head/predictions/probabilities:0\n",
      "  Method name is: tensorflow/serving/predict\n"
     ]
    }
   ],
   "source": [
    "%%bash\n",
    "\n",
    "saved_models_base=${MODEL_DIR}/export/\n",
    "saved_model_dir=${MODEL_DIR}/export/$(ls ${saved_models_base} | tail -n 1)\n",
    "echo ${saved_model_dir}\n",
    "saved_model_cli show --dir=${saved_model_dir} --all"
   ]
  },
  {
   "cell_type": "markdown",
   "metadata": {
    "colab_type": "text",
    "id": "zFQcy8QDQ6Ad"
   },
   "source": [
    "### 3.7 Try out saved model"
   ]
  },
  {
   "cell_type": "code",
   "execution_count": 22,
   "metadata": {
    "colab": {
     "base_uri": "https://localhost:8080/",
     "height": 105
    },
    "colab_type": "code",
    "id": "0tacIgD5Q6HB",
    "outputId": "133588d7-1d0b-4a9f-fd88-b79d096f55b7"
   },
   "outputs": [
    {
     "name": "stdout",
     "output_type": "stream",
     "text": [
      "models/census/dnn_classifier/export/1554072293\n",
      "\n",
      "{'education': ['Doctorate'], 'hours_per_week': [40.0], 'race': ['White'], 'capital_loss': [0.0], 'education_num': [10.0], 'workclass': ['Private'], 'native_country': ['Mexico'], 'age': [34.0], 'gender': ['Male'], 'marital_status': ['Married-civ-spouse'], 'occupation': ['Prof-specialty'], 'capital_gain': [0.0], 'relationship': ['Husband']}\n",
      "\n",
      "{'logistic': array([[0.2034915]], dtype=float32), 'probabilities': array([[0.79650855, 0.20349152]], dtype=float32), 'class_ids': array([[0]]), 'classes': array([[b' <=50K']], dtype=object), 'logits': array([[-1.3646135]], dtype=float32)}\n"
     ]
    }
   ],
   "source": [
    "export_dir = os.path.join(model_dir, 'export')\n",
    "tf.gfile.ListDirectory(export_dir)[-1]\n",
    "saved_model_dir = os.path.join(export_dir, tf.gfile.ListDirectory(export_dir)[-1])\n",
    "print(saved_model_dir)\n",
    "print()\n",
    "\n",
    "predictor_fn = tf.contrib.predictor.from_saved_model(\n",
    "    export_dir = saved_model_dir,\n",
    "    signature_def_key=\"predict\"\n",
    ")\n",
    "\n",
    "input = {\n",
    "        'age': [34.0],\n",
    "        'workclass': ['Private'],\n",
    "        'education': ['Doctorate'],\n",
    "        'education_num': [10.0],\n",
    "        'marital_status': ['Married-civ-spouse'],\n",
    "        'occupation': ['Prof-specialty'],\n",
    "        'relationship': ['Husband'],\n",
    "        'race': ['White'],\n",
    "        'gender': ['Male'],\n",
    "        'capital_gain': [0.0], \n",
    "        'capital_loss': [0.0], \n",
    "        'hours_per_week': [40.0],\n",
    "        'native_country':['Mexico']\n",
    "}\n",
    "\n",
    "print(input)\n",
    "print()\n",
    "output = predictor_fn(input)\n",
    "print(output)"
   ]
  },
  {
   "cell_type": "markdown",
   "metadata": {},
   "source": [
    "### 3.8 Deploy model to Cloud ML Engine"
   ]
  },
  {
   "cell_type": "code",
   "execution_count": 23,
   "metadata": {},
   "outputs": [],
   "source": [
    "#%%bash\n",
    "#MODEL_NAME=\"census\"\n",
    "#MODEL_VERSION=\"v1\"\n",
    "#MODEL_LOCATION=$(gsutil ls gs://${BUCKET}/census/dnn_classifier/export/exporter | tail -1)\n",
    "#gcloud ml-engine models create ${MODEL_NAME} --regions $REGION\n",
    "#gcloud ml-engine versions create ${MODEL_VERSION} --model ${MODEL_NAME} --origin ${MODEL_LOCATION} --runtime-version 1.13"
   ]
  },
  {
   "cell_type": "markdown",
   "metadata": {},
   "source": [
    "### 3.9 Export evaluation saved model"
   ]
  },
  {
   "cell_type": "code",
   "execution_count": 31,
   "metadata": {},
   "outputs": [],
   "source": [
    "HEADER_DEFAULTS = [[0], [''], [0], [''], [0], [''], [''], [''], [''], [''],\n",
    "                   [0], [0], [0], [''], ['']]\n",
    "\n",
    "def make_eval_input_receiver_fn():\n",
    "  receiver_tensors = {'examples': tf.placeholder(dtype=tf.string, shape=[None])}\n",
    "  columns = tf.decode_csv(receiver_tensors['examples'], record_defaults=HEADER_DEFAULTS)\n",
    "  features = dict(zip(HEADER, columns))\n",
    "  print(features)\n",
    "\n",
    "  for feature_name in features:\n",
    "    if features[feature_name].dtype == tf.int32:\n",
    "      features[feature_name] = tf.cast(features[feature_name], tf.int64)\n",
    "    features[feature_name] = tf.reshape(features[feature_name], (-1, 1))\n",
    "\n",
    "  transformed_features = transform_output.transform_raw_features(features)\n",
    "  features.update(transformed_features)\n",
    "\n",
    "  return tfma.export.EvalInputReceiver(\n",
    "    features=features,\n",
    "    receiver_tensors=receiver_tensors,\n",
    "    labels=features[TARGET_FEATURE_NAME]\n",
    "    )"
   ]
  },
  {
   "cell_type": "code",
   "execution_count": 32,
   "metadata": {},
   "outputs": [
    {
     "name": "stdout",
     "output_type": "stream",
     "text": [
      "{'education': <tf.Tensor 'DecodeCSV:3' shape=(?,) dtype=string>, 'hours_per_week': <tf.Tensor 'DecodeCSV:12' shape=(?,) dtype=int32>, 'race': <tf.Tensor 'DecodeCSV:8' shape=(?,) dtype=string>, 'capital_loss': <tf.Tensor 'DecodeCSV:11' shape=(?,) dtype=int32>, 'education_num': <tf.Tensor 'DecodeCSV:4' shape=(?,) dtype=int32>, 'workclass': <tf.Tensor 'DecodeCSV:1' shape=(?,) dtype=string>, 'native_country': <tf.Tensor 'DecodeCSV:13' shape=(?,) dtype=string>, 'age': <tf.Tensor 'DecodeCSV:0' shape=(?,) dtype=int32>, 'gender': <tf.Tensor 'DecodeCSV:9' shape=(?,) dtype=string>, 'marital_status': <tf.Tensor 'DecodeCSV:5' shape=(?,) dtype=string>, 'income_bracket': <tf.Tensor 'DecodeCSV:14' shape=(?,) dtype=string>, 'occupation': <tf.Tensor 'DecodeCSV:6' shape=(?,) dtype=string>, 'capital_gain': <tf.Tensor 'DecodeCSV:10' shape=(?,) dtype=int32>, 'relationship': <tf.Tensor 'DecodeCSV:7' shape=(?,) dtype=string>, 'fnlwgt': <tf.Tensor 'DecodeCSV:2' shape=(?,) dtype=int32>}\n"
     ]
    },
    {
     "ename": "ValueError",
     "evalue": "Unexpected inputs to transform: {'fnlwgt'}",
     "output_type": "error",
     "traceback": [
      "\u001b[0;31m---------------------------------------------------------------------------\u001b[0m",
      "\u001b[0;31mValueError\u001b[0m                                Traceback (most recent call last)",
      "\u001b[0;32m<ipython-input-32-e53d2acddaff>\u001b[0m in \u001b[0;36m<module>\u001b[0;34m\u001b[0m\n\u001b[1;32m      7\u001b[0m         \u001b[0mestimator\u001b[0m\u001b[0;34m=\u001b[0m\u001b[0mestimator\u001b[0m\u001b[0;34m,\u001b[0m\u001b[0;34m\u001b[0m\u001b[0m\n\u001b[1;32m      8\u001b[0m         \u001b[0mexport_dir_base\u001b[0m\u001b[0;34m=\u001b[0m\u001b[0meval_model_dir\u001b[0m\u001b[0;34m,\u001b[0m\u001b[0;34m\u001b[0m\u001b[0m\n\u001b[0;32m----> 9\u001b[0;31m         \u001b[0meval_input_receiver_fn\u001b[0m\u001b[0;34m=\u001b[0m\u001b[0mmake_eval_input_receiver_fn\u001b[0m\u001b[0;34m\u001b[0m\u001b[0m\n\u001b[0m\u001b[1;32m     10\u001b[0m )\n",
      "\u001b[0;32m~/.local/lib/python3.5/site-packages/tensorflow_model_analysis/util.py\u001b[0m in \u001b[0;36mwrapped_fn\u001b[0;34m(*args, **kwargs)\u001b[0m\n\u001b[1;32m    171\u001b[0m                       (fn.__name__, kwargs.keys()))\n\u001b[1;32m    172\u001b[0m \u001b[0;34m\u001b[0m\u001b[0m\n\u001b[0;32m--> 173\u001b[0;31m     \u001b[0;32mreturn\u001b[0m \u001b[0mfn\u001b[0m\u001b[0;34m(\u001b[0m\u001b[0;34m**\u001b[0m\u001b[0mkwargs_to_pass\u001b[0m\u001b[0;34m)\u001b[0m\u001b[0;34m\u001b[0m\u001b[0m\n\u001b[0m\u001b[1;32m    174\u001b[0m \u001b[0;34m\u001b[0m\u001b[0m\n\u001b[1;32m    175\u001b[0m   \u001b[0;32mreturn\u001b[0m \u001b[0mwrapped_fn\u001b[0m\u001b[0;34m\u001b[0m\u001b[0m\n",
      "\u001b[0;32m~/.local/lib/python3.5/site-packages/tensorflow_model_analysis/eval_saved_model/export.py\u001b[0m in \u001b[0;36mexport_eval_savedmodel\u001b[0;34m(estimator, export_dir_base, eval_input_receiver_fn, serving_input_receiver_fn, assets_extra, checkpoint_path)\u001b[0m\n\u001b[1;32m    467\u001b[0m       },\n\u001b[1;32m    468\u001b[0m       \u001b[0massets_extra\u001b[0m\u001b[0;34m=\u001b[0m\u001b[0massets_extra\u001b[0m\u001b[0;34m,\u001b[0m\u001b[0;34m\u001b[0m\u001b[0m\n\u001b[0;32m--> 469\u001b[0;31m       checkpoint_path=checkpoint_path)\n\u001b[0m\u001b[1;32m    470\u001b[0m \u001b[0;34m\u001b[0m\u001b[0m\n\u001b[1;32m    471\u001b[0m \u001b[0;34m\u001b[0m\u001b[0m\n",
      "\u001b[0;32m/usr/local/lib/python3.5/dist-packages/tensorflow/python/util/deprecation.py\u001b[0m in \u001b[0;36mnew_func\u001b[0;34m(*args, **kwargs)\u001b[0m\n\u001b[1;32m    322\u001b[0m               \u001b[0;34m'in a future version'\u001b[0m \u001b[0;32mif\u001b[0m \u001b[0mdate\u001b[0m \u001b[0;32mis\u001b[0m \u001b[0;32mNone\u001b[0m \u001b[0;32melse\u001b[0m \u001b[0;34m(\u001b[0m\u001b[0;34m'after %s'\u001b[0m \u001b[0;34m%\u001b[0m \u001b[0mdate\u001b[0m\u001b[0;34m)\u001b[0m\u001b[0;34m,\u001b[0m\u001b[0;34m\u001b[0m\u001b[0m\n\u001b[1;32m    323\u001b[0m               instructions)\n\u001b[0;32m--> 324\u001b[0;31m       \u001b[0;32mreturn\u001b[0m \u001b[0mfunc\u001b[0m\u001b[0;34m(\u001b[0m\u001b[0;34m*\u001b[0m\u001b[0margs\u001b[0m\u001b[0;34m,\u001b[0m \u001b[0;34m**\u001b[0m\u001b[0mkwargs\u001b[0m\u001b[0;34m)\u001b[0m\u001b[0;34m\u001b[0m\u001b[0m\n\u001b[0m\u001b[1;32m    325\u001b[0m     return tf_decorator.make_decorator(\n\u001b[1;32m    326\u001b[0m         \u001b[0mfunc\u001b[0m\u001b[0;34m,\u001b[0m \u001b[0mnew_func\u001b[0m\u001b[0;34m,\u001b[0m \u001b[0;34m'deprecated'\u001b[0m\u001b[0;34m,\u001b[0m\u001b[0;34m\u001b[0m\u001b[0m\n",
      "\u001b[0;32m/usr/local/lib/python3.5/dist-packages/tensorflow_estimator/contrib/estimator/python/estimator/export.py\u001b[0m in \u001b[0;36mexport_all_saved_models\u001b[0;34m(estimator, export_dir_base, input_receiver_fn_map, assets_extra, as_text, checkpoint_path)\u001b[0m\n\u001b[1;32m    206\u001b[0m       \u001b[0massets_extra\u001b[0m\u001b[0;34m=\u001b[0m\u001b[0massets_extra\u001b[0m\u001b[0;34m,\u001b[0m\u001b[0;34m\u001b[0m\u001b[0m\n\u001b[1;32m    207\u001b[0m       \u001b[0mas_text\u001b[0m\u001b[0;34m=\u001b[0m\u001b[0mas_text\u001b[0m\u001b[0;34m,\u001b[0m\u001b[0;34m\u001b[0m\u001b[0m\n\u001b[0;32m--> 208\u001b[0;31m       checkpoint_path=checkpoint_path)\n\u001b[0m",
      "\u001b[0;32m/usr/local/lib/python3.5/dist-packages/tensorflow_estimator/python/estimator/estimator.py\u001b[0m in \u001b[0;36mexperimental_export_all_saved_models\u001b[0;34m(self, export_dir_base, input_receiver_fn_map, assets_extra, as_text, checkpoint_path)\u001b[0m\n\u001b[1;32m    820\u001b[0m         self._add_meta_graph_for_mode(\n\u001b[1;32m    821\u001b[0m             \u001b[0mbuilder\u001b[0m\u001b[0;34m,\u001b[0m \u001b[0minput_receiver_fn_map\u001b[0m\u001b[0;34m,\u001b[0m \u001b[0mcheckpoint_path\u001b[0m\u001b[0;34m,\u001b[0m\u001b[0;34m\u001b[0m\u001b[0m\n\u001b[0;32m--> 822\u001b[0;31m             save_variables, mode=model_fn_lib.ModeKeys.EVAL)\n\u001b[0m\u001b[1;32m    823\u001b[0m         \u001b[0msave_variables\u001b[0m \u001b[0;34m=\u001b[0m \u001b[0;32mFalse\u001b[0m\u001b[0;34m\u001b[0m\u001b[0m\n\u001b[1;32m    824\u001b[0m       \u001b[0;32mif\u001b[0m \u001b[0minput_receiver_fn_map\u001b[0m\u001b[0;34m.\u001b[0m\u001b[0mget\u001b[0m\u001b[0;34m(\u001b[0m\u001b[0mmodel_fn_lib\u001b[0m\u001b[0;34m.\u001b[0m\u001b[0mModeKeys\u001b[0m\u001b[0;34m.\u001b[0m\u001b[0mPREDICT\u001b[0m\u001b[0;34m)\u001b[0m\u001b[0;34m:\u001b[0m\u001b[0;34m\u001b[0m\u001b[0m\n",
      "\u001b[0;32m/usr/local/lib/python3.5/dist-packages/tensorflow_estimator/python/estimator/estimator.py\u001b[0m in \u001b[0;36m_add_meta_graph_for_mode\u001b[0;34m(self, builder, input_receiver_fn_map, checkpoint_path, save_variables, mode, export_tags, check_variables)\u001b[0m\n\u001b[1;32m    888\u001b[0m       \u001b[0mrandom_seed\u001b[0m\u001b[0;34m.\u001b[0m\u001b[0mset_random_seed\u001b[0m\u001b[0;34m(\u001b[0m\u001b[0mself\u001b[0m\u001b[0;34m.\u001b[0m\u001b[0m_config\u001b[0m\u001b[0;34m.\u001b[0m\u001b[0mtf_random_seed\u001b[0m\u001b[0;34m)\u001b[0m\u001b[0;34m\u001b[0m\u001b[0m\n\u001b[1;32m    889\u001b[0m \u001b[0;34m\u001b[0m\u001b[0m\n\u001b[0;32m--> 890\u001b[0;31m       \u001b[0minput_receiver\u001b[0m \u001b[0;34m=\u001b[0m \u001b[0minput_receiver_fn\u001b[0m\u001b[0;34m(\u001b[0m\u001b[0;34m)\u001b[0m\u001b[0;34m\u001b[0m\u001b[0m\n\u001b[0m\u001b[1;32m    891\u001b[0m \u001b[0;34m\u001b[0m\u001b[0m\n\u001b[1;32m    892\u001b[0m       \u001b[0;31m# Call the model_fn and collect the export_outputs.\u001b[0m\u001b[0;34m\u001b[0m\u001b[0;34m\u001b[0m\u001b[0m\n",
      "\u001b[0;32m<ipython-input-31-50c17e8775fd>\u001b[0m in \u001b[0;36mmake_eval_input_receiver_fn\u001b[0;34m()\u001b[0m\n\u001b[1;32m     13\u001b[0m     \u001b[0mfeatures\u001b[0m\u001b[0;34m[\u001b[0m\u001b[0mfeature_name\u001b[0m\u001b[0;34m]\u001b[0m \u001b[0;34m=\u001b[0m \u001b[0mtf\u001b[0m\u001b[0;34m.\u001b[0m\u001b[0mreshape\u001b[0m\u001b[0;34m(\u001b[0m\u001b[0mfeatures\u001b[0m\u001b[0;34m[\u001b[0m\u001b[0mfeature_name\u001b[0m\u001b[0;34m]\u001b[0m\u001b[0;34m,\u001b[0m \u001b[0;34m(\u001b[0m\u001b[0;34m-\u001b[0m\u001b[0;36m1\u001b[0m\u001b[0;34m,\u001b[0m \u001b[0;36m1\u001b[0m\u001b[0;34m)\u001b[0m\u001b[0;34m)\u001b[0m\u001b[0;34m\u001b[0m\u001b[0m\n\u001b[1;32m     14\u001b[0m \u001b[0;34m\u001b[0m\u001b[0m\n\u001b[0;32m---> 15\u001b[0;31m   \u001b[0mtransformed_features\u001b[0m \u001b[0;34m=\u001b[0m \u001b[0mtransform_output\u001b[0m\u001b[0;34m.\u001b[0m\u001b[0mtransform_raw_features\u001b[0m\u001b[0;34m(\u001b[0m\u001b[0mfeatures\u001b[0m\u001b[0;34m)\u001b[0m\u001b[0;34m\u001b[0m\u001b[0m\n\u001b[0m\u001b[1;32m     16\u001b[0m   \u001b[0mfeatures\u001b[0m\u001b[0;34m.\u001b[0m\u001b[0mupdate\u001b[0m\u001b[0;34m(\u001b[0m\u001b[0mtransformed_features\u001b[0m\u001b[0;34m)\u001b[0m\u001b[0;34m\u001b[0m\u001b[0m\n\u001b[1;32m     17\u001b[0m \u001b[0;34m\u001b[0m\u001b[0m\n",
      "\u001b[0;32m~/.local/lib/python3.5/site-packages/tensorflow_transform/output_wrapper.py\u001b[0m in \u001b[0;36mtransform_raw_features\u001b[0;34m(self, raw_features)\u001b[0m\n\u001b[1;32m    130\u001b[0m     _, transformed_features = (\n\u001b[1;32m    131\u001b[0m         saved_transform_io.partially_apply_saved_transform_internal(\n\u001b[0;32m--> 132\u001b[0;31m             self.transform_savedmodel_dir, raw_features))\n\u001b[0m\u001b[1;32m    133\u001b[0m     \u001b[0;32mreturn\u001b[0m \u001b[0mtransformed_features\u001b[0m\u001b[0;34m\u001b[0m\u001b[0m\n\u001b[1;32m    134\u001b[0m \u001b[0;34m\u001b[0m\u001b[0m\n",
      "\u001b[0;32m~/.local/lib/python3.5/site-packages/tensorflow_transform/saved/saved_transform_io.py\u001b[0m in \u001b[0;36mpartially_apply_saved_transform_internal\u001b[0;34m(saved_model_dir, logical_input_map, tensor_replacement_map)\u001b[0m\n\u001b[1;32m    368\u001b[0m   \"\"\"\n\u001b[1;32m    369\u001b[0m   unbound_inputs, outputs, _ = _partially_apply_saved_transform_impl(\n\u001b[0;32m--> 370\u001b[0;31m       saved_model_dir, logical_input_map, tensor_replacement_map)\n\u001b[0m\u001b[1;32m    371\u001b[0m   \u001b[0;32mreturn\u001b[0m \u001b[0munbound_inputs\u001b[0m\u001b[0;34m,\u001b[0m \u001b[0moutputs\u001b[0m\u001b[0;34m\u001b[0m\u001b[0m\n\u001b[1;32m    372\u001b[0m \u001b[0;34m\u001b[0m\u001b[0m\n",
      "\u001b[0;32m~/.local/lib/python3.5/site-packages/tensorflow_transform/saved/saved_transform_io.py\u001b[0m in \u001b[0;36m_partially_apply_saved_transform_impl\u001b[0;34m(saved_model_dir, logical_input_map, tensor_replacement_map, fetch_tensor_names)\u001b[0m\n\u001b[1;32m    171\u001b[0m   \u001b[0;32mif\u001b[0m \u001b[0munexpected_inputs\u001b[0m\u001b[0;34m:\u001b[0m\u001b[0;34m\u001b[0m\u001b[0m\n\u001b[1;32m    172\u001b[0m     raise ValueError('Unexpected inputs '\n\u001b[0;32m--> 173\u001b[0;31m                      'to transform: {}'.format(unexpected_inputs))\n\u001b[0m\u001b[1;32m    174\u001b[0m \u001b[0;34m\u001b[0m\u001b[0m\n\u001b[1;32m    175\u001b[0m   \u001b[0;31m# Create a map from tensor names in the graph to be imported, to the tensors\u001b[0m\u001b[0;34m\u001b[0m\u001b[0;34m\u001b[0m\u001b[0m\n",
      "\u001b[0;31mValueError\u001b[0m: Unexpected inputs to transform: {'fnlwgt'}"
     ]
    }
   ],
   "source": [
    "import tensorflow_model_analysis as tfma\n",
    "eval_model_dir = os.path.join(model_dir, \"export/evaluate\")\n",
    "if tf.gfile.Exists(eval_model_dir):\n",
    "    tf.gfile.DeleteRecursively(eval_model_dir)\n",
    "\n",
    "tfma.export.export_eval_savedmodel(\n",
    "        estimator=estimator,\n",
    "        export_dir_base=eval_model_dir,\n",
    "        eval_input_receiver_fn=make_eval_input_receiver_fn\n",
    ")"
   ]
  },
  {
   "cell_type": "markdown",
   "metadata": {
    "colab_type": "text",
    "id": "Gsi_Hsh89Cl7"
   },
   "source": [
    "## License"
   ]
  },
  {
   "cell_type": "markdown",
   "metadata": {
    "colab_type": "text",
    "id": "0fOWx1yI9Dyn"
   },
   "source": [
    "Copyright 2019 Google LLC\n",
    "\n",
    "Licensed under the Apache License, Version 2.0 (the \"License\");\n",
    "you may not use this file except in compliance with the License.\n",
    "You may obtain a copy of the License at http://www.apache.org/licenses/LICENSE-2.0.\n",
    "\n",
    "Unless required by applicable law or agreed to in writing, software\n",
    "distributed under the License is distributed on an \"AS IS\" BASIS,\n",
    "WITHOUT WARRANTIES OR CONDITIONS OF ANY KIND, either express or implied.\n",
    "See the License for the specific language governing permissions and\n",
    "limitations under the License.\n",
    "\n",
    "---\n",
    "This is not an official Google product. The sample code provided for educational purposes only.\n",
    "---"
   ]
  }
 ],
 "metadata": {
  "colab": {
   "collapsed_sections": [],
   "name": "02-tfx_end_to_end",
   "provenance": [],
   "version": "0.3.2"
  },
  "kernelspec": {
   "display_name": "Python 3",
   "language": "python",
   "name": "python3"
  },
  "language_info": {
   "codemirror_mode": {
    "name": "ipython",
    "version": 3
   },
   "file_extension": ".py",
   "mimetype": "text/x-python",
   "name": "python",
   "nbconvert_exporter": "python",
   "pygments_lexer": "ipython3",
   "version": "3.5.3"
  }
 },
 "nbformat": 4,
 "nbformat_minor": 2
}
