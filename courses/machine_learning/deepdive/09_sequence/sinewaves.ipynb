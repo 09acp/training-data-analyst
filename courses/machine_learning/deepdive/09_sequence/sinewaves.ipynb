{
 "cells": [
  {
   "cell_type": "markdown",
   "metadata": {},
   "source": [
    "<h1> Time series prediction, end-to-end </h1>\n",
    "\n",
    "This notebook illustrates several models to find the next value of a time-series:\n",
    "<ol>\n",
    "<li> DNN\n",
    "<li> CNN \n",
    "<li> LSTM\n",
    "</ol>\n",
    "\n",
    "<p>"
   ]
  },
  {
   "cell_type": "code",
   "execution_count": 3,
   "metadata": {
    "collapsed": false
   },
   "outputs": [
    {
     "data": {
      "text/html": [
       "\n",
       "          <script src=\"/static/components/requirejs/require.js\"></script>\n",
       "          <script>\n",
       "            requirejs.config({\n",
       "              paths: {\n",
       "                base: '/static/base',\n",
       "              },\n",
       "            });\n",
       "          </script>\n",
       "          "
      ],
      "text/plain": [
       "<IPython.core.display.HTML object>"
      ]
     },
     "metadata": {},
     "output_type": "display_data"
    }
   ],
   "source": [
    "# change these to try this notebook out\n",
    "BUCKET = 'cloud-training-demos-ml'\n",
    "PROJECT = 'cloud-training-demos'\n",
    "REGION = 'us-central1'\n",
    "SEQ_LEN = 10"
   ]
  },
  {
   "cell_type": "code",
   "execution_count": 4,
   "metadata": {
    "collapsed": false
   },
   "outputs": [
    {
     "data": {
      "text/html": [
       "\n",
       "          <script src=\"/static/components/requirejs/require.js\"></script>\n",
       "          <script>\n",
       "            requirejs.config({\n",
       "              paths: {\n",
       "                base: '/static/base',\n",
       "              },\n",
       "            });\n",
       "          </script>\n",
       "          "
      ],
      "text/plain": [
       "<IPython.core.display.HTML object>"
      ]
     },
     "metadata": {},
     "output_type": "display_data"
    }
   ],
   "source": [
    "import os\n",
    "os.environ['BUCKET'] = BUCKET\n",
    "os.environ['PROJECT'] = PROJECT\n",
    "os.environ['REGION'] = REGION\n",
    "os.environ['SEQ_LEN'] = str(SEQ_LEN)"
   ]
  },
  {
   "cell_type": "code",
   "execution_count": 5,
   "metadata": {
    "collapsed": false
   },
   "outputs": [
    {
     "data": {
      "text/html": [
       "\n",
       "          <script src=\"/static/components/requirejs/require.js\"></script>\n",
       "          <script>\n",
       "            requirejs.config({\n",
       "              paths: {\n",
       "                base: '/static/base',\n",
       "              },\n",
       "            });\n",
       "          </script>\n",
       "          "
      ],
      "text/plain": [
       "<IPython.core.display.HTML object>"
      ]
     },
     "metadata": {},
     "output_type": "display_data"
    }
   ],
   "source": [
    "%%datalab project set -p $PROJECT"
   ]
  },
  {
   "cell_type": "markdown",
   "metadata": {},
   "source": [
    "<h3> Simulate some time-series data </h3>\n",
    "\n",
    "Essentially a set of sinusoids with random amplitudes and frequencies."
   ]
  },
  {
   "cell_type": "code",
   "execution_count": 6,
   "metadata": {
    "collapsed": false
   },
   "outputs": [
    {
     "data": {
      "text/html": [
       "\n",
       "          <script src=\"/static/components/requirejs/require.js\"></script>\n",
       "          <script>\n",
       "            requirejs.config({\n",
       "              paths: {\n",
       "                base: '/static/base',\n",
       "              },\n",
       "            });\n",
       "          </script>\n",
       "          "
      ],
      "text/plain": [
       "<IPython.core.display.HTML object>"
      ]
     },
     "metadata": {},
     "output_type": "display_data"
    },
    {
     "name": "stdout",
     "output_type": "stream",
     "text": [
      "1.2.1\n"
     ]
    }
   ],
   "source": [
    "import tensorflow as tf\n",
    "print tf.__version__"
   ]
  },
  {
   "cell_type": "code",
   "execution_count": 7,
   "metadata": {
    "collapsed": false
   },
   "outputs": [
    {
     "data": {
      "text/html": [
       "\n",
       "          <script src=\"/static/components/requirejs/require.js\"></script>\n",
       "          <script>\n",
       "            requirejs.config({\n",
       "              paths: {\n",
       "                base: '/static/base',\n",
       "              },\n",
       "            });\n",
       "          </script>\n",
       "          "
      ],
      "text/plain": [
       "<IPython.core.display.HTML object>"
      ]
     },
     "metadata": {},
     "output_type": "display_data"
    },
    {
     "data": {
      "image/png": "[encoded data removed]",
      "text/plain": [
       "<matplotlib.figure.Figure at 0x7f52f8f60250>"
      ]
     },
     "metadata": {},
     "output_type": "display_data"
    }
   ],
   "source": [
    "import numpy as np\n",
    "import seaborn as sns\n",
    "\n",
    "def create_time_series():\n",
    "  freq = (np.random.random()*0.5) + 0.1  # 0.1 to 0.6\n",
    "  ampl = np.random.random() + 0.5  # 0.5 to 1.5\n",
    "  noise = [np.random.random()*0.3 for i in xrange(SEQ_LEN)] # -0.3 to +0.3 uniformly distributed\n",
    "  x = np.sin(np.arange(0,SEQ_LEN) * freq) * ampl + noise\n",
    "  return x\n",
    "\n",
    "flatui = [\"#9b59b6\", \"#3498db\", \"#95a5a6\", \"#e74c3c\", \"#34495e\", \"#2ecc71\"]\n",
    "for i in xrange(0, 5):\n",
    "  sns.tsplot( create_time_series(), color=flatui[i%len(flatui)] );  # 5 series"
   ]
  },
  {
   "cell_type": "code",
   "execution_count": 15,
   "metadata": {
    "collapsed": false
   },
   "outputs": [
    {
     "data": {
      "text/html": [
       "\n",
       "          <script src=\"/static/components/requirejs/require.js\"></script>\n",
       "          <script>\n",
       "            requirejs.config({\n",
       "              paths: {\n",
       "                base: '/static/base',\n",
       "              },\n",
       "            });\n",
       "          </script>\n",
       "          "
      ],
      "text/plain": [
       "<IPython.core.display.HTML object>"
      ]
     },
     "metadata": {},
     "output_type": "display_data"
    }
   ],
   "source": [
    "def to_csv(filename, N):\n",
    "  with open(filename, 'w') as ofp:\n",
    "    for lineno in xrange(0, N):\n",
    "      seq = create_time_series()\n",
    "      line = \",\".join(map(str, seq))\n",
    "      ofp.write(line + '\\n')\n",
    "\n",
    "import os\n",
    "try:\n",
    "  os.makedirs('data/sines/')\n",
    "except OSError:\n",
    "  pass\n",
    "to_csv('data/sines/train-1.csv', 1000)  # 1000 sequences\n",
    "to_csv('data/sines/valid-1.csv', 50)"
   ]
  },
  {
   "cell_type": "code",
   "execution_count": null,
   "metadata": {
    "collapsed": false
   },
   "outputs": [],
   "source": [
    "!head -5 data/sines/*-1.csv"
   ]
  },
  {
   "cell_type": "markdown",
   "metadata": {},
   "source": [
    "<h3> Train model locally </h3>\n",
    "\n",
    "Make sure the code works as intended."
   ]
  },
  {
   "cell_type": "code",
   "execution_count": null,
   "metadata": {
    "collapsed": false
   },
   "outputs": [],
   "source": [
    "%bash\n",
    "# run module as-is\n",
    "DATADIR=$(pwd)/data/sines\n",
    "OUTDIR=$(pwd)/trained/sines\n",
    "echo $DATADIR $OUTDIR\n",
    "rm -rf $OUTDIR\n",
    "export PYTHONPATH=${PYTHONPATH}:${PWD}/sinemodel\n",
    "python -m trainer.task \\\n",
    "   --train_data_paths=\"${DATADIR}/train-1.csv\" \\\n",
    "   --eval_data_paths=\"${DATADIR}/valid-1.csv\"  \\\n",
    "   --output_dir=${OUTDIR} \\\n",
    "   --job-dir=./tmp \\\n",
    "   --model=lstm2 --train_steps=10 --sequence_length=$SEQ_LEN"
   ]
  },
  {
   "cell_type": "markdown",
   "metadata": {},
   "source": [
    "Try out online prediction.  This is how the REST API will work after you train on Cloud ML Engine"
   ]
  },
  {
   "cell_type": "code",
   "execution_count": null,
   "metadata": {
    "collapsed": false
   },
   "outputs": [],
   "source": [
    "%writefile data/sines/test.json\n",
    "{\"rawdata\": [0.0,0.0581188760455,0.115564075062,0.171669728857,0.225785496393,0.277284102128,0.325568606994,0.370079327735,0.410300324399]}"
   ]
  },
  {
   "cell_type": "code",
   "execution_count": null,
   "metadata": {
    "collapsed": false
   },
   "outputs": [],
   "source": [
    "%bash\n",
    "OUTDIR=$(pwd)/trained/sines\n",
    "MODEL_DIR=$OUTDIR/export/Servo/$(ls $OUTDIR/export/Servo/)\n",
    "echo $MODEL_DIR\n",
    "gcloud ml-engine local predict --model-dir=$MODEL_DIR --json-instances=data/sines/test.json"
   ]
  },
  {
   "cell_type": "markdown",
   "metadata": {},
   "source": [
    "<h3> Cloud ML Engine </h3>\n",
    "\n",
    "Now to train on Cloud ML Engine with more data."
   ]
  },
  {
   "cell_type": "code",
   "execution_count": 56,
   "metadata": {
    "collapsed": false
   },
   "outputs": [
    {
     "data": {
      "text/html": [
       "\n",
       "          <script src=\"/static/components/requirejs/require.js\"></script>\n",
       "          <script>\n",
       "            requirejs.config({\n",
       "              paths: {\n",
       "                base: '/static/base',\n",
       "              },\n",
       "            });\n",
       "          </script>\n",
       "          "
      ],
      "text/plain": [
       "<IPython.core.display.HTML object>"
      ]
     },
     "metadata": {},
     "output_type": "display_data"
    }
   ],
   "source": [
    "import shutil\n",
    "shutil.rmtree('data/sines', ignore_errors=True)\n",
    "os.makedirs('data/sines/')\n",
    "for i in xrange(0,10):\n",
    "  to_csv('data/sines/train-{}.csv'.format(i), 1000)  # 1000 sequences\n",
    "  to_csv('data/sines/valid-{}.csv'.format(i), 50)"
   ]
  },
  {
   "cell_type": "code",
   "execution_count": null,
   "metadata": {
    "collapsed": false
   },
   "outputs": [],
   "source": [
    "%bash\n",
    "gsutil -m rm -rf gs://${BUCKET}/sines/*\n",
    "gsutil -m cp data/sines/*.csv gs://${BUCKET}/sines"
   ]
  },
  {
   "cell_type": "code",
   "execution_count": null,
   "metadata": {
    "collapsed": false
   },
   "outputs": [],
   "source": [
    "%bash\n",
    "#for MODEL in cnn dnn lstm; do\n",
    "for MODEL in lstm2; do\n",
    "  OUTDIR=gs://${BUCKET}/sinewaves/$MODEL\n",
    "  JOBNAME=sines_${MODEL}_$(date -u +%y%m%d_%H%M%S)\n",
    "  REGION=us-central1\n",
    "  gsutil -m rm -rf $OUTDIR\n",
    "  gcloud ml-engine jobs submit training $JOBNAME \\\n",
    "     --region=$REGION \\\n",
    "     --module-name=trainer.task \\\n",
    "     --package-path=${PWD}/sinemodel/trainer \\\n",
    "     --job-dir=$OUTDIR \\\n",
    "     --staging-bucket=gs://$BUCKET \\\n",
    "     --scale-tier=BASIC_GPU \\\n",
    "     --runtime-version=1.2 \\\n",
    "     -- \\\n",
    "     --train_data_paths=\"gs://${BUCKET}/sines/train*.csv\" \\\n",
    "     --eval_data_paths=\"gs://${BUCKET}/sines/valid*.csv\"  \\\n",
    "     --output_dir=$OUTDIR \\\n",
    "     --train_steps=10000 --sequence_length=$SEQ_LEN --model=$MODEL\n",
    "done"
   ]
  },
  {
   "cell_type": "markdown",
   "metadata": {},
   "source": [
    "## Results\n",
    "\n",
    "When I ran it, these were the RMSEs that I got for different models:\n",
    "\n",
    "Without any noise:\n",
    "\n",
    "| Model | Sequence length | # of steps | Minutes | RMSE |\n",
    "| --- | ----| --- | --- | --- | \n",
    "| dnn | 10 | 10000 | 16 min | 0.015 |\n",
    "| cnn | 10 | 10000 | 16 min | 0.016 |\n",
    "| lstm | 10 | 10000 | 16 min | 0.045 |\n",
    "| dnn | 100 | 10000 | 20 min | 0.045 |\n",
    "| cnn | 100 | 10000 | 20 min | 0.053 |\n",
    "| lstm | 100 | 10000 | 30 min | 0.05 |\n",
    "\n",
    "With noise:\n",
    "\n",
    "| Model | Sequence length | # of steps | Minutes | RMSE |\n",
    "| --- | ----| --- | --- | --- | \n",
    "| dnn | 10 | 10000 | 16 min | 0.124 |\n",
    "| cnn | 10 | 10000 | 16 min | 0.156 |\n",
    "| lstm | 10 | 10000 | 16 min |0.131 |\n"
   ]
  },
  {
   "cell_type": "markdown",
   "metadata": {},
   "source": [
    "Copyright 2017 Google Inc. Licensed under the Apache License, Version 2.0 (the \"License\"); you may not use this file except in compliance with the License. You may obtain a copy of the License at http://www.apache.org/licenses/LICENSE-2.0 Unless required by applicable law or agreed to in writing, software distributed under the License is distributed on an \"AS IS\" BASIS, WITHOUT WARRANTIES OR CONDITIONS OF ANY KIND, either express or implied. See the License for the specific language governing permissions and limitations under the License"
   ]
  },
  {
   "cell_type": "code",
   "execution_count": null,
   "metadata": {
    "collapsed": true
   },
   "outputs": [],
   "source": []
  }
 ],
 "metadata": {
  "kernelspec": {
   "display_name": "Python 2",
   "language": "python",
   "name": "python2"
  },
  "language_info": {
   "codemirror_mode": {
    "name": "ipython",
    "version": 2
   },
   "file_extension": ".py",
   "mimetype": "text/x-python",
   "name": "python",
   "nbconvert_exporter": "python",
   "pygments_lexer": "ipython2",
   "version": "2.7.12"
  }
 },
 "nbformat": 4,
 "nbformat_minor": 2
}
