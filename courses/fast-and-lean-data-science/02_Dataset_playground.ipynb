{
 "cells": [
  {
   "cell_type": "markdown",
   "metadata": {
    "colab_type": "text",
    "id": "view-in-github"
   },
   "source": [
    "<a href=\"https://colab.research.google.com/github/GoogleCloudPlatform/training-data-analyst/blob/master/courses/fast-and-lean-data-science/02_Dataset_playground.ipynb\" target=\"_parent\"><img src=\"https://colab.research.google.com/assets/colab-badge.svg\" alt=\"Open In Colab\"/></a>"
   ]
  },
  {
   "cell_type": "markdown",
   "metadata": {
    "colab_type": "text",
    "id": "89B27-TGiDNB"
   },
   "source": [
    "## Imports"
   ]
  },
  {
   "cell_type": "code",
   "execution_count": 1,
   "metadata": {
    "colab": {
     "base_uri": "https://localhost:8080/",
     "height": 35
    },
    "colab_type": "code",
    "id": "U6rgexPXmY37",
    "outputId": "0c4f4726-544d-4b9c-b79a-99839cae92b7"
   },
   "outputs": [
    {
     "name": "stdout",
     "output_type": "stream",
     "text": [
      "Tensorflow version 1.13.1\n"
     ]
    }
   ],
   "source": [
    "import os, math\n",
    "import numpy as np\n",
    "from matplotlib import pyplot as plt\n",
    "import tensorflow as tf\n",
    "print(\"Tensorflow version \" + tf.__version__)\n",
    "#tf.enable_eager_execution()"
   ]
  },
  {
   "cell_type": "code",
   "execution_count": null,
   "metadata": {
    "cellView": "form",
    "colab": {},
    "colab_type": "code",
    "id": "MPkvHdAYNt9J"
   },
   "outputs": [],
   "source": [
    "#@title \"display utilities [RUN ME]\"\n",
    "def display_9_images_from_dataset(dataset):\n",
    "  plt.figure(figsize=(13,13))\n",
    "  subplot=331\n",
    "  for i, (image, label, one_hot_label) in enumerate(dataset):\n",
    "    plt.subplot(subplot)\n",
    "    plt.axis('off')\n",
    "    plt.imshow(image.numpy().astype(np.uint8))\n",
    "    plt.title(label.numpy().decode(\"utf-8\") + ' ' + str(one_hot_label.numpy()), fontsize=16)\n",
    "    subplot += 1\n",
    "    if i==8:\n",
    "      break\n",
    "  plt.tight_layout()\n",
    "  plt.subplots_adjust(wspace=0.1, hspace=0.1)\n",
    "  plt.show()"
   ]
  },
  {
   "cell_type": "markdown",
   "metadata": {
    "colab_type": "text",
    "id": "MSDlLsAZh_se"
   },
   "source": [
    "## Colab-only auth"
   ]
  },
  {
   "cell_type": "code",
   "execution_count": null,
   "metadata": {
    "colab": {},
    "colab_type": "code",
    "id": "5gAaIXGJmRuU"
   },
   "outputs": [],
   "source": [
    "IS_COLAB_BACKEND = 'COLAB_GPU' in os.environ  # this is always set on Colab, the value is 0 or 1 depending on GPU presence\n",
    "if IS_COLAB_BACKEND:\n",
    "  from google.colab import auth\n",
    "  auth.authenticate_user()  # not necessary to access a public bucket but you will probably want to access your private buckets too"
   ]
  },
  {
   "cell_type": "markdown",
   "metadata": {
    "colab_type": "text",
    "id": "w9S3uKC_iXY5"
   },
   "source": [
    "## Configuration"
   ]
  },
  {
   "cell_type": "code",
   "execution_count": null,
   "metadata": {
    "colab": {},
    "colab_type": "code",
    "id": "d8K6hL_kiWve"
   },
   "outputs": [],
   "source": [
    "GCS_PATTERN = 'gs://flowers-public/*/*.jpg'\n",
    "CLASSES = [b'daisy', b'dandelion', b'roses', b'sunflowers', b'tulips'] # flower labels (folder names in the data)"
   ]
  },
  {
   "cell_type": "markdown",
   "metadata": {
    "colab_type": "text",
    "id": "kvPXiovhi3ZZ"
   },
   "source": [
    "## Read images and labels [WORK REQUIRED]\n",
    "1. Use `fileset=`[`tf.data.Dataset.list_files`](https://www.tensorflow.org/api_docs/python/tf/data/Dataset#list_files) to scan the data folder\n",
    "1. Iterate through the dataset of filenames: `for filename in fileset:...` . \n",
    " * Does it work ?\n",
    " * No! But Python iteration though a Dataset works in eager mode. Enable eager mode in the first cell, restart the runtime and try again.\n",
    " * tip: to limit the size of the dataset for display, you can use [`Dataset.take()`](https://www.tensorflow.org/api_docs/python/tf/data/Dataset#take). Like this: `for data in dataset.take(10): ....`\n",
    " * It works but why are Tensors returned ? Get proper values by applying .numpy() to the tensors.\n",
    "1. Use [`tf.data.Dataset.map`](https://www.tensorflow.org/api_docs/python/tf/data/Dataset#map) to decode the JPEG files. You will find useful TF code snippets below.\n",
    " * Iterate on the image dataset. You can use .numpy().shape to only see the data sizes.\n",
    "  * Are all images of the same size ?\n",
    "1. Now create a training dataset: you have images but you also need labels:\n",
    " *  the labels (flower names) are the directory names. You will find useful TF code snippets below for parsing them.\n",
    " * If you do \"`return image, label`\" in the decoding function, you will have a Dataset of pairs (image, label).\n",
    " * The function  `decode_jpeg_and_label` in the snippets below adds a third value: the one-hot encoded label. It will be useful for training.\n",
    "1. Look at the flowers with the `display_9_images_from_dataset` function. It expects the Dataset to have `(image, label, one_hot_label)` elements.\n",
    "1. Code for iterating on a dataset in non-eager mode is also provided in the snippets below. Have a look, it is a bit more complex..."
   ]
  },
  {
   "cell_type": "code",
   "execution_count": 5,
   "metadata": {
    "colab": {
     "base_uri": "https://localhost:8080/",
     "height": 35
    },
    "colab_type": "code",
    "id": "nwsZ8X59mu24",
    "outputId": "01ae2d55-3135-4231-a79a-c372b4c89897"
   },
   "outputs": [
    {
     "name": "stdout",
     "output_type": "stream",
     "text": [
      "Pattern matches 3670 images.\n"
     ]
    }
   ],
   "source": [
    "nb_images = len(tf.gfile.Glob(GCS_PATTERN))\n",
    "print(\"Pattern matches {} images.\".format(nb_images))\n",
    "\n",
    "#\n",
    "# YOUR CODE GOES HERE\n",
    "#\n",
    "\n",
    "\n",
    "#display_9_images_from_dataset(dataset)"
   ]
  },
  {
   "cell_type": "markdown",
   "metadata": {
    "colab_type": "text",
    "id": "ZX6Vg0YZwRCP"
   },
   "source": [
    "## Useful code snippets"
   ]
  },
  {
   "cell_type": "markdown",
   "metadata": {
    "colab_type": "text",
    "id": "FszNm593wnky"
   },
   "source": [
    "### Decode a JPEG in Tensorflow"
   ]
  },
  {
   "cell_type": "code",
   "execution_count": null,
   "metadata": {
    "colab": {},
    "colab_type": "code",
    "id": "pmPz2WM2wTbS"
   },
   "outputs": [],
   "source": [
    "def decode_jpeg(filename):\n",
    "  bits = tf.read_file(filename)\n",
    "  image = tf.image.decode_jpeg(bits)\n",
    "  return image"
   ]
  },
  {
   "cell_type": "markdown",
   "metadata": {
    "colab_type": "text",
    "id": "Dax9B6W7wuxt"
   },
   "source": [
    "### Decode a JPEG and extract folder name in TF"
   ]
  },
  {
   "cell_type": "code",
   "execution_count": null,
   "metadata": {
    "colab": {},
    "colab_type": "code",
    "id": "kPhQl3BlxB7D"
   },
   "outputs": [],
   "source": [
    "def decode_jpeg_and_label(filename):\n",
    "  bits = tf.read_file(filename)\n",
    "  image = tf.image.decode_jpeg(bits)\n",
    "  label = tf.strings.split(tf.expand_dims(filename, axis=-1), sep='/')\n",
    "  label = label.values[-2]\n",
    "  one_hot_label = tf.tile(tf.expand_dims(label, axis=-1), [len(CLASSES)])\n",
    "  one_hot_label = tf.cast(tf.math.equal(one_hot_label, CLASSES), tf.uint8)\n",
    "  return image, label, one_hot_label"
   ]
  },
  {
   "cell_type": "markdown",
   "metadata": {
    "colab_type": "text",
    "id": "fG9ctQ84wWHo"
   },
   "source": [
    "### Read from dataset in non-eager mode"
   ]
  },
  {
   "cell_type": "code",
   "execution_count": null,
   "metadata": {
    "colab": {},
    "colab_type": "code",
    "id": "lkegOfvWMrxb"
   },
   "outputs": [],
   "source": [
    "assert not tf.executing_eagerly(), \"This cell will only work in non-eager mode\"\n",
    "\n",
    "next_data_item = dataset.make_one_shot_iterator().get_next()\n",
    "with tf.Session() as ses:\n",
    "  while True:\n",
    "    try:\n",
    "      image, label, one_hot_label = ses.run(next_data_item)\n",
    "      # ses.run returns numpy data\n",
    "      print(image.shape, label, one_hot_label)\n",
    "    except tf.errors.OutOfRangeError:\n",
    "      print(\"the end\")\n",
    "      break;"
   ]
  },
  {
   "cell_type": "markdown",
   "metadata": {},
   "source": [
    "## License\n",
    "\n",
    "\n",
    "\n",
    "---\n",
    "\n",
    "\n",
    "author: Martin Gorner<br>\n",
    "twitter: @martin_gorner\n",
    "\n",
    "\n",
    "---\n",
    "\n",
    "\n",
    "Copyright 2019 Google LLC\n",
    "\n",
    "Licensed under the Apache License, Version 2.0 (the \"License\");\n",
    "you may not use this file except in compliance with the License.\n",
    "You may obtain a copy of the License at\n",
    "\n",
    "    http://www.apache.org/licenses/LICENSE-2.0\n",
    "\n",
    "Unless required by applicable law or agreed to in writing, software\n",
    "distributed under the License is distributed on an \"AS IS\" BASIS,\n",
    "WITHOUT WARRANTIES OR CONDITIONS OF ANY KIND, either express or implied.\n",
    "See the License for the specific language governing permissions and\n",
    "limitations under the License.\n",
    "\n",
    "\n",
    "---\n",
    "\n",
    "\n",
    "This is not an official Google product but sample code provided for an educational purpose\n"
   ]
  }
 ],
 "metadata": {
  "colab": {
   "collapsed_sections": [],
   "include_colab_link": true,
   "name": "Fun with tf.data.Dataset (playground).ipynb",
   "provenance": [],
   "version": "0.3.2"
  },
  "kernelspec": {
   "display_name": "Python 3",
   "language": "python",
   "name": "python3"
  },
  "language_info": {
   "codemirror_mode": {
    "name": "ipython",
    "version": 3
   },
   "file_extension": ".py",
   "mimetype": "text/x-python",
   "name": "python",
   "nbconvert_exporter": "python",
   "pygments_lexer": "ipython3",
   "version": "3.5.3"
  }
 },
 "nbformat": 4,
 "nbformat_minor": 2
}
