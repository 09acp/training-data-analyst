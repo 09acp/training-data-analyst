{
 "cells": [
  {
   "cell_type": "markdown",
   "metadata": {},
   "source": [
    "# Scaling up ML using Cloud ML Engine\n",
    "\n",
    "In this notebook, we take a previously developed TensorFlow model to predict taxifare rides and package it up so that it can be run in Cloud MLE. For now, we'll run this on a small dataset. The model that was developed is rather simplistic, and therefore, the accuracy of the model is not great either.  However, this notebook illustrates *how* to package up a TensorFlow model to run it within Cloud ML. \n",
    "\n",
    "Later in the course, we will look at ways to make a more effective machine learning model."
   ]
  },
  {
   "cell_type": "markdown",
   "metadata": {},
   "source": [
    "## Environment variables for project and bucket\n",
    "\n",
    "Note that:\n",
    "<ol>\n",
    "<li> Your project id is the *unique* string that identifies your project (not the project name). You can find this from the GCP Console dashboard's Home page.  My dashboard reads:  <b>Project ID:</b> cloud-training-demos </li>\n",
    "<li> Cloud training often involves saving and restoring model files. If you don't have a bucket already, I suggest that you create one from the GCP console (because it will dynamically check whether the bucket name you want is available). A common pattern is to prefix the bucket name by the project id, so that it is unique. Also, for cost reasons, you might want to use a single region bucket. </li>\n",
    "</ol>\n",
    "<b>Change the cell below</b> to reflect your Project ID and bucket name.\n"
   ]
  },
  {
   "cell_type": "code",
   "execution_count": 79,
   "metadata": {},
   "outputs": [],
   "source": [
    "# orig\n",
    "#import os\n",
    "#PROJECT = 'cloud-training-demos' # REPLACE WITH YOUR PROJECT ID\n",
    "#BUCKET = 'cloud-training-demos-ml' # REPLACE WITH YOUR BUCKET NAME\n",
    "#REGION = 'us-central1' # REPLACE WITH YOUR BUCKET REGION e.g. us-central1"
   ]
  },
  {
   "cell_type": "code",
   "execution_count": 103,
   "metadata": {},
   "outputs": [],
   "source": [
    "import os\n",
    "PROJECT = 'netskink-tda-test' # REPLACE WITH YOUR PROJECT ID\n",
    "BUCKET = 'bucket-netskink-tda' # REPLACE WITH YOUR BUCKET NAME\n",
    "REGION = 'us-east1' # REPLACE WITH YOUR BUCKET REGION e.g. us-central1"
   ]
  },
  {
   "cell_type": "code",
   "execution_count": 116,
   "metadata": {},
   "outputs": [],
   "source": [
    "# For Python Code\n",
    "# Model Info\n",
    "MODEL_NAME = 'taxifare'\n",
    "# Model Version\n",
    "MODEL_VERSION = 'v1'\n",
    "# Training Directory name\n",
    "TRAINING_DIR = 'taxi_trained'"
   ]
  },
  {
   "cell_type": "code",
   "execution_count": 105,
   "metadata": {},
   "outputs": [],
   "source": [
    "# For Bash Code\n",
    "os.environ['PROJECT'] = PROJECT\n",
    "os.environ['BUCKET'] = BUCKET\n",
    "os.environ['REGION'] = REGION\n",
    "os.environ['MODEL_NAME'] = MODEL_NAME\n",
    "os.environ['MODEL_VERSION'] = MODEL_VERSION\n",
    "os.environ['TRAINING_DIR'] = TRAINING_DIR \n",
    "os.environ['TFVERSION'] = '1.8'  # Tensorflow version"
   ]
  },
  {
   "cell_type": "code",
   "execution_count": 106,
   "metadata": {},
   "outputs": [
    {
     "name": "stderr",
     "output_type": "stream",
     "text": [
      "Updated property [core/project].\n",
      "Updated property [compute/region].\n"
     ]
    }
   ],
   "source": [
    "%%bash\n",
    "gcloud config set project $PROJECT\n",
    "gcloud config set compute/region $REGION"
   ]
  },
  {
   "cell_type": "markdown",
   "metadata": {},
   "source": [
    "### Create the bucket to store model and training data for deploying to Google Cloud Machine Learning Engine Component"
   ]
  },
  {
   "cell_type": "code",
   "execution_count": 109,
   "metadata": {},
   "outputs": [
    {
     "name": "stderr",
     "output_type": "stream",
     "text": [
      "Creating gs://bucket-netskink-tda/...\n",
      "ServiceException: 409 Bucket bucket-netskink-tda already exists.\n"
     ]
    }
   ],
   "source": [
    "%%bash\n",
    "# The bucket needs to exist for the gsutil commands in next cell to work\n",
    "gsutil mb -p ${PROJECT} gs://${BUCKET}"
   ]
  },
  {
   "cell_type": "markdown",
   "metadata": {},
   "source": [
    "### Enable the Cloud Machine Learning Engine API"
   ]
  },
  {
   "cell_type": "markdown",
   "metadata": {},
   "source": [
    "The next command works with Cloud Machine Learning Engine API.  In order for the command to work, you must enable the API using the Cloud Console UI.   Use this [link.](https://console.cloud.google.com/project/_/apis/library)  Then search the API list for Cloud Machine Learning and enable the API before executing the next cell."
   ]
  },
  {
   "cell_type": "markdown",
   "metadata": {},
   "source": [
    "Allow the Cloud ML Engine service account to read/write to the bucket containing training data."
   ]
  },
  {
   "cell_type": "code",
   "execution_count": 110,
   "metadata": {},
   "outputs": [
    {
     "name": "stdout",
     "output_type": "stream",
     "text": [
      "Getting the service account email associated with the Cloud Machine Learning Engine API\n",
      "Authorizing the Cloud ML Service account service-35462102002@cloud-ml.google.com.iam.gserviceaccount.com to access files in bucket-netskink-tda\n"
     ]
    },
    {
     "name": "stderr",
     "output_type": "stream",
     "text": [
      "  % Total    % Received % Xferd  Average Speed   Time    Time     Time  Current\n",
      "                                 Dload  Upload   Total   Spent    Left  Speed\n",
      "\r",
      "  0     0    0     0    0     0      0      0 --:--:-- --:--:-- --:--:--     0\r",
      "100   234    0   234    0     0    571      0 --:--:-- --:--:-- --:--:--   572\n",
      "No changes to gs://bucket-netskink-tda/\n",
      "No changes to gs://bucket-netskink-tda/lab3a_180825_195721/a6dba85e913b5979eff2abd828a425377296b48df267c379495b7447056b8091/trainer-0.0.0.tar.gz\n",
      "No changes to gs://bucket-netskink-tda/taxifare/smallinput/taxi-test.csv\n",
      "No changes to gs://bucket-netskink-tda/taxifare/smallinput/taxi-train.csv\n",
      "No changes to gs://bucket-netskink-tda/taxifare/smallinput/taxi-valid.csv\n",
      "Updated ACL on gs://bucket-netskink-tda/taxifare/smallinput/taxi_trained/checkpoint\n",
      "Updated ACL on gs://bucket-netskink-tda/taxifare/smallinput/taxi_trained/eval/\n",
      "Updated ACL on gs://bucket-netskink-tda/taxifare/smallinput/taxi_trained/eval/events.out.tfevents.1535227174.cmle-training-2456431379930155488\n",
      "Updated ACL on gs://bucket-netskink-tda/taxifare/smallinput/taxi_trained/\n",
      "Updated ACL on gs://bucket-netskink-tda/taxifare/smallinput/taxi_trained/events.out.tfevents.1535227160.cmle-training-2456431379930155488\n",
      "Updated ACL on gs://bucket-netskink-tda/taxifare/smallinput/taxi_trained/export/exporter/\n",
      "Updated ACL on gs://bucket-netskink-tda/taxifare/smallinput/taxi_trained/export/exporter/1535227175/\n",
      "Updated ACL on gs://bucket-netskink-tda/taxifare/smallinput/taxi_trained/export/exporter/1535227175/saved_model.pb\n",
      "Updated ACL on gs://bucket-netskink-tda/taxifare/smallinput/taxi_trained/export/exporter/1535227175/variables/\n",
      "Updated ACL on gs://bucket-netskink-tda/taxifare/smallinput/taxi_trained/export/exporter/1535227175/variables/variables.data-00000-of-00001\n",
      "Updated ACL on gs://bucket-netskink-tda/taxifare/smallinput/taxi_trained/export/exporter/1535227590/\n",
      "Updated ACL on gs://bucket-netskink-tda/taxifare/smallinput/taxi_trained/export/exporter/1535227175/variables/variables.index\n",
      "Updated ACL on gs://bucket-netskink-tda/taxifare/smallinput/taxi_trained/export/exporter/1535227590/variables/\n",
      "Updated ACL on gs://bucket-netskink-tda/taxifare/smallinput/taxi_trained/export/exporter/1535227590/saved_model.pb\n",
      "Updated ACL on gs://bucket-netskink-tda/taxifare/smallinput/taxi_trained/export/\n",
      "Updated ACL on gs://bucket-netskink-tda/taxifare/smallinput/taxi_trained/export/exporter/1535227590/variables/variables.index\n",
      "Updated ACL on gs://bucket-netskink-tda/taxifare/smallinput/taxi_trained/export/exporter/1535227590/variables/variables.data-00000-of-00001\n",
      "Updated ACL on gs://bucket-netskink-tda/taxifare/smallinput/taxi_trained/model.ckpt-1.data-00000-of-00001\n",
      "Updated ACL on gs://bucket-netskink-tda/taxifare/smallinput/taxi_trained/model.ckpt-1.index\n",
      "Updated ACL on gs://bucket-netskink-tda/taxifare/smallinput/taxi_trained/graph.pbtxt\n",
      "Updated ACL on gs://bucket-netskink-tda/taxifare/smallinput/taxi_trained/model.ckpt-1.meta\n",
      "Updated ACL on gs://bucket-netskink-tda/taxifare/smallinput/taxi_trained/model.ckpt-10000.index\n",
      "Updated ACL on gs://bucket-netskink-tda/taxifare/smallinput/taxi_trained/model.ckpt-10000.data-00000-of-00001\n",
      "Updated ACL on gs://bucket-netskink-tda/taxifare/smallinput/taxi_trained/model.ckpt-10000.meta\n",
      "No changes to gs://bucket-netskink-tda/\n"
     ]
    }
   ],
   "source": [
    "%%bash\n",
    "# This command will fail if the Cloud Machine Learning Engine API is not enabled using the link above.\n",
    "echo \"Getting the service account email associated with the Cloud Machine Learning Engine API\"\n",
    "\n",
    "AUTH_TOKEN=$(gcloud auth print-access-token)\n",
    "SVC_ACCOUNT=$(curl -X GET -H \"Content-Type: application/json\" \\\n",
    "    -H \"Authorization: Bearer $AUTH_TOKEN\" \\\n",
    "    https://ml.googleapis.com/v1/projects/${PROJECT}:getConfig \\\n",
    "    | python -c \"import json; import sys; response = json.load(sys.stdin); \\\n",
    "    print response['serviceAccount']\")  # If this command fails, the Cloud Machine Learning Engine API has not been enabled above.\n",
    "\n",
    "echo \"Authorizing the Cloud ML Service account $SVC_ACCOUNT to access files in $BUCKET\"\n",
    "gsutil -m defacl ch -u $SVC_ACCOUNT:R gs://$BUCKET   \n",
    "gsutil -m acl ch -u $SVC_ACCOUNT:R -r gs://$BUCKET   # error message (if bucket is empty) can be ignored.  \n",
    "gsutil -m acl ch -u $SVC_ACCOUNT:W gs://$BUCKET      "
   ]
  },
  {
   "cell_type": "markdown",
   "metadata": {},
   "source": [
    "<h2> Packaging up the code </h2>\n",
    "\n",
    "Take your code and put into a standard Python package structure.  <a href=\"taxifare/trainer/model.py\">model.py</a> and <a href=\"taxifare/trainer/task.py\">task.py</a> containing the Tensorflow code from earlier (explore the <a href=\"taxifare/trainer/\">directory structure</a>)."
   ]
  },
  {
   "cell_type": "code",
   "execution_count": 112,
   "metadata": {},
   "outputs": [
    {
     "name": "stdout",
     "output_type": "stream",
     "text": [
      "taxifare\n",
      "taxifare/trainer\n",
      "taxifare/trainer/model.py\n",
      "taxifare/trainer/model.pyc\n",
      "taxifare/trainer/__init__.py\n",
      "taxifare/trainer/task.py\n",
      "taxifare/trainer/__init__.pyc\n"
     ]
    }
   ],
   "source": [
    "%%bash\n",
    "find ${MODEL_NAME}"
   ]
  },
  {
   "cell_type": "code",
   "execution_count": 113,
   "metadata": {},
   "outputs": [
    {
     "name": "stdout",
     "output_type": "stream",
     "text": [
      "#!/usr/bin/env python\n",
      "\n",
      "# Copyright 2017 Google Inc. All Rights Reserved.\n",
      "#\n",
      "# Licensed under the Apache License, Version 2.0 (the \"License\");\n",
      "# you may not use this file except in compliance with the License.\n",
      "# You may obtain a copy of the License at\n",
      "#\n",
      "#      http://www.apache.org/licenses/LICENSE-2.0\n",
      "#\n",
      "# Unless required by applicable law or agreed to in writing, software\n",
      "# distributed under the License is distributed on an \"AS IS\" BASIS,\n",
      "# WITHOUT WARRANTIES OR CONDITIONS OF ANY KIND, either express or implied.\n",
      "# See the License for the specific language governing permissions and\n",
      "# limitations under the License.\n",
      "\n",
      "from __future__ import absolute_import\n",
      "from __future__ import division\n",
      "from __future__ import print_function\n",
      "\n",
      "import tensorflow as tf\n",
      "import numpy as np\n",
      "import shutil\n",
      "\n",
      "tf.logging.set_verbosity(tf.logging.INFO)\n",
      "\n",
      "# List the CSV columns\n",
      "CSV_COLUMNS = ['fare_amount', 'pickuplon','pickuplat','dropofflon','dropofflat','passengers', 'key']\n",
      "\n",
      "#Choose which column is your label\n",
      "LABEL_COLUMN = 'fare_amount'\n",
      "\n",
      "# Set the default values for each CSV column in case there is a missing value\n",
      "DEFAULTS = [[0.0], [-74.0], [40.0], [-74.0], [40.7], [1.0], ['nokey']]\n",
      "\n",
      "# Create an input function that stores your data into a dataset\n",
      "def read_dataset(filename, mode, batch_size = 512):\n",
      "    def _input_fn():\n",
      "        def decode_csv(value_column):\n",
      "            columns = tf.decode_csv(value_column, record_defaults = DEFAULTS)\n",
      "            features = dict(zip(CSV_COLUMNS, columns))\n",
      "            label = features.pop(LABEL_COLUMN)\n",
      "            return features, label\n",
      "    \n",
      "        # Create list of files that match pattern\n",
      "        file_list = tf.gfile.Glob(filename)\n",
      "\n",
      "        # Create dataset from file list\n",
      "        dataset = tf.data.TextLineDataset(file_list).map(decode_csv)\n",
      "        \n",
      "        if mode == tf.estimator.ModeKeys.TRAIN:\n",
      "            num_epochs = None # indefinitely\n",
      "            dataset = dataset.shuffle(buffer_size = 10 * batch_size)\n",
      "        else:\n",
      "            num_epochs = 1 # end-of-input after this\n",
      "\n",
      "        dataset = dataset.repeat(num_epochs).batch(batch_size)\n",
      "        return dataset.make_one_shot_iterator().get_next()\n",
      "    return _input_fn\n",
      "\n",
      "# Define your feature columns\n",
      "INPUT_COLUMNS = [\n",
      "    tf.feature_column.numeric_column('pickuplon'),\n",
      "    tf.feature_column.numeric_column('pickuplat'),\n",
      "    tf.feature_column.numeric_column('dropofflat'),\n",
      "    tf.feature_column.numeric_column('dropofflon'),\n",
      "    tf.feature_column.numeric_column('passengers'),\n",
      "]\n",
      "\n",
      "# Create a function that will augment your feature set\n",
      "def add_more_features(feats):\n",
      "    # Nothing to add (yet!)\n",
      "    return feats\n",
      "\n",
      "feature_cols = add_more_features(INPUT_COLUMNS)\n",
      "\n",
      "# Create your serving input function so that your trained model will be able to serve predictions\n",
      "def serving_input_fn():\n",
      "    feature_placeholders = {\n",
      "        column.name: tf.placeholder(tf.float32, [None]) for column in INPUT_COLUMNS\n",
      "    }\n",
      "\n",
      "    features = feature_placeholders\n",
      "    return tf.estimator.export.ServingInputReceiver(features, feature_placeholders)\n",
      "\n",
      "# Create an estimator that we are going to train and evaluate\n",
      "def train_and_evaluate(args):\n",
      "    estimator = tf.estimator.DNNRegressor(\n",
      "        model_dir = args['output_dir'],\n",
      "        feature_columns = feature_cols,\n",
      "        hidden_units = args['hidden_units'])\n",
      "    train_spec = tf.estimator.TrainSpec(\n",
      "        input_fn = read_dataset(args['train_data_paths'],\n",
      "                                batch_size = args['train_batch_size'],\n",
      "                                mode = tf.estimator.ModeKeys.TRAIN),\n",
      "        max_steps = args['train_steps'])\n",
      "    exporter = tf.estimator.LatestExporter('exporter', serving_input_fn)\n",
      "    eval_spec = tf.estimator.EvalSpec(\n",
      "        input_fn = read_dataset(args['eval_data_paths'],\n",
      "                                batch_size = 10000,\n",
      "                                mode = tf.estimator.ModeKeys.EVAL),\n",
      "        steps = None,\n",
      "        start_delay_secs = args['eval_delay_secs'],\n",
      "        throttle_secs = args['min_eval_frequency'],\n",
      "        exporters = exporter)\n",
      "    tf.estimator.train_and_evaluate(estimator, train_spec, eval_spec)"
     ]
    }
   ],
   "source": [
    "%%bash\n",
    "cat ${MODEL_NAME}/trainer/model.py"
   ]
  },
  {
   "cell_type": "markdown",
   "metadata": {},
   "source": [
    "<h2> Find absolute paths to your data </h2>"
   ]
  },
  {
   "cell_type": "markdown",
   "metadata": {},
   "source": [
    "Note the absolute paths below. /content is mapped in Datalab to where the home icon takes you"
   ]
  },
  {
   "cell_type": "code",
   "execution_count": 118,
   "metadata": {},
   "outputs": [
    {
     "name": "stdout",
     "output_type": "stream",
     "text": [
      "/content/datalab/notebooks/training-data-analyst/courses/machine_learning/deepdive/03_tensorflow\n"
     ]
    },
    {
     "name": "stderr",
     "output_type": "stream",
     "text": [
      "shell-init: error retrieving current directory: getcwd: cannot access parent directories: No such file or directory\n",
      "head: cannot open '/content/datalab/notebooks/training-data-analyst/courses/machine_learning/deepdive/03_tensorflow/taxi-train.csv' for reading: No such file or directory\n",
      "head: cannot open '/content/datalab/notebooks/training-data-analyst/courses/machine_learning/deepdive/03_tensorflow/taxi-valid.csv' for reading: No such file or directory\n"
     ]
    }
   ],
   "source": [
    "%%bash\n",
    "echo $PWD\n",
    "rm -rf $PWD/${TRAINING_DIR}\n",
    "head -1 $PWD/taxi-train.csv\n",
    "head -1 $PWD/taxi-valid.csv"
   ]
  },
  {
   "cell_type": "markdown",
   "metadata": {},
   "source": [
    "<h2> Running the Python module from the command-line </h2>"
   ]
  },
  {
   "cell_type": "markdown",
   "metadata": {},
   "source": [
    "<h4> Monitor using Tensorboard </h4>"
   ]
  },
  {
   "cell_type": "code",
   "execution_count": 69,
   "metadata": {},
   "outputs": [
    {
     "data": {
      "text/html": [
       "<p>TensorBoard was started successfully with pid 11806. Click <a href=\"/_proxy/36299/\" target=\"_blank\">here</a> to access it.</p>"
      ]
     },
     "metadata": {},
     "output_type": "display_data"
    },
    {
     "data": {
      "text/plain": [
       "11806"
      ]
     },
     "execution_count": 69,
     "metadata": {},
     "output_type": "execute_result"
    }
   ],
   "source": [
    "from google.datalab.ml import TensorBoard\n",
    "TensorBoard().start('./taxi_trained')"
   ]
  },
  {
   "cell_type": "code",
   "execution_count": 70,
   "metadata": {},
   "outputs": [
    {
     "name": "stderr",
     "output_type": "stream",
     "text": [
      "/usr/local/envs/py2env/lib/python2.7/site-packages/h5py/__init__.py:36: FutureWarning: Conversion of the second argument of issubdtype from `float` to `np.floating` is deprecated. In future, it will be treated as `np.float64 == np.dtype(float).type`.\n",
      "  from ._conv import register_converters as _register_converters\n",
      "INFO:tensorflow:Using default config.\n",
      "INFO:tensorflow:Using config: {'_save_checkpoints_secs': 600, '_session_config': None, '_keep_checkpoint_max': 5, '_task_type': 'worker', '_train_distribute': None, '_is_chief': True, '_cluster_spec': <tensorflow.python.training.server_lib.ClusterSpec object at 0x7fa918e33610>, '_evaluation_master': '', '_save_checkpoints_steps': None, '_keep_checkpoint_every_n_hours': 10000, '_service': None, '_num_ps_replicas': 0, '_tf_random_seed': None, '_master': '', '_num_worker_replicas': 1, '_task_id': 0, '_log_step_count_steps': 100, '_model_dir': '/content/datalab/notebooks/training-data-analyst/courses/machine_learning/deepdive/03_tensorflow/taxi_trained', '_global_id_in_cluster': 0, '_save_summary_steps': 100}\n",
      "INFO:tensorflow:Running training and evaluation locally (non-distributed).\n",
      "INFO:tensorflow:Start train and evaluate loop. The evaluate will happen after 300 secs (eval_spec.throttle_secs) or training is finished.\n",
      "INFO:tensorflow:Calling model_fn.\n",
      "INFO:tensorflow:Done calling model_fn.\n",
      "INFO:tensorflow:Create CheckpointSaverHook.\n",
      "INFO:tensorflow:Graph was finalized.\n",
      "2018-08-25 19:42:47.117459: I tensorflow/core/platform/cpu_feature_guard.cc:140] Your CPU supports instructions that this TensorFlow binary was not compiled to use: AVX2 FMA\n",
      "INFO:tensorflow:Running local_init_op.\n",
      "INFO:tensorflow:Done running local_init_op.\n",
      "INFO:tensorflow:Saving checkpoints for 1 into /content/datalab/notebooks/training-data-analyst/courses/machine_learning/deepdive/03_tensorflow/taxi_trained/model.ckpt.\n",
      "INFO:tensorflow:loss = 92604.19, step = 1\n",
      "INFO:tensorflow:global_step/sec: 37.4142\n",
      "INFO:tensorflow:loss = 100305.19, step = 101 (2.676 sec)\n",
      "INFO:tensorflow:global_step/sec: 36.6886\n",
      "INFO:tensorflow:loss = 92114.08, step = 201 (2.723 sec)\n",
      "INFO:tensorflow:global_step/sec: 38.7069\n",
      "INFO:tensorflow:loss = 81759.28, step = 301 (2.583 sec)\n",
      "INFO:tensorflow:global_step/sec: 34.4766\n",
      "INFO:tensorflow:loss = 104868.016, step = 401 (2.901 sec)\n",
      "INFO:tensorflow:global_step/sec: 37.1651\n",
      "INFO:tensorflow:loss = 101838.91, step = 501 (2.691 sec)\n",
      "INFO:tensorflow:global_step/sec: 41.5425\n",
      "INFO:tensorflow:loss = 77627.72, step = 601 (2.407 sec)\n",
      "INFO:tensorflow:global_step/sec: 38.6711\n",
      "INFO:tensorflow:loss = 59558.242, step = 701 (2.586 sec)\n",
      "INFO:tensorflow:global_step/sec: 41.8483\n",
      "INFO:tensorflow:loss = 73775.39, step = 801 (2.389 sec)\n",
      "INFO:tensorflow:global_step/sec: 36.4777\n",
      "INFO:tensorflow:loss = 74596.26, step = 901 (2.741 sec)\n",
      "INFO:tensorflow:Saving checkpoints for 1000 into /content/datalab/notebooks/training-data-analyst/courses/machine_learning/deepdive/03_tensorflow/taxi_trained/model.ckpt.\n",
      "INFO:tensorflow:Loss for final step: 77956.2.\n",
      "INFO:tensorflow:Calling model_fn.\n",
      "INFO:tensorflow:Done calling model_fn.\n",
      "INFO:tensorflow:Starting evaluation at 2018-08-25-19:43:14\n",
      "INFO:tensorflow:Graph was finalized.\n",
      "INFO:tensorflow:Restoring parameters from /content/datalab/notebooks/training-data-analyst/courses/machine_learning/deepdive/03_tensorflow/taxi_trained/model.ckpt-1000\n",
      "INFO:tensorflow:Running local_init_op.\n",
      "INFO:tensorflow:Done running local_init_op.\n",
      "INFO:tensorflow:Finished evaluation at 2018-08-25-19:43:14\n",
      "INFO:tensorflow:Saving dict for global step 1000: average_loss = 189.88226, global_step = 1000, loss = 316153.97\n",
      "INFO:tensorflow:Calling model_fn.\n",
      "INFO:tensorflow:Done calling model_fn.\n",
      "INFO:tensorflow:Signatures INCLUDED in export for Classify: None\n",
      "INFO:tensorflow:Signatures INCLUDED in export for Regress: None\n",
      "INFO:tensorflow:Signatures INCLUDED in export for Predict: ['predict']\n",
      "INFO:tensorflow:Signatures EXCLUDED from export because they cannot be be served via TensorFlow Serving APIs:\n",
      "INFO:tensorflow:'serving_default' : Regression input must be a single string Tensor; got {'passengers': <tf.Tensor 'Placeholder_4:0' shape=(?,) dtype=float32>, 'pickuplon': <tf.Tensor 'Placeholder:0' shape=(?,) dtype=float32>, 'dropofflon': <tf.Tensor 'Placeholder_3:0' shape=(?,) dtype=float32>, 'pickuplat': <tf.Tensor 'Placeholder_1:0' shape=(?,) dtype=float32>, 'dropofflat': <tf.Tensor 'Placeholder_2:0' shape=(?,) dtype=float32>}\n",
      "INFO:tensorflow:'regression' : Regression input must be a single string Tensor; got {'passengers': <tf.Tensor 'Placeholder_4:0' shape=(?,) dtype=float32>, 'pickuplon': <tf.Tensor 'Placeholder:0' shape=(?,) dtype=float32>, 'dropofflon': <tf.Tensor 'Placeholder_3:0' shape=(?,) dtype=float32>, 'pickuplat': <tf.Tensor 'Placeholder_1:0' shape=(?,) dtype=float32>, 'dropofflat': <tf.Tensor 'Placeholder_2:0' shape=(?,) dtype=float32>}\n",
      "WARNING:tensorflow:Export includes no default signature!\n",
      "INFO:tensorflow:Restoring parameters from /content/datalab/notebooks/training-data-analyst/courses/machine_learning/deepdive/03_tensorflow/taxi_trained/model.ckpt-1000\n",
      "INFO:tensorflow:Assets added to graph.\n",
      "INFO:tensorflow:No assets to write.\n",
      "INFO:tensorflow:SavedModel written to: /content/datalab/notebooks/training-data-analyst/courses/machine_learning/deepdive/03_tensorflow/taxi_trained/export/exporter/temp-1535226194/saved_model.pb\n"
     ]
    }
   ],
   "source": [
    "%%bash\n",
    "rm -rf taxifare.tar.gz taxi_trained\n",
    "export PYTHONPATH=${PYTHONPATH}:${PWD}/taxifare\n",
    "python -m trainer.task \\\n",
    "   --train_data_paths=\"${PWD}/taxi-train*\" \\\n",
    "   --eval_data_paths=${PWD}/taxi-valid.csv  \\\n",
    "   --output_dir=${PWD}/taxi_trained \\\n",
    "   --train_steps=1000 --job-dir=./tmp"
   ]
  },
  {
   "cell_type": "code",
   "execution_count": 71,
   "metadata": {},
   "outputs": [
    {
     "name": "stdout",
     "output_type": "stream",
     "text": [
      "1535226194\n"
     ]
    }
   ],
   "source": [
    "%%bash\n",
    "ls $PWD/taxi_trained/export/exporter/"
   ]
  },
  {
   "cell_type": "code",
   "execution_count": 72,
   "metadata": {},
   "outputs": [
    {
     "name": "stdout",
     "output_type": "stream",
     "text": [
      "Overwriting ./test.json\n"
     ]
    }
   ],
   "source": [
    "%%writefile ./test.json\n",
    "{\"pickuplon\": -73.885262,\"pickuplat\": 40.773008,\"dropofflon\": -73.987232,\"dropofflat\": 40.732403,\"passengers\": 2}"
   ]
  },
  {
   "cell_type": "code",
   "execution_count": 73,
   "metadata": {},
   "outputs": [
    {
     "name": "stdout",
     "output_type": "stream",
     "text": [
      "PREDICTIONS\n",
      "[2.6607282161712646]\n"
     ]
    },
    {
     "name": "stderr",
     "output_type": "stream",
     "text": [
      "WARNING: /usr/local/envs/py2env/lib/python2.7/site-packages/h5py/__init__.py:36: FutureWarning: Conversion of the second argument of issubdtype from `float` to `np.floating` is deprecated. In future, it will be treated as `np.float64 == np.dtype(float).type`.\n",
      "  from ._conv import register_converters as _register_converters\n",
      "2018-08-25 19:43:18.265846: I tensorflow/core/platform/cpu_feature_guard.cc:140] Your CPU supports instructions that this TensorFlow binary was not compiled to use: AVX2 FMA\n",
      "\n"
     ]
    }
   ],
   "source": [
    "%%bash\n",
    "model_dir=$(ls ${PWD}/taxi_trained/export/exporter)\n",
    "gcloud ml-engine local predict \\\n",
    "    --model-dir=${PWD}/taxi_trained/export/exporter/${model_dir} \\\n",
    "    --json-instances=./test.json"
   ]
  },
  {
   "cell_type": "markdown",
   "metadata": {},
   "source": [
    "<h2> Running locally using gcloud </h2>"
   ]
  },
  {
   "cell_type": "code",
   "execution_count": 74,
   "metadata": {},
   "outputs": [
    {
     "name": "stderr",
     "output_type": "stream",
     "text": [
      "/usr/local/envs/py2env/lib/python2.7/site-packages/h5py/__init__.py:36: FutureWarning: Conversion of the second argument of issubdtype from `float` to `np.floating` is deprecated. In future, it will be treated as `np.float64 == np.dtype(float).type`.\n",
      "  from ._conv import register_converters as _register_converters\n",
      "INFO:tensorflow:TF_CONFIG environment variable: {u'environment': u'cloud', u'cluster': {}, u'job': {u'args': [u'--train_data_paths=/content/datalab/notebooks/training-data-analyst/courses/machine_learning/deepdive/03_tensorflow/taxi-train.csv', u'--eval_data_paths=/content/datalab/notebooks/training-data-analyst/courses/machine_learning/deepdive/03_tensorflow/taxi-valid.csv', u'--train_steps=1000', u'--output_dir=/content/datalab/notebooks/training-data-analyst/courses/machine_learning/deepdive/03_tensorflow/taxi_trained'], u'job_name': u'trainer.task'}, u'task': {}}\n",
      "INFO:tensorflow:Using default config.\n",
      "INFO:tensorflow:Using config: {'_save_checkpoints_secs': 600, '_session_config': None, '_keep_checkpoint_max': 5, '_task_type': 'worker', '_train_distribute': None, '_is_chief': True, '_cluster_spec': <tensorflow.python.training.server_lib.ClusterSpec object at 0x7f9dbb3a5a90>, '_evaluation_master': '', '_save_checkpoints_steps': None, '_keep_checkpoint_every_n_hours': 10000, '_service': None, '_num_ps_replicas': 0, '_tf_random_seed': None, '_master': '', '_num_worker_replicas': 1, '_task_id': 0, '_log_step_count_steps': 100, '_model_dir': '/content/datalab/notebooks/training-data-analyst/courses/machine_learning/deepdive/03_tensorflow/taxi_trained', '_global_id_in_cluster': 0, '_save_summary_steps': 100}\n",
      "INFO:tensorflow:Running training and evaluation locally (non-distributed).\n",
      "INFO:tensorflow:Start train and evaluate loop. The evaluate will happen after 300 secs (eval_spec.throttle_secs) or training is finished.\n",
      "INFO:tensorflow:Calling model_fn.\n",
      "INFO:tensorflow:Done calling model_fn.\n",
      "INFO:tensorflow:Create CheckpointSaverHook.\n",
      "INFO:tensorflow:Graph was finalized.\n",
      "2018-08-25 19:43:20.929395: I tensorflow/core/platform/cpu_feature_guard.cc:140] Your CPU supports instructions that this TensorFlow binary was not compiled to use: AVX2 FMA\n",
      "INFO:tensorflow:Running local_init_op.\n",
      "INFO:tensorflow:Done running local_init_op.\n",
      "INFO:tensorflow:Saving checkpoints for 1 into /content/datalab/notebooks/training-data-analyst/courses/machine_learning/deepdive/03_tensorflow/taxi_trained/model.ckpt.\n",
      "INFO:tensorflow:loss = 132069.22, step = 1\n",
      "INFO:tensorflow:global_step/sec: 39.3521\n",
      "INFO:tensorflow:loss = 101835.3, step = 101 (2.541 sec)\n",
      "INFO:tensorflow:global_step/sec: 38.8414\n",
      "INFO:tensorflow:loss = 106898.92, step = 201 (2.575 sec)\n",
      "INFO:tensorflow:global_step/sec: 40.7355\n",
      "INFO:tensorflow:loss = 92184.31, step = 301 (2.455 sec)\n",
      "INFO:tensorflow:global_step/sec: 37.8532\n",
      "INFO:tensorflow:loss = 82001.86, step = 401 (2.642 sec)\n",
      "INFO:tensorflow:global_step/sec: 39.3998\n",
      "INFO:tensorflow:loss = 76604.22, step = 501 (2.538 sec)\n",
      "INFO:tensorflow:global_step/sec: 41.3984\n",
      "INFO:tensorflow:loss = 68909.016, step = 601 (2.416 sec)\n",
      "INFO:tensorflow:global_step/sec: 37.3246\n",
      "INFO:tensorflow:loss = 67741.83, step = 701 (2.679 sec)\n",
      "INFO:tensorflow:global_step/sec: 41.0739\n",
      "INFO:tensorflow:loss = 73684.52, step = 801 (2.434 sec)\n",
      "INFO:tensorflow:global_step/sec: 37.3258\n",
      "INFO:tensorflow:loss = 77584.734, step = 901 (2.679 sec)\n",
      "INFO:tensorflow:Saving checkpoints for 1000 into /content/datalab/notebooks/training-data-analyst/courses/machine_learning/deepdive/03_tensorflow/taxi_trained/model.ckpt.\n",
      "INFO:tensorflow:Loss for final step: 71721.01.\n",
      "INFO:tensorflow:Calling model_fn.\n",
      "INFO:tensorflow:Done calling model_fn.\n",
      "INFO:tensorflow:Starting evaluation at 2018-08-25-19:43:47\n",
      "INFO:tensorflow:Graph was finalized.\n",
      "INFO:tensorflow:Restoring parameters from /content/datalab/notebooks/training-data-analyst/courses/machine_learning/deepdive/03_tensorflow/taxi_trained/model.ckpt-1000\n",
      "INFO:tensorflow:Running local_init_op.\n",
      "INFO:tensorflow:Done running local_init_op.\n",
      "INFO:tensorflow:Finished evaluation at 2018-08-25-19:43:47\n",
      "INFO:tensorflow:Saving dict for global step 1000: average_loss = 185.50635, global_step = 1000, loss = 308868.06\n",
      "INFO:tensorflow:Calling model_fn.\n",
      "INFO:tensorflow:Done calling model_fn.\n",
      "INFO:tensorflow:Signatures INCLUDED in export for Classify: None\n",
      "INFO:tensorflow:Signatures INCLUDED in export for Regress: None\n",
      "INFO:tensorflow:Signatures INCLUDED in export for Predict: ['predict']\n",
      "INFO:tensorflow:Signatures EXCLUDED from export because they cannot be be served via TensorFlow Serving APIs:\n",
      "INFO:tensorflow:'serving_default' : Regression input must be a single string Tensor; got {'passengers': <tf.Tensor 'Placeholder_4:0' shape=(?,) dtype=float32>, 'pickuplon': <tf.Tensor 'Placeholder:0' shape=(?,) dtype=float32>, 'dropofflon': <tf.Tensor 'Placeholder_3:0' shape=(?,) dtype=float32>, 'pickuplat': <tf.Tensor 'Placeholder_1:0' shape=(?,) dtype=float32>, 'dropofflat': <tf.Tensor 'Placeholder_2:0' shape=(?,) dtype=float32>}\n",
      "INFO:tensorflow:'regression' : Regression input must be a single string Tensor; got {'passengers': <tf.Tensor 'Placeholder_4:0' shape=(?,) dtype=float32>, 'pickuplon': <tf.Tensor 'Placeholder:0' shape=(?,) dtype=float32>, 'dropofflon': <tf.Tensor 'Placeholder_3:0' shape=(?,) dtype=float32>, 'pickuplat': <tf.Tensor 'Placeholder_1:0' shape=(?,) dtype=float32>, 'dropofflat': <tf.Tensor 'Placeholder_2:0' shape=(?,) dtype=float32>}\n",
      "WARNING:tensorflow:Export includes no default signature!\n",
      "INFO:tensorflow:Restoring parameters from /content/datalab/notebooks/training-data-analyst/courses/machine_learning/deepdive/03_tensorflow/taxi_trained/model.ckpt-1000\n",
      "INFO:tensorflow:Assets added to graph.\n",
      "INFO:tensorflow:No assets to write.\n",
      "INFO:tensorflow:SavedModel written to: /content/datalab/notebooks/training-data-analyst/courses/machine_learning/deepdive/03_tensorflow/taxi_trained/export/exporter/temp-1535226227/saved_model.pb\n"
     ]
    }
   ],
   "source": [
    "%%bash\n",
    "rm -rf taxifare.tar.gz taxi_trained\n",
    "gcloud ml-engine local train \\\n",
    "   --module-name=trainer.task \\\n",
    "   --package-path=${PWD}/taxifare/trainer \\\n",
    "   -- \\\n",
    "   --train_data_paths=${PWD}/taxi-train.csv \\\n",
    "   --eval_data_paths=${PWD}/taxi-valid.csv  \\\n",
    "   --train_steps=1000 \\\n",
    "   --output_dir=${PWD}/taxi_trained "
   ]
  },
  {
   "cell_type": "markdown",
   "metadata": {},
   "source": [
    "When I ran it (due to random seeds, your results will be different), the ```average_loss``` (Mean Squared Error) on the evaluation dataset was 187, meaning that the RMSE was around 13."
   ]
  },
  {
   "cell_type": "markdown",
   "metadata": {},
   "source": [
    "### Stop Tensorboard"
   ]
  },
  {
   "cell_type": "code",
   "execution_count": 75,
   "metadata": {},
   "outputs": [
    {
     "name": "stdout",
     "output_type": "stream",
     "text": [
      "Stopped TensorBoard with pid 7829\n",
      "Stopped TensorBoard with pid 9319\n",
      "Stopped TensorBoard with pid 11806\n"
     ]
    }
   ],
   "source": [
    "pids_df = TensorBoard.list()\n",
    "if not pids_df.empty:\n",
    "    for pid in pids_df['pid']:\n",
    "        TensorBoard().stop(pid)\n",
    "        print 'Stopped TensorBoard with pid {}'.format(pid)"
   ]
  },
  {
   "cell_type": "markdown",
   "metadata": {},
   "source": [
    "If the above step (to stop TensorBoard) appears stalled, just move on to the next step. You don't need to wait for it to return."
   ]
  },
  {
   "cell_type": "code",
   "execution_count": 76,
   "metadata": {},
   "outputs": [
    {
     "name": "stdout",
     "output_type": "stream",
     "text": [
      "checkpoint\n",
      "eval\n",
      "events.out.tfevents.1535226200.46bfbca59a25\n",
      "export\n",
      "graph.pbtxt\n",
      "model.ckpt-1000.data-00000-of-00001\n",
      "model.ckpt-1000.index\n",
      "model.ckpt-1000.meta\n",
      "model.ckpt-1.data-00000-of-00001\n",
      "model.ckpt-1.index\n",
      "model.ckpt-1.meta\n"
     ]
    }
   ],
   "source": [
    "%%bash\n",
    "ls $PWD/taxi_trained"
   ]
  },
  {
   "cell_type": "markdown",
   "metadata": {},
   "source": [
    "<h2> Submit training job using gcloud </h2>\n",
    "\n",
    "First copy the training data to the cloud.  Then, launch a training job.\n",
    "\n",
    "After you submit the job, go to the cloud console (http://console.cloud.google.com) and select <b>Machine Learning | Jobs</b> to monitor progress.  \n",
    "\n",
    "<b>Note:</b> Don't be concerned if the notebook stalls (with a blue progress bar) or returns with an error about being unable to refresh auth tokens. This is a long-lived Cloud job and work is going on in the cloud.  Use the Cloud Console link (above) to monitor the job."
   ]
  },
  {
   "cell_type": "code",
   "execution_count": 96,
   "metadata": {},
   "outputs": [
    {
     "name": "stdout",
     "output_type": "stream",
     "text": [
      "bucket-netskink-tda\n"
     ]
    },
    {
     "name": "stderr",
     "output_type": "stream",
     "text": [
      "CommandException: 1 files/objects could not be removed.\n",
      "Copying file:///content/datalab/notebooks/training-data-analyst/courses/machine_learning/deepdive/03_tensorflow/taxi-test.csv [Content-Type=text/csv]...\n",
      "Copying file:///content/datalab/notebooks/training-data-analyst/courses/machine_learning/deepdive/03_tensorflow/taxi-train.csv [Content-Type=text/csv]...\n",
      "/ [0 files][    0.0 B/ 86.5 KiB]                                                \r",
      "/ [0/3 files][    0.0 B/580.6 KiB]   0% Done                                    \r",
      "Copying file:///content/datalab/notebooks/training-data-analyst/courses/machine_learning/deepdive/03_tensorflow/taxi-valid.csv [Content-Type=text/csv]...\n",
      "/ [0/3 files][    0.0 B/580.6 KiB]   0% Done                                    \r",
      "/ [1/3 files][580.6 KiB/580.6 KiB]  99% Done                                    \r",
      "/ [2/3 files][580.6 KiB/580.6 KiB]  99% Done                                    \r",
      "/ [3/3 files][580.6 KiB/580.6 KiB] 100% Done                                    \r\n",
      "Operation completed over 3 objects/580.6 KiB.                                    \n"
     ]
    }
   ],
   "source": [
    "%%bash\n",
    "echo $BUCKET\n",
    "gsutil -m rm -rf gs://${BUCKET}/taxifare/smallinput/\n",
    "gsutil -m cp ${PWD}/*.csv gs://${BUCKET}/taxifare/smallinput/"
   ]
  },
  {
   "cell_type": "code",
   "execution_count": 97,
   "metadata": {},
   "outputs": [
    {
     "name": "stdout",
     "output_type": "stream",
     "text": [
      "gs://bucket-netskink-tda/taxifare/smallinput/taxi_trained us-east1 lab3a_180825_195721\n",
      "jobId: lab3a_180825_195721\n",
      "state: QUEUED\n"
     ]
    },
    {
     "name": "stderr",
     "output_type": "stream",
     "text": [
      "CommandException: 1 files/objects could not be removed.\n",
      "Job [lab3a_180825_195721] submitted successfully.\n",
      "Your job is still active. You may view the status of your job with the command\n",
      "\n",
      "  $ gcloud ml-engine jobs describe lab3a_180825_195721\n",
      "\n",
      "or continue streaming the logs with the command\n",
      "\n",
      "  $ gcloud ml-engine jobs stream-logs lab3a_180825_195721\n"
     ]
    }
   ],
   "source": [
    "%%bash\n",
    "OUTDIR=gs://${BUCKET}/taxifare/smallinput/taxi_trained\n",
    "JOBNAME=lab3a_$(date -u +%y%m%d_%H%M%S)\n",
    "echo $OUTDIR $REGION $JOBNAME\n",
    "gsutil -m rm -rf $OUTDIR\n",
    "gcloud ml-engine jobs submit training $JOBNAME \\\n",
    "   --region=$REGION \\\n",
    "   --module-name=trainer.task \\\n",
    "   --package-path=${PWD}/taxifare/trainer \\\n",
    "   --job-dir=$OUTDIR \\\n",
    "   --staging-bucket=gs://$BUCKET \\\n",
    "   --scale-tier=BASIC \\\n",
    "   --runtime-version=$TFVERSION \\\n",
    "   -- \\\n",
    "   --train_data_paths=\"gs://${BUCKET}/taxifare/smallinput/taxi-train*\" \\\n",
    "   --eval_data_paths=\"gs://${BUCKET}/taxifare/smallinput/taxi-valid*\"  \\\n",
    "   --output_dir=$OUTDIR \\\n",
    "   --train_steps=10000"
   ]
  },
  {
   "cell_type": "markdown",
   "metadata": {},
   "source": [
    "Don't be concerned if the notebook appears stalled (with a blue progress bar) or returns with an error about being unable to refresh auth tokens. This is a long-lived Cloud job and work is going on in the cloud. \n",
    "\n",
    "<b>Use the Cloud Console link to monitor the job and do NOT proceed until the job is done.</b>"
   ]
  },
  {
   "cell_type": "markdown",
   "metadata": {},
   "source": [
    "<h2> Deploy model </h2>\n",
    "\n",
    "Find out the actual name of the subdirectory where the model is stored and use it to deploy the model.  Deploying model will take up to <b>5 minutes</b>."
   ]
  },
  {
   "cell_type": "code",
   "execution_count": 98,
   "metadata": {},
   "outputs": [
    {
     "name": "stdout",
     "output_type": "stream",
     "text": [
      "gs://bucket-netskink-tda/taxifare/smallinput/taxi_trained/export/exporter/\n",
      "gs://bucket-netskink-tda/taxifare/smallinput/taxi_trained/export/exporter/1535227175/\n",
      "gs://bucket-netskink-tda/taxifare/smallinput/taxi_trained/export/exporter/1535227590/\n"
     ]
    }
   ],
   "source": [
    "%%bash\n",
    "gsutil ls gs://${BUCKET}/taxifare/smallinput/taxi_trained/export/exporter"
   ]
  },
  {
   "cell_type": "code",
   "execution_count": 99,
   "metadata": {},
   "outputs": [
    {
     "name": "stdout",
     "output_type": "stream",
     "text": [
      "Run these commands one-by-one (the very first time, you'll create a model and then create a version)\n"
     ]
    },
    {
     "name": "stderr",
     "output_type": "stream",
     "text": [
      "Created ml engine model [projects/netskink-tda-test/models/taxifare].\n",
      "Creating version (this might take a few minutes)......\n",
      ".................................................................................................................................................................................................................................................................................................................................................................................................done.\n"
     ]
    }
   ],
   "source": [
    "%%bash\n",
    "MODEL_NAME=\"taxifare\"\n",
    "MODEL_VERSION=\"v1\"\n",
    "MODEL_LOCATION=$(gsutil ls gs://${BUCKET}/taxifare/smallinput/taxi_trained/export/exporter | tail -1)\n",
    "echo \"Run these commands one-by-one (the very first time, you'll create a model and then create a version)\"\n",
    "#gcloud ml-engine versions delete ${MODEL_VERSION} --model ${MODEL_NAME}\n",
    "#gcloud ml-engine models delete ${MODEL_NAME}\n",
    "gcloud ml-engine models create ${MODEL_NAME} --regions $REGION\n",
    "gcloud ml-engine versions create ${MODEL_VERSION} --model ${MODEL_NAME} --origin ${MODEL_LOCATION} --runtime-version $TFVERSION"
   ]
  },
  {
   "cell_type": "code",
   "execution_count": null,
   "metadata": {},
   "outputs": [],
   "source": []
  },
  {
   "cell_type": "markdown",
   "metadata": {},
   "source": [
    "<h2> Prediction </h2>"
   ]
  },
  {
   "cell_type": "code",
   "execution_count": 22,
   "metadata": {},
   "outputs": [
    {
     "name": "stderr",
     "output_type": "stream",
     "text": [
      "ERROR: (gcloud.ml-engine.predict) HTTP request failed. Response: {\n",
      "  \"error\": {\n",
      "    \"code\": 403,\n",
      "    \"message\": \"Cloud Machine Learning Engine has not been used in project 35462102002 before or it is disabled. Enable it by visiting https://console.developers.google.com/apis/api/ml.googleapis.com/overview?project=35462102002 then retry. If you enabled this API recently, wait a few minutes for the action to propagate to our systems and retry.\",\n",
      "    \"status\": \"PERMISSION_DENIED\",\n",
      "    \"details\": [\n",
      "      {\n",
      "        \"@type\": \"type.googleapis.com/google.rpc.Help\",\n",
      "        \"links\": [\n",
      "          {\n",
      "            \"description\": \"Google developers console API activation\",\n",
      "            \"url\": \"https://console.developers.google.com/apis/api/ml.googleapis.com/overview?project=35462102002\"\n",
      "          }\n",
      "        ]\n",
      "      }\n",
      "    ]\n",
      "  }\n",
      "}\n",
      "\n"
     ]
    }
   ],
   "source": [
    "%%bash\n",
    "gcloud ml-engine predict --model=taxifare --version=v1 --json-instances=./test.json"
   ]
  },
  {
   "cell_type": "code",
   "execution_count": 23,
   "metadata": {},
   "outputs": [
    {
     "ename": "HttpError",
     "evalue": "<HttpError 403 when requesting https://ml.googleapis.com/v1/projects/netskink-tda-test/models/taxifare/versions/v1:predict?alt=json returned \"Cloud Machine Learning Engine has not been used in project 35462102002 before or it is disabled. Enable it by visiting https://console.developers.google.com/apis/api/ml.googleapis.com/overview?project=35462102002 then retry. If you enabled this API recently, wait a few minutes for the action to propagate to our systems and retry.\">",
     "output_type": "error",
     "traceback": [
      "\u001b[0;31m\u001b[0m",
      "\u001b[0;31mHttpError\u001b[0mTraceback (most recent call last)",
      "\u001b[0;32m<ipython-input-23-54a354382a13>\u001b[0m in \u001b[0;36m<module>\u001b[0;34m()\u001b[0m\n\u001b[1;32m     20\u001b[0m \u001b[0;34m\u001b[0m\u001b[0m\n\u001b[1;32m     21\u001b[0m \u001b[0mparent\u001b[0m \u001b[0;34m=\u001b[0m \u001b[0;34m'projects/%s/models/%s/versions/%s'\u001b[0m \u001b[0;34m%\u001b[0m \u001b[0;34m(\u001b[0m\u001b[0mPROJECT\u001b[0m\u001b[0;34m,\u001b[0m \u001b[0;34m'taxifare'\u001b[0m\u001b[0;34m,\u001b[0m \u001b[0;34m'v1'\u001b[0m\u001b[0;34m)\u001b[0m\u001b[0;34m\u001b[0m\u001b[0m\n\u001b[0;32m---> 22\u001b[0;31m \u001b[0mresponse\u001b[0m \u001b[0;34m=\u001b[0m \u001b[0mapi\u001b[0m\u001b[0;34m.\u001b[0m\u001b[0mprojects\u001b[0m\u001b[0;34m(\u001b[0m\u001b[0;34m)\u001b[0m\u001b[0;34m.\u001b[0m\u001b[0mpredict\u001b[0m\u001b[0;34m(\u001b[0m\u001b[0mbody\u001b[0m\u001b[0;34m=\u001b[0m\u001b[0mrequest_data\u001b[0m\u001b[0;34m,\u001b[0m \u001b[0mname\u001b[0m\u001b[0;34m=\u001b[0m\u001b[0mparent\u001b[0m\u001b[0;34m)\u001b[0m\u001b[0;34m.\u001b[0m\u001b[0mexecute\u001b[0m\u001b[0;34m(\u001b[0m\u001b[0;34m)\u001b[0m\u001b[0;34m\u001b[0m\u001b[0m\n\u001b[0m\u001b[1;32m     23\u001b[0m \u001b[0;32mprint\u001b[0m \u001b[0;34m\"response={0}\"\u001b[0m\u001b[0;34m.\u001b[0m\u001b[0mformat\u001b[0m\u001b[0;34m(\u001b[0m\u001b[0mresponse\u001b[0m\u001b[0;34m)\u001b[0m\u001b[0;34m\u001b[0m\u001b[0m\n",
      "\u001b[0;32m/usr/local/envs/py2env/lib/python2.7/site-packages/oauth2client/util.pyc\u001b[0m in \u001b[0;36mpositional_wrapper\u001b[0;34m(*args, **kwargs)\u001b[0m\n\u001b[1;32m    133\u001b[0m                 \u001b[0;32melif\u001b[0m \u001b[0mpositional_parameters_enforcement\u001b[0m \u001b[0;34m==\u001b[0m \u001b[0mPOSITIONAL_WARNING\u001b[0m\u001b[0;34m:\u001b[0m\u001b[0;34m\u001b[0m\u001b[0m\n\u001b[1;32m    134\u001b[0m                     \u001b[0mlogger\u001b[0m\u001b[0;34m.\u001b[0m\u001b[0mwarning\u001b[0m\u001b[0;34m(\u001b[0m\u001b[0mmessage\u001b[0m\u001b[0;34m)\u001b[0m\u001b[0;34m\u001b[0m\u001b[0m\n\u001b[0;32m--> 135\u001b[0;31m             \u001b[0;32mreturn\u001b[0m \u001b[0mwrapped\u001b[0m\u001b[0;34m(\u001b[0m\u001b[0;34m*\u001b[0m\u001b[0margs\u001b[0m\u001b[0;34m,\u001b[0m \u001b[0;34m**\u001b[0m\u001b[0mkwargs\u001b[0m\u001b[0;34m)\u001b[0m\u001b[0;34m\u001b[0m\u001b[0m\n\u001b[0m\u001b[1;32m    136\u001b[0m         \u001b[0;32mreturn\u001b[0m \u001b[0mpositional_wrapper\u001b[0m\u001b[0;34m\u001b[0m\u001b[0m\n\u001b[1;32m    137\u001b[0m \u001b[0;34m\u001b[0m\u001b[0m\n",
      "\u001b[0;32m/usr/local/envs/py2env/lib/python2.7/site-packages/googleapiclient/http.pyc\u001b[0m in \u001b[0;36mexecute\u001b[0;34m(self, http, num_retries)\u001b[0m\n\u001b[1;32m    838\u001b[0m       \u001b[0mcallback\u001b[0m\u001b[0;34m(\u001b[0m\u001b[0mresp\u001b[0m\u001b[0;34m)\u001b[0m\u001b[0;34m\u001b[0m\u001b[0m\n\u001b[1;32m    839\u001b[0m     \u001b[0;32mif\u001b[0m \u001b[0mresp\u001b[0m\u001b[0;34m.\u001b[0m\u001b[0mstatus\u001b[0m \u001b[0;34m>=\u001b[0m \u001b[0;36m300\u001b[0m\u001b[0;34m:\u001b[0m\u001b[0;34m\u001b[0m\u001b[0m\n\u001b[0;32m--> 840\u001b[0;31m       \u001b[0;32mraise\u001b[0m \u001b[0mHttpError\u001b[0m\u001b[0;34m(\u001b[0m\u001b[0mresp\u001b[0m\u001b[0;34m,\u001b[0m \u001b[0mcontent\u001b[0m\u001b[0;34m,\u001b[0m \u001b[0muri\u001b[0m\u001b[0;34m=\u001b[0m\u001b[0mself\u001b[0m\u001b[0;34m.\u001b[0m\u001b[0muri\u001b[0m\u001b[0;34m)\u001b[0m\u001b[0;34m\u001b[0m\u001b[0m\n\u001b[0m\u001b[1;32m    841\u001b[0m     \u001b[0;32mreturn\u001b[0m \u001b[0mself\u001b[0m\u001b[0;34m.\u001b[0m\u001b[0mpostproc\u001b[0m\u001b[0;34m(\u001b[0m\u001b[0mresp\u001b[0m\u001b[0;34m,\u001b[0m \u001b[0mcontent\u001b[0m\u001b[0;34m)\u001b[0m\u001b[0;34m\u001b[0m\u001b[0m\n\u001b[1;32m    842\u001b[0m \u001b[0;34m\u001b[0m\u001b[0m\n",
      "\u001b[0;31mHttpError\u001b[0m: <HttpError 403 when requesting https://ml.googleapis.com/v1/projects/netskink-tda-test/models/taxifare/versions/v1:predict?alt=json returned \"Cloud Machine Learning Engine has not been used in project 35462102002 before or it is disabled. Enable it by visiting https://console.developers.google.com/apis/api/ml.googleapis.com/overview?project=35462102002 then retry. If you enabled this API recently, wait a few minutes for the action to propagate to our systems and retry.\">"
     ]
    }
   ],
   "source": [
    "from googleapiclient import discovery\n",
    "from oauth2client.client import GoogleCredentials\n",
    "import json\n",
    "\n",
    "credentials = GoogleCredentials.get_application_default()\n",
    "api = discovery.build('ml', 'v1', credentials=credentials,\n",
    "            discoveryServiceUrl='https://storage.googleapis.com/cloud-ml/discovery/ml_v1_discovery.json')\n",
    "\n",
    "request_data = {'instances':\n",
    "  [\n",
    "      {\n",
    "        'pickuplon': -73.885262,\n",
    "        'pickuplat': 40.773008,\n",
    "        'dropofflon': -73.987232,\n",
    "        'dropofflat': 40.732403,\n",
    "        'passengers': 2,\n",
    "      }\n",
    "  ]\n",
    "}\n",
    "\n",
    "parent = 'projects/%s/models/%s/versions/%s' % (PROJECT, 'taxifare', 'v1')\n",
    "response = api.projects().predict(body=request_data, name=parent).execute()\n",
    "print \"response={0}\".format(response)"
   ]
  },
  {
   "cell_type": "markdown",
   "metadata": {},
   "source": [
    "<h2> Train on larger dataset </h2>\n",
    "\n",
    "I have already followed the steps below and the files are already available. <b> You don't need to do the steps in this comment. </b> In the next chapter (on feature engineering), we will avoid all this manual processing by using Cloud Dataflow.\n",
    "\n",
    "Go to http://bigquery.cloud.google.com/ and type the query:\n",
    "<pre>\n",
    "SELECT\n",
    "  (tolls_amount + fare_amount) AS fare_amount,\n",
    "  pickup_longitude AS pickuplon,\n",
    "  pickup_latitude AS pickuplat,\n",
    "  dropoff_longitude AS dropofflon,\n",
    "  dropoff_latitude AS dropofflat,\n",
    "  passenger_count*1.0 AS passengers,\n",
    "  'nokeyindata' AS key\n",
    "FROM\n",
    "  [nyc-tlc:yellow.trips]\n",
    "WHERE\n",
    "  trip_distance > 0\n",
    "  AND fare_amount >= 2.5\n",
    "  AND pickup_longitude > -78\n",
    "  AND pickup_longitude < -70\n",
    "  AND dropoff_longitude > -78\n",
    "  AND dropoff_longitude < -70\n",
    "  AND pickup_latitude > 37\n",
    "  AND pickup_latitude < 45\n",
    "  AND dropoff_latitude > 37\n",
    "  AND dropoff_latitude < 45\n",
    "  AND passenger_count > 0\n",
    "  AND ABS(HASH(pickup_datetime)) % 1000 == 1\n",
    "</pre>\n",
    "\n",
    "Note that this is now 1,000,000 rows (i.e. 100x the original dataset).  Export this to CSV using the following steps (Note that <b>I have already done this and made the resulting GCS data publicly available</b>, so you don't need to do it.):\n",
    "<ol>\n",
    "<li> Click on the \"Save As Table\" button and note down the name of the dataset and table.\n",
    "<li> On the BigQuery console, find the newly exported table in the left-hand-side menu, and click on the name.\n",
    "<li> Click on \"Export Table\"\n",
    "<li> Supply your bucket name and give it the name train.csv (for example: gs://cloud-training-demos-ml/taxifare/ch3/train.csv). Note down what this is.  Wait for the job to finish (look at the \"Job History\" on the left-hand-side menu)\n",
    "<li> In the query above, change the final \"== 1\" to \"== 2\" and export this to Cloud Storage as valid.csv (e.g.  gs://cloud-training-demos-ml/taxifare/ch3/valid.csv)\n",
    "<li> Download the two files, remove the header line and upload it back to GCS.\n",
    "</ol>\n",
    "\n",
    "<p/>\n",
    "<p/>\n",
    "\n",
    "<h2> Run Cloud training on 1-million row dataset </h2>\n",
    "\n",
    "This took 60 minutes and uses as input 1-million rows.  The model is exactly the same as above. The only changes are to the input (to use the larger dataset) and to the Cloud MLE tier (to use STANDARD_1 instead of BASIC -- STANDARD_1 is approximately 10x more powerful than BASIC).  At the end of the training the loss was 32, but the RMSE (calculated on the validation dataset) was stubbornly at 9.03. So, simply adding more data doesn't help."
   ]
  },
  {
   "cell_type": "code",
   "execution_count": null,
   "metadata": {},
   "outputs": [],
   "source": [
    "%%bash\n",
    "\n",
    "XXXXX  this takes 60 minutes. if you are sure you want to run it, then remove this line.\n",
    "\n",
    "OUTDIR=gs://${BUCKET}/taxifare/ch3/taxi_trained\n",
    "JOBNAME=lab3a_$(date -u +%y%m%d_%H%M%S)\n",
    "CRS_BUCKET=cloud-training-demos # use the already exported data\n",
    "echo $OUTDIR $REGION $JOBNAME\n",
    "gsutil -m rm -rf $OUTDIR\n",
    "gcloud ml-engine jobs submit training $JOBNAME \\\n",
    "   --region=$REGION \\\n",
    "   --module-name=trainer.task \\\n",
    "   --package-path=${PWD}/taxifare/trainer \\\n",
    "   --job-dir=$OUTDIR \\\n",
    "   --staging-bucket=gs://$BUCKET \\\n",
    "   --scale-tier=STANDARD_1 \\\n",
    "   --runtime-version=$TFVERSION \\\n",
    "   -- \\\n",
    "   --train_data_paths=\"gs://${CRS_BUCKET}/taxifare/ch3/train.csv\" \\\n",
    "   --eval_data_paths=\"gs://${CRS_BUCKET}/taxifare/ch3/valid.csv\"  \\\n",
    "   --output_dir=$OUTDIR \\\n",
    "   --train_steps=100000"
   ]
  },
  {
   "cell_type": "markdown",
   "metadata": {},
   "source": [
    "## Challenge Exercise\n",
    "\n",
    "Modify your solution to the challenge exercise in d_trainandevaluate.ipynb appropriately. Make sure that you implement training and deployment. Increase the size of your dataset by 10x since you are running on the cloud. Does your accuracy improve?"
   ]
  },
  {
   "cell_type": "markdown",
   "metadata": {},
   "source": [
    "Copyright 2016 Google Inc. Licensed under the Apache License, Version 2.0 (the \"License\"); you may not use this file except in compliance with the License. You may obtain a copy of the License at http://www.apache.org/licenses/LICENSE-2.0 Unless required by applicable law or agreed to in writing, software distributed under the License is distributed on an \"AS IS\" BASIS, WITHOUT WARRANTIES OR CONDITIONS OF ANY KIND, either express or implied. See the License for the specific language governing permissions and limitations under the License"
   ]
  }
 ],
 "metadata": {
  "kernelspec": {
   "display_name": "Python 2",
   "language": "python",
   "name": "python2"
  },
  "language_info": {
   "codemirror_mode": {
    "name": "ipython",
    "version": 2
   },
   "file_extension": ".py",
   "mimetype": "text/x-python",
   "name": "python",
   "nbconvert_exporter": "python",
   "pygments_lexer": "ipython2",
   "version": "2.7.15"
  }
 },
 "nbformat": 4,
 "nbformat_minor": 1
}
