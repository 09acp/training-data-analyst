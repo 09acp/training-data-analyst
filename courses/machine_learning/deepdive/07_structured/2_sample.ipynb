{
 "cells": [
  {
   "cell_type": "markdown",
   "metadata": {},
   "source": [
    "<h1> 2. Creating a sampled dataset </h1>\n",
    "\n",
    "This notebook illustrates:\n",
    "<ol>\n",
    "<li> Sampling a BigQuery dataset to create datasets for ML\n",
    "<li> Preprocessing with Pandas\n",
    "</ol>"
   ]
  },
  {
   "cell_type": "code",
   "execution_count": 1,
   "metadata": {
    "collapsed": true
   },
   "outputs": [],
   "source": [
    "# change these to try this notebook out\n",
    "BUCKET = 'cloud-training-demos-ml'\n",
    "PROJECT = 'cloud-training-demos'\n",
    "REGION = 'us-central1'"
   ]
  },
  {
   "cell_type": "code",
   "execution_count": 2,
   "metadata": {
    "collapsed": true
   },
   "outputs": [],
   "source": [
    "import os\n",
    "os.environ['BUCKET'] = BUCKET\n",
    "os.environ['PROJECT'] = PROJECT\n",
    "os.environ['REGION'] = REGION"
   ]
  },
  {
   "cell_type": "code",
   "execution_count": 3,
   "metadata": {
    "collapsed": false
   },
   "outputs": [],
   "source": [
    "%%bash\n",
    "if ! gsutil ls | grep -q gs://${BUCKET}/; then\n",
    "  gsutil mb -l ${REGION} gs://${BUCKET}\n",
    "fi"
   ]
  },
  {
   "cell_type": "markdown",
   "metadata": {},
   "source": [
    "<h2> Create ML dataset by sampling using BigQuery </h2>\n",
    "<p>\n",
    "Let's sample the BigQuery data to create smaller datasets.\n",
    "</p>"
   ]
  },
  {
   "cell_type": "code",
   "execution_count": 4,
   "metadata": {
    "collapsed": true
   },
   "outputs": [],
   "source": [
    "import google.datalab.bigquery as bq\n",
    "query=\"\"\"\n",
    "SELECT\n",
    "  weight_pounds,\n",
    "  is_male,\n",
    "  mother_age,\n",
    "  plurality,\n",
    "  gestation_weeks,\n",
    "  FARM_FINGERPRINT(CONCAT(CAST(YEAR AS STRING), CAST(month AS STRING))) AS hashmonth\n",
    "FROM\n",
    "  publicdata.samples.natality\n",
    "WHERE year > 2000\n",
    "\"\"\""
   ]
  },
  {
   "cell_type": "markdown",
   "metadata": {},
   "source": [
    "There are only a limited number of years and months in the dataset. Let's see what the hashmonths are."
   ]
  },
  {
   "cell_type": "code",
   "execution_count": 5,
   "metadata": {
    "collapsed": false
   },
   "outputs": [
    {
     "name": "stdout",
     "output_type": "stream",
     "text": [
      "There are 96 unique hashmonths.\n"
     ]
    },
    {
     "data": {
      "text/html": [
       "<div>\n",
       "<style scoped>\n",
       "    .dataframe tbody tr th:only-of-type {\n",
       "        vertical-align: middle;\n",
       "    }\n",
       "\n",
       "    .dataframe tbody tr th {\n",
       "        vertical-align: top;\n",
       "    }\n",
       "\n",
       "    .dataframe thead th {\n",
       "        text-align: right;\n",
       "    }\n",
       "</style>\n",
       "<table border=\"1\" class=\"dataframe\">\n",
       "  <thead>\n",
       "    <tr style=\"text-align: right;\">\n",
       "      <th></th>\n",
       "      <th>hashmonth</th>\n",
       "      <th>num_babies</th>\n",
       "    </tr>\n",
       "  </thead>\n",
       "  <tbody>\n",
       "    <tr>\n",
       "      <th>0</th>\n",
       "      <td>-2126480030009879160</td>\n",
       "      <td>344357</td>\n",
       "    </tr>\n",
       "    <tr>\n",
       "      <th>1</th>\n",
       "      <td>8904940584331855459</td>\n",
       "      <td>344191</td>\n",
       "    </tr>\n",
       "    <tr>\n",
       "      <th>2</th>\n",
       "      <td>6691862025345277042</td>\n",
       "      <td>338820</td>\n",
       "    </tr>\n",
       "    <tr>\n",
       "      <th>3</th>\n",
       "      <td>-1525201076796226340</td>\n",
       "      <td>303664</td>\n",
       "    </tr>\n",
       "    <tr>\n",
       "      <th>4</th>\n",
       "      <td>5934265245228309013</td>\n",
       "      <td>324598</td>\n",
       "    </tr>\n",
       "  </tbody>\n",
       "</table>\n",
       "</div>"
      ],
      "text/plain": [
       "             hashmonth  num_babies\n",
       "0 -2126480030009879160      344357\n",
       "1  8904940584331855459      344191\n",
       "2  6691862025345277042      338820\n",
       "3 -1525201076796226340      303664\n",
       "4  5934265245228309013      324598"
      ]
     },
     "execution_count": 5,
     "metadata": {},
     "output_type": "execute_result"
    }
   ],
   "source": [
    "df = bq.Query(\"SELECT hashmonth, COUNT(weight_pounds) AS num_babies FROM (\" + query + \") GROUP BY hashmonth\").execute().result().to_dataframe()\n",
    "print(\"There are {} unique hashmonths.\".format(len(df)))\n",
    "df.head()"
   ]
  },
  {
   "cell_type": "markdown",
   "metadata": {},
   "source": [
    "Here's a way to get a well distributed portion of the data in such a way that the test and train sets do not overlap:"
   ]
  },
  {
   "cell_type": "code",
   "execution_count": 19,
   "metadata": {
    "collapsed": false
   },
   "outputs": [
    {
     "name": "stdout",
     "output_type": "stream",
     "text": [
      "There are 15118 examples in the train dataset and 1565 in the eval dataset\n"
     ]
    }
   ],
   "source": [
    "trainQuery = \"SELECT * FROM (\" + query + \") WHERE MOD(hashmonth, 4) < 3 AND RAND() < 0.0005\"\n",
    "evalQuery = \"SELECT * FROM (\" + query + \") WHERE MOD(hashmonth, 4) = 3 AND RAND() < 0.0005\"\n",
    "traindf = bq.Query(trainQuery).execute().result().to_dataframe()\n",
    "evaldf = bq.Query(evalQuery).execute().result().to_dataframe()\n",
    "print(\"There are {} examples in the train dataset and {} in the eval dataset\".format(len(traindf), len(evaldf)))"
   ]
  },
  {
   "cell_type": "markdown",
   "metadata": {},
   "source": [
    "<h2> Preprocess data using Pandas </h2>\n",
    "<p>\n",
    "Let's add extra rows to simulate the lack of ultrasound. In the process, we'll also change the plurality column to be a string."
   ]
  },
  {
   "cell_type": "code",
   "execution_count": 20,
   "metadata": {
    "collapsed": false
   },
   "outputs": [
    {
     "data": {
      "text/html": [
       "<div>\n",
       "<style scoped>\n",
       "    .dataframe tbody tr th:only-of-type {\n",
       "        vertical-align: middle;\n",
       "    }\n",
       "\n",
       "    .dataframe tbody tr th {\n",
       "        vertical-align: top;\n",
       "    }\n",
       "\n",
       "    .dataframe thead th {\n",
       "        text-align: right;\n",
       "    }\n",
       "</style>\n",
       "<table border=\"1\" class=\"dataframe\">\n",
       "  <thead>\n",
       "    <tr style=\"text-align: right;\">\n",
       "      <th></th>\n",
       "      <th>weight_pounds</th>\n",
       "      <th>is_male</th>\n",
       "      <th>mother_age</th>\n",
       "      <th>plurality</th>\n",
       "      <th>gestation_weeks</th>\n",
       "      <th>hashmonth</th>\n",
       "    </tr>\n",
       "  </thead>\n",
       "  <tbody>\n",
       "    <tr>\n",
       "      <th>0</th>\n",
       "      <td>5.423372</td>\n",
       "      <td>True</td>\n",
       "      <td>13</td>\n",
       "      <td>1</td>\n",
       "      <td>37.0</td>\n",
       "      <td>124458947937444850</td>\n",
       "    </tr>\n",
       "    <tr>\n",
       "      <th>1</th>\n",
       "      <td>4.625298</td>\n",
       "      <td>True</td>\n",
       "      <td>14</td>\n",
       "      <td>1</td>\n",
       "      <td>34.0</td>\n",
       "      <td>3095933535584005890</td>\n",
       "    </tr>\n",
       "    <tr>\n",
       "      <th>2</th>\n",
       "      <td>6.437498</td>\n",
       "      <td>False</td>\n",
       "      <td>14</td>\n",
       "      <td>1</td>\n",
       "      <td>36.0</td>\n",
       "      <td>-2995620979373137889</td>\n",
       "    </tr>\n",
       "    <tr>\n",
       "      <th>3</th>\n",
       "      <td>7.374463</td>\n",
       "      <td>True</td>\n",
       "      <td>14</td>\n",
       "      <td>1</td>\n",
       "      <td>37.0</td>\n",
       "      <td>8387817883864991792</td>\n",
       "    </tr>\n",
       "    <tr>\n",
       "      <th>4</th>\n",
       "      <td>6.937947</td>\n",
       "      <td>True</td>\n",
       "      <td>14</td>\n",
       "      <td>1</td>\n",
       "      <td>39.0</td>\n",
       "      <td>-1305143018446161857</td>\n",
       "    </tr>\n",
       "  </tbody>\n",
       "</table>\n",
       "</div>"
      ],
      "text/plain": [
       "   weight_pounds  is_male  mother_age  plurality  gestation_weeks  \\\n",
       "0       5.423372     True          13          1             37.0   \n",
       "1       4.625298     True          14          1             34.0   \n",
       "2       6.437498    False          14          1             36.0   \n",
       "3       7.374463     True          14          1             37.0   \n",
       "4       6.937947     True          14          1             39.0   \n",
       "\n",
       "             hashmonth  \n",
       "0   124458947937444850  \n",
       "1  3095933535584005890  \n",
       "2 -2995620979373137889  \n",
       "3  8387817883864991792  \n",
       "4 -1305143018446161857  "
      ]
     },
     "execution_count": 20,
     "metadata": {},
     "output_type": "execute_result"
    }
   ],
   "source": [
    "traindf.head()"
   ]
  },
  {
   "cell_type": "markdown",
   "metadata": {},
   "source": [
    "Also notice that there are some very important numeric fields that are missing in some rows (the count in Pandas doesn't count missing data)"
   ]
  },
  {
   "cell_type": "code",
   "execution_count": 21,
   "metadata": {
    "collapsed": false
   },
   "outputs": [
    {
     "data": {
      "text/html": [
       "<div>\n",
       "<style scoped>\n",
       "    .dataframe tbody tr th:only-of-type {\n",
       "        vertical-align: middle;\n",
       "    }\n",
       "\n",
       "    .dataframe tbody tr th {\n",
       "        vertical-align: top;\n",
       "    }\n",
       "\n",
       "    .dataframe thead th {\n",
       "        text-align: right;\n",
       "    }\n",
       "</style>\n",
       "<table border=\"1\" class=\"dataframe\">\n",
       "  <thead>\n",
       "    <tr style=\"text-align: right;\">\n",
       "      <th></th>\n",
       "      <th>weight_pounds</th>\n",
       "      <th>mother_age</th>\n",
       "      <th>plurality</th>\n",
       "      <th>gestation_weeks</th>\n",
       "      <th>hashmonth</th>\n",
       "    </tr>\n",
       "  </thead>\n",
       "  <tbody>\n",
       "    <tr>\n",
       "      <th>count</th>\n",
       "      <td>15098.000000</td>\n",
       "      <td>15118.000000</td>\n",
       "      <td>15118.000000</td>\n",
       "      <td>15012.000000</td>\n",
       "      <td>1.511800e+04</td>\n",
       "    </tr>\n",
       "    <tr>\n",
       "      <th>mean</th>\n",
       "      <td>7.244834</td>\n",
       "      <td>27.402037</td>\n",
       "      <td>1.033007</td>\n",
       "      <td>38.615441</td>\n",
       "      <td>-2.900248e+17</td>\n",
       "    </tr>\n",
       "    <tr>\n",
       "      <th>std</th>\n",
       "      <td>1.324770</td>\n",
       "      <td>6.207927</td>\n",
       "      <td>0.190488</td>\n",
       "      <td>2.552714</td>\n",
       "      <td>5.241513e+18</td>\n",
       "    </tr>\n",
       "    <tr>\n",
       "      <th>min</th>\n",
       "      <td>0.593043</td>\n",
       "      <td>13.000000</td>\n",
       "      <td>1.000000</td>\n",
       "      <td>17.000000</td>\n",
       "      <td>-9.183606e+18</td>\n",
       "    </tr>\n",
       "    <tr>\n",
       "      <th>25%</th>\n",
       "      <td>6.563162</td>\n",
       "      <td>22.000000</td>\n",
       "      <td>1.000000</td>\n",
       "      <td>38.000000</td>\n",
       "      <td>-5.107973e+18</td>\n",
       "    </tr>\n",
       "    <tr>\n",
       "      <th>50%</th>\n",
       "      <td>7.312733</td>\n",
       "      <td>27.000000</td>\n",
       "      <td>1.000000</td>\n",
       "      <td>39.000000</td>\n",
       "      <td>-1.002950e+18</td>\n",
       "    </tr>\n",
       "    <tr>\n",
       "      <th>75%</th>\n",
       "      <td>8.062305</td>\n",
       "      <td>32.000000</td>\n",
       "      <td>1.000000</td>\n",
       "      <td>40.000000</td>\n",
       "      <td>3.572456e+18</td>\n",
       "    </tr>\n",
       "    <tr>\n",
       "      <th>max</th>\n",
       "      <td>15.000252</td>\n",
       "      <td>54.000000</td>\n",
       "      <td>4.000000</td>\n",
       "      <td>47.000000</td>\n",
       "      <td>8.599690e+18</td>\n",
       "    </tr>\n",
       "  </tbody>\n",
       "</table>\n",
       "</div>"
      ],
      "text/plain": [
       "       weight_pounds    mother_age     plurality  gestation_weeks  \\\n",
       "count   15098.000000  15118.000000  15118.000000     15012.000000   \n",
       "mean        7.244834     27.402037      1.033007        38.615441   \n",
       "std         1.324770      6.207927      0.190488         2.552714   \n",
       "min         0.593043     13.000000      1.000000        17.000000   \n",
       "25%         6.563162     22.000000      1.000000        38.000000   \n",
       "50%         7.312733     27.000000      1.000000        39.000000   \n",
       "75%         8.062305     32.000000      1.000000        40.000000   \n",
       "max        15.000252     54.000000      4.000000        47.000000   \n",
       "\n",
       "          hashmonth  \n",
       "count  1.511800e+04  \n",
       "mean  -2.900248e+17  \n",
       "std    5.241513e+18  \n",
       "min   -9.183606e+18  \n",
       "25%   -5.107973e+18  \n",
       "50%   -1.002950e+18  \n",
       "75%    3.572456e+18  \n",
       "max    8.599690e+18  "
      ]
     },
     "execution_count": 21,
     "metadata": {},
     "output_type": "execute_result"
    }
   ],
   "source": [
    "traindf.describe()"
   ]
  },
  {
   "cell_type": "code",
   "execution_count": 22,
   "metadata": {
    "collapsed": false
   },
   "outputs": [],
   "source": [
    "import pandas as pd\n",
    "def preprocess(df):\n",
    "  # clean up data we don't want to train on\n",
    "  # in other words, users will have to tell us the mother's age\n",
    "  # otherwise, our ML service won't work.\n",
    "  # these were chosen because they are such good predictors\n",
    "  # and because these are easy enough to collect\n",
    "  df = df[df.weight_pounds > 0]\n",
    "  df = df[df.mother_age > 0]\n",
    "  df = df[df.gestation_weeks > 0]\n",
    "  df = df[df.plurality > 0]\n",
    "  \n",
    "  # modify plurality field to be a string\n",
    "  twins_etc = dict(zip([1,2,3,4,5],\n",
    "                   ['Single(1)', 'Twins(2)', 'Triplets(3)', 'Quadruplets(4)', 'Quintuplets(5)']))\n",
    "  df['plurality'].replace(twins_etc, inplace=True)\n",
    "  \n",
    "  # now create extra rows to simulate lack of ultrasound\n",
    "  nous = df.copy(deep=True)\n",
    "  nous.loc[nous['plurality'] != 'Single(1)', 'plurality'] = 'Multiple(2+)'\n",
    "  nous['is_male'] = 'Unknown'\n",
    "  \n",
    "  return pd.concat([df, nous])\n",
    "\n",
    "traindf = preprocess(traindf)\n",
    "evaldf = preprocess(traindf)"
   ]
  },
  {
   "cell_type": "code",
   "execution_count": 23,
   "metadata": {
    "collapsed": false
   },
   "outputs": [
    {
     "data": {
      "text/html": [
       "<div>\n",
       "<style scoped>\n",
       "    .dataframe tbody tr th:only-of-type {\n",
       "        vertical-align: middle;\n",
       "    }\n",
       "\n",
       "    .dataframe tbody tr th {\n",
       "        vertical-align: top;\n",
       "    }\n",
       "\n",
       "    .dataframe thead th {\n",
       "        text-align: right;\n",
       "    }\n",
       "</style>\n",
       "<table border=\"1\" class=\"dataframe\">\n",
       "  <thead>\n",
       "    <tr style=\"text-align: right;\">\n",
       "      <th></th>\n",
       "      <th>weight_pounds</th>\n",
       "      <th>is_male</th>\n",
       "      <th>mother_age</th>\n",
       "      <th>plurality</th>\n",
       "      <th>gestation_weeks</th>\n",
       "      <th>hashmonth</th>\n",
       "    </tr>\n",
       "  </thead>\n",
       "  <tbody>\n",
       "    <tr>\n",
       "      <th>0</th>\n",
       "      <td>5.423372</td>\n",
       "      <td>True</td>\n",
       "      <td>13</td>\n",
       "      <td>Single(1)</td>\n",
       "      <td>37.0</td>\n",
       "      <td>124458947937444850</td>\n",
       "    </tr>\n",
       "    <tr>\n",
       "      <th>1</th>\n",
       "      <td>4.625298</td>\n",
       "      <td>True</td>\n",
       "      <td>14</td>\n",
       "      <td>Single(1)</td>\n",
       "      <td>34.0</td>\n",
       "      <td>3095933535584005890</td>\n",
       "    </tr>\n",
       "    <tr>\n",
       "      <th>2</th>\n",
       "      <td>6.437498</td>\n",
       "      <td>False</td>\n",
       "      <td>14</td>\n",
       "      <td>Single(1)</td>\n",
       "      <td>36.0</td>\n",
       "      <td>-2995620979373137889</td>\n",
       "    </tr>\n",
       "    <tr>\n",
       "      <th>3</th>\n",
       "      <td>7.374463</td>\n",
       "      <td>True</td>\n",
       "      <td>14</td>\n",
       "      <td>Single(1)</td>\n",
       "      <td>37.0</td>\n",
       "      <td>8387817883864991792</td>\n",
       "    </tr>\n",
       "    <tr>\n",
       "      <th>4</th>\n",
       "      <td>6.937947</td>\n",
       "      <td>True</td>\n",
       "      <td>14</td>\n",
       "      <td>Single(1)</td>\n",
       "      <td>39.0</td>\n",
       "      <td>-1305143018446161857</td>\n",
       "    </tr>\n",
       "  </tbody>\n",
       "</table>\n",
       "</div>"
      ],
      "text/plain": [
       "   weight_pounds is_male  mother_age  plurality  gestation_weeks  \\\n",
       "0       5.423372    True          13  Single(1)             37.0   \n",
       "1       4.625298    True          14  Single(1)             34.0   \n",
       "2       6.437498   False          14  Single(1)             36.0   \n",
       "3       7.374463    True          14  Single(1)             37.0   \n",
       "4       6.937947    True          14  Single(1)             39.0   \n",
       "\n",
       "             hashmonth  \n",
       "0   124458947937444850  \n",
       "1  3095933535584005890  \n",
       "2 -2995620979373137889  \n",
       "3  8387817883864991792  \n",
       "4 -1305143018446161857  "
      ]
     },
     "execution_count": 23,
     "metadata": {},
     "output_type": "execute_result"
    }
   ],
   "source": [
    "traindf.head()"
   ]
  },
  {
   "cell_type": "code",
   "execution_count": 24,
   "metadata": {
    "collapsed": false
   },
   "outputs": [
    {
     "data": {
      "text/html": [
       "<div>\n",
       "<style scoped>\n",
       "    .dataframe tbody tr th:only-of-type {\n",
       "        vertical-align: middle;\n",
       "    }\n",
       "\n",
       "    .dataframe tbody tr th {\n",
       "        vertical-align: top;\n",
       "    }\n",
       "\n",
       "    .dataframe thead th {\n",
       "        text-align: right;\n",
       "    }\n",
       "</style>\n",
       "<table border=\"1\" class=\"dataframe\">\n",
       "  <thead>\n",
       "    <tr style=\"text-align: right;\">\n",
       "      <th></th>\n",
       "      <th>weight_pounds</th>\n",
       "      <th>is_male</th>\n",
       "      <th>mother_age</th>\n",
       "      <th>plurality</th>\n",
       "      <th>gestation_weeks</th>\n",
       "      <th>hashmonth</th>\n",
       "    </tr>\n",
       "  </thead>\n",
       "  <tbody>\n",
       "    <tr>\n",
       "      <th>15113</th>\n",
       "      <td>4.332083</td>\n",
       "      <td>Unknown</td>\n",
       "      <td>47</td>\n",
       "      <td>Multiple(2+)</td>\n",
       "      <td>34.0</td>\n",
       "      <td>-1195438672706281328</td>\n",
       "    </tr>\n",
       "    <tr>\n",
       "      <th>15114</th>\n",
       "      <td>6.750554</td>\n",
       "      <td>Unknown</td>\n",
       "      <td>49</td>\n",
       "      <td>Multiple(2+)</td>\n",
       "      <td>38.0</td>\n",
       "      <td>-5107972924983092617</td>\n",
       "    </tr>\n",
       "    <tr>\n",
       "      <th>15115</th>\n",
       "      <td>5.577695</td>\n",
       "      <td>Unknown</td>\n",
       "      <td>49</td>\n",
       "      <td>Multiple(2+)</td>\n",
       "      <td>34.0</td>\n",
       "      <td>-7146494315947640619</td>\n",
       "    </tr>\n",
       "    <tr>\n",
       "      <th>15116</th>\n",
       "      <td>7.625790</td>\n",
       "      <td>Unknown</td>\n",
       "      <td>50</td>\n",
       "      <td>Single(1)</td>\n",
       "      <td>39.0</td>\n",
       "      <td>-4329667052416032880</td>\n",
       "    </tr>\n",
       "    <tr>\n",
       "      <th>15117</th>\n",
       "      <td>7.297301</td>\n",
       "      <td>Unknown</td>\n",
       "      <td>54</td>\n",
       "      <td>Single(1)</td>\n",
       "      <td>38.0</td>\n",
       "      <td>-9068386407968572094</td>\n",
       "    </tr>\n",
       "  </tbody>\n",
       "</table>\n",
       "</div>"
      ],
      "text/plain": [
       "       weight_pounds  is_male  mother_age     plurality  gestation_weeks  \\\n",
       "15113       4.332083  Unknown          47  Multiple(2+)             34.0   \n",
       "15114       6.750554  Unknown          49  Multiple(2+)             38.0   \n",
       "15115       5.577695  Unknown          49  Multiple(2+)             34.0   \n",
       "15116       7.625790  Unknown          50     Single(1)             39.0   \n",
       "15117       7.297301  Unknown          54     Single(1)             38.0   \n",
       "\n",
       "                 hashmonth  \n",
       "15113 -1195438672706281328  \n",
       "15114 -5107972924983092617  \n",
       "15115 -7146494315947640619  \n",
       "15116 -4329667052416032880  \n",
       "15117 -9068386407968572094  "
      ]
     },
     "execution_count": 24,
     "metadata": {},
     "output_type": "execute_result"
    }
   ],
   "source": [
    "traindf.tail()"
   ]
  },
  {
   "cell_type": "code",
   "execution_count": 26,
   "metadata": {
    "collapsed": false
   },
   "outputs": [
    {
     "data": {
      "text/html": [
       "<div>\n",
       "<style scoped>\n",
       "    .dataframe tbody tr th:only-of-type {\n",
       "        vertical-align: middle;\n",
       "    }\n",
       "\n",
       "    .dataframe tbody tr th {\n",
       "        vertical-align: top;\n",
       "    }\n",
       "\n",
       "    .dataframe thead th {\n",
       "        text-align: right;\n",
       "    }\n",
       "</style>\n",
       "<table border=\"1\" class=\"dataframe\">\n",
       "  <thead>\n",
       "    <tr style=\"text-align: right;\">\n",
       "      <th></th>\n",
       "      <th>weight_pounds</th>\n",
       "      <th>mother_age</th>\n",
       "      <th>gestation_weeks</th>\n",
       "      <th>hashmonth</th>\n",
       "    </tr>\n",
       "  </thead>\n",
       "  <tbody>\n",
       "    <tr>\n",
       "      <th>count</th>\n",
       "      <td>29990.000000</td>\n",
       "      <td>29990.000000</td>\n",
       "      <td>29990.000000</td>\n",
       "      <td>2.999000e+04</td>\n",
       "    </tr>\n",
       "    <tr>\n",
       "      <th>mean</th>\n",
       "      <td>7.243869</td>\n",
       "      <td>27.409670</td>\n",
       "      <td>38.624808</td>\n",
       "      <td>-2.798088e+17</td>\n",
       "    </tr>\n",
       "    <tr>\n",
       "      <th>std</th>\n",
       "      <td>1.325488</td>\n",
       "      <td>6.206579</td>\n",
       "      <td>2.522620</td>\n",
       "      <td>5.240128e+18</td>\n",
       "    </tr>\n",
       "    <tr>\n",
       "      <th>min</th>\n",
       "      <td>0.593043</td>\n",
       "      <td>13.000000</td>\n",
       "      <td>17.000000</td>\n",
       "      <td>-9.183606e+18</td>\n",
       "    </tr>\n",
       "    <tr>\n",
       "      <th>25%</th>\n",
       "      <td>6.563162</td>\n",
       "      <td>22.000000</td>\n",
       "      <td>38.000000</td>\n",
       "      <td>-5.107973e+18</td>\n",
       "    </tr>\n",
       "    <tr>\n",
       "      <th>50%</th>\n",
       "      <td>7.312733</td>\n",
       "      <td>27.000000</td>\n",
       "      <td>39.000000</td>\n",
       "      <td>-1.002950e+18</td>\n",
       "    </tr>\n",
       "    <tr>\n",
       "      <th>75%</th>\n",
       "      <td>8.062305</td>\n",
       "      <td>32.000000</td>\n",
       "      <td>40.000000</td>\n",
       "      <td>3.572456e+18</td>\n",
       "    </tr>\n",
       "    <tr>\n",
       "      <th>max</th>\n",
       "      <td>15.000252</td>\n",
       "      <td>54.000000</td>\n",
       "      <td>47.000000</td>\n",
       "      <td>8.599690e+18</td>\n",
       "    </tr>\n",
       "  </tbody>\n",
       "</table>\n",
       "</div>"
      ],
      "text/plain": [
       "       weight_pounds    mother_age  gestation_weeks     hashmonth\n",
       "count   29990.000000  29990.000000     29990.000000  2.999000e+04\n",
       "mean        7.243869     27.409670        38.624808 -2.798088e+17\n",
       "std         1.325488      6.206579         2.522620  5.240128e+18\n",
       "min         0.593043     13.000000        17.000000 -9.183606e+18\n",
       "25%         6.563162     22.000000        38.000000 -5.107973e+18\n",
       "50%         7.312733     27.000000        39.000000 -1.002950e+18\n",
       "75%         8.062305     32.000000        40.000000  3.572456e+18\n",
       "max        15.000252     54.000000        47.000000  8.599690e+18"
      ]
     },
     "execution_count": 26,
     "metadata": {},
     "output_type": "execute_result"
    }
   ],
   "source": [
    "# describe only does numeric columns, so you won't see plurality\n",
    "traindf.describe()"
   ]
  },
  {
   "cell_type": "markdown",
   "metadata": {},
   "source": [
    "<h2> Write out </h2>\n",
    "<p>\n",
    "In the final versions, we want to read from files, not Pandas dataframes. So, write the Pandas dataframes out as CSV files. \n",
    "Using CSV files gives us the advantage of shuffling during read. This is important for distributed training because some workers might be slower than others, and shuffling the data helps prevent the same data from being assigned to the slow workers.\n"
   ]
  },
  {
   "cell_type": "code",
   "execution_count": 27,
   "metadata": {
    "collapsed": false
   },
   "outputs": [],
   "source": [
    "traindf.to_csv('train.csv', index=False, header=False)\n",
    "evaldf.to_csv('eval.csv', index=False, header=False)"
   ]
  },
  {
   "cell_type": "code",
   "execution_count": 29,
   "metadata": {
    "collapsed": false
   },
   "outputs": [
    {
     "name": "stdout",
     "output_type": "stream",
     "text": [
      "  59980 eval.csv\n",
      "  29990 train.csv\n",
      "  89970 total\n",
      "==> eval.csv <==\n",
      "5.4233716452,True,13,Single(1),37.0,124458947937444850\n",
      "4.62529825676,True,14,Single(1),34.0,3095933535584005890\n",
      "6.4374980503999994,False,14,Single(1),36.0,-2995620979373137889\n",
      "7.3744626639,True,14,Single(1),37.0,8387817883864991792\n",
      "6.93794738514,True,14,Single(1),39.0,-1305143018446161857\n",
      "5.43659938092,True,14,Single(1),38.0,7186614341837170520\n",
      "8.5870051049,True,14,Single(1),40.0,-6141045177192779423\n",
      "6.87621795178,True,14,Single(1),39.0,8599690069971956834\n",
      "5.621787681,True,14,Single(1),40.0,7604198770453299557\n",
      "7.1980928543,True,14,Single(1),41.0,6691862025345277042\n",
      "\n",
      "==> train.csv <==\n",
      "5.4233716452,True,13,Single(1),37.0,124458947937444850\n",
      "4.62529825676,True,14,Single(1),34.0,3095933535584005890\n",
      "6.4374980503999994,False,14,Single(1),36.0,-2995620979373137889\n",
      "7.3744626639,True,14,Single(1),37.0,8387817883864991792\n",
      "6.93794738514,True,14,Single(1),39.0,-1305143018446161857\n",
      "5.43659938092,True,14,Single(1),38.0,7186614341837170520\n",
      "8.5870051049,True,14,Single(1),40.0,-6141045177192779423\n",
      "6.87621795178,True,14,Single(1),39.0,8599690069971956834\n",
      "5.621787681,True,14,Single(1),40.0,7604198770453299557\n",
      "7.1980928543,True,14,Single(1),41.0,6691862025345277042\n",
      "==> eval.csv <==\n",
      "8.7854211407,Unknown,46,Single(1),40.0,-411066950820961322\n",
      "9.18666245754,Unknown,46,Single(1),38.0,7895641210289919997\n",
      "5.0926782522,Unknown,46,Multiple(2+),37.0,-774501970389208065\n",
      "6.13546475146,Unknown,47,Single(1),39.0,454960867574323744\n",
      "5.0155164605,Unknown,47,Single(1),41.0,8599690069971956834\n",
      "4.3320834483,Unknown,47,Multiple(2+),34.0,-1195438672706281328\n",
      "6.75055446244,Unknown,49,Multiple(2+),38.0,-5107972924983092617\n",
      "5.5776952286,Unknown,49,Multiple(2+),34.0,-7146494315947640619\n",
      "7.62578964258,Unknown,50,Single(1),39.0,-4329667052416032880\n",
      "7.2973008722,Unknown,54,Single(1),38.0,-9068386407968572094\n",
      "\n",
      "==> train.csv <==\n",
      "8.7854211407,Unknown,46,Single(1),40.0,-411066950820961322\n",
      "9.18666245754,Unknown,46,Single(1),38.0,7895641210289919997\n",
      "5.0926782522,Unknown,46,Multiple(2+),37.0,-774501970389208065\n",
      "6.13546475146,Unknown,47,Single(1),39.0,454960867574323744\n",
      "5.0155164605,Unknown,47,Single(1),41.0,8599690069971956834\n",
      "4.3320834483,Unknown,47,Multiple(2+),34.0,-1195438672706281328\n",
      "6.75055446244,Unknown,49,Multiple(2+),38.0,-5107972924983092617\n",
      "5.5776952286,Unknown,49,Multiple(2+),34.0,-7146494315947640619\n",
      "7.62578964258,Unknown,50,Single(1),39.0,-4329667052416032880\n",
      "7.2973008722,Unknown,54,Single(1),38.0,-9068386407968572094\n"
     ]
    }
   ],
   "source": [
    "%bash\n",
    "wc -l *.csv\n",
    "head *.csv\n",
    "tail *.csv"
   ]
  },
  {
   "cell_type": "markdown",
   "metadata": {},
   "source": [
    "Copyright 2017-2018 Google Inc. Licensed under the Apache License, Version 2.0 (the \"License\"); you may not use this file except in compliance with the License. You may obtain a copy of the License at http://www.apache.org/licenses/LICENSE-2.0 Unless required by applicable law or agreed to in writing, software distributed under the License is distributed on an \"AS IS\" BASIS, WITHOUT WARRANTIES OR CONDITIONS OF ANY KIND, either express or implied. See the License for the specific language governing permissions and limitations under the License"
   ]
  },
  {
   "cell_type": "code",
   "execution_count": null,
   "metadata": {
    "collapsed": true
   },
   "outputs": [],
   "source": []
  }
 ],
 "metadata": {
  "kernelspec": {
   "display_name": "Python 2",
   "language": "python",
   "name": "python2"
  },
  "language_info": {
   "codemirror_mode": {
    "name": "ipython",
    "version": 2
   },
   "file_extension": ".py",
   "mimetype": "text/x-python",
   "name": "python",
   "nbconvert_exporter": "python",
   "pygments_lexer": "ipython2",
   "version": "2.7.12"
  }
 },
 "nbformat": 4,
 "nbformat_minor": 2
}
