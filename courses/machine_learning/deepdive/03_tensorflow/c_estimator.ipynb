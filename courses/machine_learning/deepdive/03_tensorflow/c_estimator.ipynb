{
 "cells": [
  {
   "cell_type": "markdown",
   "metadata": {},
   "source": [
    "# Introducing tf.estimator\n",
    "**Learning Objectives**\n",
    "  - Understand where the `tf.estimator` module sits in the hierarchy of Tensorflow APIs\n",
    "  - Understand the workflow of creating a `tf.estimator` model\n",
    "    1. Create Feature Columns\n",
    "    2. Create Input Functions\n",
    "    3. Create Estimator\n",
    "    4. Train/Evaluate/Predict\n",
    "  - Understand how to swap in/out different types of Estimators\n",
    "  \n",
    "Tensorflow is a hierarchical framework. The further down the hierarchy you go, the more flexibility you have, but that more code you have to write. Generally one starts at the highest level of abstraction. Then if you need additional flexibility drop down one layer.\n",
    "\n",
    "<img src='assets/TFHierarchy.png' width='50%'>\n",
    "<sup>(image: https://www.tensorflow.org/guide/premade_estimators)</sup>\n",
    "\n",
    "In this notebook we will be operating at the highest level of Tensorflow abstraction, using the Estimator API to predict taxifare prices on the sampled dataset we created previously."
   ]
  },
  {
   "cell_type": "code",
   "execution_count": 1,
   "metadata": {},
   "outputs": [
    {
     "name": "stderr",
     "output_type": "stream",
     "text": [
      "/usr/local/envs/py3env/lib/python3.5/site-packages/h5py/__init__.py:36: FutureWarning: Conversion of the second argument of issubdtype from `float` to `np.floating` is deprecated. In future, it will be treated as `np.float64 == np.dtype(float).type`.\n",
      "  from ._conv import register_converters as _register_converters\n"
     ]
    },
    {
     "name": "stdout",
     "output_type": "stream",
     "text": [
      "1.12.0\n"
     ]
    }
   ],
   "source": [
    "import tensorflow as tf\n",
    "import pandas as pd\n",
    "import shutil\n",
    "\n",
    "print(tf.__version__)"
   ]
  },
  {
   "cell_type": "markdown",
   "metadata": {},
   "source": [
    "## 1) Load Raw Data \n",
    "\n",
    "First let's download the raw .csv data. These are the same files created in the `create_datasets.ipynb` notebook"
   ]
  },
  {
   "cell_type": "code",
   "execution_count": 2,
   "metadata": {},
   "outputs": [
    {
     "name": "stdout",
     "output_type": "stream",
     "text": [
      "Copying gs://cloud-training-demos/taxifare/small/taxi-test.csv...\n",
      "Copying gs://cloud-training-demos/taxifare/small/taxi-train.csv...              \n",
      "Copying gs://cloud-training-demos/taxifare/small/taxi-valid.csv...              \n",
      "| [3 files][ 13.0 MiB/ 13.0 MiB]                                                \n",
      "Operation completed over 3 objects/13.0 MiB.                                     \n",
      "-rw-r--r-- 1 root root 2140289 Jan  4 15:47 taxi-test.csv\n",
      "-rw-r--r-- 1 root root 9502508 Jan  4 15:47 taxi-train.csv\n",
      "-rw-r--r-- 1 root root 1991957 Jan  4 15:47 taxi-valid.csv\n"
     ]
    }
   ],
   "source": [
    "!gsutil cp gs://cloud-training-demos/taxifare/small/*.csv .\n",
    "!ls -l *.csv"
   ]
  },
  {
   "cell_type": "markdown",
   "metadata": {},
   "source": [
    "Because the files are small we can load them into in-memory Pandas dataframes."
   ]
  },
  {
   "cell_type": "code",
   "execution_count": 3,
   "metadata": {},
   "outputs": [
    {
     "name": "stdout",
     "output_type": "stream",
     "text": [
      "['fare_amount', 'dayofweek', 'hourofday', 'pickuplon', 'pickuplat', 'dropofflon', 'dropofflat', 'passengers', 'key']\n"
     ]
    }
   ],
   "source": [
    "df_train = pd.read_csv('./taxi-train.csv')\n",
    "df_valid = pd.read_csv('./taxi-valid.csv')\n",
    "df_test = pd.read_csv('./taxi-test.csv')\n",
    "\n",
    "CSV_COLUMN_NAMES = list(df_train)\n",
    "print(CSV_COLUMN_NAMES)\n",
    "\n",
    "FEATURE_NAMES = CSV_COLUMN_NAMES[1:len(CSV_COLUMN_NAMES) - 1] # all but first and last columns\n",
    "LABEL_NAME = CSV_COLUMN_NAMES[0] # first column"
   ]
  },
  {
   "cell_type": "markdown",
   "metadata": {},
   "source": [
    "## 2) Create Feature Columns\n",
    "\n",
    "Feature columns make it easy to perform common type of feature engineering on your raw data. For example you can one-hot encode categorical data, create feature crosses, embeddings and more. We'll cover these later in the course, but if you want to a sneak peak browse the official TensorFlow [feature columns guide](https://www.tensorflow.org/guide/feature_columns).\n",
    "\n",
    "In our case we won't do any feature engineering. However we still need to create a list of feature columns because the Estimator we will use requires one. To specify the numeric values should be passed on without modification we use `tf.feature_column.numeric_column()`\n",
    "\n",
    "We use a [python list comprehension](https://www.pythonforbeginners.com/basics/list-comprehensions-in-python) to create the list of feature columns, which is just an elegant alternative to a for loop."
   ]
  },
  {
   "cell_type": "code",
   "execution_count": 4,
   "metadata": {},
   "outputs": [
    {
     "data": {
      "text/plain": [
       "[_NumericColumn(key='dayofweek', shape=(1,), default_value=None, dtype=tf.float32, normalizer_fn=None),\n",
       " _NumericColumn(key='hourofday', shape=(1,), default_value=None, dtype=tf.float32, normalizer_fn=None),\n",
       " _NumericColumn(key='pickuplon', shape=(1,), default_value=None, dtype=tf.float32, normalizer_fn=None),\n",
       " _NumericColumn(key='pickuplat', shape=(1,), default_value=None, dtype=tf.float32, normalizer_fn=None),\n",
       " _NumericColumn(key='dropofflon', shape=(1,), default_value=None, dtype=tf.float32, normalizer_fn=None),\n",
       " _NumericColumn(key='dropofflat', shape=(1,), default_value=None, dtype=tf.float32, normalizer_fn=None),\n",
       " _NumericColumn(key='passengers', shape=(1,), default_value=None, dtype=tf.float32, normalizer_fn=None)]"
      ]
     },
     "execution_count": 4,
     "metadata": {},
     "output_type": "execute_result"
    }
   ],
   "source": [
    "feature_columns = [tf.feature_column.numeric_column(k) for k in FEATURE_NAMES]\n",
    "feature_columns"
   ]
  },
  {
   "cell_type": "markdown",
   "metadata": {},
   "source": [
    "## 3) Define Input Function\n",
    "\n",
    "Now that your estimator knows what type of data to expect and how to intepret it, you need to actually pass the data to it! This is the job of the input function.\n",
    "\n",
    "The input function returns a new batch of (features, label) tuples each time it is called by the Estimator.\n",
    "\n",
    "- features: A python dictionary. Each key is a feature column name and its value is the tensor containing the data for that feature\n",
    "- label: A Tensor containing the labels\n",
    "\n",
    "So how do we get from our current Pandas dataframes to (features, label) tuples that return one batch at a time?\n",
    "\n",
    "The `tf.data` module contains a collection of classes that allows you to easily load data, manipulate it, and pipe it into your model. https://www.tensorflow.org/guide/datasets_for_estimators"
   ]
  },
  {
   "cell_type": "code",
   "execution_count": 5,
   "metadata": {},
   "outputs": [],
   "source": [
    "def train_input_fn(df, batch_size=128):\n",
    "    #1. Convert dataframe into correct (features,label) format for Estimator API\n",
    "    dataset = tf.data.Dataset.from_tensor_slices((dict(df[FEATURE_NAMES]), df[LABEL_NAME]))\n",
    "    \n",
    "    # Note:\n",
    "    # If we returned now, the Dataset would iterate over the data once  \n",
    "    # in a fixed order, and only produce a single element at a time.\n",
    "    \n",
    "    #2. Shuffle, repeat, and batch the examples.\n",
    "    dataset = dataset.shuffle(1000).repeat().batch(batch_size)\n",
    "   \n",
    "    return dataset\n",
    "\n",
    "def eval_input_fn(df, batch_size=128):\n",
    "    #1. Convert dataframe into correct (features,label) format for Estimator API\n",
    "    dataset = tf.data.Dataset.from_tensor_slices((dict(df[FEATURE_NAMES]), df[LABEL_NAME]))\n",
    "    \n",
    "    #2.Batch the examples.\n",
    "    dataset = dataset.batch(batch_size)\n",
    "   \n",
    "    return dataset\n",
    "\n",
    "def predict_input_fn(df, batch_size=128):\n",
    "    #1. Convert dataframe into correct (features) format for Estimator API\n",
    "    dataset = tf.data.Dataset.from_tensor_slices(dict(df[FEATURE_NAMES])) # no label\n",
    "\n",
    "    #2.Batch the examples.\n",
    "    dataset = dataset.batch(batch_size)\n",
    "   \n",
    "    return dataset"
   ]
  },
  {
   "cell_type": "markdown",
   "metadata": {},
   "source": [
    "## 4) Choose Estimator\n",
    "\n",
    "Tensorflow has several premade estimators for you to choose from:\n",
    "\n",
    "- LinearClassifier/Regressor\n",
    "- BoostedTreesClassifier/Regressor\n",
    "- DNNClassifier/Regressor\n",
    "- DNNLinearCombinedClassifier/Regressor\n",
    "\n",
    "If none of these meet your needs you can implement a custom estimator using `tf.Keras`. We'll cover that later in the course.\n",
    "\n",
    "For now we will use the premade LinearRegressor. To instantiate an estimator simply pass it what feature columns to expect and specify an directory for it to output checkpoint files to."
   ]
  },
  {
   "cell_type": "code",
   "execution_count": 6,
   "metadata": {},
   "outputs": [
    {
     "name": "stdout",
     "output_type": "stream",
     "text": [
      "INFO:tensorflow:Using config: {'_device_fn': None, '_protocol': None, '_num_worker_replicas': 1, '_evaluation_master': '', '_global_id_in_cluster': 0, '_save_checkpoints_steps': None, '_save_summary_steps': 100, '_save_checkpoints_secs': 600, '_is_chief': True, '_cluster_spec': <tensorflow.python.training.server_lib.ClusterSpec object at 0x7fbef756c320>, '_session_config': allow_soft_placement: true\n",
      "graph_options {\n",
      "  rewrite_options {\n",
      "    meta_optimizer_iterations: ONE\n",
      "  }\n",
      "}\n",
      ", '_log_step_count_steps': 100, '_master': '', '_keep_checkpoint_max': 5, '_task_type': 'worker', '_keep_checkpoint_every_n_hours': 10000, '_num_ps_replicas': 0, '_eval_distribute': None, '_tf_random_seed': 1, '_train_distribute': None, '_task_id': 0, '_service': None, '_experimental_distribute': None, '_model_dir': 'taxi_trained'}\n"
     ]
    }
   ],
   "source": [
    "OUTDIR = 'taxi_trained'\n",
    "\n",
    "model = tf.estimator.LinearRegressor(\n",
    "    feature_columns=feature_columns,\n",
    "    model_dir = OUTDIR,\n",
    "    config = tf.estimator.RunConfig(tf_random_seed=1) # for reproducibility\n",
    ")"
   ]
  },
  {
   "cell_type": "markdown",
   "metadata": {},
   "source": [
    "## 5) Train\n",
    "\n",
    "Simply invoke the estimator's `train()` function. Specify the `input_fn` which tells it how to load in data, and specify the number of steps to train for.\n",
    "\n",
    "By default estimators check the output directory for checkpoint files before beginning training, so it can pickup where it last left off. To prevent this we'll delete the output directory before starting training each time."
   ]
  },
  {
   "cell_type": "code",
   "execution_count": 7,
   "metadata": {},
   "outputs": [
    {
     "name": "stdout",
     "output_type": "stream",
     "text": [
      "INFO:tensorflow:Calling model_fn.\n",
      "INFO:tensorflow:Done calling model_fn.\n",
      "INFO:tensorflow:Create CheckpointSaverHook.\n",
      "INFO:tensorflow:Graph was finalized.\n",
      "INFO:tensorflow:Running local_init_op.\n",
      "INFO:tensorflow:Done running local_init_op.\n",
      "INFO:tensorflow:Saving checkpoints for 0 into taxi_trained/model.ckpt.\n",
      "INFO:tensorflow:loss = 24910.258, step = 1\n",
      "INFO:tensorflow:global_step/sec: 150.87\n",
      "INFO:tensorflow:loss = 9070.877, step = 101 (0.666 sec)\n",
      "INFO:tensorflow:global_step/sec: 170.907\n",
      "INFO:tensorflow:loss = 13726.058, step = 201 (0.587 sec)\n",
      "INFO:tensorflow:global_step/sec: 175.747\n",
      "INFO:tensorflow:loss = 7174.369, step = 301 (0.565 sec)\n",
      "INFO:tensorflow:global_step/sec: 166.469\n",
      "INFO:tensorflow:loss = 9994.819, step = 401 (0.601 sec)\n",
      "INFO:tensorflow:Saving checkpoints for 500 into taxi_trained/model.ckpt.\n",
      "INFO:tensorflow:Loss for final step: 7577.169.\n",
      "CPU times: user 5.92 s, sys: 1.92 s, total: 7.84 s\n",
      "Wall time: 8.2 s\n"
     ]
    }
   ],
   "source": [
    "%%time\n",
    "tf.logging.set_verbosity(tf.logging.INFO) # so loss is printed during training\n",
    "shutil.rmtree(OUTDIR, ignore_errors = True) # start fresh each time\n",
    "\n",
    "model.train(\n",
    "    input_fn=lambda:train_input_fn(df_train), \n",
    "    steps=500)"
   ]
  },
  {
   "cell_type": "markdown",
   "metadata": {},
   "source": [
    "## 6) Evaluate\n",
    "\n",
    "Estimators similarly have an `evaluate()` function. In this case we don't need to specify the number of steps to train because we didn't tell our input function to repeat the data. Once the input function reaches the end of the data evaluation will end. \n",
    "\n",
    "Loss is reported as MSE by default so we take the square root before printing."
   ]
  },
  {
   "cell_type": "code",
   "execution_count": 8,
   "metadata": {},
   "outputs": [
    {
     "name": "stdout",
     "output_type": "stream",
     "text": [
      "INFO:tensorflow:Calling model_fn.\n",
      "INFO:tensorflow:Done calling model_fn.\n",
      "INFO:tensorflow:Starting evaluation at 2019-01-04-15:47:55\n",
      "INFO:tensorflow:Graph was finalized.\n",
      "INFO:tensorflow:Restoring parameters from taxi_trained/model.ckpt-500\n",
      "INFO:tensorflow:Running local_init_op.\n",
      "INFO:tensorflow:Done running local_init_op.\n",
      "INFO:tensorflow:Finished evaluation at 2019-01-04-15:47:56\n",
      "INFO:tensorflow:Saving dict for global step 500: average_loss = 89.170334, global_step = 500, label/mean = 11.229708, loss = 11395.181, prediction/mean = 10.76625\n",
      "INFO:tensorflow:Saving 'checkpoint_path' summary for global step 500: taxi_trained/model.ckpt-500\n",
      "RMSE on dataset = 9.443004493396405\n"
     ]
    }
   ],
   "source": [
    "def print_rmse(model, df):\n",
    "  metrics = model.evaluate(input_fn=lambda:eval_input_fn(df))\n",
    "  print('RMSE on dataset = {}'.format(metrics['average_loss']**.5))\n",
    "print_rmse(model, df_valid)"
   ]
  },
  {
   "cell_type": "markdown",
   "metadata": {},
   "source": [
    "RMSE of 9.44 is  worse than our rules based benchmark (RMSE of $7.46). However given that we haven't done any feature engineering or hyperparameter tuning, and we're training on a small dataset using a simple linear model, we shouldn't yet expect good performance. \n",
    "\n",
    "The goal at this point is to demonstrate the mechanics of the Estimator API. In subsequent notebooks we'll improve on the model."
   ]
  },
  {
   "cell_type": "markdown",
   "metadata": {},
   "source": [
    "## 7) Predict"
   ]
  },
  {
   "cell_type": "code",
   "execution_count": null,
   "metadata": {},
   "outputs": [],
   "source": [
    "predictions = model.predict(input_fn=lambda:predict_input_fn(df_test))\n",
    "for items in predictions:\n",
    "  print(items)"
   ]
  },
  {
   "cell_type": "markdown",
   "metadata": {},
   "source": [
    "Further evidence of the primitiveness of our model, it predicts almost the same amount for every trip!"
   ]
  },
  {
   "cell_type": "markdown",
   "metadata": {},
   "source": [
    "## 8) Change Estimator Type\n",
    "\n",
    "One of the payoffs for using the Estimator API is we can swap in a different model type with just a few lines of code. Let's try a DNN. Note how now we need to specify the number of neurons in each hidden layer."
   ]
  },
  {
   "cell_type": "code",
   "execution_count": 10,
   "metadata": {},
   "outputs": [
    {
     "name": "stdout",
     "output_type": "stream",
     "text": [
      "INFO:tensorflow:Using config: {'_device_fn': None, '_protocol': None, '_num_worker_replicas': 1, '_evaluation_master': '', '_global_id_in_cluster': 0, '_save_checkpoints_steps': None, '_save_summary_steps': 100, '_save_checkpoints_secs': 600, '_is_chief': True, '_cluster_spec': <tensorflow.python.training.server_lib.ClusterSpec object at 0x7fbef5bfadd8>, '_session_config': allow_soft_placement: true\n",
      "graph_options {\n",
      "  rewrite_options {\n",
      "    meta_optimizer_iterations: ONE\n",
      "  }\n",
      "}\n",
      ", '_log_step_count_steps': 100, '_master': '', '_keep_checkpoint_max': 5, '_task_type': 'worker', '_keep_checkpoint_every_n_hours': 10000, '_num_ps_replicas': 0, '_eval_distribute': None, '_tf_random_seed': 1, '_train_distribute': None, '_task_id': 0, '_service': None, '_experimental_distribute': None, '_model_dir': 'taxi_trained'}\n",
      "INFO:tensorflow:Calling model_fn.\n",
      "INFO:tensorflow:Done calling model_fn.\n",
      "INFO:tensorflow:Create CheckpointSaverHook.\n",
      "INFO:tensorflow:Graph was finalized.\n",
      "INFO:tensorflow:Running local_init_op.\n",
      "INFO:tensorflow:Done running local_init_op.\n",
      "INFO:tensorflow:Saving checkpoints for 0 into taxi_trained/model.ckpt.\n",
      "INFO:tensorflow:loss = 106093.234, step = 1\n",
      "INFO:tensorflow:global_step/sec: 182.79\n",
      "INFO:tensorflow:loss = 8888.808, step = 101 (0.548 sec)\n",
      "INFO:tensorflow:global_step/sec: 193.789\n",
      "INFO:tensorflow:loss = 13519.512, step = 201 (0.517 sec)\n",
      "INFO:tensorflow:global_step/sec: 184.54\n",
      "INFO:tensorflow:loss = 7111.8496, step = 301 (0.541 sec)\n",
      "INFO:tensorflow:global_step/sec: 188.494\n",
      "INFO:tensorflow:loss = 9738.969, step = 401 (0.531 sec)\n",
      "INFO:tensorflow:Saving checkpoints for 500 into taxi_trained/model.ckpt.\n",
      "INFO:tensorflow:Loss for final step: 7638.993.\n",
      "INFO:tensorflow:Calling model_fn.\n",
      "INFO:tensorflow:Done calling model_fn.\n",
      "INFO:tensorflow:Starting evaluation at 2019-01-04-15:48:15\n",
      "INFO:tensorflow:Graph was finalized.\n",
      "INFO:tensorflow:Restoring parameters from taxi_trained/model.ckpt-500\n",
      "INFO:tensorflow:Running local_init_op.\n",
      "INFO:tensorflow:Done running local_init_op.\n",
      "INFO:tensorflow:Finished evaluation at 2019-01-04-15:48:16\n",
      "INFO:tensorflow:Saving dict for global step 500: average_loss = 85.70686, global_step = 500, label/mean = 11.229708, loss = 10952.58, prediction/mean = 11.036485\n",
      "INFO:tensorflow:Saving 'checkpoint_path' summary for global step 500: taxi_trained/model.ckpt-500\n",
      "RMSE on dataset = 9.257800138441114\n",
      "CPU times: user 5.7 s, sys: 1.82 s, total: 7.52 s\n",
      "Wall time: 7.72 s\n"
     ]
    }
   ],
   "source": [
    "%%time\n",
    "tf.logging.set_verbosity(tf.logging.INFO)\n",
    "shutil.rmtree(OUTDIR, ignore_errors = True) \n",
    "model = tf.estimator.DNNRegressor(\n",
    "    hidden_units = [10,10], # specify neural architecture\n",
    "    feature_columns = feature_columns, \n",
    "    model_dir = OUTDIR,\n",
    "    config = tf.estimator.RunConfig(tf_random_seed=1)\n",
    ")\n",
    "model.train(\n",
    "    input_fn=lambda:train_input_fn(df_train), \n",
    "    steps=500)\n",
    "print_rmse(model, df_valid)"
   ]
  },
  {
   "cell_type": "markdown",
   "metadata": {},
   "source": [
    "Our performance has improved slightly to 9.26, but still doesn't beat our simple rules based approach. This illustrates an important tenant of machine learning: A more complex model can't outrun bad data. \n",
    "\n",
    "Currently since we're not doing any feature engineering our input data has very little signal to learn from, so using a DNN doesn't help."
   ]
  },
  {
   "cell_type": "markdown",
   "metadata": {},
   "source": [
    "## Results Summary\n",
    "\n",
    "- Rules Based Benchmark: RMSE 7.46\n",
    "- Linear Model: RMSE 9.44\n",
    "- DNN Model: RMSE 9.26"
   ]
  },
  {
   "cell_type": "markdown",
   "metadata": {},
   "source": [
    "## Challenge Exercise\n",
    "\n",
    "Create a neural network that is capable of finding the volume of a cylinder given the radius of its base (r) and its height (h). Assume that the radius and height of the cylinder are both in the range 0.5 to 2.0. Simulate the necessary training dataset.\n",
    "<p>\n",
    "Hint (highlight to see):\n",
    "<p style='color:white'>\n",
    "The input features will be r and h and the label will be $\\pi r^2 h$\n",
    "Create random values for r and h and compute V.\n",
    "Your dataset will consist of r, h and V.\n",
    "Then, use a DNN regressor.\n",
    "Make sure to generate enough data.\n",
    "</p>"
   ]
  },
  {
   "cell_type": "markdown",
   "metadata": {},
   "source": [
    "Copyright 2019 Google Inc. Licensed under the Apache License, Version 2.0 (the \"License\"); you may not use this file except in compliance with the License. You may obtain a copy of the License at http://www.apache.org/licenses/LICENSE-2.0 Unless required by applicable law or agreed to in writing, software distributed under the License is distributed on an \"AS IS\" BASIS, WITHOUT WARRANTIES OR CONDITIONS OF ANY KIND, either express or implied. See the License for the specific language governing permissions and limitations under the License"
   ]
  }
 ],
 "metadata": {
  "kernelspec": {
   "display_name": "Python 3",
   "language": "python",
   "name": "python3"
  },
  "language_info": {
   "codemirror_mode": {
    "name": "ipython",
    "version": 3
   },
   "file_extension": ".py",
   "mimetype": "text/x-python",
   "name": "python",
   "nbconvert_exporter": "python",
   "pygments_lexer": "ipython3",
   "version": "3.5.6"
  }
 },
 "nbformat": 4,
 "nbformat_minor": 1
}
