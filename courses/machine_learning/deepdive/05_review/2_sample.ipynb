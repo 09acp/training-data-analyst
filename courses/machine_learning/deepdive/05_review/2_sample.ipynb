{
 "cells": [
  {
   "cell_type": "markdown",
   "metadata": {},
   "source": [
    "# Creating a Sampled Dataset\n",
    "\n",
    "**Learning Objectives**\n",
    "- Sample the natality dataset to create train/eval/test sets\n",
    "- Preprocess the data in Pandas dataframe"
   ]
  },
  {
   "cell_type": "markdown",
   "metadata": {},
   "source": [
    "## Introduction\n",
    "\n",
    "In this notebook we'll read data from BigQuery into our notebook to preprocess the data within a Pandas dataframe. "
   ]
  },
  {
   "cell_type": "code",
   "execution_count": 1,
   "metadata": {},
   "outputs": [],
   "source": [
    "PROJECT = 'munn-sandbox'  # Replace with your PROJECT\n",
    "BUCKET = 'munn-bucket'  # Replace with your BUCKET\n",
    "REGION = 'us-central1'            # Choose an available region for Cloud MLE \n",
    "TFVERSION = '1.12'                # TF version for CMLE to use"
   ]
  },
  {
   "cell_type": "code",
   "execution_count": 2,
   "metadata": {},
   "outputs": [],
   "source": [
    "import os\n",
    "os.environ['BUCKET'] = BUCKET\n",
    "os.environ['PROJECT'] = PROJECT\n",
    "os.environ['REGION'] = REGION"
   ]
  },
  {
   "cell_type": "code",
   "execution_count": 3,
   "metadata": {},
   "outputs": [],
   "source": [
    "%%bash\n",
    "if ! gsutil ls | grep -q gs://${BUCKET}/; then\n",
    "  gsutil mb -l ${REGION} gs://${BUCKET}\n",
    "fi"
   ]
  },
  {
   "cell_type": "markdown",
   "metadata": {},
   "source": [
    "## Create ML datasets by sampling using BigQuery\n",
    "\n",
    "We'll begin by sampling the BigQuery data to create smaller datasets."
   ]
  },
  {
   "cell_type": "code",
   "execution_count": 5,
   "metadata": {},
   "outputs": [],
   "source": [
    "# Create SQL query using natality data after the year 2000\n",
    "query_string = \"\"\"\n",
    "SELECT\n",
    "  weight_pounds,\n",
    "  is_male,\n",
    "  mother_age,\n",
    "  plurality,\n",
    "  gestation_weeks,\n",
    "  ABS(FARM_FINGERPRINT(CONCAT(CAST(YEAR AS STRING), CAST(month AS STRING)))) AS hashmonth\n",
    "FROM\n",
    "  publicdata.samples.natality\n",
    "WHERE year > 2000\n",
    "\"\"\""
   ]
  },
  {
   "cell_type": "markdown",
   "metadata": {},
   "source": [
    "There are only a limited number of years and months in the dataset. Let's see what the hashmonths are.\n",
    "\n",
    "We'll call BigQuery but group by the hashmonth and see the number of records for each group. This will enable us to get the correct train/eval/test percentages"
   ]
  },
  {
   "cell_type": "code",
   "execution_count": 15,
   "metadata": {},
   "outputs": [
    {
     "name": "stdout",
     "output_type": "stream",
     "text": [
      "There are 96 unique hashmonths.\n"
     ]
    },
    {
     "data": {
      "text/html": [
       "<div>\n",
       "<style scoped>\n",
       "    .dataframe tbody tr th:only-of-type {\n",
       "        vertical-align: middle;\n",
       "    }\n",
       "\n",
       "    .dataframe tbody tr th {\n",
       "        vertical-align: top;\n",
       "    }\n",
       "\n",
       "    .dataframe thead th {\n",
       "        text-align: right;\n",
       "    }\n",
       "</style>\n",
       "<table border=\"1\" class=\"dataframe\">\n",
       "  <thead>\n",
       "    <tr style=\"text-align: right;\">\n",
       "      <th></th>\n",
       "      <th>hashmonth</th>\n",
       "      <th>num_babies</th>\n",
       "    </tr>\n",
       "  </thead>\n",
       "  <tbody>\n",
       "    <tr>\n",
       "      <th>0</th>\n",
       "      <td>6392072535155213407</td>\n",
       "      <td>323758</td>\n",
       "    </tr>\n",
       "    <tr>\n",
       "      <th>1</th>\n",
       "      <td>8387817883864991792</td>\n",
       "      <td>331629</td>\n",
       "    </tr>\n",
       "    <tr>\n",
       "      <th>2</th>\n",
       "      <td>328012383083104805</td>\n",
       "      <td>359891</td>\n",
       "    </tr>\n",
       "    <tr>\n",
       "      <th>3</th>\n",
       "      <td>9183605629983195042</td>\n",
       "      <td>329975</td>\n",
       "    </tr>\n",
       "    <tr>\n",
       "      <th>4</th>\n",
       "      <td>8391424625589759186</td>\n",
       "      <td>364497</td>\n",
       "    </tr>\n",
       "  </tbody>\n",
       "</table>\n",
       "</div>"
      ],
      "text/plain": [
       "             hashmonth  num_babies\n",
       "0  6392072535155213407      323758\n",
       "1  8387817883864991792      331629\n",
       "2   328012383083104805      359891\n",
       "3  9183605629983195042      329975\n",
       "4  8391424625589759186      364497"
      ]
     },
     "execution_count": 15,
     "metadata": {},
     "output_type": "execute_result"
    }
   ],
   "source": [
    "from google.cloud import bigquery\n",
    "bq = bigquery.Client(project=PROJECT)\n",
    "\n",
    "df = bq.query(\"SELECT hashmonth, COUNT(weight_pounds) AS num_babies FROM (\" \n",
    "              + query_string + \n",
    "              \") GROUP BY hashmonth\").to_dataframe()\n",
    "\n",
    "print(\"There are {} unique hashmonths.\".format(len(df)))\n",
    "df.head()"
   ]
  },
  {
   "cell_type": "markdown",
   "metadata": {},
   "source": [
    "Here's a way to get a well-distributed portion of the data in such a way that the train/eval/test sets do not overlap. "
   ]
  },
  {
   "cell_type": "code",
   "execution_count": 35,
   "metadata": {},
   "outputs": [
    {
     "name": "stdout",
     "output_type": "stream",
     "text": [
      "There are 9713 examples in the train dataset.\n",
      "There are 3602 examples in the validation dataset.\n",
      "There are 3375 examples in the test dataset.\n"
     ]
    }
   ],
   "source": [
    "# Added the RAND() so that we can now subsample from each of the hashmonths to get approximately the record counts we want\n",
    "train_query = \"SELECT * FROM (\" + query_string + \") WHERE MOD(hashmonth, 4) < 2 AND RAND() < 0.0005\"\n",
    "eval_query = \"SELECT * FROM (\" + query_string + \") WHERE MOD(hashmonth, 4) = 2 AND RAND() < 0.0005\"\n",
    "test_query = \"SELECT * FROM (\" + query_string + \") WHERE MOD(hashmonth, 4) = 3 AND RAND() < 0.0005\"\n",
    "\n",
    "train_df = bq.query(train_query).to_dataframe()\n",
    "eval_df = bq.query(eval_query).to_dataframe()\n",
    "test_df = bq.query(test_query).to_dataframe()\n",
    "\n",
    "print(\"There are {} examples in the train dataset.\".format(len(train_df)))\n",
    "print(\"There are {} examples in the validation dataset.\".format(len(eval_df)))\n",
    "print(\"There are {} examples in the test dataset.\".format(len(test_df)))"
   ]
  },
  {
   "cell_type": "markdown",
   "metadata": {},
   "source": [
    "## Preprocess data using Pandas\n",
    "\n",
    "We'll perform a few preprocessing steps to the data in our dataset. Let's add extra rows to simulate the lack of ultrasound. That is we'll duplicate some rows and make the `is_male` field be `Unknown`. Also, if there is more than child we'll change the `plurality` to `Multiple(2+)`. While we're at it, We'll also change the plurality column to be a string. We'll perform these operations below. \n",
    "\n",
    "Let's start by examining the training dataset as is."
   ]
  },
  {
   "cell_type": "code",
   "execution_count": 36,
   "metadata": {},
   "outputs": [
    {
     "data": {
      "text/html": [
       "<div>\n",
       "<style scoped>\n",
       "    .dataframe tbody tr th:only-of-type {\n",
       "        vertical-align: middle;\n",
       "    }\n",
       "\n",
       "    .dataframe tbody tr th {\n",
       "        vertical-align: top;\n",
       "    }\n",
       "\n",
       "    .dataframe thead th {\n",
       "        text-align: right;\n",
       "    }\n",
       "</style>\n",
       "<table border=\"1\" class=\"dataframe\">\n",
       "  <thead>\n",
       "    <tr style=\"text-align: right;\">\n",
       "      <th></th>\n",
       "      <th>weight_pounds</th>\n",
       "      <th>is_male</th>\n",
       "      <th>mother_age</th>\n",
       "      <th>plurality</th>\n",
       "      <th>gestation_weeks</th>\n",
       "      <th>hashmonth</th>\n",
       "    </tr>\n",
       "  </thead>\n",
       "  <tbody>\n",
       "    <tr>\n",
       "      <th>0</th>\n",
       "      <td>9.687112</td>\n",
       "      <td>True</td>\n",
       "      <td>27</td>\n",
       "      <td>1</td>\n",
       "      <td>40.0</td>\n",
       "      <td>5896567601480310696</td>\n",
       "    </tr>\n",
       "    <tr>\n",
       "      <th>1</th>\n",
       "      <td>5.813590</td>\n",
       "      <td>True</td>\n",
       "      <td>20</td>\n",
       "      <td>1</td>\n",
       "      <td>36.0</td>\n",
       "      <td>3545707052733304728</td>\n",
       "    </tr>\n",
       "    <tr>\n",
       "      <th>2</th>\n",
       "      <td>7.874912</td>\n",
       "      <td>True</td>\n",
       "      <td>33</td>\n",
       "      <td>1</td>\n",
       "      <td>38.0</td>\n",
       "      <td>3408502330831153141</td>\n",
       "    </tr>\n",
       "    <tr>\n",
       "      <th>3</th>\n",
       "      <td>7.352416</td>\n",
       "      <td>True</td>\n",
       "      <td>35</td>\n",
       "      <td>1</td>\n",
       "      <td>35.0</td>\n",
       "      <td>1403073183891835564</td>\n",
       "    </tr>\n",
       "    <tr>\n",
       "      <th>4</th>\n",
       "      <td>8.875811</td>\n",
       "      <td>False</td>\n",
       "      <td>35</td>\n",
       "      <td>1</td>\n",
       "      <td>40.0</td>\n",
       "      <td>260598435387740869</td>\n",
       "    </tr>\n",
       "  </tbody>\n",
       "</table>\n",
       "</div>"
      ],
      "text/plain": [
       "   weight_pounds  is_male  mother_age  plurality  gestation_weeks  \\\n",
       "0       9.687112     True          27          1             40.0   \n",
       "1       5.813590     True          20          1             36.0   \n",
       "2       7.874912     True          33          1             38.0   \n",
       "3       7.352416     True          35          1             35.0   \n",
       "4       8.875811    False          35          1             40.0   \n",
       "\n",
       "             hashmonth  \n",
       "0  5896567601480310696  \n",
       "1  3545707052733304728  \n",
       "2  3408502330831153141  \n",
       "3  1403073183891835564  \n",
       "4   260598435387740869  "
      ]
     },
     "execution_count": 36,
     "metadata": {},
     "output_type": "execute_result"
    }
   ],
   "source": [
    "train_df.head()"
   ]
  },
  {
   "cell_type": "markdown",
   "metadata": {},
   "source": [
    "Also, notice that there are some very important numeric fields that are missing in some rows (the count in Pandas doesn't count missing data)"
   ]
  },
  {
   "cell_type": "code",
   "execution_count": 37,
   "metadata": {},
   "outputs": [
    {
     "data": {
      "text/html": [
       "<div>\n",
       "<style scoped>\n",
       "    .dataframe tbody tr th:only-of-type {\n",
       "        vertical-align: middle;\n",
       "    }\n",
       "\n",
       "    .dataframe tbody tr th {\n",
       "        vertical-align: top;\n",
       "    }\n",
       "\n",
       "    .dataframe thead th {\n",
       "        text-align: right;\n",
       "    }\n",
       "</style>\n",
       "<table border=\"1\" class=\"dataframe\">\n",
       "  <thead>\n",
       "    <tr style=\"text-align: right;\">\n",
       "      <th></th>\n",
       "      <th>weight_pounds</th>\n",
       "      <th>mother_age</th>\n",
       "      <th>plurality</th>\n",
       "      <th>gestation_weeks</th>\n",
       "      <th>hashmonth</th>\n",
       "    </tr>\n",
       "  </thead>\n",
       "  <tbody>\n",
       "    <tr>\n",
       "      <th>count</th>\n",
       "      <td>9702.000000</td>\n",
       "      <td>9713.000000</td>\n",
       "      <td>9713.000000</td>\n",
       "      <td>9655.000000</td>\n",
       "      <td>9.713000e+03</td>\n",
       "    </tr>\n",
       "    <tr>\n",
       "      <th>mean</th>\n",
       "      <td>7.226279</td>\n",
       "      <td>27.445485</td>\n",
       "      <td>1.035725</td>\n",
       "      <td>38.585707</td>\n",
       "      <td>4.188515e+18</td>\n",
       "    </tr>\n",
       "    <tr>\n",
       "      <th>std</th>\n",
       "      <td>1.317331</td>\n",
       "      <td>6.165494</td>\n",
       "      <td>0.195870</td>\n",
       "      <td>2.533693</td>\n",
       "      <td>2.619672e+18</td>\n",
       "    </tr>\n",
       "    <tr>\n",
       "      <th>min</th>\n",
       "      <td>0.500449</td>\n",
       "      <td>14.000000</td>\n",
       "      <td>1.000000</td>\n",
       "      <td>18.000000</td>\n",
       "      <td>2.605984e+17</td>\n",
       "    </tr>\n",
       "    <tr>\n",
       "      <th>25%</th>\n",
       "      <td>6.563162</td>\n",
       "      <td>23.000000</td>\n",
       "      <td>1.000000</td>\n",
       "      <td>38.000000</td>\n",
       "      <td>1.622638e+18</td>\n",
       "    </tr>\n",
       "    <tr>\n",
       "      <th>50%</th>\n",
       "      <td>7.312733</td>\n",
       "      <td>27.000000</td>\n",
       "      <td>1.000000</td>\n",
       "      <td>39.000000</td>\n",
       "      <td>3.765901e+18</td>\n",
       "    </tr>\n",
       "    <tr>\n",
       "      <th>75%</th>\n",
       "      <td>8.000575</td>\n",
       "      <td>32.000000</td>\n",
       "      <td>1.000000</td>\n",
       "      <td>40.000000</td>\n",
       "      <td>6.749419e+18</td>\n",
       "    </tr>\n",
       "    <tr>\n",
       "      <th>max</th>\n",
       "      <td>12.749333</td>\n",
       "      <td>48.000000</td>\n",
       "      <td>4.000000</td>\n",
       "      <td>47.000000</td>\n",
       "      <td>8.668301e+18</td>\n",
       "    </tr>\n",
       "  </tbody>\n",
       "</table>\n",
       "</div>"
      ],
      "text/plain": [
       "       weight_pounds   mother_age    plurality  gestation_weeks     hashmonth\n",
       "count    9702.000000  9713.000000  9713.000000      9655.000000  9.713000e+03\n",
       "mean        7.226279    27.445485     1.035725        38.585707  4.188515e+18\n",
       "std         1.317331     6.165494     0.195870         2.533693  2.619672e+18\n",
       "min         0.500449    14.000000     1.000000        18.000000  2.605984e+17\n",
       "25%         6.563162    23.000000     1.000000        38.000000  1.622638e+18\n",
       "50%         7.312733    27.000000     1.000000        39.000000  3.765901e+18\n",
       "75%         8.000575    32.000000     1.000000        40.000000  6.749419e+18\n",
       "max        12.749333    48.000000     4.000000        47.000000  8.668301e+18"
      ]
     },
     "execution_count": 37,
     "metadata": {},
     "output_type": "execute_result"
    }
   ],
   "source": [
    "train_df.describe()"
   ]
  },
  {
   "cell_type": "markdown",
   "metadata": {},
   "source": [
    "It is always crucial to clean raw data before using in machine learning, so we have a preprocessing step. We'll define a `preprocess` function below. Note that the mother's age is an input to our model so users will have to provide the mother's age; otherwise, our service won't work. The features we use for our model were chosen because they are such good predictors and because they are easy enough to collect."
   ]
  },
  {
   "cell_type": "code",
   "execution_count": 38,
   "metadata": {},
   "outputs": [],
   "source": [
    "import pandas as pd\n",
    "\n",
    "def preprocess(df):\n",
    "  # clean up data\n",
    "  # remove what we don't want to use for training\n",
    "  df = df[df.weight_pounds > 0]\n",
    "  df = df[df.mother_age > 0]\n",
    "  df = df[df.gestation_weeks > 0]\n",
    "  df = df[df.plurality > 0]\n",
    "  \n",
    "  # modify plurality field to be a string\n",
    "  twins_etc = dict(zip([1,2,3,4,5],\n",
    "                   ['Single(1)', 'Twins(2)', 'Triplets(3)', 'Quadruplets(4)', 'Quintuplets(5)']))\n",
    "  df['plurality'].replace(twins_etc, inplace=True)\n",
    "  \n",
    "  # now create extra rows to simulate lack of ultrasound\n",
    "  no_ultrasound = df.copy(deep=True)\n",
    "  no_ultrasound.loc[no_ultrasound['plurality'] != 'Single(1)', 'plurality'] = 'Multiple(2+)'\n",
    "  no_ultrasound['is_male'] = 'Unknown'\n",
    "  \n",
    "  return pd.concat([df, no_ultrasound])"
   ]
  },
  {
   "cell_type": "markdown",
   "metadata": {},
   "source": [
    "Let's process the train/eval/test set and see a small sample of the training data after our preprocessing:"
   ]
  },
  {
   "cell_type": "code",
   "execution_count": 42,
   "metadata": {},
   "outputs": [],
   "source": [
    "train_df = preprocess(train_df)\n",
    "eval_df = preprocess(eval_df)\n",
    "test_df = preprocess(test_df)"
   ]
  },
  {
   "cell_type": "code",
   "execution_count": 43,
   "metadata": {},
   "outputs": [
    {
     "data": {
      "text/html": [
       "<div>\n",
       "<style scoped>\n",
       "    .dataframe tbody tr th:only-of-type {\n",
       "        vertical-align: middle;\n",
       "    }\n",
       "\n",
       "    .dataframe tbody tr th {\n",
       "        vertical-align: top;\n",
       "    }\n",
       "\n",
       "    .dataframe thead th {\n",
       "        text-align: right;\n",
       "    }\n",
       "</style>\n",
       "<table border=\"1\" class=\"dataframe\">\n",
       "  <thead>\n",
       "    <tr style=\"text-align: right;\">\n",
       "      <th></th>\n",
       "      <th>weight_pounds</th>\n",
       "      <th>is_male</th>\n",
       "      <th>mother_age</th>\n",
       "      <th>plurality</th>\n",
       "      <th>gestation_weeks</th>\n",
       "      <th>hashmonth</th>\n",
       "    </tr>\n",
       "  </thead>\n",
       "  <tbody>\n",
       "    <tr>\n",
       "      <th>0</th>\n",
       "      <td>9.687112</td>\n",
       "      <td>True</td>\n",
       "      <td>27</td>\n",
       "      <td>Single(1)</td>\n",
       "      <td>40.0</td>\n",
       "      <td>5896567601480310696</td>\n",
       "    </tr>\n",
       "    <tr>\n",
       "      <th>1</th>\n",
       "      <td>5.813590</td>\n",
       "      <td>True</td>\n",
       "      <td>20</td>\n",
       "      <td>Single(1)</td>\n",
       "      <td>36.0</td>\n",
       "      <td>3545707052733304728</td>\n",
       "    </tr>\n",
       "    <tr>\n",
       "      <th>2</th>\n",
       "      <td>7.874912</td>\n",
       "      <td>True</td>\n",
       "      <td>33</td>\n",
       "      <td>Single(1)</td>\n",
       "      <td>38.0</td>\n",
       "      <td>3408502330831153141</td>\n",
       "    </tr>\n",
       "    <tr>\n",
       "      <th>3</th>\n",
       "      <td>7.352416</td>\n",
       "      <td>True</td>\n",
       "      <td>35</td>\n",
       "      <td>Single(1)</td>\n",
       "      <td>35.0</td>\n",
       "      <td>1403073183891835564</td>\n",
       "    </tr>\n",
       "    <tr>\n",
       "      <th>4</th>\n",
       "      <td>8.875811</td>\n",
       "      <td>False</td>\n",
       "      <td>35</td>\n",
       "      <td>Single(1)</td>\n",
       "      <td>40.0</td>\n",
       "      <td>260598435387740869</td>\n",
       "    </tr>\n",
       "  </tbody>\n",
       "</table>\n",
       "</div>"
      ],
      "text/plain": [
       "   weight_pounds is_male  mother_age  plurality  gestation_weeks  \\\n",
       "0       9.687112    True          27  Single(1)             40.0   \n",
       "1       5.813590    True          20  Single(1)             36.0   \n",
       "2       7.874912    True          33  Single(1)             38.0   \n",
       "3       7.352416    True          35  Single(1)             35.0   \n",
       "4       8.875811   False          35  Single(1)             40.0   \n",
       "\n",
       "             hashmonth  \n",
       "0  5896567601480310696  \n",
       "1  3545707052733304728  \n",
       "2  3408502330831153141  \n",
       "3  1403073183891835564  \n",
       "4   260598435387740869  "
      ]
     },
     "execution_count": 43,
     "metadata": {},
     "output_type": "execute_result"
    }
   ],
   "source": [
    "train_df.head()"
   ]
  },
  {
   "cell_type": "code",
   "execution_count": 44,
   "metadata": {},
   "outputs": [
    {
     "data": {
      "text/html": [
       "<div>\n",
       "<style scoped>\n",
       "    .dataframe tbody tr th:only-of-type {\n",
       "        vertical-align: middle;\n",
       "    }\n",
       "\n",
       "    .dataframe tbody tr th {\n",
       "        vertical-align: top;\n",
       "    }\n",
       "\n",
       "    .dataframe thead th {\n",
       "        text-align: right;\n",
       "    }\n",
       "</style>\n",
       "<table border=\"1\" class=\"dataframe\">\n",
       "  <thead>\n",
       "    <tr style=\"text-align: right;\">\n",
       "      <th></th>\n",
       "      <th>weight_pounds</th>\n",
       "      <th>is_male</th>\n",
       "      <th>mother_age</th>\n",
       "      <th>plurality</th>\n",
       "      <th>gestation_weeks</th>\n",
       "      <th>hashmonth</th>\n",
       "    </tr>\n",
       "  </thead>\n",
       "  <tbody>\n",
       "    <tr>\n",
       "      <th>9708</th>\n",
       "      <td>8.809672</td>\n",
       "      <td>Unknown</td>\n",
       "      <td>32</td>\n",
       "      <td>Single(1)</td>\n",
       "      <td>40.0</td>\n",
       "      <td>4329667052416032880</td>\n",
       "    </tr>\n",
       "    <tr>\n",
       "      <th>9709</th>\n",
       "      <td>6.812284</td>\n",
       "      <td>Unknown</td>\n",
       "      <td>16</td>\n",
       "      <td>Single(1)</td>\n",
       "      <td>40.0</td>\n",
       "      <td>1403073183891835564</td>\n",
       "    </tr>\n",
       "    <tr>\n",
       "      <th>9710</th>\n",
       "      <td>8.399612</td>\n",
       "      <td>Unknown</td>\n",
       "      <td>37</td>\n",
       "      <td>Single(1)</td>\n",
       "      <td>38.0</td>\n",
       "      <td>1443901198490054949</td>\n",
       "    </tr>\n",
       "    <tr>\n",
       "      <th>9711</th>\n",
       "      <td>7.438397</td>\n",
       "      <td>Unknown</td>\n",
       "      <td>25</td>\n",
       "      <td>Single(1)</td>\n",
       "      <td>39.0</td>\n",
       "      <td>5107972924983092617</td>\n",
       "    </tr>\n",
       "    <tr>\n",
       "      <th>9712</th>\n",
       "      <td>8.249698</td>\n",
       "      <td>Unknown</td>\n",
       "      <td>30</td>\n",
       "      <td>Single(1)</td>\n",
       "      <td>40.0</td>\n",
       "      <td>7420272703711713305</td>\n",
       "    </tr>\n",
       "  </tbody>\n",
       "</table>\n",
       "</div>"
      ],
      "text/plain": [
       "      weight_pounds  is_male  mother_age  plurality  gestation_weeks  \\\n",
       "9708       8.809672  Unknown          32  Single(1)             40.0   \n",
       "9709       6.812284  Unknown          16  Single(1)             40.0   \n",
       "9710       8.399612  Unknown          37  Single(1)             38.0   \n",
       "9711       7.438397  Unknown          25  Single(1)             39.0   \n",
       "9712       8.249698  Unknown          30  Single(1)             40.0   \n",
       "\n",
       "                hashmonth  \n",
       "9708  4329667052416032880  \n",
       "9709  1403073183891835564  \n",
       "9710  1443901198490054949  \n",
       "9711  5107972924983092617  \n",
       "9712  7420272703711713305  "
      ]
     },
     "execution_count": 44,
     "metadata": {},
     "output_type": "execute_result"
    }
   ],
   "source": [
    "train_df.tail()"
   ]
  },
  {
   "cell_type": "markdown",
   "metadata": {},
   "source": [
    "Let's look again at a summary of the dataset. Note that we only see numeric columns, so `plurality` does not show up."
   ]
  },
  {
   "cell_type": "code",
   "execution_count": 45,
   "metadata": {},
   "outputs": [
    {
     "data": {
      "text/html": [
       "<div>\n",
       "<style scoped>\n",
       "    .dataframe tbody tr th:only-of-type {\n",
       "        vertical-align: middle;\n",
       "    }\n",
       "\n",
       "    .dataframe tbody tr th {\n",
       "        vertical-align: top;\n",
       "    }\n",
       "\n",
       "    .dataframe thead th {\n",
       "        text-align: right;\n",
       "    }\n",
       "</style>\n",
       "<table border=\"1\" class=\"dataframe\">\n",
       "  <thead>\n",
       "    <tr style=\"text-align: right;\">\n",
       "      <th></th>\n",
       "      <th>weight_pounds</th>\n",
       "      <th>mother_age</th>\n",
       "      <th>gestation_weeks</th>\n",
       "      <th>hashmonth</th>\n",
       "    </tr>\n",
       "  </thead>\n",
       "  <tbody>\n",
       "    <tr>\n",
       "      <th>count</th>\n",
       "      <td>19292.000000</td>\n",
       "      <td>19292.000000</td>\n",
       "      <td>19292.000000</td>\n",
       "      <td>1.929200e+04</td>\n",
       "    </tr>\n",
       "    <tr>\n",
       "      <th>mean</th>\n",
       "      <td>7.226681</td>\n",
       "      <td>27.456666</td>\n",
       "      <td>38.589571</td>\n",
       "      <td>4.186708e+18</td>\n",
       "    </tr>\n",
       "    <tr>\n",
       "      <th>std</th>\n",
       "      <td>1.315203</td>\n",
       "      <td>6.162550</td>\n",
       "      <td>2.518875</td>\n",
       "      <td>2.618412e+18</td>\n",
       "    </tr>\n",
       "    <tr>\n",
       "      <th>min</th>\n",
       "      <td>0.500449</td>\n",
       "      <td>14.000000</td>\n",
       "      <td>18.000000</td>\n",
       "      <td>2.605984e+17</td>\n",
       "    </tr>\n",
       "    <tr>\n",
       "      <th>25%</th>\n",
       "      <td>6.563162</td>\n",
       "      <td>23.000000</td>\n",
       "      <td>38.000000</td>\n",
       "      <td>1.622638e+18</td>\n",
       "    </tr>\n",
       "    <tr>\n",
       "      <th>50%</th>\n",
       "      <td>7.312733</td>\n",
       "      <td>27.000000</td>\n",
       "      <td>39.000000</td>\n",
       "      <td>3.572456e+18</td>\n",
       "    </tr>\n",
       "    <tr>\n",
       "      <th>75%</th>\n",
       "      <td>8.000575</td>\n",
       "      <td>32.000000</td>\n",
       "      <td>40.000000</td>\n",
       "      <td>6.544755e+18</td>\n",
       "    </tr>\n",
       "    <tr>\n",
       "      <th>max</th>\n",
       "      <td>12.749333</td>\n",
       "      <td>48.000000</td>\n",
       "      <td>47.000000</td>\n",
       "      <td>8.668301e+18</td>\n",
       "    </tr>\n",
       "  </tbody>\n",
       "</table>\n",
       "</div>"
      ],
      "text/plain": [
       "       weight_pounds    mother_age  gestation_weeks     hashmonth\n",
       "count   19292.000000  19292.000000     19292.000000  1.929200e+04\n",
       "mean        7.226681     27.456666        38.589571  4.186708e+18\n",
       "std         1.315203      6.162550         2.518875  2.618412e+18\n",
       "min         0.500449     14.000000        18.000000  2.605984e+17\n",
       "25%         6.563162     23.000000        38.000000  1.622638e+18\n",
       "50%         7.312733     27.000000        39.000000  3.572456e+18\n",
       "75%         8.000575     32.000000        40.000000  6.544755e+18\n",
       "max        12.749333     48.000000        47.000000  8.668301e+18"
      ]
     },
     "execution_count": 45,
     "metadata": {},
     "output_type": "execute_result"
    }
   ],
   "source": [
    "train_df.describe()"
   ]
  },
  {
   "cell_type": "markdown",
   "metadata": {},
   "source": [
    "## Write to .csv files \n",
    "\n",
    "In the final versions, we want to read from files, not Pandas dataframes. So, we write the Pandas dataframes out as csv files. Using csv files gives us the advantage of shuffling during read. This is important for distributed training because some workers might be slower than others, and shuffling the data helps prevent the same data from being assigned to the slow workers."
   ]
  },
  {
   "cell_type": "code",
   "execution_count": 49,
   "metadata": {},
   "outputs": [],
   "source": [
    "train_df.to_csv('train.csv', index=False, header=False)\n",
    "eval_df.to_csv('eval.csv', index=False, header=False)\n",
    "test_df.to_csv('test.csv', index=False, header=False)"
   ]
  },
  {
   "cell_type": "code",
   "execution_count": 51,
   "metadata": {},
   "outputs": [
    {
     "name": "stdout",
     "output_type": "stream",
     "text": [
      "   7124 eval.csv\n",
      "   6694 test.csv\n",
      "  19292 train.csv\n",
      "  33110 total\n"
     ]
    }
   ],
   "source": [
    "%%bash\n",
    "wc -l *.csv"
   ]
  },
  {
   "cell_type": "code",
   "execution_count": 53,
   "metadata": {},
   "outputs": [
    {
     "name": "stdout",
     "output_type": "stream",
     "text": [
      "==> eval.csv <==\n",
      "7.7712947355,False,17,Single(1),41.0,6691862025345277042\n",
      "8.000575487979999,True,27,Single(1),37.0,4979697502521811334\n",
      "9.93843877096,False,26,Single(1),41.0,7170969733900686954\n",
      "7.5618555866,True,23,Single(1),38.0,7773938200482214258\n",
      "6.9666074791999995,True,18,Single(1),38.0,1002950341933487066\n",
      "5.3131405142,False,42,Twins(2),37.0,8599690069971956834\n",
      "6.75055446244,True,18,Single(1),39.0,411066950820961322\n",
      "6.6248909731,True,21,Single(1),35.0,8391424625589759186\n",
      "6.3272669193999995,True,20,Single(1),38.0,7872612453343038854\n",
      "7.12534030784,True,28,Single(1),38.0,1077881854928885650\n",
      "\n",
      "==> test.csv <==\n",
      "6.87621795178,False,19,Single(1),40.0,7146494315947640619\n",
      "8.811876612139999,False,26,Single(1),40.0,6392072535155213407\n",
      "8.18796841068,False,26,Single(1),38.0,8904940584331855459\n",
      "8.24969784404,False,24,Single(1),39.0,74931465496927487\n",
      "7.6941329438,False,36,Single(1),41.0,7146494315947640619\n",
      "6.2501051276999995,True,16,Single(1),40.0,1088037545023002395\n",
      "7.7602716223999995,True,26,Single(1),41.0,6910174677251748583\n",
      "5.6879263596,True,35,Single(1),37.0,6910174677251748583\n",
      "5.62619692624,False,32,Single(1),33.0,4740473290291881219\n",
      "6.3713593718,False,23,Single(1),38.0,1866590652208008467\n",
      "\n",
      "==> train.csv <==\n",
      "9.68711179228,True,27,Single(1),40.0,5896567601480310696\n",
      "5.8135898489399995,True,20,Single(1),36.0,3545707052733304728\n",
      "7.87491199864,True,33,Single(1),38.0,3408502330831153141\n",
      "7.3524164377,True,35,Single(1),35.0,1403073183891835564\n",
      "8.87581066812,False,35,Single(1),40.0,260598435387740869\n",
      "8.9617909503,True,24,Single(1),36.0,8029892925374153452\n",
      "6.82771625414,False,33,Single(1),39.0,2126480030009879160\n",
      "5.0265395736,True,26,Single(1),39.0,260598435387740869\n",
      "7.5618555866,True,22,Single(1),41.0,8387817883864991792\n",
      "6.75055446244,False,28,Single(1),40.0,5934265245228309013\n"
     ]
    }
   ],
   "source": [
    "%%bash\n",
    "head *.csv"
   ]
  },
  {
   "cell_type": "code",
   "execution_count": 54,
   "metadata": {},
   "outputs": [
    {
     "name": "stdout",
     "output_type": "stream",
     "text": [
      "==> eval.csv <==\n",
      "7.31273323054,Unknown,25,Single(1),40.0,411066950820961322\n",
      "7.4295782294,Unknown,32,Single(1),38.0,1002950341933487066\n",
      "8.12623897732,Unknown,22,Single(1),42.0,1451354159195218418\n",
      "6.2501051276999995,Unknown,25,Single(1),39.0,8599690069971956834\n",
      "7.81318256528,Unknown,30,Single(1),38.0,8391424625589759186\n",
      "8.0799419023,Unknown,33,Single(1),39.0,7872612453343038854\n",
      "3.31354779786,Unknown,25,Single(1),30.0,3095933535584005890\n",
      "8.37315671076,Unknown,30,Single(1),38.0,1002950341933487066\n",
      "7.5618555866,Unknown,34,Single(1),38.0,7170969733900686954\n",
      "8.68841774542,Unknown,29,Single(1),39.0,411066950820961322\n",
      "\n",
      "==> test.csv <==\n",
      "6.4992274837599995,Unknown,24,Single(1),37.0,2246942437170405963\n",
      "9.7554550935,Unknown,22,Single(1),41.0,6782146986770280327\n",
      "7.68751907594,Unknown,33,Single(1),37.0,1088037545023002395\n",
      "6.6248909731,Unknown,21,Single(1),38.0,7517141034410775575\n",
      "8.375361333379999,Unknown,31,Single(1),40.0,1569531340167098963\n",
      "7.25100379718,Unknown,17,Single(1),34.0,1088037545023002395\n",
      "6.88503644226,Unknown,19,Single(1),39.0,4740473290291881219\n",
      "8.1791499202,Unknown,24,Single(1),42.0,6141045177192779423\n",
      "5.06181353552,Unknown,22,Single(1),36.0,1569531340167098963\n",
      "7.43839671988,Unknown,22,Single(1),43.0,6782146986770280327\n",
      "\n",
      "==> train.csv <==\n",
      "5.06181353552,Unknown,20,Single(1),38.0,2013084202883420573\n",
      "7.97191539392,Unknown,17,Single(1),46.0,1195438672706281328\n",
      "8.000575487979999,Unknown,27,Single(1),38.0,5107972924983092617\n",
      "9.04777123248,Unknown,33,Single(1),39.0,8668300920110565493\n",
      "4.8942622164,Unknown,37,Single(1),39.0,3545707052733304728\n",
      "8.80967198952,Unknown,32,Single(1),40.0,4329667052416032880\n",
      "6.8122838958,Unknown,16,Single(1),40.0,1403073183891835564\n",
      "8.3996121822,Unknown,37,Single(1),38.0,1443901198490054949\n",
      "7.43839671988,Unknown,25,Single(1),39.0,5107972924983092617\n",
      "8.24969784404,Unknown,30,Single(1),40.0,7420272703711713305\n"
     ]
    }
   ],
   "source": [
    "%%bash\n",
    "tail *.csv"
   ]
  },
  {
   "cell_type": "markdown",
   "metadata": {},
   "source": [
    "Copyright 2017-2018 Google Inc. Licensed under the Apache License, Version 2.0 (the \"License\"); you may not use this file except in compliance with the License. You may obtain a copy of the License at http://www.apache.org/licenses/LICENSE-2.0 Unless required by applicable law or agreed to in writing, software distributed under the License is distributed on an \"AS IS\" BASIS, WITHOUT WARRANTIES OR CONDITIONS OF ANY KIND, either express or implied. See the License for the specific language governing permissions and limitations under the License"
   ]
  }
 ],
 "metadata": {
  "kernelspec": {
   "display_name": "Python 3",
   "language": "python",
   "name": "python3"
  },
  "language_info": {
   "codemirror_mode": {
    "name": "ipython",
    "version": 3
   },
   "file_extension": ".py",
   "mimetype": "text/x-python",
   "name": "python",
   "nbconvert_exporter": "python",
   "pygments_lexer": "ipython3",
   "version": "3.5.3"
  }
 },
 "nbformat": 4,
 "nbformat_minor": 2
}
